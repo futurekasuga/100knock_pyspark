{
  "nbformat": 4,
  "nbformat_minor": 0,
  "metadata": {
    "kernelspec": {
      "name": "python3",
      "display_name": "Python 3"
    },
    "language_info": {
      "name": "python"
    },
    "colab": {
      "provenance": [],
      "collapsed_sections": [
        "WGSLC2Szhh0H"
      ],
      "include_colab_link": true
    }
  },
  "cells": [
    {
      "cell_type": "markdown",
      "metadata": {
        "id": "view-in-github",
        "colab_type": "text"
      },
      "source": [
        "<a href=\"https://colab.research.google.com/github/futurekasuga/100knock_pyspark/blob/main/preprocess_knock_Python_Spark.ipynb\" target=\"_parent\"><img src=\"https://colab.research.google.com/assets/colab-badge.svg\" alt=\"Open In Colab\"/></a>"
      ]
    },
    {
      "cell_type": "markdown",
      "metadata": {
        "id": "2-YYpD4Nhhxd"
      },
      "source": [
        "# データサイエンス100本ノック（構造化データ加工編） - Python\n",
        "# for Google Colab"
      ]
    },
    {
      "cell_type": "markdown",
      "source": [
        "# Sparkの準備\n",
        "## Spark参考ドキュメント\n",
        "- https://spark.apache.org/docs/3.2.0/api/python/reference/index.html"
      ],
      "metadata": {
        "id": "TiOpVXWnF_X_"
      }
    },
    {
      "cell_type": "code",
      "source": [
        "!pip install --upgrade pip\n",
        "!pip install pyspark\n",
        "!pip install -U pandas numpy scikit-learn imbalanced-learn"
      ],
      "metadata": {
        "id": "bZFRSrIUNLDK",
        "colab": {
          "base_uri": "https://localhost:8080/",
          "height": 996
        },
        "outputId": "4a500d37-5f42-4b01-a933-eb17028b7674"
      },
      "execution_count": 12,
      "outputs": [
        {
          "output_type": "stream",
          "name": "stdout",
          "text": [
            "Looking in indexes: https://pypi.org/simple, https://us-python.pkg.dev/colab-wheels/public/simple/\n",
            "Requirement already satisfied: pip in /usr/local/lib/python3.7/dist-packages (21.1.3)\n",
            "Collecting pip\n",
            "  Downloading pip-22.2.2-py3-none-any.whl (2.0 MB)\n",
            "\u001b[K     |████████████████████████████████| 2.0 MB 2.1 MB/s \n",
            "\u001b[?25hInstalling collected packages: pip\n",
            "  Attempting uninstall: pip\n",
            "    Found existing installation: pip 21.1.3\n",
            "    Uninstalling pip-21.1.3:\n",
            "      Successfully uninstalled pip-21.1.3\n",
            "Successfully installed pip-22.2.2\n",
            "Looking in indexes: https://pypi.org/simple, https://us-python.pkg.dev/colab-wheels/public/simple/\n",
            "Collecting pyspark\n",
            "  Downloading pyspark-3.3.0.tar.gz (281.3 MB)\n",
            "\u001b[2K     \u001b[90m━━━━━━━━━━━━━━━━━━━━━━━━━━━━━━━━━━━━━━━\u001b[0m \u001b[32m281.3/281.3 MB\u001b[0m \u001b[31m4.7 MB/s\u001b[0m eta \u001b[36m0:00:00\u001b[0m\n",
            "\u001b[?25h  Preparing metadata (setup.py) ... \u001b[?25l\u001b[?25hdone\n",
            "Collecting py4j==0.10.9.5\n",
            "  Downloading py4j-0.10.9.5-py2.py3-none-any.whl (199 kB)\n",
            "\u001b[2K     \u001b[90m━━━━━━━━━━━━━━━━━━━━━━━━━━━━━━━━━━━━━━\u001b[0m \u001b[32m199.7/199.7 kB\u001b[0m \u001b[31m17.3 MB/s\u001b[0m eta \u001b[36m0:00:00\u001b[0m\n",
            "\u001b[?25hBuilding wheels for collected packages: pyspark\n",
            "  Building wheel for pyspark (setup.py) ... \u001b[?25l\u001b[?25hdone\n",
            "  Created wheel for pyspark: filename=pyspark-3.3.0-py2.py3-none-any.whl size=281764026 sha256=756f97e707c32f3765ca01dfdd1f559b0868ad42db1be09b28016b1247447b91\n",
            "  Stored in directory: /root/.cache/pip/wheels/7a/8e/1b/f73a52650d2e5f337708d9f6a1750d451a7349a867f928b885\n",
            "Successfully built pyspark\n",
            "Installing collected packages: py4j, pyspark\n",
            "Successfully installed py4j-0.10.9.5 pyspark-3.3.0\n",
            "\u001b[33mWARNING: Running pip as the 'root' user can result in broken permissions and conflicting behaviour with the system package manager. It is recommended to use a virtual environment instead: https://pip.pypa.io/warnings/venv\u001b[0m\u001b[33m\n",
            "\u001b[0mLooking in indexes: https://pypi.org/simple, https://us-python.pkg.dev/colab-wheels/public/simple/\n",
            "Requirement already satisfied: pandas in /usr/local/lib/python3.7/dist-packages (1.3.5)\n",
            "Requirement already satisfied: numpy in /usr/local/lib/python3.7/dist-packages (1.21.6)\n",
            "Requirement already satisfied: scikit-learn in /usr/local/lib/python3.7/dist-packages (1.0.2)\n",
            "Requirement already satisfied: imbalanced-learn in /usr/local/lib/python3.7/dist-packages (0.8.1)\n",
            "Collecting imbalanced-learn\n",
            "  Downloading imbalanced_learn-0.9.1-py3-none-any.whl (199 kB)\n",
            "\u001b[2K     \u001b[90m━━━━━━━━━━━━━━━━━━━━━━━━━━━━━━━━━━━━━━━\u001b[0m \u001b[32m199.3/199.3 kB\u001b[0m \u001b[31m3.0 MB/s\u001b[0m eta \u001b[36m0:00:00\u001b[0m\n",
            "\u001b[?25hRequirement already satisfied: pytz>=2017.3 in /usr/local/lib/python3.7/dist-packages (from pandas) (2022.4)\n",
            "Requirement already satisfied: python-dateutil>=2.7.3 in /usr/local/lib/python3.7/dist-packages (from pandas) (2.8.2)\n",
            "Requirement already satisfied: joblib>=0.11 in /usr/local/lib/python3.7/dist-packages (from scikit-learn) (1.2.0)\n",
            "Requirement already satisfied: threadpoolctl>=2.0.0 in /usr/local/lib/python3.7/dist-packages (from scikit-learn) (3.1.0)\n",
            "Requirement already satisfied: scipy>=1.1.0 in /usr/local/lib/python3.7/dist-packages (from scikit-learn) (1.7.3)\n",
            "  Downloading imbalanced_learn-0.9.0-py3-none-any.whl (199 kB)\n",
            "\u001b[2K     \u001b[90m━━━━━━━━━━━━━━━━━━━━━━━━━━━━━━━━━━━━━━\u001b[0m \u001b[32m199.1/199.1 kB\u001b[0m \u001b[31m14.6 MB/s\u001b[0m eta \u001b[36m0:00:00\u001b[0m\n",
            "\u001b[?25hRequirement already satisfied: six>=1.5 in /usr/local/lib/python3.7/dist-packages (from python-dateutil>=2.7.3->pandas) (1.15.0)\n",
            "Installing collected packages: imbalanced-learn\n",
            "  Attempting uninstall: imbalanced-learn\n",
            "    Found existing installation: imbalanced-learn 0.8.1\n",
            "    Uninstalling imbalanced-learn-0.8.1:\n",
            "      Successfully uninstalled imbalanced-learn-0.8.1\n",
            "Successfully installed imbalanced-learn-0.9.0\n",
            "\u001b[33mWARNING: Running pip as the 'root' user can result in broken permissions and conflicting behaviour with the system package manager. It is recommended to use a virtual environment instead: https://pip.pypa.io/warnings/venv\u001b[0m\u001b[33m\n",
            "\u001b[0m"
          ]
        },
        {
          "output_type": "display_data",
          "data": {
            "application/vnd.colab-display-data+json": {
              "pip_warning": {
                "packages": [
                  "imblearn"
                ]
              }
            }
          },
          "metadata": {}
        }
      ]
    },
    {
      "cell_type": "code",
      "source": [
        "from pyspark.sql import SparkSession \n",
        "spark = SparkSession.builder \\\n",
        "    .master(\"local[1]\") \\\n",
        "    .appName(\"IAB\") \\\n",
        "    .getOrCreate()"
      ],
      "metadata": {
        "id": "NyOdl2VjNNQj"
      },
      "execution_count": 13,
      "outputs": []
    },
    {
      "cell_type": "code",
      "source": [
        "spark"
      ],
      "metadata": {
        "colab": {
          "base_uri": "https://localhost:8080/",
          "height": 219
        },
        "id": "V8AKOsm4N0y0",
        "outputId": "8097a2aa-75c9-443c-9f31-d603a8a547ab"
      },
      "execution_count": 14,
      "outputs": [
        {
          "output_type": "execute_result",
          "data": {
            "text/plain": [
              "<pyspark.sql.session.SparkSession at 0x7f296908a710>"
            ],
            "text/html": [
              "\n",
              "            <div>\n",
              "                <p><b>SparkSession - in-memory</b></p>\n",
              "                \n",
              "        <div>\n",
              "            <p><b>SparkContext</b></p>\n",
              "\n",
              "            <p><a href=\"http://2bd5a6392d19:4040\">Spark UI</a></p>\n",
              "\n",
              "            <dl>\n",
              "              <dt>Version</dt>\n",
              "                <dd><code>v3.3.0</code></dd>\n",
              "              <dt>Master</dt>\n",
              "                <dd><code>local[1]</code></dd>\n",
              "              <dt>AppName</dt>\n",
              "                <dd><code>IAB</code></dd>\n",
              "            </dl>\n",
              "        </div>\n",
              "        \n",
              "            </div>\n",
              "        "
            ]
          },
          "metadata": {},
          "execution_count": 14
        }
      ]
    },
    {
      "cell_type": "code",
      "source": [],
      "metadata": {
        "id": "iMEhb7Op0buz"
      },
      "execution_count": null,
      "outputs": []
    },
    {
      "cell_type": "markdown",
      "source": [
        "# 処理対象のデータをgitで取得"
      ],
      "metadata": {
        "id": "RTiZVTcz0b9u"
      }
    },
    {
      "cell_type": "code",
      "source": [
        "!git clone https://github.com/The-Japan-DataScientist-Society/100knocks-preprocess\n",
        "cd 100knocks-preprocess/docker/work/data/"
      ],
      "metadata": {
        "id": "B7J0UiNv0ZJq"
      },
      "execution_count": null,
      "outputs": []
    },
    {
      "cell_type": "markdown",
      "metadata": {
        "id": "qseL89kEhhxg"
      },
      "source": [
        "## はじめに\n",
        "- 初めに以下のセルを実行してください\n",
        "- 必要なライブラリのインポートとデータベース（PostgreSQL）からのデータ読み込みを行います\n",
        "- pandas等、利用が想定されるライブラリは以下セルでインポートしています\n",
        "- その他利用したいライブラリがあれば適宜インストールしてください（\"!pip install ライブラリ名\"でインストールも可能）\n",
        "- 処理は複数回に分けても構いません\n",
        "- 名前、住所等はダミーデータであり、実在するものではありません\n"
      ]
    },
    {
      "cell_type": "code",
      "metadata": {
        "trusted": true,
        "id": "k_rQuDF8hhxg",
        "colab": {
          "base_uri": "https://localhost:8080/"
        },
        "outputId": "9c2a93cb-03b0-4e71-83bf-670f9300a1cb"
      },
      "source": [
        "# pipでオリジナルの解答に必要なライブラリーをインポート\n",
        "import os\n",
        "import pandas as pd\n",
        "import numpy as np\n",
        "from datetime import datetime, date\n",
        "from dateutil.relativedelta import relativedelta\n",
        "import math\n",
        "from sklearn import preprocessing\n",
        "from sklearn.model_selection import train_test_split\n",
        "from imblearn.under_sampling import RandomUnderSampler\n",
        "\n",
        "# Spark SQL用\n",
        "from pyspark.sql.types import *\n",
        "import pyspark.sql.functions as F\n",
        "from pyspark.sql.window import Window\n",
        "\n",
        "# Spark DataFrame用\n",
        "import pyspark.pandas as ps"
      ],
      "execution_count": 15,
      "outputs": [
        {
          "output_type": "stream",
          "name": "stderr",
          "text": [
            "WARNING:root:'PYARROW_IGNORE_TIMEZONE' environment variable was not set. It is required to set this environment variable to '1' in both driver and executor sides if you use pyarrow>=2.0.0. pandas-on-Spark will set it for you but it does not work if there is a Spark context already launched.\n"
          ]
        }
      ]
    },
    {
      "cell_type": "code",
      "source": [
        "# データを読み込み\n",
        "# inferSchemaがfalseの場合、すべてのカラムはstringとなる。(datetime不可。timestamp可)\n",
        "df_customer = spark.read\\\n",
        "              .format(\"csv\")\\\n",
        "              .options(header=\"true\", inferSchema=\"true\")\\\n",
        "              .load('./customer.csv')\n",
        "df_category = spark.read\\\n",
        "              .format(\"csv\")\\\n",
        "              .options(header=\"true\", inferSchema=\"true\")\\\n",
        "              .load('./category.csv')\n",
        "df_product = spark.read\\\n",
        "              .format(\"csv\")\\\n",
        "              .options(header=\"true\", inferSchema=\"true\")\\\n",
        "              .load('./product.csv')\n",
        "df_receipt = spark.read\\\n",
        "              .format(\"csv\")\\\n",
        "              .options(header=\"true\", inferSchema=\"true\")\\\n",
        "              .load('./receipt.csv')\n",
        "df_store = spark.read\\\n",
        "            .format(\"csv\")\\\n",
        "            .options(header=\"true\", inferSchema=\"true\")\\\n",
        "            .load('./store.csv')\n",
        "df_geocode = spark.read\\\n",
        "            .format(\"csv\")\\\n",
        "            .options(header=\"true\", inferSchema=\"true\")\\\n",
        "            .load('./geocode.csv')"
      ],
      "metadata": {
        "id": "8TzSgt6pN_RU"
      },
      "execution_count": 16,
      "outputs": []
    },
    {
      "cell_type": "code",
      "source": [
        "# 業務環境では実行不可\n",
        "# tmp_test = ps.read_csv('./geocode.csv')\n",
        "# tmp_test.head()"
      ],
      "metadata": {
        "colab": {
          "base_uri": "https://localhost:8080/",
          "height": 241
        },
        "id": "QJC99FtpXtjJ",
        "outputId": "cb9c4b62-4822-48c9-c4f4-149c17dd59e5"
      },
      "execution_count": null,
      "outputs": [
        {
          "output_type": "stream",
          "name": "stderr",
          "text": [
            "/usr/local/lib/python3.7/dist-packages/pyspark/pandas/utils.py:975: PandasAPIOnSparkAdviceWarning: If `index_col` is not specified for `read_csv`, the default index is attached which can cause additional overhead.\n",
            "  warnings.warn(message, PandasAPIOnSparkAdviceWarning)\n"
          ]
        },
        {
          "output_type": "execute_result",
          "data": {
            "text/plain": [
              "  postal_cd prefecture    city  town street address     full_address  longitude  latitude\n",
              "0  060-0000        北海道  札幌市中央区  None   None    None        北海道札幌市中央区  141.34103  43.05513\n",
              "1  064-0941        北海道  札幌市中央区   旭ケ丘   None    None     北海道札幌市中央区旭ケ丘  141.31972  43.04223\n",
              "2  060-0042        北海道  札幌市中央区   大通西   None     １丁目  北海道札幌市中央区大通西１丁目  141.35637  43.06102\n",
              "3  060-0042        北海道  札幌市中央区   大通西   None     ２丁目  北海道札幌市中央区大通西２丁目  141.35445  43.06080\n",
              "4  060-0042        北海道  札幌市中央区   大通西   None     ３丁目  北海道札幌市中央区大通西３丁目  141.35275  43.06086"
            ],
            "text/html": [
              "<div>\n",
              "<style scoped>\n",
              "    .dataframe tbody tr th:only-of-type {\n",
              "        vertical-align: middle;\n",
              "    }\n",
              "\n",
              "    .dataframe tbody tr th {\n",
              "        vertical-align: top;\n",
              "    }\n",
              "\n",
              "    .dataframe thead th {\n",
              "        text-align: right;\n",
              "    }\n",
              "</style>\n",
              "<table border=\"1\" class=\"dataframe\">\n",
              "  <thead>\n",
              "    <tr style=\"text-align: right;\">\n",
              "      <th></th>\n",
              "      <th>postal_cd</th>\n",
              "      <th>prefecture</th>\n",
              "      <th>city</th>\n",
              "      <th>town</th>\n",
              "      <th>street</th>\n",
              "      <th>address</th>\n",
              "      <th>full_address</th>\n",
              "      <th>longitude</th>\n",
              "      <th>latitude</th>\n",
              "    </tr>\n",
              "  </thead>\n",
              "  <tbody>\n",
              "    <tr>\n",
              "      <th>0</th>\n",
              "      <td>060-0000</td>\n",
              "      <td>北海道</td>\n",
              "      <td>札幌市中央区</td>\n",
              "      <td>None</td>\n",
              "      <td>None</td>\n",
              "      <td>None</td>\n",
              "      <td>北海道札幌市中央区</td>\n",
              "      <td>141.34103</td>\n",
              "      <td>43.05513</td>\n",
              "    </tr>\n",
              "    <tr>\n",
              "      <th>1</th>\n",
              "      <td>064-0941</td>\n",
              "      <td>北海道</td>\n",
              "      <td>札幌市中央区</td>\n",
              "      <td>旭ケ丘</td>\n",
              "      <td>None</td>\n",
              "      <td>None</td>\n",
              "      <td>北海道札幌市中央区旭ケ丘</td>\n",
              "      <td>141.31972</td>\n",
              "      <td>43.04223</td>\n",
              "    </tr>\n",
              "    <tr>\n",
              "      <th>2</th>\n",
              "      <td>060-0042</td>\n",
              "      <td>北海道</td>\n",
              "      <td>札幌市中央区</td>\n",
              "      <td>大通西</td>\n",
              "      <td>None</td>\n",
              "      <td>１丁目</td>\n",
              "      <td>北海道札幌市中央区大通西１丁目</td>\n",
              "      <td>141.35637</td>\n",
              "      <td>43.06102</td>\n",
              "    </tr>\n",
              "    <tr>\n",
              "      <th>3</th>\n",
              "      <td>060-0042</td>\n",
              "      <td>北海道</td>\n",
              "      <td>札幌市中央区</td>\n",
              "      <td>大通西</td>\n",
              "      <td>None</td>\n",
              "      <td>２丁目</td>\n",
              "      <td>北海道札幌市中央区大通西２丁目</td>\n",
              "      <td>141.35445</td>\n",
              "      <td>43.06080</td>\n",
              "    </tr>\n",
              "    <tr>\n",
              "      <th>4</th>\n",
              "      <td>060-0042</td>\n",
              "      <td>北海道</td>\n",
              "      <td>札幌市中央区</td>\n",
              "      <td>大通西</td>\n",
              "      <td>None</td>\n",
              "      <td>３丁目</td>\n",
              "      <td>北海道札幌市中央区大通西３丁目</td>\n",
              "      <td>141.35275</td>\n",
              "      <td>43.06086</td>\n",
              "    </tr>\n",
              "  </tbody>\n",
              "</table>\n",
              "</div>"
            ]
          },
          "metadata": {},
          "execution_count": 69
        }
      ]
    },
    {
      "cell_type": "markdown",
      "metadata": {
        "id": "EMvNeX6Qhhxk"
      },
      "source": [
        "# 演習問題"
      ]
    },
    {
      "cell_type": "markdown",
      "metadata": {
        "id": "r244WHrjhhxk"
      },
      "source": [
        "---\n",
        "> P-001: レシート明細のデータフレーム（df_receipt）から全項目の先頭10件を表示し、どのようなデータを保有しているか目視で確認せよ。"
      ]
    },
    {
      "cell_type": "code",
      "metadata": {
        "trusted": false,
        "id": "RrcFPQjUhhxk",
        "colab": {
          "base_uri": "https://localhost:8080/"
        },
        "outputId": "1a57c07b-fd89-4647-c8d2-7ce2fa6bb0ac"
      },
      "source": [
        "df_receipt.show(10)"
      ],
      "execution_count": null,
      "outputs": [
        {
          "output_type": "stream",
          "name": "stdout",
          "text": [
            "+---------+-----------+--------+----------+--------------+--------------+----------+--------+------+\n",
            "|sales_ymd|sales_epoch|store_cd|receipt_no|receipt_sub_no|   customer_id|product_cd|quantity|amount|\n",
            "+---------+-----------+--------+----------+--------------+--------------+----------+--------+------+\n",
            "| 20181103| 1541203200|  S14006|       112|             1|CS006214000001|P070305012|       1|   158|\n",
            "| 20181118| 1542499200|  S13008|      1132|             2|CS008415000097|P070701017|       1|    81|\n",
            "| 20170712| 1499817600|  S14028|      1102|             1|CS028414000014|P060101005|       1|   170|\n",
            "| 20190205| 1549324800|  S14042|      1132|             1|ZZ000000000000|P050301001|       1|    25|\n",
            "| 20180821| 1534809600|  S14025|      1102|             2|CS025415000050|P060102007|       1|    90|\n",
            "| 20190605| 1559692800|  S13003|      1112|             1|CS003515000195|P050102002|       1|   138|\n",
            "| 20181205| 1543968000|  S14024|      1102|             2|CS024514000042|P080101005|       1|    30|\n",
            "| 20190922| 1569110400|  S14040|      1102|             1|CS040415000178|P070501004|       1|   128|\n",
            "| 20170504| 1493856000|  S13020|      1112|             2|ZZ000000000000|P071302010|       1|   770|\n",
            "| 20191010| 1570665600|  S14027|      1102|             1|CS027514000015|P071101003|       1|   680|\n",
            "+---------+-----------+--------+----------+--------------+--------------+----------+--------+------+\n",
            "only showing top 10 rows\n",
            "\n"
          ]
        }
      ]
    },
    {
      "cell_type": "markdown",
      "metadata": {
        "id": "us1AbdWfhhxm"
      },
      "source": [
        "---\n",
        "> P-002: レシート明細のデータフレーム（df_receipt）から売上日（sales_ymd）、顧客ID（customer_id）、商品コード（product_cd）、売上金額（amount）の順に列を指定し、10件表示させよ。"
      ]
    },
    {
      "cell_type": "code",
      "metadata": {
        "trusted": false,
        "id": "AwaINHByhhxm",
        "colab": {
          "base_uri": "https://localhost:8080/"
        },
        "outputId": "140a8845-fde4-4349-823d-8ae6047d0f47"
      },
      "source": [
        "df_receipt.select([\"sales_ymd\", \"customer_id\", \"product_cd\", \"amount\"]).show(10)"
      ],
      "execution_count": null,
      "outputs": [
        {
          "output_type": "stream",
          "name": "stdout",
          "text": [
            "+---------+--------------+----------+------+\n",
            "|sales_ymd|   customer_id|product_cd|amount|\n",
            "+---------+--------------+----------+------+\n",
            "| 20181103|CS006214000001|P070305012|   158|\n",
            "| 20181118|CS008415000097|P070701017|    81|\n",
            "| 20170712|CS028414000014|P060101005|   170|\n",
            "| 20190205|ZZ000000000000|P050301001|    25|\n",
            "| 20180821|CS025415000050|P060102007|    90|\n",
            "| 20190605|CS003515000195|P050102002|   138|\n",
            "| 20181205|CS024514000042|P080101005|    30|\n",
            "| 20190922|CS040415000178|P070501004|   128|\n",
            "| 20170504|ZZ000000000000|P071302010|   770|\n",
            "| 20191010|CS027514000015|P071101003|   680|\n",
            "+---------+--------------+----------+------+\n",
            "only showing top 10 rows\n",
            "\n"
          ]
        }
      ]
    },
    {
      "cell_type": "markdown",
      "metadata": {
        "id": "_yPcu6bkhhxo"
      },
      "source": [
        "---\n",
        "> P-003: レシート明細のデータフレーム（df_receipt）から売上日（sales_ymd）、顧客ID（customer_id）、商品コード（product_cd）、売上金額（amount）の順に列を指定し、10件表示させよ。ただし、sales_ymdはsales_dateに項目名を変更しながら抽出すること。"
      ]
    },
    {
      "cell_type": "code",
      "metadata": {
        "trusted": false,
        "id": "ZKVA9bCRhhxp",
        "colab": {
          "base_uri": "https://localhost:8080/"
        },
        "outputId": "47d78965-e740-4abb-9b58-17f454b959f2"
      },
      "source": [
        "df_receipt.select([\"sales_ymd\", \"customer_id\", \"product_cd\", \"amount\"])\\\n",
        "          .withColumnRenamed(\"sales_ymd\", \"sales_date\").show(10)"
      ],
      "execution_count": null,
      "outputs": [
        {
          "output_type": "stream",
          "name": "stdout",
          "text": [
            "+----------+--------------+----------+------+\n",
            "|sales_date|   customer_id|product_cd|amount|\n",
            "+----------+--------------+----------+------+\n",
            "|  20181103|CS006214000001|P070305012|   158|\n",
            "|  20181118|CS008415000097|P070701017|    81|\n",
            "|  20170712|CS028414000014|P060101005|   170|\n",
            "|  20190205|ZZ000000000000|P050301001|    25|\n",
            "|  20180821|CS025415000050|P060102007|    90|\n",
            "|  20190605|CS003515000195|P050102002|   138|\n",
            "|  20181205|CS024514000042|P080101005|    30|\n",
            "|  20190922|CS040415000178|P070501004|   128|\n",
            "|  20170504|ZZ000000000000|P071302010|   770|\n",
            "|  20191010|CS027514000015|P071101003|   680|\n",
            "+----------+--------------+----------+------+\n",
            "only showing top 10 rows\n",
            "\n"
          ]
        }
      ]
    },
    {
      "cell_type": "markdown",
      "metadata": {
        "id": "dHcdbLoehhxq"
      },
      "source": [
        "---\n",
        "> P-004: レシート明細のデータフレーム（df_receipt）から売上日（sales_ymd）、顧客ID（customer_id）、商品コード（product_cd）、売上金額（amount）の順に列を指定し、以下の条件を満たすデータを抽出せよ。\n",
        "> - 顧客ID（customer_id）が\"CS018205000001\""
      ]
    },
    {
      "cell_type": "code",
      "metadata": {
        "trusted": false,
        "id": "Fqp5Qdmkhhxr",
        "colab": {
          "base_uri": "https://localhost:8080/"
        },
        "outputId": "afd37e0b-cdb5-4756-c085-43c6ad80bbd3"
      },
      "source": [
        "df_receipt.select([\"sales_ymd\", \"customer_id\", \"product_cd\", \"amount\"])\\\n",
        "          .filter(df_receipt[\"customer_id\"]==\"CS018205000001\").show()"
      ],
      "execution_count": null,
      "outputs": [
        {
          "output_type": "stream",
          "name": "stdout",
          "text": [
            "+---------+--------------+----------+------+\n",
            "|sales_ymd|   customer_id|product_cd|amount|\n",
            "+---------+--------------+----------+------+\n",
            "| 20180911|CS018205000001|P071401012|  2200|\n",
            "| 20180414|CS018205000001|P060104007|   600|\n",
            "| 20170614|CS018205000001|P050206001|   990|\n",
            "| 20170614|CS018205000001|P060702015|   108|\n",
            "| 20190216|CS018205000001|P071005024|   102|\n",
            "| 20180414|CS018205000001|P071101002|   278|\n",
            "| 20190226|CS018205000001|P070902035|   168|\n",
            "| 20190924|CS018205000001|P060805001|   495|\n",
            "| 20190226|CS018205000001|P071401020|  2200|\n",
            "| 20180911|CS018205000001|P071401005|  1100|\n",
            "| 20190216|CS018205000001|P040101002|   218|\n",
            "| 20190924|CS018205000001|P091503001|   280|\n",
            "+---------+--------------+----------+------+\n",
            "\n"
          ]
        }
      ]
    },
    {
      "cell_type": "markdown",
      "metadata": {
        "id": "nvI5Comzhhxt"
      },
      "source": [
        "---\n",
        "> P-005: レシート明細のデータフレーム（df_receipt）から売上日（sales_ymd）、顧客ID（customer_id）、商品コード（product_cd）、売上金額（amount）の順に列を指定し、以下の条件を満たすデータを抽出せよ。\n",
        "> - 顧客ID（customer_id）が\"CS018205000001\"\n",
        "> - 売上金額（amount）が1,000以上"
      ]
    },
    {
      "cell_type": "code",
      "metadata": {
        "trusted": false,
        "id": "jZDWoB_Bhhxv",
        "colab": {
          "base_uri": "https://localhost:8080/"
        },
        "outputId": "6d0a2ce8-8973-43c1-b943-ff3fb13bb71d"
      },
      "source": [
        "df_receipt.select([\"sales_ymd\", \"customer_id\", \"product_cd\", \"amount\"])\\\n",
        "          .filter((df_receipt[\"customer_id\"]==\"CS018205000001\") & (df_receipt[\"amount\"]>=1000)).show()"
      ],
      "execution_count": null,
      "outputs": [
        {
          "output_type": "stream",
          "name": "stdout",
          "text": [
            "+---------+--------------+----------+------+\n",
            "|sales_ymd|   customer_id|product_cd|amount|\n",
            "+---------+--------------+----------+------+\n",
            "| 20180911|CS018205000001|P071401012|  2200|\n",
            "| 20190226|CS018205000001|P071401020|  2200|\n",
            "| 20180911|CS018205000001|P071401005|  1100|\n",
            "+---------+--------------+----------+------+\n",
            "\n"
          ]
        }
      ]
    },
    {
      "cell_type": "markdown",
      "metadata": {
        "id": "-Dz6spPThhxx"
      },
      "source": [
        "---\n",
        "> P-006: レシート明細データフレーム「df_receipt」から売上日（sales_ymd）、顧客ID（customer_id）、商品コード（product_cd）、売上数量（quantity）、売上金額（amount）の順に列を指定し、以下の条件を満たすデータを抽出せよ。\n",
        "> - 顧客ID（customer_id）が\"CS018205000001\"\n",
        "> - 売上金額（amount）が1,000以上または売上数量（quantity）が5以上"
      ]
    },
    {
      "cell_type": "code",
      "metadata": {
        "trusted": false,
        "id": "8IH2MwDUhhxx",
        "colab": {
          "base_uri": "https://localhost:8080/"
        },
        "outputId": "2ebaabd2-80f6-45ee-eab5-69fa04f6b9e6"
      },
      "source": [
        "df_receipt.select([\"sales_ymd\", \"customer_id\", \"product_cd\", \"quantity\", \"amount\"])\\\n",
        "          .filter((df_receipt[\"customer_id\"]==\"CS018205000001\") & ((df_receipt[\"amount\"]>=1000) | (df_receipt[\"quantity\"]>5))).show()"
      ],
      "execution_count": null,
      "outputs": [
        {
          "output_type": "stream",
          "name": "stdout",
          "text": [
            "+---------+--------------+----------+--------+------+\n",
            "|sales_ymd|   customer_id|product_cd|quantity|amount|\n",
            "+---------+--------------+----------+--------+------+\n",
            "| 20180911|CS018205000001|P071401012|       1|  2200|\n",
            "| 20180414|CS018205000001|P060104007|       6|   600|\n",
            "| 20190226|CS018205000001|P071401020|       1|  2200|\n",
            "| 20180911|CS018205000001|P071401005|       1|  1100|\n",
            "+---------+--------------+----------+--------+------+\n",
            "\n"
          ]
        }
      ]
    },
    {
      "cell_type": "markdown",
      "metadata": {
        "id": "OjU7Uofzhhxz"
      },
      "source": [
        "---\n",
        "> P-007: レシート明細のデータフレーム（df_receipt）から売上日（sales_ymd）、顧客ID（customer_id）、商品コード（product_cd）、売上金額（amount）の順に列を指定し、以下の条件を満たすデータを抽出せよ。\n",
        "> - 顧客ID（customer_id）が\"CS018205000001\"\n",
        "> - 売上金額（amount）が1,000以上2,000以下"
      ]
    },
    {
      "cell_type": "code",
      "metadata": {
        "trusted": false,
        "id": "oywQDpHbhhxz",
        "colab": {
          "base_uri": "https://localhost:8080/"
        },
        "outputId": "177cc4ed-4e12-49db-c38e-f38e028935d7"
      },
      "source": [
        "df_receipt.select([\"sales_ymd\", \"customer_id\", \"product_cd\", \"amount\"])\\\n",
        "          .filter((F.col(\"customer_id\")==\"CS018205000001\") & ((F.col(\"amount\")>=1000) & (F.col(\"amount\")<=2000))).show()"
      ],
      "execution_count": null,
      "outputs": [
        {
          "output_type": "stream",
          "name": "stdout",
          "text": [
            "+---------+--------------+----------+------+\n",
            "|sales_ymd|   customer_id|product_cd|amount|\n",
            "+---------+--------------+----------+------+\n",
            "| 20180911|CS018205000001|P071401005|  1100|\n",
            "+---------+--------------+----------+------+\n",
            "\n"
          ]
        }
      ]
    },
    {
      "cell_type": "markdown",
      "metadata": {
        "id": "wvvecxrThhx1"
      },
      "source": [
        "---\n",
        "> P-008: レシート明細のデータフレーム（df_receipt）から売上日（sales_ymd）、顧客ID（customer_id）、商品コード（product_cd）、売上金額（amount）の順に列を指定し、以下の条件を満たすデータを抽出せよ。\n",
        "> - 顧客ID（customer_id）が\"CS018205000001\"\n",
        "> - 商品コード（product_cd）が\"P071401019\"以外"
      ]
    },
    {
      "cell_type": "code",
      "metadata": {
        "trusted": false,
        "id": "oIKb4uZEhhx1",
        "colab": {
          "base_uri": "https://localhost:8080/"
        },
        "outputId": "55c92388-083c-4adf-9369-ea94750b81e5"
      },
      "source": [
        "df_receipt.select([\"sales_ymd\", \"customer_id\", \"product_cd\", \"amount\"])\\\n",
        "          .filter((F.col(\"customer_id\")==\"CS018205000001\") & (F.col(\"product_cd\")!=\"P071401019\")).show()"
      ],
      "execution_count": null,
      "outputs": [
        {
          "output_type": "stream",
          "name": "stdout",
          "text": [
            "+---------+--------------+----------+------+\n",
            "|sales_ymd|   customer_id|product_cd|amount|\n",
            "+---------+--------------+----------+------+\n",
            "| 20180911|CS018205000001|P071401012|  2200|\n",
            "| 20180414|CS018205000001|P060104007|   600|\n",
            "| 20170614|CS018205000001|P050206001|   990|\n",
            "| 20170614|CS018205000001|P060702015|   108|\n",
            "| 20190216|CS018205000001|P071005024|   102|\n",
            "| 20180414|CS018205000001|P071101002|   278|\n",
            "| 20190226|CS018205000001|P070902035|   168|\n",
            "| 20190924|CS018205000001|P060805001|   495|\n",
            "| 20190226|CS018205000001|P071401020|  2200|\n",
            "| 20180911|CS018205000001|P071401005|  1100|\n",
            "| 20190216|CS018205000001|P040101002|   218|\n",
            "| 20190924|CS018205000001|P091503001|   280|\n",
            "+---------+--------------+----------+------+\n",
            "\n"
          ]
        }
      ]
    },
    {
      "cell_type": "code",
      "source": [
        "# AI Programmerのテスト\n",
        "# pysparkでレシート明細のデータフレーム（df_receipt）から売上日（sales_ymd）、顧客ID（customer_id）、商品コード（product_cd）、売上金額（amount）の順に列を指定し、以下の条件を満たすデータを抽出せよ。顧客ID（customer_id）が\"CS018205000001\"商品コード（product_cd）が\"P071401019\"以外である\n",
        "# df_receipt.select(\"sales_ymd\",\"customer_id\",\"product_cd\",\"amount\").where(col(\"customer_id\") != \"CS018205000001\" and col(\"product_cd\") != \"P071401019\")\n",
        "\n",
        "df_receipt.select(\"sales_ymd\",\"customer_id\",\"product_cd\",\"amount\").where((F.col(\"customer_id\") != \"CS018205000001\") & (F.col(\"product_cd\") != \"P071401019\")).show()"
      ],
      "metadata": {
        "colab": {
          "base_uri": "https://localhost:8080/"
        },
        "id": "Ee_pvrl71Alp",
        "outputId": "7abc51b6-f319-4113-f626-c8dab59ec971"
      },
      "execution_count": 20,
      "outputs": [
        {
          "output_type": "stream",
          "name": "stdout",
          "text": [
            "+---------+--------------+----------+------+\n",
            "|sales_ymd|   customer_id|product_cd|amount|\n",
            "+---------+--------------+----------+------+\n",
            "| 20181103|CS006214000001|P070305012|   158|\n",
            "| 20181118|CS008415000097|P070701017|    81|\n",
            "| 20170712|CS028414000014|P060101005|   170|\n",
            "| 20190205|ZZ000000000000|P050301001|    25|\n",
            "| 20180821|CS025415000050|P060102007|    90|\n",
            "| 20190605|CS003515000195|P050102002|   138|\n",
            "| 20181205|CS024514000042|P080101005|    30|\n",
            "| 20190922|CS040415000178|P070501004|   128|\n",
            "| 20170504|ZZ000000000000|P071302010|   770|\n",
            "| 20191010|CS027514000015|P071101003|   680|\n",
            "| 20190918|CS025415000134|P070401002|   138|\n",
            "| 20171010|CS021515000126|P040402001|   228|\n",
            "| 20180506|CS039414000052|P059001019|   428|\n",
            "| 20190326|CS016215000032|P091401190|   780|\n",
            "| 20180329|ZZ000000000000|P050104001|   115|\n",
            "| 20170116|ZZ000000000000|P080803001|   100|\n",
            "| 20190621|ZZ000000000000|P040102001|   268|\n",
            "| 20181225|ZZ000000000000|P071401002|  1100|\n",
            "| 20190603|CS026515000042|P070504016|   188|\n",
            "| 20190606|ZZ000000000000|P071102002|   190|\n",
            "+---------+--------------+----------+------+\n",
            "only showing top 20 rows\n",
            "\n"
          ]
        }
      ]
    },
    {
      "cell_type": "markdown",
      "metadata": {
        "id": "raZwJrBbhhx3"
      },
      "source": [
        "---\n",
        "> P-009: 以下の処理において、出力結果を変えずにORをANDに書き換えよ。\n",
        "\n",
        "`df_store.query('not(prefecture_cd == \"13\" | floor_area > 900)')`"
      ]
    },
    {
      "cell_type": "code",
      "metadata": {
        "trusted": false,
        "id": "Ik77huJ-hhx3",
        "colab": {
          "base_uri": "https://localhost:8080/"
        },
        "outputId": "619df7de-2f67-4e46-b088-11c21eb79a75"
      },
      "source": [
        "df_store.filter((F.col(\"prefecture_cd\")!=\"13\") & (F.col(\"floor_area\")<=900)).show()"
      ],
      "execution_count": null,
      "outputs": [
        {
          "output_type": "stream",
          "name": "stdout",
          "text": [
            "+--------+----------+-------------+----------+----------------------------------+--------------------------------------+------------+---------+--------+----------+\n",
            "|store_cd|store_name|prefecture_cd|prefecture|                           address|                          address_kana|      tel_no|longitude|latitude|floor_area|\n",
            "+--------+----------+-------------+----------+----------------------------------+--------------------------------------+------------+---------+--------+----------+\n",
            "|  S14046|  北山田店|           14|  神奈川県|  神奈川県横浜市都筑区北山田一丁目| カナガワケンヨコハマシツヅキクキタ...|045-123-4049| 139.5916|35.56189|     831.0|\n",
            "|  S14011|日吉本町店|           14|  神奈川県|神奈川県横浜市港北区日吉本町四丁目| カナガワケンヨコハマシコウホククヒ...|045-123-4033| 139.6316|35.54655|     890.0|\n",
            "|  S12013|  習志野店|           12|    千葉県|          千葉県習志野市芝園一丁目|チバケンナラシノシシバゾノイッチョウメ|047-123-4002|  140.022|35.66122|     808.0|\n",
            "+--------+----------+-------------+----------+----------------------------------+--------------------------------------+------------+---------+--------+----------+\n",
            "\n"
          ]
        }
      ]
    },
    {
      "cell_type": "markdown",
      "metadata": {
        "id": "vyAFAs5Rhhx5"
      },
      "source": [
        "---\n",
        "> P-010: 店舗データフレーム（df_store）から、店舗コード（store_cd）が\"S14\"で始まるものだけ全項目抽出し、10件だけ表示せよ。"
      ]
    },
    {
      "cell_type": "code",
      "metadata": {
        "trusted": false,
        "id": "aaHaULLwhhx5",
        "colab": {
          "base_uri": "https://localhost:8080/"
        },
        "outputId": "b783bb7a-5ec0-422f-8425-d391c2cd6e4e"
      },
      "source": [
        "df_store.filter(F.col(\"store_cd\").rlike('S14.*')).show(10)"
      ],
      "execution_count": null,
      "outputs": [
        {
          "output_type": "stream",
          "name": "stdout",
          "text": [
            "+--------+------------+-------------+----------+--------------------------------------+----------------------------------------+------------+---------+--------+----------+\n",
            "|store_cd|  store_name|prefecture_cd|prefecture|                               address|                            address_kana|      tel_no|longitude|latitude|floor_area|\n",
            "+--------+------------+-------------+----------+--------------------------------------+----------------------------------------+------------+---------+--------+----------+\n",
            "|  S14010|      菊名店|           14|  神奈川県|        神奈川県横浜市港北区菊名一丁目|   カナガワケンヨコハマシコウホククキ...|045-123-4032| 139.6326|35.50049|    1732.0|\n",
            "|  S14033|    阿久和店|           14|  神奈川県|    神奈川県横浜市瀬谷区阿久和西一丁目|   カナガワケンヨコハマシセヤクアクワ...|045-123-4043| 139.4961|35.45918|    1495.0|\n",
            "|  S14036|相模原中央店|           14|  神奈川県|            神奈川県相模原市中央二丁目|   カナガワケンサガミハラシチュウオウ...|042-123-4045| 139.3716|35.57327|    1679.0|\n",
            "|  S14040|    長津田店|           14|  神奈川県|神奈川県横浜市緑区長津田みなみ台五丁目|   カナガワケンヨコハマシミドリクナガ...|045-123-4046| 139.4994|35.52398|    1548.0|\n",
            "|  S14050|  阿久和西店|           14|  神奈川県|    神奈川県横浜市瀬谷区阿久和西一丁目|   カナガワケンヨコハマシセヤクアクワ...|045-123-4053| 139.4961|35.45918|    1830.0|\n",
            "|  S14028|    二ツ橋店|           14|  神奈川県|          神奈川県横浜市瀬谷区二ツ橋町|   カナガワケンヨコハマシセヤクフタツ...|045-123-4042| 139.4963|35.46304|    1574.0|\n",
            "|  S14012|  本牧和田店|           14|  神奈川県|            神奈川県横浜市中区本牧和田|カナガワケンヨコハマシナカクホンモクワダ|045-123-4034| 139.6582|35.42156|    1341.0|\n",
            "|  S14046|    北山田店|           14|  神奈川県|      神奈川県横浜市都筑区北山田一丁目|   カナガワケンヨコハマシツヅキクキタ...|045-123-4049| 139.5916|35.56189|     831.0|\n",
            "|  S14022|      逗子店|           14|  神奈川県|              神奈川県逗子市逗子一丁目|      カナガワケンズシシズシイッチョウメ|046-123-4036| 139.5789|35.29642|    1838.0|\n",
            "|  S14011|  日吉本町店|           14|  神奈川県|    神奈川県横浜市港北区日吉本町四丁目|   カナガワケンヨコハマシコウホククヒ...|045-123-4033| 139.6316|35.54655|     890.0|\n",
            "+--------+------------+-------------+----------+--------------------------------------+----------------------------------------+------------+---------+--------+----------+\n",
            "only showing top 10 rows\n",
            "\n"
          ]
        }
      ]
    },
    {
      "cell_type": "markdown",
      "metadata": {
        "id": "rZOTvgu0hhx7"
      },
      "source": [
        "---\n",
        "> P-011: 顧客データフレーム（df_customer）から顧客ID（customer_id）の末尾が1のものだけ全項目抽出し、10件だけ表示せよ。"
      ]
    },
    {
      "cell_type": "code",
      "metadata": {
        "trusted": false,
        "id": "tTJ7JCl_hhx7",
        "colab": {
          "base_uri": "https://localhost:8080/"
        },
        "outputId": "1618a1cf-ce6e-4fa1-a120-820a389b96b8"
      },
      "source": [
        "df_customer.filter(F.col(\"customer_id\").rlike('.*1$')).show(10)"
      ],
      "execution_count": null,
      "outputs": [
        {
          "output_type": "stream",
          "name": "stdout",
          "text": [
            "+--------------+-------------+---------+------+----------+---+---------+---------------------------------+--------------------+----------------+------------+\n",
            "|   customer_id|customer_name|gender_cd|gender| birth_day|age|postal_cd|                          address|application_store_cd|application_date|   status_cd|\n",
            "+--------------+-------------+---------+------+----------+---+---------+---------------------------------+--------------------+----------------+------------+\n",
            "|CS037613000071|    六角 雅彦|        9|  不明|1952-04-01| 66| 136-0076|       東京都江東区南砂**********|              S13037|        20150414|0-00000000-0|\n",
            "|CS028811000001|  堀井 かおり|        1|  女性|1933-03-27| 86| 245-0016| 神奈川県横浜市泉区和泉町*****...|              S14028|        20160115|0-00000000-0|\n",
            "|CS040412000191|    川井 郁恵|        1|  女性|1977-01-05| 42| 226-0021|神奈川県横浜市緑区北八朔町****...|              S14040|        20151101|1-20091025-4|\n",
            "|CS028314000011|  小菅 あおい|        1|  女性|1983-11-26| 35| 246-0038| 神奈川県横浜市瀬谷区宮沢*****...|              S14028|        20151123|1-20080426-5|\n",
            "|CS039212000051|  藤島 恵梨香|        1|  女性|1997-02-03| 22| 166-0001|   東京都杉並区阿佐谷北**********|              S13039|        20171121|1-20100215-4|\n",
            "|CS015412000111|    松居 奈月|        1|  女性|1972-10-04| 46| 136-0071|       東京都江東区亀戸**********|              S13015|        20150629|0-00000000-0|\n",
            "|CS004702000041|      野島 洋|        0|  男性|1943-08-24| 75| 176-0022|       東京都練馬区向山**********|              S13004|        20170218|0-00000000-0|\n",
            "|CS041515000001|    栗田 千夏|        1|  女性|1967-01-02| 52| 206-0001|       東京都多摩市和田**********|              S13041|        20160422|E-20100803-F|\n",
            "|CS029313000221|  北条 ひかり|        1|  女性|1987-06-19| 31| 279-0011|       千葉県浦安市美浜**********|              S12029|        20180810|0-00000000-0|\n",
            "|CS034312000071|    望月 奈央|        1|  女性|1980-09-20| 38| 213-0026| 神奈川県川崎市高津区久末*****...|              S14034|        20160106|0-00000000-0|\n",
            "+--------------+-------------+---------+------+----------+---+---------+---------------------------------+--------------------+----------------+------------+\n",
            "only showing top 10 rows\n",
            "\n"
          ]
        }
      ]
    },
    {
      "cell_type": "markdown",
      "metadata": {
        "id": "rZR7bxyYhhx9"
      },
      "source": [
        "---\n",
        "> P-012: 店舗データフレーム（df_store）から横浜市の店舗だけ全項目表示せよ。"
      ]
    },
    {
      "cell_type": "code",
      "metadata": {
        "trusted": false,
        "id": "Yvqzxpskhhx9",
        "colab": {
          "base_uri": "https://localhost:8080/"
        },
        "outputId": "cc9dc268-3bb5-4822-c2c8-44121b6e973f"
      },
      "source": [
        "df_store.filter(F.col(\"address\").rlike('.*横浜市.*')).show()"
      ],
      "execution_count": null,
      "outputs": [
        {
          "output_type": "stream",
          "name": "stdout",
          "text": [
            "+--------+----------+-------------+----------+--------------------------------------+----------------------------------------+------------+---------+--------+----------+\n",
            "|store_cd|store_name|prefecture_cd|prefecture|                               address|                            address_kana|      tel_no|longitude|latitude|floor_area|\n",
            "+--------+----------+-------------+----------+--------------------------------------+----------------------------------------+------------+---------+--------+----------+\n",
            "|  S14010|    菊名店|           14|  神奈川県|        神奈川県横浜市港北区菊名一丁目|   カナガワケンヨコハマシコウホククキ...|045-123-4032| 139.6326|35.50049|    1732.0|\n",
            "|  S14033|  阿久和店|           14|  神奈川県|    神奈川県横浜市瀬谷区阿久和西一丁目|   カナガワケンヨコハマシセヤクアクワ...|045-123-4043| 139.4961|35.45918|    1495.0|\n",
            "|  S14040|  長津田店|           14|  神奈川県|神奈川県横浜市緑区長津田みなみ台五丁目|   カナガワケンヨコハマシミドリクナガ...|045-123-4046| 139.4994|35.52398|    1548.0|\n",
            "|  S14050|阿久和西店|           14|  神奈川県|    神奈川県横浜市瀬谷区阿久和西一丁目|   カナガワケンヨコハマシセヤクアクワ...|045-123-4053| 139.4961|35.45918|    1830.0|\n",
            "|  S14028|  二ツ橋店|           14|  神奈川県|          神奈川県横浜市瀬谷区二ツ橋町|   カナガワケンヨコハマシセヤクフタツ...|045-123-4042| 139.4963|35.46304|    1574.0|\n",
            "|  S14012|本牧和田店|           14|  神奈川県|            神奈川県横浜市中区本牧和田|カナガワケンヨコハマシナカクホンモクワダ|045-123-4034| 139.6582|35.42156|    1341.0|\n",
            "|  S14046|  北山田店|           14|  神奈川県|      神奈川県横浜市都筑区北山田一丁目|   カナガワケンヨコハマシツヅキクキタ...|045-123-4049| 139.5916|35.56189|     831.0|\n",
            "|  S14011|日吉本町店|           14|  神奈川県|    神奈川県横浜市港北区日吉本町四丁目|   カナガワケンヨコハマシコウホククヒ...|045-123-4033| 139.6316|35.54655|     890.0|\n",
            "|  S14048|中川中央店|           14|  神奈川県|    神奈川県横浜市都筑区中川中央二丁目|   カナガワケンヨコハマシツヅキクナカ...|045-123-4051| 139.5758|35.54912|    1657.0|\n",
            "|  S14042|  新山下店|           14|  神奈川県|        神奈川県横浜市中区新山下二丁目|   カナガワケンヨコハマシナカクシンヤ...|045-123-4047| 139.6593|35.43894|    1044.0|\n",
            "|  S14006|  葛が谷店|           14|  神奈川県|            神奈川県横浜市都筑区葛が谷|  カナガワケンヨコハマシツヅキククズガヤ|045-123-4031| 139.5633|35.53573|    1886.0|\n",
            "+--------+----------+-------------+----------+--------------------------------------+----------------------------------------+------------+---------+--------+----------+\n",
            "\n"
          ]
        }
      ]
    },
    {
      "cell_type": "markdown",
      "metadata": {
        "id": "6J8QsPb9hhx_"
      },
      "source": [
        "---\n",
        "> P-013: 顧客データフレーム（df_customer）から、ステータスコード（status_cd）の先頭がアルファベットのA〜Fで始まるデータを全項目抽出し、10件だけ表示せよ。"
      ]
    },
    {
      "cell_type": "code",
      "metadata": {
        "trusted": false,
        "id": "ZBA2t0BThhx_",
        "colab": {
          "base_uri": "https://localhost:8080/"
        },
        "outputId": "4214276a-bf45-4df1-ffaf-c89fe5a9f3e7"
      },
      "source": [
        "df_customer.filter(F.col(\"status_cd\").rlike('^[A-F]')).show(10)"
      ],
      "execution_count": null,
      "outputs": [
        {
          "output_type": "stream",
          "name": "stdout",
          "text": [
            "+--------------+-------------+---------+------+----------+---+---------+----------------------------------+--------------------+----------------+------------+\n",
            "|   customer_id|customer_name|gender_cd|gender| birth_day|age|postal_cd|                           address|application_store_cd|application_date|   status_cd|\n",
            "+--------------+-------------+---------+------+----------+---+---------+----------------------------------+--------------------+----------------+------------+\n",
            "|CS031415000172|宇多田 貴美子|        1|  女性|1976-10-04| 42| 151-0053|      東京都渋谷区代々木**********|              S13031|        20150529|D-20100325-C|\n",
            "|CS015414000103|    奥野 陽子|        1|  女性|1977-08-09| 41| 136-0073|        東京都江東区北砂**********|              S13015|        20150722|B-20100609-B|\n",
            "|CS011215000048|    芦田 沙耶|        1|  女性|1992-02-01| 27| 223-0062|神奈川県横浜市港北区日吉本町***...|              S14011|        20150228|C-20100421-9|\n",
            "|CS029415000023|    梅田 里穂|        1|  女性|1976-01-17| 43| 279-0043|      千葉県浦安市富士見**********|              S12029|        20150610|D-20100918-E|\n",
            "|CS035415000029|    寺沢 真希|        9|  不明|1977-09-27| 41| 158-0096|    東京都世田谷区玉川台**********|              S13035|        20141220|F-20101029-F|\n",
            "|CS031415000106|  宇野 由美子|        1|  女性|1970-02-26| 49| 151-0053|      東京都渋谷区代々木**********|              S13031|        20150201|F-20100511-E|\n",
            "|CS029215000025|    石倉 美帆|        1|  女性|1993-09-28| 25| 279-0022|        千葉県浦安市今川**********|              S12029|        20150708|B-20100820-C|\n",
            "|CS033605000005|    猪股 雄太|        0|  男性|1955-12-05| 63| 246-0031|  神奈川県横浜市瀬谷区瀬谷*****...|              S14033|        20150425|F-20100917-E|\n",
            "|CS033415000229|  板垣 菜々美|        1|  女性|1977-11-07| 41| 246-0021|神奈川県横浜市瀬谷区二ツ橋町***...|              S14033|        20150712|F-20100326-E|\n",
            "|CS008415000145|    黒谷 麻緒|        1|  女性|1977-06-27| 41| 157-0067|    東京都世田谷区喜多見**********|              S13008|        20150829|F-20100622-F|\n",
            "+--------------+-------------+---------+------+----------+---+---------+----------------------------------+--------------------+----------------+------------+\n",
            "only showing top 10 rows\n",
            "\n"
          ]
        }
      ]
    },
    {
      "cell_type": "markdown",
      "metadata": {
        "id": "4rPUMBu_hhyB"
      },
      "source": [
        "---\n",
        "> P-014: 顧客データフレーム（df_customer）から、ステータスコード（status_cd）の末尾が数字の1〜9で終わるデータを全項目抽出し、10件だけ表示せよ。"
      ]
    },
    {
      "cell_type": "code",
      "metadata": {
        "trusted": false,
        "id": "0U8WSbn1hhyB",
        "colab": {
          "base_uri": "https://localhost:8080/"
        },
        "outputId": "e1af7b54-f73f-4e7a-cff1-e4d0a493300c"
      },
      "source": [
        "df_customer.filter(F.col(\"status_cd\").rlike('[1-9]$')).show(10)"
      ],
      "execution_count": null,
      "outputs": [
        {
          "output_type": "stream",
          "name": "stdout",
          "text": [
            "+--------------+-------------+---------+------+----------+---+---------+----------------------------------+--------------------+----------------+------------+\n",
            "|   customer_id|customer_name|gender_cd|gender| birth_day|age|postal_cd|                           address|application_store_cd|application_date|   status_cd|\n",
            "+--------------+-------------+---------+------+----------+---+---------+----------------------------------+--------------------+----------------+------------+\n",
            "|CS001215000145|    田崎 美紀|        1|  女性|1995-03-29| 24| 144-0055|      東京都大田区仲六郷**********|              S13001|        20170605|6-20090929-2|\n",
            "|CS033513000180|      安斎 遥|        1|  女性|1962-07-11| 56| 241-0823|  神奈川県横浜市旭区善部町*****...|              S14033|        20150728|6-20080506-5|\n",
            "|CS011215000048|    芦田 沙耶|        1|  女性|1992-02-01| 27| 223-0062|神奈川県横浜市港北区日吉本町***...|              S14011|        20150228|C-20100421-9|\n",
            "|CS040412000191|    川井 郁恵|        1|  女性|1977-01-05| 42| 226-0021| 神奈川県横浜市緑区北八朔町****...|              S14040|        20151101|1-20091025-4|\n",
            "|CS009315000023|    皆川 文世|        1|  女性|1980-04-15| 38| 154-0012|      東京都世田谷区駒沢**********|              S13009|        20150319|5-20080322-1|\n",
            "|CS015315000033|  福士 璃奈子|        1|  女性|1983-03-17| 36| 135-0043|        東京都江東区塩浜**********|              S13015|        20141024|4-20080219-3|\n",
            "|CS023513000066|    神戸 そら|        1|  女性|1961-12-17| 57| 210-0005| 神奈川県川崎市川崎区東田町****...|              S14023|        20150915|5-20100524-9|\n",
            "|CS035513000134|    市川 美帆|        1|  女性|1960-03-27| 59| 156-0053|        東京都世田谷区桜**********|              S13035|        20150227|8-20100711-9|\n",
            "|CS001515000263|    高松 夏空|        1|  女性|1962-11-09| 56| 144-0051|      東京都大田区西蒲田**********|              S13001|        20160812|1-20100804-1|\n",
            "|CS040314000027|鶴田 きみまろ|        9|  不明|1986-03-26| 33| 226-0027|  神奈川県横浜市緑区長津田*****...|              S14040|        20150122|2-20080426-4|\n",
            "+--------------+-------------+---------+------+----------+---+---------+----------------------------------+--------------------+----------------+------------+\n",
            "only showing top 10 rows\n",
            "\n"
          ]
        }
      ]
    },
    {
      "cell_type": "markdown",
      "metadata": {
        "id": "0Jx471rjhhyD"
      },
      "source": [
        "---\n",
        "> P-015: 顧客データフレーム（df_customer）から、ステータスコード（status_cd）の先頭がアルファベットのA〜Fで始まり、末尾が数字の1〜9で終わるデータを全項目抽出し、10件だけ表示せよ。"
      ]
    },
    {
      "cell_type": "code",
      "source": [
        "df_customer.filter((F.col(\"status_cd\").rlike('^[A-F].*[1-9]$'))).show(10)"
      ],
      "metadata": {
        "colab": {
          "base_uri": "https://localhost:8080/"
        },
        "id": "lMc9rl_oZXWh",
        "outputId": "6f265a2c-37d8-4297-9668-f575b9e03c8a"
      },
      "execution_count": null,
      "outputs": [
        {
          "output_type": "stream",
          "name": "stdout",
          "text": [
            "+--------------+-------------+---------+------+----------+---+---------+----------------------------------+--------------------+----------------+------------+\n",
            "|   customer_id|customer_name|gender_cd|gender| birth_day|age|postal_cd|                           address|application_store_cd|application_date|   status_cd|\n",
            "+--------------+-------------+---------+------+----------+---+---------+----------------------------------+--------------------+----------------+------------+\n",
            "|CS011215000048|    芦田 沙耶|        1|  女性|1992-02-01| 27| 223-0062|神奈川県横浜市港北区日吉本町***...|              S14011|        20150228|C-20100421-9|\n",
            "|CS022513000105|  島村 貴美子|        1|  女性|1962-03-12| 57| 249-0002|    神奈川県逗子市山の根**********|              S14022|        20150320|A-20091115-7|\n",
            "|CS001515000096|    水野 陽子|        9|  不明|1960-11-29| 58| 144-0053|    東京都大田区蒲田本町**********|              S13001|        20150614|A-20100724-7|\n",
            "|CS013615000053|    西脇 季衣|        1|  女性|1953-10-18| 65| 261-0026|  千葉県千葉市美浜区幕張西*****...|              S12013|        20150128|B-20100329-6|\n",
            "|CS020412000161|      小宮 薫|        1|  女性|1974-05-21| 44| 174-0042|      東京都板橋区東坂下**********|              S13020|        20150822|B-20081021-3|\n",
            "|CS001215000097|  竹中 あさみ|        1|  女性|1990-07-25| 28| 146-0095|      東京都大田区多摩川**********|              S13001|        20170315|A-20100211-2|\n",
            "|CS035212000007|  内村 恵梨香|        1|  女性|1990-12-04| 28| 152-0023|        東京都目黒区八雲**********|              S13035|        20151013|B-20101018-6|\n",
            "|CS002515000386|    野田 コウ|        1|  女性|1963-05-30| 55| 185-0013|   東京都国分寺市西恋ケ窪******...|              S13002|        20160410|C-20100127-8|\n",
            "|CS001615000372|  稲垣 寿々花|        1|  女性|1956-10-29| 62| 144-0035|      東京都大田区南蒲田**********|              S13001|        20170403|A-20100104-1|\n",
            "|CS032512000121|    松井 知世|        1|  女性|1962-09-04| 56| 210-0011| 神奈川県川崎市川崎区富士見****...|              S13032|        20150727|A-20100103-5|\n",
            "+--------------+-------------+---------+------+----------+---+---------+----------------------------------+--------------------+----------------+------------+\n",
            "only showing top 10 rows\n",
            "\n"
          ]
        }
      ]
    },
    {
      "cell_type": "markdown",
      "metadata": {
        "id": "48UCinEUhhyF"
      },
      "source": [
        "---\n",
        "> P-016: 店舗データフレーム（df_store）から、電話番号（tel_no）が3桁-3桁-4桁のデータを全項目表示せよ。"
      ]
    },
    {
      "cell_type": "code",
      "metadata": {
        "trusted": false,
        "id": "SrA3BoD5hhyF",
        "colab": {
          "base_uri": "https://localhost:8080/"
        },
        "outputId": "513f25f3-864e-47f3-a639-c087667b9b70"
      },
      "source": [
        "df_store.filter(F.col(\"tel_no\").rlike('[0-9]{3}-[0-9]{3}-[0-9]{4}')).show()"
      ],
      "execution_count": null,
      "outputs": [
        {
          "output_type": "stream",
          "name": "stdout",
          "text": [
            "+--------+------------+-------------+----------+--------------------------------------+----------------------------------------+------------+---------+--------+----------+\n",
            "|store_cd|  store_name|prefecture_cd|prefecture|                               address|                            address_kana|      tel_no|longitude|latitude|floor_area|\n",
            "+--------+------------+-------------+----------+--------------------------------------+----------------------------------------+------------+---------+--------+----------+\n",
            "|  S12014|    千草台店|           12|    千葉県|        千葉県千葉市稲毛区千草台一丁目|   チバケンチバシイナゲクチグサダイイ...|043-123-4003|  140.118|35.63559|    1698.0|\n",
            "|  S13002|    国分寺店|           13|    東京都|              東京都国分寺市本多二丁目|トウキョウトコクブンジシホンダニチョウメ|042-123-4008| 139.4802|35.70566|    1735.0|\n",
            "|  S14010|      菊名店|           14|  神奈川県|        神奈川県横浜市港北区菊名一丁目|   カナガワケンヨコハマシコウホククキ...|045-123-4032| 139.6326|35.50049|    1732.0|\n",
            "|  S14033|    阿久和店|           14|  神奈川県|    神奈川県横浜市瀬谷区阿久和西一丁目|   カナガワケンヨコハマシセヤクアクワ...|045-123-4043| 139.4961|35.45918|    1495.0|\n",
            "|  S14036|相模原中央店|           14|  神奈川県|            神奈川県相模原市中央二丁目|   カナガワケンサガミハラシチュウオウ...|042-123-4045| 139.3716|35.57327|    1679.0|\n",
            "|  S14040|    長津田店|           14|  神奈川県|神奈川県横浜市緑区長津田みなみ台五丁目|   カナガワケンヨコハマシミドリクナガ...|045-123-4046| 139.4994|35.52398|    1548.0|\n",
            "|  S14050|  阿久和西店|           14|  神奈川県|    神奈川県横浜市瀬谷区阿久和西一丁目|   カナガワケンヨコハマシセヤクアクワ...|045-123-4053| 139.4961|35.45918|    1830.0|\n",
            "|  S13052|      森野店|           13|    東京都|                東京都町田市森野三丁目|  トウキョウトマチダシモリノサンチョウメ|042-123-4030| 139.4383|35.55293|    1087.0|\n",
            "|  S14028|    二ツ橋店|           14|  神奈川県|          神奈川県横浜市瀬谷区二ツ橋町|   カナガワケンヨコハマシセヤクフタツ...|045-123-4042| 139.4963|35.46304|    1574.0|\n",
            "|  S14012|  本牧和田店|           14|  神奈川県|            神奈川県横浜市中区本牧和田|カナガワケンヨコハマシナカクホンモクワダ|045-123-4034| 139.6582|35.42156|    1341.0|\n",
            "|  S14046|    北山田店|           14|  神奈川県|      神奈川県横浜市都筑区北山田一丁目|   カナガワケンヨコハマシツヅキクキタ...|045-123-4049| 139.5916|35.56189|     831.0|\n",
            "|  S14022|      逗子店|           14|  神奈川県|              神奈川県逗子市逗子一丁目|      カナガワケンズシシズシイッチョウメ|046-123-4036| 139.5789|35.29642|    1838.0|\n",
            "|  S14011|  日吉本町店|           14|  神奈川県|    神奈川県横浜市港北区日吉本町四丁目|   カナガワケンヨコハマシコウホククヒ...|045-123-4033| 139.6316|35.54655|     890.0|\n",
            "|  S13016|    小金井店|           13|    東京都|              東京都小金井市本町一丁目|   トウキョウトコガネイシホンチョウイ...|042-123-4015| 139.5094|35.70018|    1399.0|\n",
            "|  S14034|  川崎野川店|           14|  神奈川県|              神奈川県川崎市宮前区野川|  カナガワケンカワサキシミヤマエクノガワ|044-123-4044| 139.5998|35.57693|    1318.0|\n",
            "|  S14048|  中川中央店|           14|  神奈川県|    神奈川県横浜市都筑区中川中央二丁目|   カナガワケンヨコハマシツヅキクナカ...|045-123-4051| 139.5758|35.54912|    1657.0|\n",
            "|  S12007|      佐倉店|           12|    千葉県|                    千葉県佐倉市上志津|                チバケンサクラシカミシヅ|043-123-4001| 140.1452|35.71872|    1895.0|\n",
            "|  S14026|辻堂西海岸店|           14|  神奈川県|        神奈川県藤沢市辻堂西海岸二丁目|   カナガワケンフジサワシツジドウニシ...|046-123-4040| 139.4466|35.32464|    1732.0|\n",
            "|  S13041|    八王子店|           13|    東京都|                    東京都八王子市大塚|        トウキョウトハチオウジシオオツカ|042-123-4026| 139.4235|35.63787|     810.0|\n",
            "|  S14049|  川崎大師店|           14|  神奈川県|        神奈川県川崎市川崎区中瀬三丁目|   カナガワケンカワサキシカワサキクナ...|044-123-4052| 139.7327|35.53759|     962.0|\n",
            "+--------+------------+-------------+----------+--------------------------------------+----------------------------------------+------------+---------+--------+----------+\n",
            "only showing top 20 rows\n",
            "\n"
          ]
        }
      ]
    },
    {
      "cell_type": "markdown",
      "metadata": {
        "id": "KnSy736bhhyH"
      },
      "source": [
        "---\n",
        "> P-17: 顧客データフレーム（df_customer）を生年月日（birth_day）で高齢順にソートし、先頭10件を全項目表示せよ。"
      ]
    },
    {
      "cell_type": "code",
      "metadata": {
        "trusted": false,
        "id": "5gjQipFAhhyH",
        "colab": {
          "base_uri": "https://localhost:8080/"
        },
        "outputId": "0b38d33d-702b-496c-f9a6-45279e615630"
      },
      "source": [
        "df_customer.orderBy(F.col(\"birth_day\")).show(10)"
      ],
      "execution_count": null,
      "outputs": [
        {
          "output_type": "stream",
          "name": "stdout",
          "text": [
            "+--------------+-------------+---------+------+----------+---+---------+--------------------------------+--------------------+----------------+------------+\n",
            "|   customer_id|customer_name|gender_cd|gender| birth_day|age|postal_cd|                         address|application_store_cd|application_date|   status_cd|\n",
            "+--------------+-------------+---------+------+----------+---+---------+--------------------------------+--------------------+----------------+------------+\n",
            "|CS003813000014|  村山 菜々美|        1|  女性|1928-11-26| 90| 182-0007|    東京都調布市菊野台**********|              S13003|        20160214|0-00000000-0|\n",
            "|CS026813000004|    吉村 朝陽|        1|  女性|1928-12-14| 90| 251-0043| 神奈川県藤沢市辻堂元町******...|              S14026|        20150723|0-00000000-0|\n",
            "|CS018811000003|    熊沢 美里|        1|  女性|1929-01-07| 90| 204-0004|      東京都清瀬市野塩**********|              S13018|        20150403|0-00000000-0|\n",
            "|CS027803000004|    内村 拓郎|        0|  男性|1929-01-12| 90| 251-0031|神奈川県藤沢市鵠沼藤が谷*****...|              S14027|        20151227|0-00000000-0|\n",
            "|CS013801000003|    天野 拓郎|        0|  男性|1929-01-15| 90| 274-0824|    千葉県船橋市前原東**********|              S12013|        20160120|0-00000000-0|\n",
            "|CS001814000022|    鶴田 里穂|        1|  女性|1929-01-28| 90| 144-0045|    東京都大田区南六郷**********|              S13001|        20161012|A-20090415-7|\n",
            "|CS016815000002|    山元 美紀|        1|  女性|1929-02-22| 90| 184-0005|    東京都小金井市桜町**********|              S13016|        20150629|C-20090923-C|\n",
            "|CS009815000003|    中田 里穂|        1|  女性|1929-04-08| 89| 154-0014|    東京都世田谷区新町**********|              S13009|        20150421|D-20091021-E|\n",
            "|CS012813000013|    宇野 南朋|        1|  女性|1929-04-09| 89| 231-0806|神奈川県横浜市中区本牧町*****...|              S14012|        20150712|0-00000000-0|\n",
            "|CS005813000015|  金谷 恵梨香|        1|  女性|1929-04-09| 89| 165-0032|      東京都中野区鷺宮**********|              S13005|        20150506|0-00000000-0|\n",
            "+--------------+-------------+---------+------+----------+---+---------+--------------------------------+--------------------+----------------+------------+\n",
            "only showing top 10 rows\n",
            "\n"
          ]
        }
      ]
    },
    {
      "cell_type": "markdown",
      "metadata": {
        "id": "BDUAeRqshhyI"
      },
      "source": [
        "---\n",
        "> P-18: 顧客データフレーム（df_customer）を生年月日（birth_day）で若い順にソートし、先頭10件を全項目表示せよ。"
      ]
    },
    {
      "cell_type": "code",
      "metadata": {
        "trusted": false,
        "id": "AkM5jZ2xhhyJ",
        "colab": {
          "base_uri": "https://localhost:8080/"
        },
        "outputId": "f9d28801-6d34-4919-c7f5-7e63f1b67408"
      },
      "source": [
        "df_customer.orderBy(F.col(\"birth_day\").desc()).show(10)"
      ],
      "execution_count": null,
      "outputs": [
        {
          "output_type": "stream",
          "name": "stdout",
          "text": [
            "+--------------+-------------+---------+------+----------+---+---------+---------------------------------+--------------------+----------------+------------+\n",
            "|   customer_id|customer_name|gender_cd|gender| birth_day|age|postal_cd|                          address|application_store_cd|application_date|   status_cd|\n",
            "+--------------+-------------+---------+------+----------+---+---------+---------------------------------+--------------------+----------------+------------+\n",
            "|CS035114000004|    大村 美里|        1|  女性|2007-11-25| 11| 156-0053|       東京都世田谷区桜**********|              S13035|        20150619|6-20091205-6|\n",
            "|CS022103000002|  福山 はじめ|        9|  不明|2007-10-02| 11| 249-0006|     神奈川県逗子市逗子**********|              S14022|        20160909|0-00000000-0|\n",
            "|CS002113000009|  柴田 真悠子|        1|  女性|2007-09-17| 11| 184-0014|  東京都小金井市貫井南町******...|              S13002|        20160304|0-00000000-0|\n",
            "|CS004115000014|    松井 京子|        1|  女性|2007-08-09| 11| 165-0031|     東京都中野区上鷺宮**********|              S13004|        20161120|1-20081231-1|\n",
            "|CS002114000010|      山内 遥|        1|  女性|2007-06-03| 11| 184-0015|  東京都小金井市貫井北町******...|              S13002|        20160920|6-20100510-1|\n",
            "|CS025115000002|    小柳 夏希|        1|  女性|2007-04-18| 11| 245-0018|神奈川県横浜市泉区上飯田町****...|              S14025|        20160116|D-20100913-D|\n",
            "|CS002113000025|  広末 まなみ|        1|  女性|2007-03-30| 12| 184-0015|  東京都小金井市貫井北町******...|              S13002|        20171030|0-00000000-0|\n",
            "|CS033112000003|    長野 美紀|        1|  女性|2007-03-22| 12| 245-0051|神奈川県横浜市戸塚区名瀬町****...|              S14033|        20150606|0-00000000-0|\n",
            "|CS007115000006|      福岡 瞬|        1|  女性|2007-03-10| 12| 285-0845|     千葉県佐倉市西志津**********|              S12007|        20151118|F-20101016-F|\n",
            "|CS014113000008|    矢口 莉緒|        1|  女性|2007-03-05| 12| 260-0041| 千葉県千葉市中央区東千葉*****...|              S12014|        20150622|3-20091108-6|\n",
            "+--------------+-------------+---------+------+----------+---+---------+---------------------------------+--------------------+----------------+------------+\n",
            "only showing top 10 rows\n",
            "\n"
          ]
        }
      ]
    },
    {
      "cell_type": "markdown",
      "metadata": {
        "id": "jIbxf5DwhhyK"
      },
      "source": [
        "---\n",
        "> P-19: レシート明細データフレーム（df_receipt）に対し、1件あたりの売上金額（amount）が高い順にランクを付与し、先頭10件を抽出せよ。項目は顧客ID（customer_id）、売上金額（amount）、付与したランクを表示させること。なお、売上金額（amount）が等しい場合は同一順位を付与するものとする。"
      ]
    },
    {
      "cell_type": "code",
      "metadata": {
        "trusted": false,
        "id": "erXRPeQXhhyL",
        "colab": {
          "base_uri": "https://localhost:8080/"
        },
        "outputId": "ae057b2e-2cfb-401d-f4fb-00ecb6c99c08"
      },
      "source": [
        "# customer_idごとにランク付けする場合\n",
        "# df_receipt.withColumn(\"rank\", F.rank().over(Window.partitionBy(\"customer_id\").orderBy(F.col(\"amount\").desc()))).show()\n",
        "df_receipt.withColumn(\"rank\", F.rank().over(Window.orderBy(F.col(\"amount\").desc())))\\\n",
        "          .select([\"customer_id\", \"amount\", \"rank\"]).show(10)"
      ],
      "execution_count": null,
      "outputs": [
        {
          "output_type": "stream",
          "name": "stdout",
          "text": [
            "+--------------+------+----+\n",
            "|   customer_id|amount|rank|\n",
            "+--------------+------+----+\n",
            "|CS011415000006| 10925|   1|\n",
            "|ZZ000000000000|  6800|   2|\n",
            "|CS028605000002|  5780|   3|\n",
            "|CS015515000034|  5480|   4|\n",
            "|ZZ000000000000|  5480|   4|\n",
            "|ZZ000000000000|  5480|   4|\n",
            "|ZZ000000000000|  5440|   7|\n",
            "|CS021515000089|  5440|   7|\n",
            "|ZZ000000000000|  5280|   9|\n",
            "|CS017414000114|  5280|   9|\n",
            "+--------------+------+----+\n",
            "only showing top 10 rows\n",
            "\n"
          ]
        }
      ]
    },
    {
      "cell_type": "markdown",
      "metadata": {
        "id": "mhp33yibhhyM"
      },
      "source": [
        "---\n",
        "> P-020: レシート明細データフレーム（df_receipt）に対し、1件あたりの売上金額（amount）が高い順にランクを付与し、先頭10件を抽出せよ。項目は顧客ID（customer_id）、売上金額（amount）、付与したランクを表示させること。なお、売上金額（amount）が等しい場合でも別順位を付与すること。"
      ]
    },
    {
      "cell_type": "code",
      "metadata": {
        "trusted": false,
        "id": "Ks8wJ4dghhyM",
        "colab": {
          "base_uri": "https://localhost:8080/"
        },
        "outputId": "db5ffd21-86e3-4e89-cb32-bd12c3a53ee7"
      },
      "source": [
        "df_receipt.withColumn(\"row_number\", F.row_number().over(Window.orderBy(F.col(\"amount\").desc())))\\\n",
        "          .select([\"customer_id\", \"amount\", \"row_number\"]).show(10)"
      ],
      "execution_count": null,
      "outputs": [
        {
          "output_type": "stream",
          "name": "stdout",
          "text": [
            "+--------------+------+----------+\n",
            "|   customer_id|amount|row_number|\n",
            "+--------------+------+----------+\n",
            "|CS011415000006| 10925|         1|\n",
            "|ZZ000000000000|  6800|         2|\n",
            "|CS028605000002|  5780|         3|\n",
            "|CS015515000034|  5480|         4|\n",
            "|ZZ000000000000|  5480|         5|\n",
            "|ZZ000000000000|  5480|         6|\n",
            "|ZZ000000000000|  5440|         7|\n",
            "|CS021515000089|  5440|         8|\n",
            "|ZZ000000000000|  5280|         9|\n",
            "|CS017414000114|  5280|        10|\n",
            "+--------------+------+----------+\n",
            "only showing top 10 rows\n",
            "\n"
          ]
        }
      ]
    },
    {
      "cell_type": "markdown",
      "metadata": {
        "id": "1lRGtDSphhyQ"
      },
      "source": [
        "---\n",
        "> P-021: レシート明細データフレーム（df_receipt）に対し、件数をカウントせよ。"
      ]
    },
    {
      "cell_type": "code",
      "metadata": {
        "trusted": false,
        "id": "m-ihL_fVhhyQ",
        "colab": {
          "base_uri": "https://localhost:8080/"
        },
        "outputId": "732711db-5ae2-4a5f-8b84-3082936299d4"
      },
      "source": [
        "df_receipt.count()"
      ],
      "execution_count": null,
      "outputs": [
        {
          "output_type": "execute_result",
          "data": {
            "text/plain": [
              "104681"
            ]
          },
          "metadata": {},
          "execution_count": 78
        }
      ]
    },
    {
      "cell_type": "markdown",
      "metadata": {
        "id": "MkjDW-oyhhyS"
      },
      "source": [
        "---\n",
        "> P-022: レシート明細データフレーム（df_receipt）の顧客ID（customer_id）に対し、ユニーク件数をカウントせよ。"
      ]
    },
    {
      "cell_type": "code",
      "metadata": {
        "trusted": false,
        "id": "0xSI9r8UhhyS",
        "colab": {
          "base_uri": "https://localhost:8080/"
        },
        "outputId": "8bbf4676-c71f-4513-cce0-e6522c82cbdc"
      },
      "source": [
        "df_receipt.select(\"customer_id\").distinct().count()"
      ],
      "execution_count": null,
      "outputs": [
        {
          "output_type": "execute_result",
          "data": {
            "text/plain": [
              "8307"
            ]
          },
          "metadata": {},
          "execution_count": 79
        }
      ]
    },
    {
      "cell_type": "markdown",
      "metadata": {
        "id": "nhAK-Wf5hhyT"
      },
      "source": [
        "---\n",
        "> P-023: レシート明細データフレーム（df_receipt）に対し、店舗コード（store_cd）ごとに売上金額（amount）と売上数量（quantity）を合計せよ。"
      ]
    },
    {
      "cell_type": "code",
      "metadata": {
        "trusted": false,
        "id": "ZAkUf4-5hhyU",
        "colab": {
          "base_uri": "https://localhost:8080/"
        },
        "outputId": "e5134287-d674-4b98-c974-02b37dfa3121"
      },
      "source": [
        "df_receipt.groupBy(\"store_cd\").sum(\"amount\", \"quantity\")\\\n",
        "          .withColumnRenamed(\"sum(amount)\", \"amount\")\\\n",
        "          .withColumnRenamed(\"sum(quantity)\", \"quantity\")\\\n",
        "          .show()"
      ],
      "execution_count": null,
      "outputs": [
        {
          "output_type": "stream",
          "name": "stdout",
          "text": [
            "+--------+------+--------+\n",
            "|store_cd|amount|quantity|\n",
            "+--------+------+--------+\n",
            "|  S14024|736323|    2417|\n",
            "|  S14045|458484|    1398|\n",
            "|  S13020|796383|    2383|\n",
            "|  S13038|708884|    2337|\n",
            "|  S14047|338329|    1041|\n",
            "|  S12014|725167|    2358|\n",
            "|  S13037|693087|    2344|\n",
            "|  S13051|107452|     354|\n",
            "|  S12013|787513|    2425|\n",
            "|  S14046|412646|    1354|\n",
            "|  S14011|805724|    2434|\n",
            "|  S13016|793773|    2432|\n",
            "|  S13035|715869|    2219|\n",
            "|  S14006|712839|    2284|\n",
            "|  S14027|714550|    2303|\n",
            "|  S13008|809288|    2491|\n",
            "|  S14025|755581|    2394|\n",
            "|  S13031|705968|    2336|\n",
            "|  S14036|203694|     635|\n",
            "|  S14040|701858|    2233|\n",
            "+--------+------+--------+\n",
            "only showing top 20 rows\n",
            "\n"
          ]
        }
      ]
    },
    {
      "cell_type": "markdown",
      "metadata": {
        "id": "F4RjuZr_hhyV"
      },
      "source": [
        "---\n",
        "> P-024: レシート明細データフレーム（df_receipt）に対し、顧客ID（customer_id）ごとに最も新しい売上日（sales_ymd）を求め、10件表示せよ。"
      ]
    },
    {
      "cell_type": "code",
      "metadata": {
        "trusted": false,
        "id": "ir6Oke73hhyV",
        "colab": {
          "base_uri": "https://localhost:8080/"
        },
        "outputId": "62e02115-555c-4311-f2ad-67c6d82b2a27"
      },
      "source": [
        "df_receipt.groupBy(\"customer_id\").max(\"sales_ymd\").show(10)"
      ],
      "execution_count": null,
      "outputs": [
        {
          "output_type": "stream",
          "name": "stdout",
          "text": [
            "+--------------+--------------+\n",
            "|   customer_id|max(sales_ymd)|\n",
            "+--------------+--------------+\n",
            "|CS024415000195|      20190907|\n",
            "|CS011515000044|      20181226|\n",
            "|CS017415000245|      20190615|\n",
            "|CS011512000113|      20190829|\n",
            "|CS025414000093|      20191016|\n",
            "|CS010605000007|      20181009|\n",
            "|CS011415000097|      20180909|\n",
            "|CS018515000090|      20190717|\n",
            "|CS015415000222|      20190928|\n",
            "|CS038605000003|      20190910|\n",
            "+--------------+--------------+\n",
            "only showing top 10 rows\n",
            "\n"
          ]
        }
      ]
    },
    {
      "cell_type": "markdown",
      "metadata": {
        "id": "QZlvMM7AhhyX"
      },
      "source": [
        "---\n",
        "> P-025: レシート明細データフレーム（df_receipt）に対し、顧客ID（customer_id）ごとに最も古い売上日（sales_ymd）を求め、10件表示せよ。"
      ]
    },
    {
      "cell_type": "code",
      "metadata": {
        "trusted": false,
        "id": "MFnLotE_hhyX",
        "colab": {
          "base_uri": "https://localhost:8080/"
        },
        "outputId": "aae94bbc-6cd8-483b-f001-22238ba5ce74"
      },
      "source": [
        "df_receipt.groupBy(\"customer_id\").min(\"sales_ymd\").show(10)"
      ],
      "execution_count": null,
      "outputs": [
        {
          "output_type": "stream",
          "name": "stdout",
          "text": [
            "+--------------+--------------+\n",
            "|   customer_id|min(sales_ymd)|\n",
            "+--------------+--------------+\n",
            "|CS024415000195|      20170119|\n",
            "|CS011515000044|      20170505|\n",
            "|CS017415000245|      20180110|\n",
            "|CS011512000113|      20181213|\n",
            "|CS025414000093|      20170806|\n",
            "|CS010605000007|      20170125|\n",
            "|CS011415000097|      20170108|\n",
            "|CS018515000090|      20170131|\n",
            "|CS015415000222|      20170313|\n",
            "|CS038605000003|      20170321|\n",
            "+--------------+--------------+\n",
            "only showing top 10 rows\n",
            "\n"
          ]
        }
      ]
    },
    {
      "cell_type": "markdown",
      "metadata": {
        "id": "QLeGVwYWhhyZ"
      },
      "source": [
        "---\n",
        "> P-026: レシート明細データフレーム（df_receipt）に対し、顧客ID（customer_id）ごとに最も新しい売上日（sales_ymd）と古い売上日を求め、両者が異なるデータを10件表示せよ。"
      ]
    },
    {
      "cell_type": "code",
      "metadata": {
        "trusted": false,
        "id": "q68lbEewhhyZ"
      },
      "source": [
        "df_receipt_min = df_receipt.groupBy(\"customer_id\")\\\n",
        "                            .agg({\"sales_ymd\":\"min\"})\n",
        "df_receipt_max = df_receipt.groupBy(\"customer_id\")\\\n",
        "                            .agg({\"sales_ymd\":\"max\"})\n",
        "df_receipt_merge = df_receipt_min.join(df_receipt_max, df_receipt_min[\"customer_id\"]==df_receipt_max[\"customer_id\"])"
      ],
      "execution_count": null,
      "outputs": []
    },
    {
      "cell_type": "code",
      "source": [
        "df_receipt_merge.filter(F.col(\"min(sales_ymd)\") != F.col(\"max(sales_ymd)\")).show()"
      ],
      "metadata": {
        "colab": {
          "base_uri": "https://localhost:8080/"
        },
        "id": "1qO0TiS6mKZB",
        "outputId": "d5c424cd-68e1-431b-c012-46912203bdac"
      },
      "execution_count": null,
      "outputs": [
        {
          "output_type": "stream",
          "name": "stdout",
          "text": [
            "+--------------+--------------+--------------+--------------+\n",
            "|   customer_id|min(sales_ymd)|   customer_id|max(sales_ymd)|\n",
            "+--------------+--------------+--------------+--------------+\n",
            "|CS024415000195|      20170119|CS024415000195|      20190907|\n",
            "|CS011515000044|      20170505|CS011515000044|      20181226|\n",
            "|CS017415000245|      20180110|CS017415000245|      20190615|\n",
            "|CS011512000113|      20181213|CS011512000113|      20190829|\n",
            "|CS025414000093|      20170806|CS025414000093|      20191016|\n",
            "|CS010605000007|      20170125|CS010605000007|      20181009|\n",
            "|CS011415000097|      20170108|CS011415000097|      20180909|\n",
            "|CS018515000090|      20170131|CS018515000090|      20190717|\n",
            "|CS015415000222|      20170313|CS015415000222|      20190928|\n",
            "|CS038605000003|      20170321|CS038605000003|      20190910|\n",
            "|CS028515000242|      20190106|CS028515000242|      20190804|\n",
            "|CS040215000044|      20170219|CS040215000044|      20190924|\n",
            "|CS049513000008|      20181220|CS049513000008|      20190927|\n",
            "|CS002411000018|      20170225|CS002411000018|      20180805|\n",
            "|CS038415000161|      20170726|CS038415000161|      20190205|\n",
            "|CS017514000012|      20170901|CS017514000012|      20190208|\n",
            "|CS030412000172|      20170218|CS030412000172|      20181018|\n",
            "|CS034515000045|      20170629|CS034515000045|      20190303|\n",
            "|CS020515000105|      20171110|CS020515000105|      20190728|\n",
            "|CS029413000181|      20170915|CS029413000181|      20171020|\n",
            "+--------------+--------------+--------------+--------------+\n",
            "only showing top 20 rows\n",
            "\n"
          ]
        }
      ]
    },
    {
      "cell_type": "markdown",
      "metadata": {
        "id": "259M7d7Ohhyb"
      },
      "source": [
        "---\n",
        "> P-027: レシート明細データフレーム（df_receipt）に対し、店舗コード（store_cd）ごとに売上金額（amount）の平均を計算し、降順でTOP5を表示せよ。"
      ]
    },
    {
      "cell_type": "code",
      "metadata": {
        "trusted": false,
        "id": "i5ehOOaBhhyb",
        "colab": {
          "base_uri": "https://localhost:8080/"
        },
        "outputId": "c0b15fbd-36b1-415f-c09d-d9b55988c1ec"
      },
      "source": [
        "df_receipt.groupBy(\"store_cd\").avg(\"amount\").orderBy(F.col(\"avg(amount)\").desc()).show(5)"
      ],
      "execution_count": null,
      "outputs": [
        {
          "output_type": "stream",
          "name": "stdout",
          "text": [
            "+--------+------------------+\n",
            "|store_cd|       avg(amount)|\n",
            "+--------+------------------+\n",
            "|  S13052|402.86746987951807|\n",
            "|  S13015|351.11196043165467|\n",
            "|  S13003| 350.9155188246097|\n",
            "|  S14010|348.79126213592235|\n",
            "|  S13001| 348.4703862660944|\n",
            "+--------+------------------+\n",
            "only showing top 5 rows\n",
            "\n"
          ]
        }
      ]
    },
    {
      "cell_type": "markdown",
      "metadata": {
        "id": "5oUtacPihhyc"
      },
      "source": [
        "---\n",
        "> P-028: レシート明細データフレーム（df_receipt）に対し、店舗コード（store_cd）ごとに売上金額（amount）の中央値を計算し、降順でTOP5を表示せよ。"
      ]
    },
    {
      "cell_type": "code",
      "source": [
        "import numpy as np\n",
        "import scipy as sp\n",
        "\n",
        "\n",
        "@F.udf(DoubleType())\n",
        "def udf_median(values_list):\n",
        "    med = np.median(values_list)\n",
        "    return float(med)\n",
        "\n",
        "@F.udf(DoubleType())\n",
        "def udf_mode(values_list):\n",
        "    mode, count = sp.stats.mode(values_list)\n",
        "    return float(count)"
      ],
      "metadata": {
        "id": "6fLpo2aRpfJd"
      },
      "execution_count": null,
      "outputs": []
    },
    {
      "cell_type": "code",
      "metadata": {
        "trusted": false,
        "id": "-s9SplCEhhyd",
        "colab": {
          "base_uri": "https://localhost:8080/"
        },
        "outputId": "ba440148-07d4-4864-c5d0-78b456ed44d4"
      },
      "source": [
        "df_receipt.groupBy(\"store_cd\").agg(udf_median(F.collect_list('amount')).alias('median_amount')).orderBy(F.col(\"median_amount\").desc()).show(5)"
      ],
      "execution_count": null,
      "outputs": [
        {
          "output_type": "stream",
          "name": "stdout",
          "text": [
            "+--------+-------------+\n",
            "|store_cd|median_amount|\n",
            "+--------+-------------+\n",
            "|  S13052|        190.0|\n",
            "|  S14010|        188.0|\n",
            "|  S14050|        185.0|\n",
            "|  S14040|        180.0|\n",
            "|  S13003|        180.0|\n",
            "+--------+-------------+\n",
            "only showing top 5 rows\n",
            "\n"
          ]
        }
      ]
    },
    {
      "cell_type": "markdown",
      "metadata": {
        "id": "4i4pM4Cmhhye"
      },
      "source": [
        "---\n",
        "> P-029: レシート明細データフレーム（df_receipt）に対し、店舗コード（store_cd）ごとに商品コード（product_cd）の最頻値を求めよ。"
      ]
    },
    {
      "cell_type": "code",
      "metadata": {
        "trusted": false,
        "id": "DsX1TXZIhhye",
        "colab": {
          "base_uri": "https://localhost:8080/"
        },
        "outputId": "d6e83391-511a-4c76-cf7a-07dfd3462e73"
      },
      "source": [
        "# df_receipt.groupby([\"store_cd\", \"product_cd\"]).count().orderBy(F.col(\"count\").desc()).show()\n",
        "df_receipt.groupBy(\"store_cd\").agg(udf_mode(F.collect_list('product_cd')).alias('mode_product_cd')).orderBy(F.col(\"mode_product_cd\").desc()).show()"
      ],
      "execution_count": null,
      "outputs": [
        {
          "output_type": "stream",
          "name": "stdout",
          "text": [
            "+--------+---------------+\n",
            "|store_cd|mode_product_cd|\n",
            "+--------+---------------+\n",
            "|  S14027|          152.0|\n",
            "|  S14012|          142.0|\n",
            "|  S14028|          140.0|\n",
            "|  S13031|          115.0|\n",
            "|  S12030|          115.0|\n",
            "|  S12013|          107.0|\n",
            "|  S14024|           96.0|\n",
            "|  S13044|           96.0|\n",
            "|  S12029|           92.0|\n",
            "|  S13037|           88.0|\n",
            "|  S13004|           88.0|\n",
            "|  S13032|           85.0|\n",
            "|  S14040|           80.0|\n",
            "|  S13020|           79.0|\n",
            "|  S13002|           78.0|\n",
            "|  S13008|           77.0|\n",
            "|  S12007|           72.0|\n",
            "|  S14046|           71.0|\n",
            "|  S14022|           71.0|\n",
            "|  S14034|           71.0|\n",
            "+--------+---------------+\n",
            "only showing top 20 rows\n",
            "\n"
          ]
        }
      ]
    },
    {
      "cell_type": "markdown",
      "metadata": {
        "id": "DKpNVF4Ahhyg"
      },
      "source": [
        "---\n",
        "> P-030: レシート明細データフレーム（df_receipt）に対し、店舗コード（store_cd）ごとに売上金額（amount）の標本分散を計算し、降順でTOP5を表示せよ。"
      ]
    },
    {
      "cell_type": "code",
      "metadata": {
        "trusted": false,
        "id": "YO_oM4BRhhyg",
        "colab": {
          "base_uri": "https://localhost:8080/"
        },
        "outputId": "eb55d2bc-9456-4697-e8ee-a0ebad84227c"
      },
      "source": [
        "# df_receipt.select(F.stddev(F.col(\"amount\")).alias(\"std\")).show()\n",
        "df_receipt.groupBy(\"store_cd\").agg(F.variance(F.col(\"amount\")).alias(\"variance\")).orderBy(F.col(\"variance\").desc()).show(5)"
      ],
      "execution_count": null,
      "outputs": [
        {
          "output_type": "stream",
          "name": "stdout",
          "text": [
            "+--------+------------------+\n",
            "|store_cd|          variance|\n",
            "+--------+------------------+\n",
            "|  S13052| 441863.2525262341|\n",
            "|  S14011|306442.24243156874|\n",
            "|  S14034| 297068.3927400612|\n",
            "|  S13001| 295558.8426177121|\n",
            "|  S13015| 295427.1970858535|\n",
            "+--------+------------------+\n",
            "only showing top 5 rows\n",
            "\n"
          ]
        }
      ]
    },
    {
      "cell_type": "markdown",
      "metadata": {
        "id": "KQUwt_Zghhyi"
      },
      "source": [
        "---\n",
        "> P-031: レシート明細データフレーム（df_receipt）に対し、店舗コード（store_cd）ごとに売上金額（amount）の標本標準偏差を計算し、降順でTOP5を表示せよ。"
      ]
    },
    {
      "cell_type": "code",
      "metadata": {
        "trusted": false,
        "id": "7UwDIKcZhhyi",
        "colab": {
          "base_uri": "https://localhost:8080/"
        },
        "outputId": "71566fa1-8559-489d-a0cd-9e49754715a6"
      },
      "source": [
        "# df_receipt.select(F.stddev(F.col(\"amount\")).alias(\"std\")).show()\n",
        "df_receipt.groupBy(\"store_cd\").agg(F.stddev(F.col(\"amount\")).alias(\"std\")).orderBy(F.col(\"std\").desc()).show(5)"
      ],
      "execution_count": null,
      "outputs": [
        {
          "output_type": "stream",
          "name": "stdout",
          "text": [
            "+--------+-----------------+\n",
            "|store_cd|              std|\n",
            "+--------+-----------------+\n",
            "|  S13052|664.7279537722436|\n",
            "|  S14011|553.5722558361905|\n",
            "|  S14034| 545.039808399406|\n",
            "|  S13001|543.6532374756101|\n",
            "|  S13015|543.5321490821435|\n",
            "+--------+-----------------+\n",
            "only showing top 5 rows\n",
            "\n"
          ]
        }
      ]
    },
    {
      "cell_type": "markdown",
      "metadata": {
        "id": "DpGB1z1Ehhyj"
      },
      "source": [
        "---\n",
        "> P-032: レシート明細データフレーム（df_receipt）の売上金額（amount）について、25％刻みでパーセンタイル値を求めよ。"
      ]
    },
    {
      "cell_type": "code",
      "metadata": {
        "trusted": false,
        "id": "JBG97d1yhhyk",
        "colab": {
          "base_uri": "https://localhost:8080/"
        },
        "outputId": "69a5a662-d1b8-4c3d-fe90-8491528a5dba"
      },
      "source": [
        "df_receipt.select(\"amount\").summary().show()"
      ],
      "execution_count": null,
      "outputs": [
        {
          "output_type": "stream",
          "name": "stdout",
          "text": [
            "+-------+------------------+\n",
            "|summary|            amount|\n",
            "+-------+------------------+\n",
            "|  count|            104681|\n",
            "|   mean| 320.5600825364679|\n",
            "| stddev|477.70274931379606|\n",
            "|    min|                10|\n",
            "|    25%|               102|\n",
            "|    50%|               170|\n",
            "|    75%|               288|\n",
            "|    max|             10925|\n",
            "+-------+------------------+\n",
            "\n"
          ]
        }
      ]
    },
    {
      "cell_type": "markdown",
      "metadata": {
        "id": "mYPLc_n4hhyl"
      },
      "source": [
        "---\n",
        "> P-033: レシート明細データフレーム（df_receipt）に対し、店舗コード（store_cd）ごとに売上金額（amount）の平均を計算し、330以上のものを抽出せよ。"
      ]
    },
    {
      "cell_type": "code",
      "metadata": {
        "trusted": false,
        "id": "mJsrgWhNhhym",
        "colab": {
          "base_uri": "https://localhost:8080/"
        },
        "outputId": "c2691456-8f9c-4d55-8ec0-8b9fabf887d7"
      },
      "source": [
        "df_receipt.groupBy(\"store_cd\").agg(F.mean(F.col(\"amount\")).alias(\"mean_amount\")).filter(F.col(\"mean_amount\")>=330).show()"
      ],
      "execution_count": null,
      "outputs": [
        {
          "output_type": "stream",
          "name": "stdout",
          "text": [
            "+--------+------------------+\n",
            "|store_cd|       mean_amount|\n",
            "+--------+------------------+\n",
            "|  S14045| 330.0820734341253|\n",
            "|  S13020|  337.879932117098|\n",
            "|  S14047| 330.0770731707317|\n",
            "|  S12013|330.19412997903567|\n",
            "|  S14011| 335.7183333333333|\n",
            "|  S14010|348.79126213592235|\n",
            "|  S13004|330.94394904458596|\n",
            "|  S13052|402.86746987951807|\n",
            "|  S13003| 350.9155188246097|\n",
            "|  S13019|330.20861587554845|\n",
            "|  S13001| 348.4703862660944|\n",
            "|  S13015|351.11196043165467|\n",
            "|  S14026|332.34058847239015|\n",
            "+--------+------------------+\n",
            "\n"
          ]
        }
      ]
    },
    {
      "cell_type": "markdown",
      "metadata": {
        "id": "Wraz5peFhhyo"
      },
      "source": [
        "---\n",
        "> P-034: レシート明細データフレーム（df_receipt）に対し、顧客ID（customer_id）ごとに売上金額（amount）を合計して全顧客の平均を求めよ。ただし、顧客IDが\"Z\"から始まるのものは非会員を表すため、除外して計算すること。\n"
      ]
    },
    {
      "cell_type": "code",
      "metadata": {
        "trusted": false,
        "id": "hYgDnVGjhhyo",
        "colab": {
          "base_uri": "https://localhost:8080/"
        },
        "outputId": "dd22fd78-05d5-4c21-a2da-a93c5415cfe1"
      },
      "source": [
        "df_receipt.filter(F.col(\"customer_id\").rlike('^(?!Z).*'))\\\n",
        "          .groupBy(\"customer_id\").agg(F.sum(F.col(\"amount\")))\\\n",
        "          .agg(F.mean(F.col(\"sum(amount)\"))).show()"
      ],
      "execution_count": null,
      "outputs": [
        {
          "output_type": "stream",
          "name": "stdout",
          "text": [
            "+-----------------+\n",
            "| avg(sum(amount))|\n",
            "+-----------------+\n",
            "|2547.742234529256|\n",
            "+-----------------+\n",
            "\n"
          ]
        }
      ]
    },
    {
      "cell_type": "markdown",
      "metadata": {
        "id": "h9E9b_yUhhyq"
      },
      "source": [
        "---\n",
        "> P-035: レシート明細データフレーム（df_receipt）に対し、顧客ID（customer_id）ごとに売上金額（amount）を合計して全顧客の平均を求め、平均以上に買い物をしている顧客を抽出せよ。ただし、顧客IDが\"Z\"から始まるのものは非会員を表すため、除外して計算すること。なお、データは10件だけ表示させれば良い。"
      ]
    },
    {
      "cell_type": "code",
      "metadata": {
        "trusted": false,
        "id": "7lYKkmsohhyq",
        "colab": {
          "base_uri": "https://localhost:8080/"
        },
        "outputId": "5dfc4827-c8bb-4e38-b124-e9d19b358747"
      },
      "source": [
        "df_amount_sum = df_receipt.filter(F.col(\"customer_id\").rlike('^(?!Z).*'))\\\n",
        "                        .groupBy(\"customer_id\").agg(F.sum(F.col(\"amount\")))\n",
        "amount_mean = df_amount_sum.agg(F.mean(F.col(\"sum(amount)\"))).first()[0]\n",
        "df_amount_sum.filter(F.col(\"sum(amount)\")>=amount_mean).show(10)"
      ],
      "execution_count": null,
      "outputs": [
        {
          "output_type": "stream",
          "name": "stdout",
          "text": [
            "+--------------+-----------+\n",
            "|   customer_id|sum(amount)|\n",
            "+--------------+-----------+\n",
            "|CS024415000195|       4638|\n",
            "|CS025414000093|       3929|\n",
            "|CS010605000007|       6420|\n",
            "|CS011415000097|       3462|\n",
            "|CS018515000090|       3756|\n",
            "|CS015415000222|      11472|\n",
            "|CS038605000003|       2833|\n",
            "|CS049513000008|       4450|\n",
            "|CS017514000012|       4699|\n",
            "|CS020515000105|       5283|\n",
            "+--------------+-----------+\n",
            "only showing top 10 rows\n",
            "\n"
          ]
        }
      ]
    },
    {
      "cell_type": "markdown",
      "metadata": {
        "id": "e4wFXsuLhhys"
      },
      "source": [
        "---\n",
        "> P-036: レシート明細データフレーム（df_receipt）と店舗データフレーム（df_store）を内部結合し、レシート明細データフレームの全項目と店舗データフレームの店舗名（store_name）を10件表示させよ。"
      ]
    },
    {
      "cell_type": "code",
      "source": [
        "df_receipt.show()"
      ],
      "metadata": {
        "colab": {
          "base_uri": "https://localhost:8080/"
        },
        "id": "I4WfH4aCMViO",
        "outputId": "e5bb00ba-dcd2-46fb-f1ba-eb80b17cc4d2"
      },
      "execution_count": null,
      "outputs": [
        {
          "output_type": "stream",
          "name": "stdout",
          "text": [
            "+---------+-----------+--------+----------+--------------+--------------+----------+--------+------+\n",
            "|sales_ymd|sales_epoch|store_cd|receipt_no|receipt_sub_no|   customer_id|product_cd|quantity|amount|\n",
            "+---------+-----------+--------+----------+--------------+--------------+----------+--------+------+\n",
            "| 20181103| 1541203200|  S14006|       112|             1|CS006214000001|P070305012|       1|   158|\n",
            "| 20181118| 1542499200|  S13008|      1132|             2|CS008415000097|P070701017|       1|    81|\n",
            "| 20170712| 1499817600|  S14028|      1102|             1|CS028414000014|P060101005|       1|   170|\n",
            "| 20190205| 1549324800|  S14042|      1132|             1|ZZ000000000000|P050301001|       1|    25|\n",
            "| 20180821| 1534809600|  S14025|      1102|             2|CS025415000050|P060102007|       1|    90|\n",
            "| 20190605| 1559692800|  S13003|      1112|             1|CS003515000195|P050102002|       1|   138|\n",
            "| 20181205| 1543968000|  S14024|      1102|             2|CS024514000042|P080101005|       1|    30|\n",
            "| 20190922| 1569110400|  S14040|      1102|             1|CS040415000178|P070501004|       1|   128|\n",
            "| 20170504| 1493856000|  S13020|      1112|             2|ZZ000000000000|P071302010|       1|   770|\n",
            "| 20191010| 1570665600|  S14027|      1102|             1|CS027514000015|P071101003|       1|   680|\n",
            "| 20190918| 1568764800|  S14025|      1182|             2|CS025415000134|P070401002|       1|   138|\n",
            "| 20171010| 1507593600|  S14021|      1162|             1|CS021515000126|P040402001|       1|   228|\n",
            "| 20180506| 1525564800|  S13039|      1112|             1|CS039414000052|P059001019|       1|   428|\n",
            "| 20190326| 1553558400|  S13016|       112|             1|CS016215000032|P091401190|       1|   780|\n",
            "| 20180329| 1522281600|  S12014|      1122|             1|ZZ000000000000|P050104001|       1|   115|\n",
            "| 20170116| 1484524800|  S13002|      1112|             1|ZZ000000000000|P080803001|       1|   100|\n",
            "| 20190621| 1561075200|  S13044|      1142|             2|ZZ000000000000|P040102001|       1|   268|\n",
            "| 20181225| 1545696000|  S13020|      1172|             2|ZZ000000000000|P071401002|       1|  1100|\n",
            "| 20190603| 1559520000|  S14026|      1182|             1|CS026515000042|P070504016|       1|   188|\n",
            "| 20190606| 1559779200|  S13044|      1122|             1|ZZ000000000000|P071102002|       1|   190|\n",
            "+---------+-----------+--------+----------+--------------+--------------+----------+--------+------+\n",
            "only showing top 20 rows\n",
            "\n"
          ]
        }
      ]
    },
    {
      "cell_type": "code",
      "source": [
        "df_store.show()"
      ],
      "metadata": {
        "colab": {
          "base_uri": "https://localhost:8080/"
        },
        "id": "4WEs6rN1MY6w",
        "outputId": "bb158e7c-ada8-46db-f173-574659b1003a"
      },
      "execution_count": null,
      "outputs": [
        {
          "output_type": "stream",
          "name": "stdout",
          "text": [
            "+--------+------------+-------------+----------+--------------------------------------+----------------------------------------+------------+---------+--------+----------+\n",
            "|store_cd|  store_name|prefecture_cd|prefecture|                               address|                            address_kana|      tel_no|longitude|latitude|floor_area|\n",
            "+--------+------------+-------------+----------+--------------------------------------+----------------------------------------+------------+---------+--------+----------+\n",
            "|  S12014|    千草台店|           12|    千葉県|        千葉県千葉市稲毛区千草台一丁目|   チバケンチバシイナゲクチグサダイイ...|043-123-4003|  140.118|35.63559|    1698.0|\n",
            "|  S13002|    国分寺店|           13|    東京都|              東京都国分寺市本多二丁目|トウキョウトコクブンジシホンダニチョウメ|042-123-4008| 139.4802|35.70566|    1735.0|\n",
            "|  S14010|      菊名店|           14|  神奈川県|        神奈川県横浜市港北区菊名一丁目|   カナガワケンヨコハマシコウホククキ...|045-123-4032| 139.6326|35.50049|    1732.0|\n",
            "|  S14033|    阿久和店|           14|  神奈川県|    神奈川県横浜市瀬谷区阿久和西一丁目|   カナガワケンヨコハマシセヤクアクワ...|045-123-4043| 139.4961|35.45918|    1495.0|\n",
            "|  S14036|相模原中央店|           14|  神奈川県|            神奈川県相模原市中央二丁目|   カナガワケンサガミハラシチュウオウ...|042-123-4045| 139.3716|35.57327|    1679.0|\n",
            "|  S13051|  板橋大原店|           13|    東京都|                    東京都板橋区大原町|    トウキョウトイタバシクオオハラチョウ|03-0123-4029|  139.698|35.76788|    1045.0|\n",
            "|  S13015|      南砂店|           13|    東京都|                東京都江東区南砂二丁目|   トウキョウトコウトウクミナミスナニ...|03-0123-4014| 139.8229|35.67066|    1337.0|\n",
            "|  S14040|    長津田店|           14|  神奈川県|神奈川県横浜市緑区長津田みなみ台五丁目|   カナガワケンヨコハマシミドリクナガ...|045-123-4046| 139.4994|35.52398|    1548.0|\n",
            "|  S13044|    南六郷店|           13|    東京都|              東京都大田区南六郷二丁目|   トウキョウトオオタクミナミロクゴウ...|03-0123-4028| 139.7207|35.54604|    1379.0|\n",
            "|  S14050|  阿久和西店|           14|  神奈川県|    神奈川県横浜市瀬谷区阿久和西一丁目|   カナガワケンヨコハマシセヤクアクワ...|045-123-4053| 139.4961|35.45918|    1830.0|\n",
            "|  S13019|    小茂根店|           13|    東京都|              東京都板橋区小茂根一丁目|トウキョウトイタバシクコモネイッチョウメ|03-0123-4018| 139.6795|35.74468|    1004.0|\n",
            "|  S13052|      森野店|           13|    東京都|                東京都町田市森野三丁目|  トウキョウトマチダシモリノサンチョウメ|042-123-4030| 139.4383|35.55293|    1087.0|\n",
            "|  S14028|    二ツ橋店|           14|  神奈川県|          神奈川県横浜市瀬谷区二ツ橋町|   カナガワケンヨコハマシセヤクフタツ...|045-123-4042| 139.4963|35.46304|    1574.0|\n",
            "|  S13031|      初台店|           13|    東京都|                東京都渋谷区初台二丁目|  トウキョウトシブヤクハツダイニチョウメ|03-0123-4020| 139.6862|35.67616|     986.0|\n",
            "|  S13038|    東葛西店|           13|    東京都|            東京都江戸川区東葛西九丁目|   トウキョウトエドガワクヒガシカサイ...|03-0123-4024| 139.8826|35.65366|    1184.0|\n",
            "|  S13001|    仲六郷店|           13|    東京都|              東京都大田区仲六郷二丁目|   トウキョウトオオタクナカロクゴウニ...|03-1234-4007| 139.7132|35.55135|    1796.0|\n",
            "|  S14012|  本牧和田店|           14|  神奈川県|            神奈川県横浜市中区本牧和田|カナガワケンヨコハマシナカクホンモクワダ|045-123-4034| 139.6582|35.42156|    1341.0|\n",
            "|  S13004|      鷺宮店|           13|    東京都|                東京都中野区鷺宮三丁目|   トウキョウトナカノクサギノミヤサン...|03-0123-4010| 139.6421|35.72348|     947.0|\n",
            "|  S14046|    北山田店|           14|  神奈川県|      神奈川県横浜市都筑区北山田一丁目|   カナガワケンヨコハマシツヅキクキタ...|045-123-4049| 139.5916|35.56189|     831.0|\n",
            "|  S14022|      逗子店|           14|  神奈川県|              神奈川県逗子市逗子一丁目|      カナガワケンズシシズシイッチョウメ|046-123-4036| 139.5789|35.29642|    1838.0|\n",
            "+--------+------------+-------------+----------+--------------------------------------+----------------------------------------+------------+---------+--------+----------+\n",
            "only showing top 20 rows\n",
            "\n"
          ]
        }
      ]
    },
    {
      "cell_type": "code",
      "metadata": {
        "trusted": false,
        "id": "n7p7o5sDhhys",
        "colab": {
          "base_uri": "https://localhost:8080/"
        },
        "outputId": "bf9aa1c3-5322-4d01-8b7d-3c30599717f2"
      },
      "source": [
        "df_receipt.join(df_store, \"store_cd\", \"inner\").select(df_receipt.columns+[\"store_name\"]).show(10)"
      ],
      "execution_count": null,
      "outputs": [
        {
          "output_type": "stream",
          "name": "stdout",
          "text": [
            "+---------+-----------+--------+----------+--------------+--------------+----------+--------+------+----------+\n",
            "|sales_ymd|sales_epoch|store_cd|receipt_no|receipt_sub_no|   customer_id|product_cd|quantity|amount|store_name|\n",
            "+---------+-----------+--------+----------+--------------+--------------+----------+--------+------+----------+\n",
            "| 20181103| 1541203200|  S14006|       112|             1|CS006214000001|P070305012|       1|   158|  葛が谷店|\n",
            "| 20181118| 1542499200|  S13008|      1132|             2|CS008415000097|P070701017|       1|    81|    成城店|\n",
            "| 20170712| 1499817600|  S14028|      1102|             1|CS028414000014|P060101005|       1|   170|  二ツ橋店|\n",
            "| 20190205| 1549324800|  S14042|      1132|             1|ZZ000000000000|P050301001|       1|    25|  新山下店|\n",
            "| 20180821| 1534809600|  S14025|      1102|             2|CS025415000050|P060102007|       1|    90|    大和店|\n",
            "| 20190605| 1559692800|  S13003|      1112|             1|CS003515000195|P050102002|       1|   138|    狛江店|\n",
            "| 20181205| 1543968000|  S14024|      1102|             2|CS024514000042|P080101005|       1|    30|    三田店|\n",
            "| 20190922| 1569110400|  S14040|      1102|             1|CS040415000178|P070501004|       1|   128|  長津田店|\n",
            "| 20170504| 1493856000|  S13020|      1112|             2|ZZ000000000000|P071302010|       1|   770|十条仲原店|\n",
            "| 20191010| 1570665600|  S14027|      1102|             1|CS027514000015|P071101003|       1|   680|  南藤沢店|\n",
            "+---------+-----------+--------+----------+--------------+--------------+----------+--------+------+----------+\n",
            "only showing top 10 rows\n",
            "\n"
          ]
        }
      ]
    },
    {
      "cell_type": "markdown",
      "metadata": {
        "id": "8TdeNEn_hhyu"
      },
      "source": [
        "---\n",
        "> P-037: 商品データフレーム（df_product）とカテゴリデータフレーム（df_category）を内部結合し、商品データフレームの全項目とカテゴリデータフレームの小区分名（category_small_name）を10件表示させよ。"
      ]
    },
    {
      "cell_type": "code",
      "source": [
        "df_product.show()"
      ],
      "metadata": {
        "colab": {
          "base_uri": "https://localhost:8080/"
        },
        "id": "mCWoNcbrOSYJ",
        "outputId": "3f1f8f26-1ca2-4927-992d-872f52e5f48a"
      },
      "execution_count": null,
      "outputs": [
        {
          "output_type": "stream",
          "name": "stdout",
          "text": [
            "+----------+-----------------+------------------+-----------------+----------+---------+\n",
            "|product_cd|category_major_cd|category_medium_cd|category_small_cd|unit_price|unit_cost|\n",
            "+----------+-----------------+------------------+-----------------+----------+---------+\n",
            "|P040101001|                4|               401|            40101|       198|      149|\n",
            "|P040101002|                4|               401|            40101|       218|      164|\n",
            "|P040101003|                4|               401|            40101|       230|      173|\n",
            "|P040101004|                4|               401|            40101|       248|      186|\n",
            "|P040101005|                4|               401|            40101|       268|      201|\n",
            "|P040101006|                4|               401|            40101|       298|      224|\n",
            "|P040101007|                4|               401|            40101|       338|      254|\n",
            "|P040101008|                4|               401|            40101|       420|      315|\n",
            "|P040101009|                4|               401|            40101|       498|      374|\n",
            "|P040101010|                4|               401|            40101|       580|      435|\n",
            "|P040102001|                4|               401|            40102|       268|      201|\n",
            "|P040102002|                4|               401|            40102|       268|      201|\n",
            "|P040102003|                4|               401|            40102|       278|      209|\n",
            "|P040102004|                4|               401|            40102|       318|      239|\n",
            "|P040102005|                4|               401|            40102|       318|      239|\n",
            "|P040102006|                4|               401|            40102|       318|      239|\n",
            "|P040102007|                4|               401|            40102|       338|      254|\n",
            "|P040102008|                4|               401|            40102|       358|      269|\n",
            "|P040102009|                4|               401|            40102|       358|      269|\n",
            "|P040102010|                4|               401|            40102|       358|      269|\n",
            "+----------+-----------------+------------------+-----------------+----------+---------+\n",
            "only showing top 20 rows\n",
            "\n"
          ]
        }
      ]
    },
    {
      "cell_type": "code",
      "source": [
        "df_category.show()"
      ],
      "metadata": {
        "colab": {
          "base_uri": "https://localhost:8080/"
        },
        "id": "tny1ZC4dOVqn",
        "outputId": "85cc0635-6ee9-43bb-cf69-171bda72cbd1"
      },
      "execution_count": null,
      "outputs": [
        {
          "output_type": "stream",
          "name": "stdout",
          "text": [
            "+-----------------+-------------------+------------------+--------------------+-----------------+-------------------+\n",
            "|category_major_cd|category_major_name|category_medium_cd|category_medium_name|category_small_cd|category_small_name|\n",
            "+-----------------+-------------------+------------------+--------------------+-----------------+-------------------+\n",
            "|                4|               惣菜|               401|              御飯類|            40101|             弁当類|\n",
            "|                4|               惣菜|               401|              御飯類|            40102|             寿司類|\n",
            "|                4|               惣菜|               402|              佃煮類|            40201|         魚介佃煮類|\n",
            "|                4|               惣菜|               402|              佃煮類|            40202|         海草佃煮類|\n",
            "|                4|               惣菜|               402|              佃煮類|            40203|         野菜佃煮類|\n",
            "|                4|               惣菜|               402|              佃煮類|            40204|           豆佃煮類|\n",
            "|                4|               惣菜|               403|            サラダ類|            40301|           サラダ類|\n",
            "|                4|               惣菜|               404|            和風惣菜|            40401|       炒め・煮物類|\n",
            "|                4|               惣菜|               404|            和風惣菜|            40402|             和え物|\n",
            "|                4|               惣菜|               404|            和風惣菜|            40403|             酢の物|\n",
            "|                4|               惣菜|               404|            和風惣菜|            40404|     その他和風惣菜|\n",
            "|                4|               惣菜|               405|            フライ物|            40501|           フライ物|\n",
            "|                4|               惣菜|               405|            フライ物|            40502|           唐揚げ類|\n",
            "|                4|               惣菜|               405|            フライ物|            40503|           天麩羅類|\n",
            "|                4|               惣菜|               405|            フライ物|            40504|   チキンロースト類|\n",
            "|                4|               惣菜|               406|            洋風惣菜|            40601|   グラタン・ピザ類|\n",
            "|                4|               惣菜|               406|            洋風惣菜|            40602|         スナック類|\n",
            "|                4|               惣菜|               406|            洋風惣菜|            40603|     その他洋風惣菜|\n",
            "|                4|               惣菜|               407|            中華惣菜|            40701|           中華惣菜|\n",
            "|                4|               惣菜|               408|              焼き物|            40801|         うなぎ蒲焼|\n",
            "+-----------------+-------------------+------------------+--------------------+-----------------+-------------------+\n",
            "only showing top 20 rows\n",
            "\n"
          ]
        }
      ]
    },
    {
      "cell_type": "code",
      "metadata": {
        "trusted": false,
        "id": "J20VBcmxhhyu",
        "colab": {
          "base_uri": "https://localhost:8080/"
        },
        "outputId": "e82e0c05-fc3d-4c0c-8fe6-e76f90d9f720"
      },
      "source": [
        "df_product.join(df_category, [\"category_major_cd\", \"category_medium_cd\", \"category_small_cd\"], \"inner\").select(df_product.columns+[\"category_small_name\"]).show(10)"
      ],
      "execution_count": null,
      "outputs": [
        {
          "output_type": "stream",
          "name": "stdout",
          "text": [
            "+----------+-----------------+------------------+-----------------+----------+---------+-------------------+\n",
            "|product_cd|category_major_cd|category_medium_cd|category_small_cd|unit_price|unit_cost|category_small_name|\n",
            "+----------+-----------------+------------------+-----------------+----------+---------+-------------------+\n",
            "|P040101001|                4|               401|            40101|       198|      149|             弁当類|\n",
            "|P040101002|                4|               401|            40101|       218|      164|             弁当類|\n",
            "|P040101003|                4|               401|            40101|       230|      173|             弁当類|\n",
            "|P040101004|                4|               401|            40101|       248|      186|             弁当類|\n",
            "|P040101005|                4|               401|            40101|       268|      201|             弁当類|\n",
            "|P040101006|                4|               401|            40101|       298|      224|             弁当類|\n",
            "|P040101007|                4|               401|            40101|       338|      254|             弁当類|\n",
            "|P040101008|                4|               401|            40101|       420|      315|             弁当類|\n",
            "|P040101009|                4|               401|            40101|       498|      374|             弁当類|\n",
            "|P040101010|                4|               401|            40101|       580|      435|             弁当類|\n",
            "+----------+-----------------+------------------+-----------------+----------+---------+-------------------+\n",
            "only showing top 10 rows\n",
            "\n"
          ]
        }
      ]
    },
    {
      "cell_type": "markdown",
      "metadata": {
        "id": "iNO7ESvWhhyw"
      },
      "source": [
        "---\n",
        "> P-038: 顧客データフレーム（df_customer）とレシート明細データフレーム（df_receipt）から、各顧客ごとの売上金額合計を求めよ。ただし、買い物の実績がない顧客については売上金額を0として表示させること。また、顧客は性別コード（gender_cd）が女性（1）であるものを対象とし、非会員（顧客IDが'Z'から始まるもの）は除外すること。なお、結果は10件だけ表示させれば良い。"
      ]
    },
    {
      "cell_type": "code",
      "metadata": {
        "trusted": false,
        "id": "hmc6LUaEhhyw",
        "colab": {
          "base_uri": "https://localhost:8080/"
        },
        "outputId": "181a80d1-4d00-4c41-9df9-bbebe50f0101"
      },
      "source": [
        "df_customer.show()"
      ],
      "execution_count": null,
      "outputs": [
        {
          "output_type": "stream",
          "name": "stdout",
          "text": [
            "+--------------+-------------+---------+------+-------------------+---+---------+------------------------------------+--------------------+----------------+------------+\n",
            "|   customer_id|customer_name|gender_cd|gender|          birth_day|age|postal_cd|                             address|application_store_cd|application_date|   status_cd|\n",
            "+--------------+-------------+---------+------+-------------------+---+---------+------------------------------------+--------------------+----------------+------------+\n",
            "|CS021313000114|  大野 あや子|        1|  女性|1981-04-29 00:00:00| 37| 259-1113|      神奈川県伊勢原市粟窪**********|              S14021|        20150905|0-00000000-0|\n",
            "|CS037613000071|    六角 雅彦|        9|  不明|1952-04-01 00:00:00| 66| 136-0076|          東京都江東区南砂**********|              S13037|        20150414|0-00000000-0|\n",
            "|CS031415000172|宇多田 貴美子|        1|  女性|1976-10-04 00:00:00| 42| 151-0053|        東京都渋谷区代々木**********|              S13031|        20150529|D-20100325-C|\n",
            "|CS028811000001|  堀井 かおり|        1|  女性|1933-03-27 00:00:00| 86| 245-0016|    神奈川県横浜市泉区和泉町*****...|              S14028|        20160115|0-00000000-0|\n",
            "|CS001215000145|    田崎 美紀|        1|  女性|1995-03-29 00:00:00| 24| 144-0055|        東京都大田区仲六郷**********|              S13001|        20170605|6-20090929-2|\n",
            "|CS020401000016|    宮下 達士|        0|  男性|1974-09-15 00:00:00| 44| 174-0065|          東京都板橋区若木**********|              S13020|        20150225|0-00000000-0|\n",
            "|CS015414000103|    奥野 陽子|        1|  女性|1977-08-09 00:00:00| 41| 136-0073|          東京都江東区北砂**********|              S13015|        20150722|B-20100609-B|\n",
            "|CS029403000008|      釈 人志|        0|  男性|1973-08-17 00:00:00| 45| 279-0003|          千葉県浦安市海楽**********|              S12029|        20150515|0-00000000-0|\n",
            "|CS015804000004|    松谷 米蔵|        0|  男性|1931-05-02 00:00:00| 87| 136-0073|          東京都江東区北砂**********|              S13015|        20150607|0-00000000-0|\n",
            "|CS033513000180|      安斎 遥|        1|  女性|1962-07-11 00:00:00| 56| 241-0823|    神奈川県横浜市旭区善部町*****...|              S14033|        20150728|6-20080506-5|\n",
            "|CS007403000016|      依田 満|        0|  男性|1975-08-18 00:00:00| 43| 276-0022|      千葉県八千代市上高野**********|              S12007|        20150914|0-00000000-0|\n",
            "|CS035614000014|  板倉 菜々美|        1|  女性|1954-07-16 00:00:00| 64| 154-0015|      東京都世田谷区桜新町**********|              S13035|        20150804|0-00000000-0|\n",
            "|CS011215000048|    芦田 沙耶|        1|  女性|1992-02-01 00:00:00| 27| 223-0062|  神奈川県横浜市港北区日吉本町***...|              S14011|        20150228|C-20100421-9|\n",
            "|CS009413000079|    市川 コウ|        1|  女性|1975-12-28 00:00:00| 43| 158-0093|      東京都世田谷区上野毛**********|              S13009|        20151209|0-00000000-0|\n",
            "|CS040412000191|    川井 郁恵|        1|  女性|1977-01-05 00:00:00| 42| 226-0021|   神奈川県横浜市緑区北八朔町****...|              S14040|        20151101|1-20091025-4|\n",
            "|CS029415000023|    梅田 里穂|        1|  女性|1976-01-17 00:00:00| 43| 279-0043|        千葉県浦安市富士見**********|              S12029|        20150610|D-20100918-E|\n",
            "|CS009315000023|    皆川 文世|        1|  女性|1980-04-15 00:00:00| 38| 154-0012|        東京都世田谷区駒沢**********|              S13009|        20150319|5-20080322-1|\n",
            "|CS040702000012|    根本 六郎|        0|  男性|1939-07-02 00:00:00| 79| 226-0018|神奈川県横浜市緑区長津田みなみ台*...|              S14040|        20150112|0-00000000-0|\n",
            "|CS046615000013|      河野 花|        1|  女性|1953-04-06 00:00:00| 65| 224-0026|  神奈川県横浜市都筑区南山田町***...|              S14046|        20181207|0-00000000-0|\n",
            "|CS025412000147|    堀口 陽子|        1|  女性|1974-10-22 00:00:00| 44| 242-0015|      神奈川県大和市下和田**********|              S14025|        20150417|0-00000000-0|\n",
            "+--------------+-------------+---------+------+-------------------+---+---------+------------------------------------+--------------------+----------------+------------+\n",
            "only showing top 20 rows\n",
            "\n"
          ]
        }
      ]
    },
    {
      "cell_type": "code",
      "source": [
        "df_receipt.show()"
      ],
      "metadata": {
        "colab": {
          "base_uri": "https://localhost:8080/"
        },
        "id": "JsvD3kb_PHm_",
        "outputId": "1eaed315-56dc-4c28-dc9d-5c7818bf319b"
      },
      "execution_count": null,
      "outputs": [
        {
          "output_type": "stream",
          "name": "stdout",
          "text": [
            "+---------+-----------+--------+----------+--------------+--------------+----------+--------+------+\n",
            "|sales_ymd|sales_epoch|store_cd|receipt_no|receipt_sub_no|   customer_id|product_cd|quantity|amount|\n",
            "+---------+-----------+--------+----------+--------------+--------------+----------+--------+------+\n",
            "| 20181103| 1541203200|  S14006|       112|             1|CS006214000001|P070305012|       1|   158|\n",
            "| 20181118| 1542499200|  S13008|      1132|             2|CS008415000097|P070701017|       1|    81|\n",
            "| 20170712| 1499817600|  S14028|      1102|             1|CS028414000014|P060101005|       1|   170|\n",
            "| 20190205| 1549324800|  S14042|      1132|             1|ZZ000000000000|P050301001|       1|    25|\n",
            "| 20180821| 1534809600|  S14025|      1102|             2|CS025415000050|P060102007|       1|    90|\n",
            "| 20190605| 1559692800|  S13003|      1112|             1|CS003515000195|P050102002|       1|   138|\n",
            "| 20181205| 1543968000|  S14024|      1102|             2|CS024514000042|P080101005|       1|    30|\n",
            "| 20190922| 1569110400|  S14040|      1102|             1|CS040415000178|P070501004|       1|   128|\n",
            "| 20170504| 1493856000|  S13020|      1112|             2|ZZ000000000000|P071302010|       1|   770|\n",
            "| 20191010| 1570665600|  S14027|      1102|             1|CS027514000015|P071101003|       1|   680|\n",
            "| 20190918| 1568764800|  S14025|      1182|             2|CS025415000134|P070401002|       1|   138|\n",
            "| 20171010| 1507593600|  S14021|      1162|             1|CS021515000126|P040402001|       1|   228|\n",
            "| 20180506| 1525564800|  S13039|      1112|             1|CS039414000052|P059001019|       1|   428|\n",
            "| 20190326| 1553558400|  S13016|       112|             1|CS016215000032|P091401190|       1|   780|\n",
            "| 20180329| 1522281600|  S12014|      1122|             1|ZZ000000000000|P050104001|       1|   115|\n",
            "| 20170116| 1484524800|  S13002|      1112|             1|ZZ000000000000|P080803001|       1|   100|\n",
            "| 20190621| 1561075200|  S13044|      1142|             2|ZZ000000000000|P040102001|       1|   268|\n",
            "| 20181225| 1545696000|  S13020|      1172|             2|ZZ000000000000|P071401002|       1|  1100|\n",
            "| 20190603| 1559520000|  S14026|      1182|             1|CS026515000042|P070504016|       1|   188|\n",
            "| 20190606| 1559779200|  S13044|      1122|             1|ZZ000000000000|P071102002|       1|   190|\n",
            "+---------+-----------+--------+----------+--------------+--------------+----------+--------+------+\n",
            "only showing top 20 rows\n",
            "\n"
          ]
        }
      ]
    },
    {
      "cell_type": "code",
      "source": [
        "df_customer.join(df_receipt, \"customer_id\", \"inner\")\\\n",
        "            .filter((F.col(\"gender_cd\")==1) & (F.col(\"customer_id\").rlike('^(?!Z).*')))\\\n",
        "            .groupBy(\"customer_id\").agg(F.sum(F.col(\"amount\"))).show()"
      ],
      "metadata": {
        "colab": {
          "base_uri": "https://localhost:8080/"
        },
        "id": "BVrfokn8PLiR",
        "outputId": "c1c74fc3-3bba-44bd-c47e-8dd807964400"
      },
      "execution_count": null,
      "outputs": [
        {
          "output_type": "stream",
          "name": "stdout",
          "text": [
            "+--------------+-----------+\n",
            "|   customer_id|sum(amount)|\n",
            "+--------------+-----------+\n",
            "|CS024415000195|       4638|\n",
            "|CS011515000044|       2533|\n",
            "|CS017415000245|       1289|\n",
            "|CS011512000113|        686|\n",
            "|CS025414000093|       3929|\n",
            "|CS011415000097|       3462|\n",
            "|CS018515000090|       3756|\n",
            "|CS015415000222|      11472|\n",
            "|CS028515000242|       1525|\n",
            "|CS040215000044|       1439|\n",
            "|CS049513000008|       4450|\n",
            "|CS002411000018|       1054|\n",
            "|CS017514000103|        348|\n",
            "|CS010413000069|        278|\n",
            "|CS038415000161|       2512|\n",
            "|CS017514000012|       4699|\n",
            "|CS030412000172|        766|\n",
            "|CS002513000664|        398|\n",
            "|CS002514000021|        413|\n",
            "|CS034515000045|       1105|\n",
            "+--------------+-----------+\n",
            "only showing top 20 rows\n",
            "\n"
          ]
        }
      ]
    },
    {
      "cell_type": "markdown",
      "metadata": {
        "id": "O8FU3doGhhyy"
      },
      "source": [
        "---\n",
        "> P-039: レシート明細データフレーム（df_receipt）から売上日数の多い顧客の上位20件と、売上金額合計の多い顧客の上位20件を抽出し、完全外部結合せよ。ただし、非会員（顧客IDが'Z'から始まるもの）は除外すること。"
      ]
    },
    {
      "cell_type": "code",
      "source": [
        "df_receipt_tmp1.show()"
      ],
      "metadata": {
        "colab": {
          "base_uri": "https://localhost:8080/"
        },
        "id": "fI0Y_lFVTBCh",
        "outputId": "0548b56d-763d-4c6c-af39-2a5860068eee"
      },
      "execution_count": null,
      "outputs": [
        {
          "output_type": "stream",
          "name": "stdout",
          "text": [
            "+--------------+\n",
            "|   customer_id|\n",
            "+--------------+\n",
            "|CS040214000008|\n",
            "|CS010214000010|\n",
            "|CS015415000185|\n",
            "|CS028415000007|\n",
            "|CS010214000002|\n",
            "|CS007515000107|\n",
            "|CS021514000045|\n",
            "|CS016415000141|\n",
            "|CS017415000097|\n",
            "|CS031414000051|\n",
            "|CS031414000073|\n",
            "|CS021515000172|\n",
            "|CS014415000077|\n",
            "|CS032415000209|\n",
            "|CS014214000023|\n",
            "|CS039414000052|\n",
            "|CS022515000226|\n",
            "|CS021515000101|\n",
            "|CS030214000008|\n",
            "|CS021514000008|\n",
            "+--------------+\n",
            "\n"
          ]
        }
      ]
    },
    {
      "cell_type": "code",
      "metadata": {
        "trusted": false,
        "id": "Av7SadgPhhyy",
        "colab": {
          "base_uri": "https://localhost:8080/"
        },
        "outputId": "b40540ff-afe6-4bcf-ceef-c43158a780ee"
      },
      "source": [
        "df_receipt_tmp1 = df_receipt.filter(F.col(\"customer_id\").rlike('^(?!Z).*'))\\\n",
        "                            .groupBy(\"customer_id\")\\\n",
        "                            .agg(F.count(F.col(\"sales_ymd\")))\\\n",
        "                            .orderBy(F.col(\"count(sales_ymd)\").desc()).select([\"customer_id\", \"count(sales_ymd)\"]).limit(20)\n",
        "df_receipt_tmp2 = df_receipt.filter(F.col(\"customer_id\").rlike('^(?!Z).*'))\\\n",
        "                            .groupBy(\"customer_id\")\\\n",
        "                            .agg(F.sum(F.col(\"amount\")))\\\n",
        "                            .orderBy(F.col(\"sum(amount)\").desc()).select([\"customer_id\", \"sum(amount)\"]).limit(20)\n",
        "df_receipt_tmp1.join(df_receipt_tmp2, \"customer_id\", \"outer\").show()"
      ],
      "execution_count": null,
      "outputs": [
        {
          "output_type": "stream",
          "name": "stdout",
          "text": [
            "+--------------+----------------+-----------+\n",
            "|   customer_id|count(sales_ymd)|sum(amount)|\n",
            "+--------------+----------------+-----------+\n",
            "|CS001605000009|            null|      18925|\n",
            "|CS006515000023|            null|      18372|\n",
            "|CS007514000094|            null|      15735|\n",
            "|CS007515000107|              40|       null|\n",
            "|CS009414000059|            null|      15492|\n",
            "|CS010214000002|              42|       null|\n",
            "|CS010214000010|              44|      18585|\n",
            "|CS011414000106|            null|      18338|\n",
            "|CS011415000006|            null|      16094|\n",
            "|CS014214000023|              38|       null|\n",
            "|CS014415000077|              38|       null|\n",
            "|CS015415000185|              44|      20153|\n",
            "|CS015515000034|            null|      15300|\n",
            "|CS016415000101|            null|      16348|\n",
            "|CS016415000141|              40|      18372|\n",
            "|CS017415000097|              40|      23086|\n",
            "|CS021514000008|              36|       null|\n",
            "|CS021514000045|              40|       null|\n",
            "|CS021515000089|            null|      17580|\n",
            "|CS021515000101|              36|       null|\n",
            "+--------------+----------------+-----------+\n",
            "only showing top 20 rows\n",
            "\n"
          ]
        }
      ]
    },
    {
      "cell_type": "markdown",
      "metadata": {
        "id": "pcu3GCH9hhyz"
      },
      "source": [
        "---\n",
        "> P-040: 全ての店舗と全ての商品を組み合わせると何件のデータとなるか調査したい。店舗（df_store）と商品（df_product）を直積した件数を計算せよ。"
      ]
    },
    {
      "cell_type": "code",
      "source": [
        "df_store.count() * df_product.count()"
      ],
      "metadata": {
        "colab": {
          "base_uri": "https://localhost:8080/"
        },
        "id": "41PvosWD73Fo",
        "outputId": "bfb29f43-a601-4e74-c47f-d24b56eeafe8"
      },
      "execution_count": 26,
      "outputs": [
        {
          "output_type": "execute_result",
          "data": {
            "text/plain": [
              "531590"
            ]
          },
          "metadata": {},
          "execution_count": 26
        }
      ]
    },
    {
      "cell_type": "markdown",
      "metadata": {
        "id": "qbPipL0Hhhy1"
      },
      "source": [
        "---\n",
        "> P-041: レシート明細データフレーム（df_receipt）の売上金額（amount）を日付（sales_ymd）ごとに集計し、前日からの売上金額増減を計算せよ。なお、計算結果は10件表示すればよい。"
      ]
    },
    {
      "cell_type": "code",
      "metadata": {
        "trusted": false,
        "id": "SvVN53Kehhy2",
        "colab": {
          "base_uri": "https://localhost:8080/"
        },
        "outputId": "d5f8a42b-788d-4e48-c4df-2acbb22e3dc6"
      },
      "source": [
        "df_sales_amount_by_date = df_receipt.select([\"sales_ymd\", \"amount\"]).groupby(\"sales_ymd\").agg(F.sum(\"amount\"))\n",
        "w = Window.orderBy(\"sales_ymd\")\n",
        "df_sales_amount_by_date = df_sales_amount_by_date.withColumn(\"lag_ymd\", F.lag(\"sales_ymd\").over(w))\\\n",
        "                                                 .withColumn(\"lag_amount\", F.lag(\"sum(amount)\").over(w))\\\n",
        "                                                 .withColumn(\"diff_amount\", F.col(\"sum(amount)\") - F.col(\"lag_amount\"))\n",
        "\n",
        "df_sales_amount_by_date.orderBy(\"sales_ymd\").show(10)"
      ],
      "execution_count": 32,
      "outputs": [
        {
          "output_type": "stream",
          "name": "stdout",
          "text": [
            "+---------+-----------+----------+--------+-----------+\n",
            "|sales_ymd|sum(amount)|lag_amount| lag_ymd|diff_amount|\n",
            "+---------+-----------+----------+--------+-----------+\n",
            "| 20170101|      33723|      null|    null|       null|\n",
            "| 20170102|      24165|     33723|20170101|      -9558|\n",
            "| 20170103|      27503|     24165|20170102|       3338|\n",
            "| 20170104|      36165|     27503|20170103|       8662|\n",
            "| 20170105|      37830|     36165|20170104|       1665|\n",
            "| 20170106|      32387|     37830|20170105|      -5443|\n",
            "| 20170107|      23415|     32387|20170106|      -8972|\n",
            "| 20170108|      24737|     23415|20170107|       1322|\n",
            "| 20170109|      26718|     24737|20170108|       1981|\n",
            "| 20170110|      20143|     26718|20170109|      -6575|\n",
            "+---------+-----------+----------+--------+-----------+\n",
            "only showing top 10 rows\n",
            "\n"
          ]
        }
      ]
    },
    {
      "cell_type": "markdown",
      "metadata": {
        "id": "PNUVk5Dmhhy3"
      },
      "source": [
        "---\n",
        "> P-042: レシート明細データフレーム（df_receipt）の売上金額（amount）を日付（sales_ymd）ごとに集計し、各日付のデータに対し、１日前、２日前、３日前のデータを結合せよ。結果は10件表示すればよい。"
      ]
    },
    {
      "cell_type": "code",
      "metadata": {
        "trusted": false,
        "id": "LE_foOoUhhy4",
        "colab": {
          "base_uri": "https://localhost:8080/"
        },
        "outputId": "465641cd-857c-4c13-fae7-b6c5cf300f6e"
      },
      "source": [
        "df_sales_amount_by_date = df_receipt.select([\"sales_ymd\", \"amount\"]).groupby(\"sales_ymd\").agg(F.sum(\"amount\"))\n",
        "w = Window.orderBy(\"sales_ymd\")\n",
        "df_sales_amount_by_date = df_sales_amount_by_date.withColumn(\"lag_ymd_d1\", F.lag(\"sales_ymd\").over(w))\\\n",
        "                                                 .withColumn(\"lag_amount_d1\", F.lag(\"sum(amount)\").over(w))\\\n",
        "                                                 .withColumn(\"lag_ymd_d2\", F.lag(\"sales_ymd\", offset=2).over(w))\\\n",
        "                                                 .withColumn(\"lag_amount_d2\", F.lag(\"sum(amount)\", offset=2).over(w))\\\n",
        "                                                 .withColumn(\"lag_ymd_d3\", F.lag(\"sales_ymd\", offset=3).over(w))\\\n",
        "                                                 .withColumn(\"lag_amount_d3\", F.lag(\"sum(amount)\", offset=3).over(w))\n",
        "                                                 \n",
        "df_sales_amount_by_date.dropna().orderBy(\"sales_ymd\").show(10)                              "
      ],
      "execution_count": 34,
      "outputs": [
        {
          "output_type": "stream",
          "name": "stdout",
          "text": [
            "+---------+-----------+-------------+----------+-------------+----------+-------------+----------+\n",
            "|sales_ymd|sum(amount)|lag_amount_d1|lag_ymd_d1|lag_amount_d2|lag_ymd_d2|lag_amount_d3|lag_ymd_d3|\n",
            "+---------+-----------+-------------+----------+-------------+----------+-------------+----------+\n",
            "| 20170104|      36165|        27503|  20170103|        24165|  20170102|        33723|  20170101|\n",
            "| 20170105|      37830|        36165|  20170104|        27503|  20170103|        24165|  20170102|\n",
            "| 20170106|      32387|        37830|  20170105|        36165|  20170104|        27503|  20170103|\n",
            "| 20170107|      23415|        32387|  20170106|        37830|  20170105|        36165|  20170104|\n",
            "| 20170108|      24737|        23415|  20170107|        32387|  20170106|        37830|  20170105|\n",
            "| 20170109|      26718|        24737|  20170108|        23415|  20170107|        32387|  20170106|\n",
            "| 20170110|      20143|        26718|  20170109|        24737|  20170108|        23415|  20170107|\n",
            "| 20170111|      24287|        20143|  20170110|        26718|  20170109|        24737|  20170108|\n",
            "| 20170112|      23526|        24287|  20170111|        20143|  20170110|        26718|  20170109|\n",
            "| 20170113|      28004|        23526|  20170112|        24287|  20170111|        20143|  20170110|\n",
            "+---------+-----------+-------------+----------+-------------+----------+-------------+----------+\n",
            "only showing top 10 rows\n",
            "\n"
          ]
        }
      ]
    },
    {
      "cell_type": "markdown",
      "metadata": {
        "id": "uEnwKvWbhhy5"
      },
      "source": [
        "---\n",
        "> P-043： レシート明細データフレーム（df_receipt）と顧客データフレーム（df_customer）を結合し、性別（gender）と年代（ageから計算）ごとに売上金額（amount）を合計した売上サマリデータフレーム（df_sales_summary）を作成せよ。性別は0が男性、1が女性、9が不明を表すものとする。\n",
        ">\n",
        "> ただし、項目構成は年代、女性の売上金額、男性の売上金額、性別不明の売上金額の4項目とすること（縦に年代、横に性別のクロス集計）。また、年代は10歳ごとの階級とすること。"
      ]
    },
    {
      "cell_type": "code",
      "metadata": {
        "trusted": false,
        "id": "a2wSKTmIhhy6"
      },
      "source": [],
      "execution_count": null,
      "outputs": []
    },
    {
      "cell_type": "markdown",
      "metadata": {
        "id": "PIC95tKMhhy8"
      },
      "source": [
        "---\n",
        "> P-044： 前設問で作成した売上サマリデータフレーム（df_sales_summary）は性別の売上を横持ちさせたものであった。このデータフレームから性別を縦持ちさせ、年代、性別コード、売上金額の3項目に変換せよ。ただし、性別コードは男性を'00'、女性を'01'、不明を'99'とする。"
      ]
    },
    {
      "cell_type": "code",
      "metadata": {
        "trusted": false,
        "id": "TMKQe8F5hhy8"
      },
      "source": [],
      "execution_count": null,
      "outputs": []
    },
    {
      "cell_type": "markdown",
      "metadata": {
        "id": "L29i1r0Nhhy9"
      },
      "source": [
        "---\n",
        "> P-045: 顧客データフレーム（df_customer）の生年月日（birth_day）は日付型（Date）でデータを保有している。これをYYYYMMDD形式の文字列に変換し、顧客ID（customer_id）とともに抽出せよ。データは10件を抽出すれば良い。"
      ]
    },
    {
      "cell_type": "code",
      "metadata": {
        "trusted": false,
        "id": "t2t7rJCWhhy9"
      },
      "source": [],
      "execution_count": null,
      "outputs": []
    },
    {
      "cell_type": "markdown",
      "metadata": {
        "id": "umDmd8kohhzA"
      },
      "source": [
        "---\n",
        "> P-046: 顧客データフレーム（df_customer）の申し込み日（application_date）はYYYYMMD形式の文字列型でデータを保有している。これを日付型（dateやdatetime）に変換し、顧客ID（customer_id）とともに抽出せよ。データは10件を抽出すれば良い。"
      ]
    },
    {
      "cell_type": "code",
      "metadata": {
        "trusted": false,
        "id": "pVAxV-TWhhzA"
      },
      "source": [],
      "execution_count": null,
      "outputs": []
    },
    {
      "cell_type": "markdown",
      "metadata": {
        "id": "lbc058iGhhzC"
      },
      "source": [
        "---\n",
        "> P-047: レシート明細データフレーム（df_receipt）の売上日（sales_ymd）はYYYYMMDD形式の数値型でデータを保有している。これを日付型（dateやdatetime）に変換し、レシート番号(receipt_no)、レシートサブ番号（receipt_sub_no）とともに抽出せよ。データは10件を抽出すれば良い。"
      ]
    },
    {
      "cell_type": "code",
      "metadata": {
        "trusted": false,
        "id": "-StgxCNyhhzC"
      },
      "source": [],
      "execution_count": null,
      "outputs": []
    },
    {
      "cell_type": "markdown",
      "metadata": {
        "id": "ohZn7QSihhzD"
      },
      "source": [
        "---\n",
        "> P-048: レシート明細データフレーム（df_receipt）の売上エポック秒（sales_epoch）は数値型のUNIX秒でデータを保有している。これを日付型（dateやdatetime）に変換し、レシート番号(receipt_no)、レシートサブ番号（receipt_sub_no）とともに抽出せよ。データは10件を抽出すれば良い。"
      ]
    },
    {
      "cell_type": "code",
      "metadata": {
        "trusted": false,
        "id": "Y-aq0twKhhzD"
      },
      "source": [],
      "execution_count": null,
      "outputs": []
    },
    {
      "cell_type": "markdown",
      "metadata": {
        "id": "GfUYeJaFhhzE"
      },
      "source": [
        "---\n",
        "> P-049: レシート明細データフレーム（df_receipt）の売上エポック秒（sales_epoch）を日付型（timestamp型）に変換し、\"年\"だけ取り出してレシート番号(receipt_no)、レシートサブ番号（receipt_sub_no）とともに抽出せよ。データは10件を抽出すれば良い。"
      ]
    },
    {
      "cell_type": "code",
      "metadata": {
        "trusted": false,
        "id": "C72RHYAThhzE"
      },
      "source": [],
      "execution_count": null,
      "outputs": []
    },
    {
      "cell_type": "markdown",
      "metadata": {
        "id": "wiogoJ-8hhzF"
      },
      "source": [
        "---\n",
        "> P-050: レシート明細データフレーム（df_receipt）の売上エポック秒（sales_epoch）を日付型（timestamp型）に変換し、\"月\"だけ取り出してレシート番号(receipt_no)、レシートサブ番号（receipt_sub_no）とともに抽出せよ。なお、\"月\"は0埋め2桁で取り出すこと。データは10件を抽出すれば良い。"
      ]
    },
    {
      "cell_type": "code",
      "metadata": {
        "trusted": false,
        "id": "Dx9OH1LNhhzG"
      },
      "source": [],
      "execution_count": null,
      "outputs": []
    },
    {
      "cell_type": "markdown",
      "metadata": {
        "id": "8JT6_Cu-hhzH"
      },
      "source": [
        "---\n",
        "> P-051: レシート明細データフレーム（df_receipt）の売上エポック秒（sales_epoch）を日付型（timestamp型）に変換し、\"日\"だけ取り出してレシート番号(receipt_no)、レシートサブ番号（receipt_sub_no）とともに抽出せよ。なお、\"日\"は0埋め2桁で取り出すこと。データは10件を抽出すれば良い。"
      ]
    },
    {
      "cell_type": "code",
      "metadata": {
        "trusted": false,
        "id": "6A7WIWLhhhzH"
      },
      "source": [],
      "execution_count": null,
      "outputs": []
    },
    {
      "cell_type": "markdown",
      "metadata": {
        "id": "OGXY-uRrhhzI"
      },
      "source": [
        "---\n",
        "> P-052: レシート明細データフレーム（df_receipt）の売上金額（amount）を顧客ID（customer_id）ごとに合計の上、売上金額合計に対して2000円以下を0、2000円超を1に2値化し、顧客ID、売上金額合計とともに10件表示せよ。ただし、顧客IDが\"Z\"から始まるのものは非会員を表すため、除外して計算すること。"
      ]
    },
    {
      "cell_type": "code",
      "metadata": {
        "trusted": false,
        "id": "rQvmUUolhhzJ"
      },
      "source": [],
      "execution_count": null,
      "outputs": []
    },
    {
      "cell_type": "markdown",
      "metadata": {
        "id": "ZtGCQePGhhzK"
      },
      "source": [
        "---\n",
        "> P-053: 顧客データフレーム（df_customer）の郵便番号（postal_cd）に対し、東京（先頭3桁が100〜209のもの）を1、それ以外のものを0に２値化せよ。さらにレシート明細データフレーム（df_receipt）と結合し、全期間において買い物実績のある顧客数を、作成した2値ごとにカウントせよ。"
      ]
    },
    {
      "cell_type": "code",
      "metadata": {
        "trusted": false,
        "id": "8NZw1hv2hhzK"
      },
      "source": [],
      "execution_count": null,
      "outputs": []
    },
    {
      "cell_type": "markdown",
      "metadata": {
        "id": "HHPGETlfhhzL"
      },
      "source": [
        "---\n",
        "> P-054: 顧客データデータフレーム（df_customer）の住所（address）は、埼玉県、千葉県、東京都、神奈川県のいずれかとなっている。都道府県毎にコード値を作成し、顧客ID、住所とともに抽出せよ。値は埼玉県を11、千葉県を12、東京都を13、神奈川県を14とすること。結果は10件表示させれば良い。"
      ]
    },
    {
      "cell_type": "code",
      "metadata": {
        "trusted": false,
        "id": "r4hjSRMohhzL"
      },
      "source": [],
      "execution_count": null,
      "outputs": []
    },
    {
      "cell_type": "markdown",
      "metadata": {
        "id": "0Gr2RKrrhhzM"
      },
      "source": [
        "---\n",
        "> P-055: レシート明細データフレーム（df_receipt）の売上金額（amount）を顧客ID（customer_id）ごとに合計し、その合計金額の四分位点を求めよ。その上で、顧客ごとの売上金額合計に対して以下の基準でカテゴリ値を作成し、顧客ID、売上金額と合計ともに表示せよ。カテゴリ値は上から順に1〜4とする。結果は10件表示させれば良い。\n",
        ">\n",
        "> - 最小値以上第一四分位未満\n",
        "> - 第一四分位以上第二四分位未満\n",
        "> - 第二四分位以上第三四分位未満\n",
        "> - 第三四分位以上"
      ]
    },
    {
      "cell_type": "code",
      "metadata": {
        "trusted": false,
        "id": "g-o-bHSzhhzM"
      },
      "source": [],
      "execution_count": null,
      "outputs": []
    },
    {
      "cell_type": "markdown",
      "metadata": {
        "id": "X3_-P1ahhhzN"
      },
      "source": [
        "---\n",
        "> P-056: 顧客データフレーム（df_customer）の年齢（age）をもとに10歳刻みで年代を算出し、顧客ID（customer_id）、生年月日（birth_day）とともに抽出せよ。ただし、60歳以上は全て60歳代とすること。年代を表すカテゴリ名は任意とする。先頭10件を表示させればよい。"
      ]
    },
    {
      "cell_type": "code",
      "metadata": {
        "trusted": false,
        "id": "p4xXkwzhhhzN"
      },
      "source": [],
      "execution_count": null,
      "outputs": []
    },
    {
      "cell_type": "markdown",
      "metadata": {
        "id": "b_I_dEsdhhzP"
      },
      "source": [
        "---\n",
        "> P-057: 前問題の抽出結果と性別（gender）を組み合わせ、新たに性別×年代の組み合わせを表すカテゴリデータを作成せよ。組み合わせを表すカテゴリの値は任意とする。先頭10件を表示させればよい。"
      ]
    },
    {
      "cell_type": "code",
      "metadata": {
        "trusted": false,
        "id": "zz-TCEbChhzP"
      },
      "source": [],
      "execution_count": null,
      "outputs": []
    },
    {
      "cell_type": "markdown",
      "metadata": {
        "id": "oJZe2WQ3hhzQ"
      },
      "source": [
        "---\n",
        "> P-058: 顧客データフレーム（df_customer）の性別コード（gender_cd）をダミー変数化し、顧客ID（customer_id）とともに抽出せよ。結果は10件表示させれば良い。"
      ]
    },
    {
      "cell_type": "code",
      "metadata": {
        "trusted": false,
        "id": "pm-akNNrhhzQ"
      },
      "source": [],
      "execution_count": null,
      "outputs": []
    },
    {
      "cell_type": "markdown",
      "metadata": {
        "id": "_rIF1D4RhhzR"
      },
      "source": [
        "---\n",
        "> P-059: レシート明細データフレーム（df_receipt）の売上金額（amount）を顧客ID（customer_id）ごとに合計し、合計した売上金額を平均0、標準偏差1に標準化して顧客ID、売上金額合計とともに表示せよ。標準化に使用する標準偏差は、不偏標準偏差と標本標準偏差のどちらでも良いものとする。ただし、顧客IDが\"Z\"から始まるのものは非会員を表すため、除外して計算すること。結果は10件表示させれば良い。"
      ]
    },
    {
      "cell_type": "code",
      "metadata": {
        "trusted": false,
        "id": "hgU77tJWhhzR"
      },
      "source": [],
      "execution_count": null,
      "outputs": []
    },
    {
      "cell_type": "markdown",
      "metadata": {
        "id": "--LbbUHGhhzT"
      },
      "source": [
        "---\n",
        "> P-060: レシート明細データフレーム（df_receipt）の売上金額（amount）を顧客ID（customer_id）ごとに合計し、合計した売上金額を最小値0、最大値1に正規化して顧客ID、売上金額合計とともに表示せよ。ただし、顧客IDが\"Z\"から始まるのものは非会員を表すため、除外して計算すること。結果は10件表示させれば良い。"
      ]
    },
    {
      "cell_type": "code",
      "metadata": {
        "trusted": false,
        "id": "RIfNz58jhhzT"
      },
      "source": [],
      "execution_count": null,
      "outputs": []
    },
    {
      "cell_type": "markdown",
      "metadata": {
        "id": "9v_q6BLjhhzU"
      },
      "source": [
        "---\n",
        "> P-061: レシート明細データフレーム（df_receipt）の売上金額（amount）を顧客ID（customer_id）ごとに合計し、合計した売上金額を常用対数化（底=10）して顧客ID、売上金額合計とともに表示せよ。ただし、顧客IDが\"Z\"から始まるのものは非会員を表すため、除外して計算すること。結果は10件表示させれば良い。"
      ]
    },
    {
      "cell_type": "code",
      "metadata": {
        "trusted": false,
        "id": "d5_2HQ-2hhzU"
      },
      "source": [],
      "execution_count": null,
      "outputs": []
    },
    {
      "cell_type": "markdown",
      "metadata": {
        "id": "uYepDUW5hhzV"
      },
      "source": [
        "---\n",
        "> P-062: レシート明細データフレーム（df_receipt）の売上金額（amount）を顧客ID（customer_id）ごとに合計し、合計した売上金額を自然対数化(底=e）して顧客ID、売上金額合計とともに表示せよ。ただし、顧客IDが\"Z\"から始まるのものは非会員を表すため、除外して計算すること。結果は10件表示させれば良い。"
      ]
    },
    {
      "cell_type": "code",
      "metadata": {
        "trusted": false,
        "id": "aqDDlXmEhhzV"
      },
      "source": [],
      "execution_count": null,
      "outputs": []
    },
    {
      "cell_type": "markdown",
      "metadata": {
        "id": "JrQz7vUxhhzW"
      },
      "source": [
        "---\n",
        "> P-063: 商品データフレーム（df_product）の単価（unit_price）と原価（unit_cost）から、各商品の利益額を算出せよ。結果は10件表示させれば良い。"
      ]
    },
    {
      "cell_type": "code",
      "metadata": {
        "trusted": false,
        "id": "AEzRXedrhhzX"
      },
      "source": [],
      "execution_count": null,
      "outputs": []
    },
    {
      "cell_type": "markdown",
      "metadata": {
        "id": "dA3_mEIghhzY"
      },
      "source": [
        "---\n",
        "> P-064: 商品データフレーム（df_product）の単価（unit_price）と原価（unit_cost）から、各商品の利益率の全体平均を算出せよ。\n",
        "ただし、単価と原価にはNULLが存在することに注意せよ。"
      ]
    },
    {
      "cell_type": "code",
      "metadata": {
        "trusted": false,
        "id": "tVmogEBBhhzY"
      },
      "source": [],
      "execution_count": null,
      "outputs": []
    },
    {
      "cell_type": "markdown",
      "metadata": {
        "id": "jQowqYLWhhzZ"
      },
      "source": [
        "---\n",
        "> P-065: 商品データフレーム（df_product）の各商品について、利益率が30%となる新たな単価を求めよ。ただし、1円未満は切り捨てること。そして結果を10件表示させ、利益率がおよそ30％付近であることを確認せよ。ただし、単価（unit_price）と原価（unit_cost）にはNULLが存在することに注意せよ。"
      ]
    },
    {
      "cell_type": "code",
      "metadata": {
        "trusted": false,
        "id": "fSPVlHxthhzZ"
      },
      "source": [],
      "execution_count": null,
      "outputs": []
    },
    {
      "cell_type": "markdown",
      "metadata": {
        "id": "Tj7mplJihhza"
      },
      "source": [
        "---\n",
        "> P-066: 商品データフレーム（df_product）の各商品について、利益率が30%となる新たな単価を求めよ。今回は、1円未満を四捨五入すること（0.5については偶数方向の丸めで良い）。そして結果を10件表示させ、利益率がおよそ30％付近であることを確認せよ。ただし、単価（unit_price）と原価（unit_cost）にはNULLが存在することに注意せよ。"
      ]
    },
    {
      "cell_type": "code",
      "metadata": {
        "trusted": false,
        "id": "gC81Fp6ehhza"
      },
      "source": [],
      "execution_count": null,
      "outputs": []
    },
    {
      "cell_type": "markdown",
      "metadata": {
        "id": "xxce_R6bhhzb"
      },
      "source": [
        "---\n",
        "> P-067: 商品データフレーム（df_product）の各商品について、利益率が30%となる新たな単価を求めよ。今回は、1円未満を切り上げること。そして結果を10件表示させ、利益率がおよそ30％付近であることを確認せよ。ただし、単価（unit_price）と原価（unit_cost）にはNULLが存在することに注意せよ。"
      ]
    },
    {
      "cell_type": "code",
      "metadata": {
        "trusted": false,
        "id": "3rMUdEF6hhzb"
      },
      "source": [],
      "execution_count": null,
      "outputs": []
    },
    {
      "cell_type": "markdown",
      "metadata": {
        "id": "CnpgvfPThhzd"
      },
      "source": [
        "---\n",
        "> P-068: 商品データフレーム（df_product）の各商品について、消費税率10%の税込み金額を求めよ。 1円未満の端数は切り捨てとし、結果は10件表示すれば良い。ただし、単価（unit_price）にはNULLが存在することに注意せよ。"
      ]
    },
    {
      "cell_type": "code",
      "metadata": {
        "trusted": false,
        "id": "pAlTEkKHhhzd"
      },
      "source": [],
      "execution_count": null,
      "outputs": []
    },
    {
      "cell_type": "markdown",
      "metadata": {
        "id": "zEABVDKXhhze"
      },
      "source": [
        "---\n",
        "> P-069: レシート明細データフレーム（df_receipt）と商品データフレーム（df_product）を結合し、顧客毎に全商品の売上金額合計と、カテゴリ大区分（category_major_cd）が\"07\"（瓶詰缶詰）の売上金額合計を計算の上、両者の比率を求めよ。抽出対象はカテゴリ大区分\"07\"（瓶詰缶詰）の購入実績がある顧客のみとし、結果は10件表示させればよい。"
      ]
    },
    {
      "cell_type": "code",
      "metadata": {
        "trusted": false,
        "id": "FL33wGUMhhze"
      },
      "source": [],
      "execution_count": null,
      "outputs": []
    },
    {
      "cell_type": "markdown",
      "metadata": {
        "id": "ZEAiLMTShhzf"
      },
      "source": [
        "---\n",
        "> P-070: レシート明細データフレーム（df_receipt）の売上日（sales_ymd）に対し、顧客データフレーム（df_customer）の会員申込日（application_date）からの経過日数を計算し、顧客ID（customer_id）、売上日、会員申込日とともに表示せよ。結果は10件表示させれば良い（なお、sales_ymdは数値、application_dateは文字列でデータを保持している点に注意）。"
      ]
    },
    {
      "cell_type": "code",
      "metadata": {
        "trusted": false,
        "id": "kvzQzXuShhzf"
      },
      "source": [],
      "execution_count": null,
      "outputs": []
    },
    {
      "cell_type": "markdown",
      "metadata": {
        "id": "HsMXQZXshhzg"
      },
      "source": [
        "---\n",
        "> P-071: レシート明細データフレーム（df_receipt）の売上日（sales_ymd）に対し、顧客データフレーム（df_customer）の会員申込日（application_date）からの経過月数を計算し、顧客ID（customer_id）、売上日、会員申込日とともに表示せよ。結果は10件表示させれば良い（なお、sales_ymdは数値、application_dateは文字列でデータを保持している点に注意）。1ヶ月未満は切り捨てること。"
      ]
    },
    {
      "cell_type": "code",
      "metadata": {
        "trusted": false,
        "id": "go_c1NKxhhzh"
      },
      "source": [],
      "execution_count": null,
      "outputs": []
    },
    {
      "cell_type": "markdown",
      "metadata": {
        "id": "uRcwkWA6hhzi"
      },
      "source": [
        "---\n",
        "> P-072: レシート明細データフレーム（df_receipt）の売上日（sales_ymd）に対し、顧客データフレーム（df_customer）の会員申込日（application_date）からの経過年数を計算し、顧客ID（customer_id）、売上日、会員申込日とともに表示せよ。結果は10件表示させれば良い。（なお、sales_ymdは数値、application_dateは文字列でデータを保持している点に注意）。1年未満は切り捨てること。"
      ]
    },
    {
      "cell_type": "code",
      "metadata": {
        "trusted": false,
        "id": "Z5-u-KYhhhzi"
      },
      "source": [],
      "execution_count": null,
      "outputs": []
    },
    {
      "cell_type": "markdown",
      "metadata": {
        "id": "-PsOPZZBhhzj"
      },
      "source": [
        "---\n",
        "> P-073: レシート明細データフレーム（df_receipt）の売上日（sales_ymd）に対し、顧客データフレーム（df_customer）の会員申込日（application_date）からのエポック秒による経過時間を計算し、顧客ID（customer_id）、売上日、会員申込日とともに表示せよ。結果は10件表示させれば良い（なお、sales_ymdは数値、application_dateは文字列でデータを保持している点に注意）。なお、時間情報は保有していないため各日付は0時0分0秒を表すものとする。"
      ]
    },
    {
      "cell_type": "code",
      "metadata": {
        "trusted": false,
        "id": "vUrvuOBfhhzj"
      },
      "source": [],
      "execution_count": null,
      "outputs": []
    },
    {
      "cell_type": "markdown",
      "metadata": {
        "id": "u_8UNALZhhzk"
      },
      "source": [
        "---\n",
        "> P-074: レシート明細データフレーム（df_receipt）の売上日（sales_ymd）に対し、当該週の月曜日からの経過日数を計算し、売上日、当該週の月曜日付とともに表示せよ。結果は10件表示させれば良い（なお、sales_ymdは数値でデータを保持している点に注意）。"
      ]
    },
    {
      "cell_type": "code",
      "metadata": {
        "trusted": false,
        "id": "mCtL5g4mhhzk"
      },
      "source": [],
      "execution_count": null,
      "outputs": []
    },
    {
      "cell_type": "markdown",
      "metadata": {
        "id": "2Jxo_7quhhzl"
      },
      "source": [
        "---\n",
        "> P-075: 顧客データフレーム（df_customer）からランダムに1%のデータを抽出し、先頭から10件データを抽出せよ。"
      ]
    },
    {
      "cell_type": "code",
      "metadata": {
        "trusted": false,
        "id": "IlLf0t38hhzl"
      },
      "source": [],
      "execution_count": null,
      "outputs": []
    },
    {
      "cell_type": "markdown",
      "metadata": {
        "id": "aln1Xt5ghhzm"
      },
      "source": [
        "---\n",
        "> P-076: 顧客データフレーム（df_customer）から性別（gender_cd）の割合に基づきランダムに10%のデータを層化抽出データし、性別ごとに件数を集計せよ。"
      ]
    },
    {
      "cell_type": "code",
      "metadata": {
        "trusted": false,
        "id": "RbrjkGllhhzm"
      },
      "source": [],
      "execution_count": null,
      "outputs": []
    },
    {
      "cell_type": "markdown",
      "metadata": {
        "id": "VPRFv68Jhhzn"
      },
      "source": [
        "---\n",
        "> P-077: レシート明細データフレーム（df_receipt）の売上金額（amount）を顧客単位に合計し、合計した売上金額の外れ値を抽出せよ。ただし、顧客IDが\"Z\"から始まるのものは非会員を表すため、除外して計算すること。なお、ここでは外れ値を平均から3σ以上離れたものとする。結果は10件表示させれば良い。"
      ]
    },
    {
      "cell_type": "code",
      "metadata": {
        "trusted": false,
        "id": "7_EgePw6hhzn"
      },
      "source": [],
      "execution_count": null,
      "outputs": []
    },
    {
      "cell_type": "markdown",
      "metadata": {
        "id": "BatcRBrehhzp"
      },
      "source": [
        "---\n",
        "> P-078: レシート明細データフレーム（df_receipt）の売上金額（amount）を顧客単位に合計し、合計した売上金額の外れ値を抽出せよ。ただし、顧客IDが\"Z\"から始まるのものは非会員を表すため、除外して計算すること。なお、ここでは外れ値を第一四分位と第三四分位の差であるIQRを用いて、「第一四分位数-1.5×IQR」よりも下回るもの、または「第三四分位数+1.5×IQR」を超えるものとする。結果は10件表示させれば良い。"
      ]
    },
    {
      "cell_type": "code",
      "metadata": {
        "trusted": false,
        "id": "4RvDfhvChhzp"
      },
      "source": [],
      "execution_count": null,
      "outputs": []
    },
    {
      "cell_type": "markdown",
      "metadata": {
        "id": "boe923CMhhzq"
      },
      "source": [
        "---\n",
        "> P-079: 商品データフレーム（df_product）の各項目に対し、欠損数を確認せよ。"
      ]
    },
    {
      "cell_type": "code",
      "metadata": {
        "trusted": false,
        "id": "bxl__vC5hhzq"
      },
      "source": [],
      "execution_count": null,
      "outputs": []
    },
    {
      "cell_type": "markdown",
      "metadata": {
        "id": "afprSqIvhhzs"
      },
      "source": [
        "---\n",
        "> P-080: 商品データフレーム（df_product）のいずれかの項目に欠損が発生しているレコードを全て削除した新たなdf_product_1を作成せよ。なお、削除前後の件数を表示させ、前設問で確認した件数だけ減少していることも確認すること。"
      ]
    },
    {
      "cell_type": "code",
      "metadata": {
        "trusted": false,
        "id": "q3_9sLdHhhzt"
      },
      "source": [],
      "execution_count": null,
      "outputs": []
    },
    {
      "cell_type": "markdown",
      "metadata": {
        "id": "GtiO20ZKhhzu"
      },
      "source": [
        "---\n",
        "> P-081: 単価（unit_price）と原価（unit_cost）の欠損値について、それぞれの平均値で補完した新たなdf_product_2を作成せよ。なお、平均値について1円未満は四捨五入とし、0.5については偶数寄せでかまわない。補完実施後、各項目について欠損が生じていないことも確認すること。"
      ]
    },
    {
      "cell_type": "code",
      "metadata": {
        "trusted": false,
        "id": "puFf-7Ewhhzu"
      },
      "source": [],
      "execution_count": null,
      "outputs": []
    },
    {
      "cell_type": "markdown",
      "metadata": {
        "id": "i7x6WAJ2hhzv"
      },
      "source": [
        "---\n",
        "> P-082: 単価（unit_price）と原価（unit_cost）の欠損値について、それぞれの中央値で補完した新たなdf_product_3を作成せよ。なお、中央値について1円未満は四捨五入とし、0.5については偶数寄せでかまわない。補完実施後、各項目について欠損が生じていないことも確認すること。"
      ]
    },
    {
      "cell_type": "code",
      "metadata": {
        "trusted": false,
        "id": "Meng_cTIhhzv"
      },
      "source": [],
      "execution_count": null,
      "outputs": []
    },
    {
      "cell_type": "markdown",
      "metadata": {
        "id": "kXCIpqm4hhzw"
      },
      "source": [
        "---\n",
        "> P-083: 単価（unit_price）と原価（unit_cost）の欠損値について、各商品の小区分（category_small_cd）ごとに算出した中央値で補完した新たなdf_product_4を作成せよ。なお、中央値について1円未満は四捨五入とし、0.5については偶数寄せでかまわない。補完実施後、各項目について欠損が生じていないことも確認すること。"
      ]
    },
    {
      "cell_type": "code",
      "metadata": {
        "trusted": false,
        "id": "Qeq1bChyhhzw"
      },
      "source": [],
      "execution_count": null,
      "outputs": []
    },
    {
      "cell_type": "markdown",
      "metadata": {
        "id": "kKqZ8U_ihhzx"
      },
      "source": [
        "---\n",
        "> P-084: 顧客データフレーム（df_customer）の全顧客に対し、全期間の売上金額に占める2019年売上金額の割合を計算せよ。ただし、販売実績のない場合は0として扱うこと。そして計算した割合が0超のものを抽出せよ。 結果は10件表示させれば良い。また、作成したデータにNAやNANが存在しないことを確認せよ。"
      ]
    },
    {
      "cell_type": "code",
      "metadata": {
        "trusted": false,
        "id": "Rtq3Y8Gxhhzx"
      },
      "source": [],
      "execution_count": null,
      "outputs": []
    },
    {
      "cell_type": "markdown",
      "metadata": {
        "id": "UEPE0K-rhhzy"
      },
      "source": [
        "---\n",
        "> P-085: 顧客データフレーム（df_customer）の全顧客に対し、郵便番号（postal_cd）を用いて経度緯度変換用データフレーム（df_geocode）を紐付け、新たなdf_customer_1を作成せよ。ただし、複数紐づく場合は経度（longitude）、緯度（latitude）それぞれ平均を算出すること。\n"
      ]
    },
    {
      "cell_type": "code",
      "metadata": {
        "trusted": false,
        "id": "P_paWqODhhzy"
      },
      "source": [],
      "execution_count": null,
      "outputs": []
    },
    {
      "cell_type": "markdown",
      "metadata": {
        "id": "dJ8IvUgNhhzz"
      },
      "source": [
        "---\n",
        "> P-086: 前設問で作成した緯度経度つき顧客データフレーム（df_customer_1）に対し、申込み店舗コード（application_store_cd）をキーに店舗データフレーム（df_store）と結合せよ。そして申込み店舗の緯度（latitude）・経度情報（longitude)と顧客の緯度・経度を用いて距離（km）を求め、顧客ID（customer_id）、顧客住所（address）、店舗住所（address）とともに表示せよ。計算式は簡易式で良いものとするが、その他精度の高い方式を利用したライブラリを利用してもかまわない。結果は10件表示すれば良い。"
      ]
    },
    {
      "cell_type": "markdown",
      "metadata": {
        "id": "kFydo3tChhzz"
      },
      "source": [
        "$$\n",
        "緯度（ラジアン）：\\phi \\\\\n",
        "経度（ラジアン）：\\lambda \\\\\n",
        "距離L = 6371 * arccos(sin \\phi_1 * sin \\phi_2\n",
        "+ cos \\phi_1 * cos \\phi_2 * cos(\\lambda_1 − \\lambda_2))\n",
        "$$"
      ]
    },
    {
      "cell_type": "code",
      "metadata": {
        "trusted": false,
        "id": "YOhgdXTphhz0"
      },
      "source": [],
      "execution_count": null,
      "outputs": []
    },
    {
      "cell_type": "markdown",
      "metadata": {
        "id": "-7BBzLWphhz0"
      },
      "source": [
        "---\n",
        "> P-087:  顧客データフレーム（df_customer）では、異なる店舗での申込みなどにより同一顧客が複数登録されている。名前（customer_name）と郵便番号（postal_cd）が同じ顧客は同一顧客とみなし、1顧客1レコードとなるように名寄せした名寄顧客データフレーム（df_customer_u）を作成せよ。ただし、同一顧客に対しては売上金額合計が最も高いものを残すものとし、売上金額合計が同一もしくは売上実績の無い顧客については顧客ID（customer_id）の番号が小さいものを残すこととする。"
      ]
    },
    {
      "cell_type": "code",
      "metadata": {
        "trusted": false,
        "id": "hJhzgvxuhhz0"
      },
      "source": [],
      "execution_count": null,
      "outputs": []
    },
    {
      "cell_type": "markdown",
      "metadata": {
        "id": "U4ojNt4shhz1"
      },
      "source": [
        "---\n",
        "> P-088: 前設問で作成したデータを元に、顧客データフレームに統合名寄IDを付与したデータフレーム（df_customer_n）を作成せよ。ただし、統合名寄IDは以下の仕様で付与するものとする。\n",
        ">\n",
        "> - 重複していない顧客：顧客ID（customer_id）を設定\n",
        "> - 重複している顧客：前設問で抽出したレコードの顧客IDを設定"
      ]
    },
    {
      "cell_type": "code",
      "metadata": {
        "trusted": false,
        "id": "G8xkmVEnhhz2"
      },
      "source": [],
      "execution_count": null,
      "outputs": []
    },
    {
      "cell_type": "markdown",
      "metadata": {
        "id": "ijOu7Ekfhhz3"
      },
      "source": [
        "---\n",
        "> P-閑話: df_customer_1, df_customer_nは使わないので削除する。"
      ]
    },
    {
      "cell_type": "code",
      "metadata": {
        "trusted": false,
        "id": "0rMxTZIGhhz3"
      },
      "source": [],
      "execution_count": null,
      "outputs": []
    },
    {
      "cell_type": "markdown",
      "metadata": {
        "id": "jGzIjQvfhhz4"
      },
      "source": [
        "---\n",
        "> P-089: 売上実績のある顧客に対し、予測モデル構築のため学習用データとテスト用データに分割したい。それぞれ8:2の割合でランダムにデータを分割せよ。"
      ]
    },
    {
      "cell_type": "code",
      "metadata": {
        "trusted": false,
        "id": "tQfblHJFhhz4"
      },
      "source": [],
      "execution_count": null,
      "outputs": []
    },
    {
      "cell_type": "markdown",
      "metadata": {
        "id": "lnuxS-40hhz5"
      },
      "source": [
        "---\n",
        "> P-090: レシート明細データフレーム（df_receipt）は2017年1月1日〜2019年10月31日までのデータを有している。売上金額（amount）を月次で集計し、学習用に12ヶ月、テスト用に6ヶ月のモデル構築用データを3セット作成せよ。"
      ]
    },
    {
      "cell_type": "code",
      "metadata": {
        "trusted": false,
        "id": "54N1nBI3hhz5"
      },
      "source": [],
      "execution_count": null,
      "outputs": []
    },
    {
      "cell_type": "markdown",
      "metadata": {
        "id": "NIl5LRhbhhz6"
      },
      "source": [
        "---\n",
        "> P-091: 顧客データフレーム（df_customer）の各顧客に対し、売上実績のある顧客数と売上実績のない顧客数が1:1となるようにアンダーサンプリングで抽出せよ。"
      ]
    },
    {
      "cell_type": "code",
      "metadata": {
        "trusted": false,
        "id": "Snlnbkm-hhz6"
      },
      "source": [],
      "execution_count": null,
      "outputs": []
    },
    {
      "cell_type": "markdown",
      "metadata": {
        "id": "LAzWjKmHhhz9"
      },
      "source": [
        "---\n",
        "> P-092: 顧客データフレーム（df_customer）では、性別に関する情報が非正規化の状態で保持されている。これを第三正規化せよ。"
      ]
    },
    {
      "cell_type": "code",
      "metadata": {
        "trusted": false,
        "id": "BUEhEPR8hhz9"
      },
      "source": [],
      "execution_count": null,
      "outputs": []
    },
    {
      "cell_type": "markdown",
      "metadata": {
        "id": "u8OEQQikhhz-"
      },
      "source": [
        "---\n",
        "> P-093: 商品データフレーム（df_product）では各カテゴリのコード値だけを保有し、カテゴリ名は保有していない。カテゴリデータフレーム（df_category）と組み合わせて非正規化し、カテゴリ名を保有した新たな商品データフレームを作成せよ。"
      ]
    },
    {
      "cell_type": "code",
      "metadata": {
        "trusted": false,
        "id": "mbOy7QIQhhz-"
      },
      "source": [],
      "execution_count": null,
      "outputs": []
    },
    {
      "cell_type": "markdown",
      "metadata": {
        "id": "WBQfMWaThhz_"
      },
      "source": [
        "---\n",
        "> P-094: 先に作成したカテゴリ名付き商品データを以下の仕様でファイル出力せよ。なお、出力先のパスはdata配下とする。\n",
        ">\n",
        "> - ファイル形式はCSV（カンマ区切り）\n",
        "> - ヘッダ有り\n",
        "> - 文字コードはUTF-8"
      ]
    },
    {
      "cell_type": "code",
      "metadata": {
        "trusted": false,
        "id": "NdSruP0nhhz_"
      },
      "source": [],
      "execution_count": null,
      "outputs": []
    },
    {
      "cell_type": "markdown",
      "metadata": {
        "id": "OwHfilB2hh0B"
      },
      "source": [
        "---\n",
        "> P-095: 先に作成したカテゴリ名付き商品データを以下の仕様でファイル出力せよ。なお、出力先のパスはdata配下とする。\n",
        ">\n",
        "> - ファイル形式はCSV（カンマ区切り）\n",
        "> - ヘッダ有り\n",
        "> - 文字コードはCP932"
      ]
    },
    {
      "cell_type": "code",
      "metadata": {
        "trusted": false,
        "id": "R_A_MhTYhh0C"
      },
      "source": [],
      "execution_count": null,
      "outputs": []
    },
    {
      "cell_type": "markdown",
      "metadata": {
        "id": "ijN5gi_Nhh0C"
      },
      "source": [
        "---\n",
        "> P-096: 先に作成したカテゴリ名付き商品データを以下の仕様でファイル出力せよ。なお、出力先のパスはdata配下とする。\n",
        ">\n",
        "> - ファイル形式はCSV（カンマ区切り）\n",
        "> - ヘッダ無し\n",
        "> - 文字コードはUTF-8"
      ]
    },
    {
      "cell_type": "code",
      "metadata": {
        "trusted": false,
        "id": "HRMFIbjNhh0C"
      },
      "source": [],
      "execution_count": null,
      "outputs": []
    },
    {
      "cell_type": "markdown",
      "metadata": {
        "id": "EGEj2Gfohh0D"
      },
      "source": [
        "---\n",
        "> P-097: 先に作成した以下形式のファイルを読み込み、データフレームを作成せよ。また、先頭10件を表示させ、正しくとりまれていることを確認せよ。\n",
        ">\n",
        "> - ファイル形式はCSV（カンマ区切り）\n",
        "> - ヘッダ有り\n",
        "> - 文字コードはUTF-8"
      ]
    },
    {
      "cell_type": "code",
      "metadata": {
        "trusted": false,
        "id": "elyUH6_2hh0D"
      },
      "source": [],
      "execution_count": null,
      "outputs": []
    },
    {
      "cell_type": "markdown",
      "metadata": {
        "id": "v51_UZ-Ahh0E"
      },
      "source": [
        "---\n",
        "> P-098: 先に作成した以下形式のファイルを読み込み、データフレームを作成せよ。また、先頭10件を表示させ、正しくとりまれていることを確認せよ。\n",
        ">\n",
        "> - ファイル形式はCSV（カンマ区切り）\n",
        "> - ヘッダ無し\n",
        "> - 文字コードはUTF-8"
      ]
    },
    {
      "cell_type": "code",
      "metadata": {
        "trusted": false,
        "id": "4YBgcGjuhh0E"
      },
      "source": [],
      "execution_count": null,
      "outputs": []
    },
    {
      "cell_type": "markdown",
      "metadata": {
        "id": "PgrSkEmuhh0F"
      },
      "source": [
        "---\n",
        "> P-099: 先に作成したカテゴリ名付き商品データを以下の仕様でファイル出力せよ。なお、出力先のパスはdata配下とする。\n",
        ">\n",
        "> - ファイル形式はTSV（タブ区切り）\n",
        "> - ヘッダ有り\n",
        "> - 文字コードはUTF-8"
      ]
    },
    {
      "cell_type": "code",
      "metadata": {
        "trusted": false,
        "id": "WrdmX0mihh0F"
      },
      "source": [],
      "execution_count": null,
      "outputs": []
    },
    {
      "cell_type": "markdown",
      "metadata": {
        "id": "fRhhcyMuhh0G"
      },
      "source": [
        "---\n",
        "> P-100: 先に作成した以下形式のファイルを読み込み、データフレームを作成せよ。また、先頭10件を表示させ、正しくとりまれていることを確認せよ。\n",
        ">\n",
        "> - ファイル形式はTSV（タブ区切り）\n",
        "> - ヘッダ有り\n",
        "> - 文字コードはUTF-8"
      ]
    },
    {
      "cell_type": "code",
      "metadata": {
        "trusted": false,
        "id": "PrE1Dn_7hh0G"
      },
      "source": [],
      "execution_count": null,
      "outputs": []
    },
    {
      "cell_type": "markdown",
      "metadata": {
        "id": "WGSLC2Szhh0H"
      },
      "source": [
        "# これで１００本終わりです。おつかれさまでした！"
      ]
    }
  ]
}