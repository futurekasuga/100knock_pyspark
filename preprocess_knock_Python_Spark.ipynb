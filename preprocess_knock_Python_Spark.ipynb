{
  "nbformat": 4,
  "nbformat_minor": 0,
  "metadata": {
    "kernelspec": {
      "name": "python3",
      "display_name": "Python 3"
    },
    "language_info": {
      "name": "python"
    },
    "colab": {
      "provenance": [],
      "collapsed_sections": [
        "WGSLC2Szhh0H"
      ],
      "include_colab_link": true
    }
  },
  "cells": [
    {
      "cell_type": "markdown",
      "metadata": {
        "id": "view-in-github",
        "colab_type": "text"
      },
      "source": [
        "<a href=\"https://colab.research.google.com/github/t-hashiguchi1995/100knock_pyspark/blob/main/preprocess_knock_Python_Spark.ipynb\" target=\"_parent\"><img src=\"https://colab.research.google.com/assets/colab-badge.svg\" alt=\"Open In Colab\"/></a>"
      ]
    },
    {
      "cell_type": "markdown",
      "metadata": {
        "id": "2-YYpD4Nhhxd"
      },
      "source": [
        "# データサイエンス100本ノック（構造化データ加工編） - Python\n",
        "# for Google Colab"
      ]
    },
    {
      "cell_type": "markdown",
      "source": [
        "# 処理対象のデータをgitで取得"
      ],
      "metadata": {
        "id": "RTiZVTcz0b9u"
      }
    },
    {
      "cell_type": "code",
      "source": [
        "!git clone https://github.com/The-Japan-DataScientist-Society/100knocks-preprocess"
      ],
      "metadata": {
        "id": "UBM550fN5lIJ",
        "outputId": "5eaa456a-fda8-4937-ca55-041e6d92d2c8",
        "colab": {
          "base_uri": "https://localhost:8080/"
        }
      },
      "execution_count": 1,
      "outputs": [
        {
          "output_type": "stream",
          "name": "stdout",
          "text": [
            "Cloning into '100knocks-preprocess'...\n",
            "remote: Enumerating objects: 1448, done.\u001b[K\n",
            "remote: Total 1448 (delta 0), reused 0 (delta 0), pack-reused 1448\u001b[K\n",
            "Receiving objects: 100% (1448/1448), 20.75 MiB | 19.53 MiB/s, done.\n",
            "Resolving deltas: 100% (785/785), done.\n"
          ]
        }
      ]
    },
    {
      "cell_type": "code",
      "source": [
        "cd /content/100knocks-preprocess/docker/work/data"
      ],
      "metadata": {
        "id": "FX-nyBU25pVa",
        "outputId": "0323139b-3c59-4867-8552-ea9b8a700475",
        "colab": {
          "base_uri": "https://localhost:8080/"
        }
      },
      "execution_count": 2,
      "outputs": [
        {
          "output_type": "stream",
          "name": "stdout",
          "text": [
            "/content/100knocks-preprocess/docker/work/data\n"
          ]
        }
      ]
    },
    {
      "cell_type": "markdown",
      "source": [
        "# Sparkの準備\n",
        "## Spark参考ドキュメント\n",
        "- https://spark.apache.org/docs/3.2.0/api/python/reference/index.html"
      ],
      "metadata": {
        "id": "TiOpVXWnF_X_"
      }
    },
    {
      "cell_type": "code",
      "source": [
        "!pip install --upgrade pip\n",
        "!pip install pyspark\n",
        "!pip install -U pandas numpy scikit-learn imbalanced-learn"
      ],
      "metadata": {
        "id": "bZFRSrIUNLDK",
        "colab": {
          "base_uri": "https://localhost:8080/"
        },
        "outputId": "7cabd608-d154-42ca-f0ff-2018cada2fe4"
      },
      "execution_count": 3,
      "outputs": [
        {
          "output_type": "stream",
          "name": "stdout",
          "text": [
            "Looking in indexes: https://pypi.org/simple, https://us-python.pkg.dev/colab-wheels/public/simple/\n",
            "Requirement already satisfied: pip in /usr/local/lib/python3.7/dist-packages (21.1.3)\n",
            "Collecting pip\n",
            "  Downloading pip-22.3-py3-none-any.whl (2.1 MB)\n",
            "\u001b[K     |████████████████████████████████| 2.1 MB 7.7 MB/s \n",
            "\u001b[?25hInstalling collected packages: pip\n",
            "  Attempting uninstall: pip\n",
            "    Found existing installation: pip 21.1.3\n",
            "    Uninstalling pip-21.1.3:\n",
            "      Successfully uninstalled pip-21.1.3\n",
            "Successfully installed pip-22.3\n",
            "Looking in indexes: https://pypi.org/simple, https://us-python.pkg.dev/colab-wheels/public/simple/\n",
            "Collecting pyspark\n",
            "  Downloading pyspark-3.3.0.tar.gz (281.3 MB)\n",
            "\u001b[2K     \u001b[90m━━━━━━━━━━━━━━━━━━━━━━━━━━━━━━━━━━━━━━━\u001b[0m \u001b[32m281.3/281.3 MB\u001b[0m \u001b[31m3.6 MB/s\u001b[0m eta \u001b[36m0:00:00\u001b[0m\n",
            "\u001b[?25h  Preparing metadata (setup.py) ... \u001b[?25l\u001b[?25hdone\n",
            "Collecting py4j==0.10.9.5\n",
            "  Downloading py4j-0.10.9.5-py2.py3-none-any.whl (199 kB)\n",
            "\u001b[2K     \u001b[90m━━━━━━━━━━━━━━━━━━━━━━━━━━━━━━━━━━━━━━\u001b[0m \u001b[32m199.7/199.7 kB\u001b[0m \u001b[31m19.0 MB/s\u001b[0m eta \u001b[36m0:00:00\u001b[0m\n",
            "\u001b[?25hBuilding wheels for collected packages: pyspark\n",
            "  Building wheel for pyspark (setup.py) ... \u001b[?25l\u001b[?25hdone\n",
            "  Created wheel for pyspark: filename=pyspark-3.3.0-py2.py3-none-any.whl size=281764026 sha256=7904801be50db5e5e72fec3825ed463aeecfcca8e32c095e7bafa0f56601d3ec\n",
            "  Stored in directory: /root/.cache/pip/wheels/96/89/66/9d6eccd21ae730e36c33039b749ba7015cf925abef7f8c4050\n",
            "Successfully built pyspark\n",
            "Installing collected packages: py4j, pyspark\n",
            "Successfully installed py4j-0.10.9.5 pyspark-3.3.0\n",
            "\u001b[33mWARNING: Running pip as the 'root' user can result in broken permissions and conflicting behaviour with the system package manager. It is recommended to use a virtual environment instead: https://pip.pypa.io/warnings/venv\u001b[0m\u001b[33m\n",
            "\u001b[0mLooking in indexes: https://pypi.org/simple, https://us-python.pkg.dev/colab-wheels/public/simple/\n",
            "Requirement already satisfied: pandas in /usr/local/lib/python3.7/dist-packages (1.3.5)\n",
            "Requirement already satisfied: numpy in /usr/local/lib/python3.7/dist-packages (1.21.6)\n",
            "Requirement already satisfied: scikit-learn in /usr/local/lib/python3.7/dist-packages (1.0.2)\n",
            "Requirement already satisfied: imbalanced-learn in /usr/local/lib/python3.7/dist-packages (0.8.1)\n",
            "Collecting imbalanced-learn\n",
            "  Downloading imbalanced_learn-0.9.1-py3-none-any.whl (199 kB)\n",
            "\u001b[2K     \u001b[90m━━━━━━━━━━━━━━━━━━━━━━━━━━━━━━━━━━━━━━━\u001b[0m \u001b[32m199.3/199.3 kB\u001b[0m \u001b[31m8.7 MB/s\u001b[0m eta \u001b[36m0:00:00\u001b[0m\n",
            "\u001b[?25hRequirement already satisfied: python-dateutil>=2.7.3 in /usr/local/lib/python3.7/dist-packages (from pandas) (2.8.2)\n",
            "Requirement already satisfied: pytz>=2017.3 in /usr/local/lib/python3.7/dist-packages (from pandas) (2022.4)\n",
            "Requirement already satisfied: scipy>=1.1.0 in /usr/local/lib/python3.7/dist-packages (from scikit-learn) (1.7.3)\n",
            "Requirement already satisfied: threadpoolctl>=2.0.0 in /usr/local/lib/python3.7/dist-packages (from scikit-learn) (3.1.0)\n",
            "Requirement already satisfied: joblib>=0.11 in /usr/local/lib/python3.7/dist-packages (from scikit-learn) (1.2.0)\n",
            "  Downloading imbalanced_learn-0.9.0-py3-none-any.whl (199 kB)\n",
            "\u001b[2K     \u001b[90m━━━━━━━━━━━━━━━━━━━━━━━━━━━━━━━━━━━━━━\u001b[0m \u001b[32m199.1/199.1 kB\u001b[0m \u001b[31m21.3 MB/s\u001b[0m eta \u001b[36m0:00:00\u001b[0m\n",
            "\u001b[?25hRequirement already satisfied: six>=1.5 in /usr/local/lib/python3.7/dist-packages (from python-dateutil>=2.7.3->pandas) (1.15.0)\n",
            "Installing collected packages: imbalanced-learn\n",
            "  Attempting uninstall: imbalanced-learn\n",
            "    Found existing installation: imbalanced-learn 0.8.1\n",
            "    Uninstalling imbalanced-learn-0.8.1:\n",
            "      Successfully uninstalled imbalanced-learn-0.8.1\n",
            "Successfully installed imbalanced-learn-0.9.0\n",
            "\u001b[33mWARNING: Running pip as the 'root' user can result in broken permissions and conflicting behaviour with the system package manager. It is recommended to use a virtual environment instead: https://pip.pypa.io/warnings/venv\u001b[0m\u001b[33m\n",
            "\u001b[0m"
          ]
        }
      ]
    },
    {
      "cell_type": "code",
      "source": [
        "from pyspark.sql import SparkSession \n",
        "spark = SparkSession.builder \\\n",
        "    .master(\"local[1]\") \\\n",
        "    .appName(\"IAB\") \\\n",
        "    .getOrCreate()"
      ],
      "metadata": {
        "id": "NyOdl2VjNNQj"
      },
      "execution_count": 4,
      "outputs": []
    },
    {
      "cell_type": "code",
      "source": [
        "spark"
      ],
      "metadata": {
        "colab": {
          "base_uri": "https://localhost:8080/",
          "height": 219
        },
        "id": "V8AKOsm4N0y0",
        "outputId": "949daccb-cbe7-49f2-ee01-b6101c99e02d"
      },
      "execution_count": 5,
      "outputs": [
        {
          "output_type": "execute_result",
          "data": {
            "text/plain": [
              "<pyspark.sql.session.SparkSession at 0x7ff1f058b5d0>"
            ],
            "text/html": [
              "\n",
              "            <div>\n",
              "                <p><b>SparkSession - in-memory</b></p>\n",
              "                \n",
              "        <div>\n",
              "            <p><b>SparkContext</b></p>\n",
              "\n",
              "            <p><a href=\"http://2b95cd4fa9d7:4040\">Spark UI</a></p>\n",
              "\n",
              "            <dl>\n",
              "              <dt>Version</dt>\n",
              "                <dd><code>v3.3.0</code></dd>\n",
              "              <dt>Master</dt>\n",
              "                <dd><code>local[1]</code></dd>\n",
              "              <dt>AppName</dt>\n",
              "                <dd><code>IAB</code></dd>\n",
              "            </dl>\n",
              "        </div>\n",
              "        \n",
              "            </div>\n",
              "        "
            ]
          },
          "metadata": {},
          "execution_count": 5
        }
      ]
    },
    {
      "cell_type": "code",
      "source": [],
      "metadata": {
        "id": "iMEhb7Op0buz"
      },
      "execution_count": null,
      "outputs": []
    },
    {
      "cell_type": "markdown",
      "metadata": {
        "id": "qseL89kEhhxg"
      },
      "source": [
        "## はじめに\n",
        "- 初めに以下のセルを実行してください\n",
        "- 必要なライブラリのインポートとデータベース（PostgreSQL）からのデータ読み込みを行います\n",
        "- pandas等、利用が想定されるライブラリは以下セルでインポートしています\n",
        "- その他利用したいライブラリがあれば適宜インストールしてください（\"!pip install ライブラリ名\"でインストールも可能）\n",
        "- 処理は複数回に分けても構いません\n",
        "- 名前、住所等はダミーデータであり、実在するものではありません\n"
      ]
    },
    {
      "cell_type": "code",
      "metadata": {
        "trusted": true,
        "id": "k_rQuDF8hhxg",
        "colab": {
          "base_uri": "https://localhost:8080/"
        },
        "outputId": "539d2c22-95bf-4998-90a8-d793e7ad98e5"
      },
      "source": [
        "# pipでオリジナルの解答に必要なライブラリーをインポート\n",
        "import os\n",
        "import pandas as pd\n",
        "import numpy as np\n",
        "from datetime import datetime, date\n",
        "from dateutil.relativedelta import relativedelta\n",
        "import math\n",
        "from sklearn import preprocessing\n",
        "from sklearn.model_selection import train_test_split\n",
        "from imblearn.under_sampling import RandomUnderSampler\n",
        "\n",
        "# Spark SQL用\n",
        "from pyspark.sql.types import *\n",
        "import pyspark.sql.functions as F\n",
        "from pyspark.sql.window import Window\n",
        "\n",
        "# Spark DataFrame用\n",
        "import pyspark.pandas as ps"
      ],
      "execution_count": 7,
      "outputs": [
        {
          "output_type": "stream",
          "name": "stderr",
          "text": [
            "WARNING:root:'PYARROW_IGNORE_TIMEZONE' environment variable was not set. It is required to set this environment variable to '1' in both driver and executor sides if you use pyarrow>=2.0.0. pandas-on-Spark will set it for you but it does not work if there is a Spark context already launched.\n"
          ]
        }
      ]
    },
    {
      "cell_type": "code",
      "source": [
        "# データを読み込み\n",
        "# inferSchemaがfalseの場合、すべてのカラムはstringとなる。(datetime不可。timestamp可)\n",
        "df_customer = spark.read\\\n",
        "              .format(\"csv\")\\\n",
        "              .options(header=\"true\", inferSchema=\"true\")\\\n",
        "              .load('customer.csv')\n",
        "df_category = spark.read\\\n",
        "              .format(\"csv\")\\\n",
        "              .options(header=\"true\", inferSchema=\"true\")\\\n",
        "              .load('./category.csv')\n",
        "df_product = spark.read\\\n",
        "              .format(\"csv\")\\\n",
        "              .options(header=\"true\", inferSchema=\"true\")\\\n",
        "              .load('./product.csv')\n",
        "df_receipt = spark.read\\\n",
        "              .format(\"csv\")\\\n",
        "              .options(header=\"true\", inferSchema=\"true\")\\\n",
        "              .load('./receipt.csv')\n",
        "df_store = spark.read\\\n",
        "            .format(\"csv\")\\\n",
        "            .options(header=\"true\", inferSchema=\"true\")\\\n",
        "            .load('./store.csv')\n",
        "df_geocode = spark.read\\\n",
        "            .format(\"csv\")\\\n",
        "            .options(header=\"true\", inferSchema=\"true\")\\\n",
        "            .load('./geocode.csv')"
      ],
      "metadata": {
        "id": "8TzSgt6pN_RU"
      },
      "execution_count": 8,
      "outputs": []
    },
    {
      "cell_type": "code",
      "source": [
        "# 業務環境では実行不可\n",
        "# tmp_test = ps.read_csv('./geocode.csv')\n",
        "# tmp_test.head()"
      ],
      "metadata": {
        "id": "QJC99FtpXtjJ"
      },
      "execution_count": null,
      "outputs": []
    },
    {
      "cell_type": "markdown",
      "metadata": {
        "id": "EMvNeX6Qhhxk"
      },
      "source": [
        "# 演習問題"
      ]
    },
    {
      "cell_type": "markdown",
      "metadata": {
        "id": "r244WHrjhhxk"
      },
      "source": [
        "---\n",
        "> P-001: レシート明細のデータフレーム（df_receipt）から全項目の先頭10件を表示し、どのようなデータを保有しているか目視で確認せよ。"
      ]
    },
    {
      "cell_type": "code",
      "metadata": {
        "trusted": false,
        "id": "RrcFPQjUhhxk",
        "colab": {
          "base_uri": "https://localhost:8080/"
        },
        "outputId": "c9167a68-1d89-4c2c-e647-22a8d0523501"
      },
      "source": [
        "df_receipt.show(10, truncate=False)"
      ],
      "execution_count": 37,
      "outputs": [
        {
          "output_type": "stream",
          "name": "stdout",
          "text": [
            "+---------+-----------+--------+----------+--------------+--------------+----------+--------+------+\n",
            "|sales_ymd|sales_epoch|store_cd|receipt_no|receipt_sub_no|customer_id   |product_cd|quantity|amount|\n",
            "+---------+-----------+--------+----------+--------------+--------------+----------+--------+------+\n",
            "|20181103 |1541203200 |S14006  |112       |1             |CS006214000001|P070305012|1       |158   |\n",
            "|20181118 |1542499200 |S13008  |1132      |2             |CS008415000097|P070701017|1       |81    |\n",
            "|20170712 |1499817600 |S14028  |1102      |1             |CS028414000014|P060101005|1       |170   |\n",
            "|20190205 |1549324800 |S14042  |1132      |1             |ZZ000000000000|P050301001|1       |25    |\n",
            "|20180821 |1534809600 |S14025  |1102      |2             |CS025415000050|P060102007|1       |90    |\n",
            "|20190605 |1559692800 |S13003  |1112      |1             |CS003515000195|P050102002|1       |138   |\n",
            "|20181205 |1543968000 |S14024  |1102      |2             |CS024514000042|P080101005|1       |30    |\n",
            "|20190922 |1569110400 |S14040  |1102      |1             |CS040415000178|P070501004|1       |128   |\n",
            "|20170504 |1493856000 |S13020  |1112      |2             |ZZ000000000000|P071302010|1       |770   |\n",
            "|20191010 |1570665600 |S14027  |1102      |1             |CS027514000015|P071101003|1       |680   |\n",
            "+---------+-----------+--------+----------+--------------+--------------+----------+--------+------+\n",
            "only showing top 10 rows\n",
            "\n"
          ]
        }
      ]
    },
    {
      "cell_type": "markdown",
      "metadata": {
        "id": "us1AbdWfhhxm"
      },
      "source": [
        "---\n",
        "> P-002: レシート明細のデータフレーム（df_receipt）から売上日（sales_ymd）、顧客ID（customer_id）、商品コード（product_cd）、売上金額（amount）の順に列を指定し、10件表示させよ。"
      ]
    },
    {
      "cell_type": "code",
      "metadata": {
        "trusted": false,
        "id": "AwaINHByhhxm",
        "colab": {
          "base_uri": "https://localhost:8080/"
        },
        "outputId": "140a8845-fde4-4349-823d-8ae6047d0f47"
      },
      "source": [
        "df_receipt.select([\"sales_ymd\", \"customer_id\", \"product_cd\", \"amount\"]).show(10)"
      ],
      "execution_count": null,
      "outputs": [
        {
          "output_type": "stream",
          "name": "stdout",
          "text": [
            "+---------+--------------+----------+------+\n",
            "|sales_ymd|   customer_id|product_cd|amount|\n",
            "+---------+--------------+----------+------+\n",
            "| 20181103|CS006214000001|P070305012|   158|\n",
            "| 20181118|CS008415000097|P070701017|    81|\n",
            "| 20170712|CS028414000014|P060101005|   170|\n",
            "| 20190205|ZZ000000000000|P050301001|    25|\n",
            "| 20180821|CS025415000050|P060102007|    90|\n",
            "| 20190605|CS003515000195|P050102002|   138|\n",
            "| 20181205|CS024514000042|P080101005|    30|\n",
            "| 20190922|CS040415000178|P070501004|   128|\n",
            "| 20170504|ZZ000000000000|P071302010|   770|\n",
            "| 20191010|CS027514000015|P071101003|   680|\n",
            "+---------+--------------+----------+------+\n",
            "only showing top 10 rows\n",
            "\n"
          ]
        }
      ]
    },
    {
      "cell_type": "markdown",
      "metadata": {
        "id": "_yPcu6bkhhxo"
      },
      "source": [
        "---\n",
        "> P-003: レシート明細のデータフレーム（df_receipt）から売上日（sales_ymd）、顧客ID（customer_id）、商品コード（product_cd）、売上金額（amount）の順に列を指定し、10件表示させよ。ただし、sales_ymdはsales_dateに項目名を変更しながら抽出すること。"
      ]
    },
    {
      "cell_type": "code",
      "metadata": {
        "trusted": false,
        "id": "ZKVA9bCRhhxp",
        "colab": {
          "base_uri": "https://localhost:8080/"
        },
        "outputId": "47d78965-e740-4abb-9b58-17f454b959f2"
      },
      "source": [
        "df_receipt.select([\"sales_ymd\", \"customer_id\", \"product_cd\", \"amount\"])\\\n",
        "          .withColumnRenamed(\"sales_ymd\", \"sales_date\").show(10)"
      ],
      "execution_count": null,
      "outputs": [
        {
          "output_type": "stream",
          "name": "stdout",
          "text": [
            "+----------+--------------+----------+------+\n",
            "|sales_date|   customer_id|product_cd|amount|\n",
            "+----------+--------------+----------+------+\n",
            "|  20181103|CS006214000001|P070305012|   158|\n",
            "|  20181118|CS008415000097|P070701017|    81|\n",
            "|  20170712|CS028414000014|P060101005|   170|\n",
            "|  20190205|ZZ000000000000|P050301001|    25|\n",
            "|  20180821|CS025415000050|P060102007|    90|\n",
            "|  20190605|CS003515000195|P050102002|   138|\n",
            "|  20181205|CS024514000042|P080101005|    30|\n",
            "|  20190922|CS040415000178|P070501004|   128|\n",
            "|  20170504|ZZ000000000000|P071302010|   770|\n",
            "|  20191010|CS027514000015|P071101003|   680|\n",
            "+----------+--------------+----------+------+\n",
            "only showing top 10 rows\n",
            "\n"
          ]
        }
      ]
    },
    {
      "cell_type": "markdown",
      "metadata": {
        "id": "dHcdbLoehhxq"
      },
      "source": [
        "---\n",
        "> P-004: レシート明細のデータフレーム（df_receipt）から売上日（sales_ymd）、顧客ID（customer_id）、商品コード（product_cd）、売上金額（amount）の順に列を指定し、以下の条件を満たすデータを抽出せよ。\n",
        "> - 顧客ID（customer_id）が\"CS018205000001\""
      ]
    },
    {
      "cell_type": "code",
      "metadata": {
        "trusted": false,
        "id": "Fqp5Qdmkhhxr",
        "colab": {
          "base_uri": "https://localhost:8080/"
        },
        "outputId": "afd37e0b-cdb5-4756-c085-43c6ad80bbd3"
      },
      "source": [
        "df_receipt.select([\"sales_ymd\", \"customer_id\", \"product_cd\", \"amount\"])\\\n",
        "          .filter(df_receipt[\"customer_id\"]==\"CS018205000001\").show()"
      ],
      "execution_count": null,
      "outputs": [
        {
          "output_type": "stream",
          "name": "stdout",
          "text": [
            "+---------+--------------+----------+------+\n",
            "|sales_ymd|   customer_id|product_cd|amount|\n",
            "+---------+--------------+----------+------+\n",
            "| 20180911|CS018205000001|P071401012|  2200|\n",
            "| 20180414|CS018205000001|P060104007|   600|\n",
            "| 20170614|CS018205000001|P050206001|   990|\n",
            "| 20170614|CS018205000001|P060702015|   108|\n",
            "| 20190216|CS018205000001|P071005024|   102|\n",
            "| 20180414|CS018205000001|P071101002|   278|\n",
            "| 20190226|CS018205000001|P070902035|   168|\n",
            "| 20190924|CS018205000001|P060805001|   495|\n",
            "| 20190226|CS018205000001|P071401020|  2200|\n",
            "| 20180911|CS018205000001|P071401005|  1100|\n",
            "| 20190216|CS018205000001|P040101002|   218|\n",
            "| 20190924|CS018205000001|P091503001|   280|\n",
            "+---------+--------------+----------+------+\n",
            "\n"
          ]
        }
      ]
    },
    {
      "cell_type": "markdown",
      "metadata": {
        "id": "nvI5Comzhhxt"
      },
      "source": [
        "---\n",
        "> P-005: レシート明細のデータフレーム（df_receipt）から売上日（sales_ymd）、顧客ID（customer_id）、商品コード（product_cd）、売上金額（amount）の順に列を指定し、以下の条件を満たすデータを抽出せよ。\n",
        "> - 顧客ID（customer_id）が\"CS018205000001\"\n",
        "> - 売上金額（amount）が1,000以上"
      ]
    },
    {
      "cell_type": "code",
      "metadata": {
        "trusted": false,
        "id": "jZDWoB_Bhhxv",
        "colab": {
          "base_uri": "https://localhost:8080/"
        },
        "outputId": "6d0a2ce8-8973-43c1-b943-ff3fb13bb71d"
      },
      "source": [
        "df_receipt.select([\"sales_ymd\", \"customer_id\", \"product_cd\", \"amount\"])\\\n",
        "          .filter((df_receipt[\"customer_id\"]==\"CS018205000001\") & (df_receipt[\"amount\"]>=1000)).show()"
      ],
      "execution_count": null,
      "outputs": [
        {
          "output_type": "stream",
          "name": "stdout",
          "text": [
            "+---------+--------------+----------+------+\n",
            "|sales_ymd|   customer_id|product_cd|amount|\n",
            "+---------+--------------+----------+------+\n",
            "| 20180911|CS018205000001|P071401012|  2200|\n",
            "| 20190226|CS018205000001|P071401020|  2200|\n",
            "| 20180911|CS018205000001|P071401005|  1100|\n",
            "+---------+--------------+----------+------+\n",
            "\n"
          ]
        }
      ]
    },
    {
      "cell_type": "markdown",
      "metadata": {
        "id": "-Dz6spPThhxx"
      },
      "source": [
        "---\n",
        "> P-006: レシート明細データフレーム「df_receipt」から売上日（sales_ymd）、顧客ID（customer_id）、商品コード（product_cd）、売上数量（quantity）、売上金額（amount）の順に列を指定し、以下の条件を満たすデータを抽出せよ。\n",
        "> - 顧客ID（customer_id）が\"CS018205000001\"\n",
        "> - 売上金額（amount）が1,000以上または売上数量（quantity）が5以上"
      ]
    },
    {
      "cell_type": "code",
      "metadata": {
        "trusted": false,
        "id": "8IH2MwDUhhxx",
        "colab": {
          "base_uri": "https://localhost:8080/"
        },
        "outputId": "2ebaabd2-80f6-45ee-eab5-69fa04f6b9e6"
      },
      "source": [
        "df_receipt.select([\"sales_ymd\", \"customer_id\", \"product_cd\", \"quantity\", \"amount\"])\\\n",
        "          .filter((df_receipt[\"customer_id\"]==\"CS018205000001\") & ((df_receipt[\"amount\"]>=1000) | (df_receipt[\"quantity\"]>5))).show()"
      ],
      "execution_count": null,
      "outputs": [
        {
          "output_type": "stream",
          "name": "stdout",
          "text": [
            "+---------+--------------+----------+--------+------+\n",
            "|sales_ymd|   customer_id|product_cd|quantity|amount|\n",
            "+---------+--------------+----------+--------+------+\n",
            "| 20180911|CS018205000001|P071401012|       1|  2200|\n",
            "| 20180414|CS018205000001|P060104007|       6|   600|\n",
            "| 20190226|CS018205000001|P071401020|       1|  2200|\n",
            "| 20180911|CS018205000001|P071401005|       1|  1100|\n",
            "+---------+--------------+----------+--------+------+\n",
            "\n"
          ]
        }
      ]
    },
    {
      "cell_type": "markdown",
      "metadata": {
        "id": "OjU7Uofzhhxz"
      },
      "source": [
        "---\n",
        "> P-007: レシート明細のデータフレーム（df_receipt）から売上日（sales_ymd）、顧客ID（customer_id）、商品コード（product_cd）、売上金額（amount）の順に列を指定し、以下の条件を満たすデータを抽出せよ。\n",
        "> - 顧客ID（customer_id）が\"CS018205000001\"\n",
        "> - 売上金額（amount）が1,000以上2,000以下"
      ]
    },
    {
      "cell_type": "code",
      "metadata": {
        "trusted": false,
        "id": "oywQDpHbhhxz",
        "colab": {
          "base_uri": "https://localhost:8080/"
        },
        "outputId": "177cc4ed-4e12-49db-c38e-f38e028935d7"
      },
      "source": [
        "df_receipt.select([\"sales_ymd\", \"customer_id\", \"product_cd\", \"amount\"])\\\n",
        "          .filter((F.col(\"customer_id\")==\"CS018205000001\") & ((F.col(\"amount\")>=1000) & (F.col(\"amount\")<=2000))).show()"
      ],
      "execution_count": null,
      "outputs": [
        {
          "output_type": "stream",
          "name": "stdout",
          "text": [
            "+---------+--------------+----------+------+\n",
            "|sales_ymd|   customer_id|product_cd|amount|\n",
            "+---------+--------------+----------+------+\n",
            "| 20180911|CS018205000001|P071401005|  1100|\n",
            "+---------+--------------+----------+------+\n",
            "\n"
          ]
        }
      ]
    },
    {
      "cell_type": "markdown",
      "metadata": {
        "id": "wvvecxrThhx1"
      },
      "source": [
        "---\n",
        "> P-008: レシート明細のデータフレーム（df_receipt）から売上日（sales_ymd）、顧客ID（customer_id）、商品コード（product_cd）、売上金額（amount）の順に列を指定し、以下の条件を満たすデータを抽出せよ。\n",
        "> - 顧客ID（customer_id）が\"CS018205000001\"\n",
        "> - 商品コード（product_cd）が\"P071401019\"以外"
      ]
    },
    {
      "cell_type": "code",
      "metadata": {
        "trusted": false,
        "id": "oIKb4uZEhhx1",
        "colab": {
          "base_uri": "https://localhost:8080/"
        },
        "outputId": "55c92388-083c-4adf-9369-ea94750b81e5"
      },
      "source": [
        "df_receipt.select([\"sales_ymd\", \"customer_id\", \"product_cd\", \"amount\"])\\\n",
        "          .filter((F.col(\"customer_id\")==\"CS018205000001\") & (F.col(\"product_cd\")!=\"P071401019\")).show()"
      ],
      "execution_count": null,
      "outputs": [
        {
          "output_type": "stream",
          "name": "stdout",
          "text": [
            "+---------+--------------+----------+------+\n",
            "|sales_ymd|   customer_id|product_cd|amount|\n",
            "+---------+--------------+----------+------+\n",
            "| 20180911|CS018205000001|P071401012|  2200|\n",
            "| 20180414|CS018205000001|P060104007|   600|\n",
            "| 20170614|CS018205000001|P050206001|   990|\n",
            "| 20170614|CS018205000001|P060702015|   108|\n",
            "| 20190216|CS018205000001|P071005024|   102|\n",
            "| 20180414|CS018205000001|P071101002|   278|\n",
            "| 20190226|CS018205000001|P070902035|   168|\n",
            "| 20190924|CS018205000001|P060805001|   495|\n",
            "| 20190226|CS018205000001|P071401020|  2200|\n",
            "| 20180911|CS018205000001|P071401005|  1100|\n",
            "| 20190216|CS018205000001|P040101002|   218|\n",
            "| 20190924|CS018205000001|P091503001|   280|\n",
            "+---------+--------------+----------+------+\n",
            "\n"
          ]
        }
      ]
    },
    {
      "cell_type": "code",
      "source": [
        "# AI Programmerのテスト\n",
        "# pysparkでレシート明細のデータフレーム（df_receipt）から売上日（sales_ymd）、顧客ID（customer_id）、商品コード（product_cd）、売上金額（amount）の順に列を指定し、以下の条件を満たすデータを抽出せよ。顧客ID（customer_id）が\"CS018205000001\"商品コード（product_cd）が\"P071401019\"以外である\n",
        "# df_receipt.select(\"sales_ymd\",\"customer_id\",\"product_cd\",\"amount\").where(col(\"customer_id\") != \"CS018205000001\" and col(\"product_cd\") != \"P071401019\")\n",
        "\n",
        "df_receipt.select(\"sales_ymd\",\"customer_id\",\"product_cd\",\"amount\").where((F.col(\"customer_id\") != \"CS018205000001\") & (F.col(\"product_cd\") != \"P071401019\")).show()"
      ],
      "metadata": {
        "colab": {
          "base_uri": "https://localhost:8080/"
        },
        "id": "Ee_pvrl71Alp",
        "outputId": "7abc51b6-f319-4113-f626-c8dab59ec971"
      },
      "execution_count": null,
      "outputs": [
        {
          "output_type": "stream",
          "name": "stdout",
          "text": [
            "+---------+--------------+----------+------+\n",
            "|sales_ymd|   customer_id|product_cd|amount|\n",
            "+---------+--------------+----------+------+\n",
            "| 20181103|CS006214000001|P070305012|   158|\n",
            "| 20181118|CS008415000097|P070701017|    81|\n",
            "| 20170712|CS028414000014|P060101005|   170|\n",
            "| 20190205|ZZ000000000000|P050301001|    25|\n",
            "| 20180821|CS025415000050|P060102007|    90|\n",
            "| 20190605|CS003515000195|P050102002|   138|\n",
            "| 20181205|CS024514000042|P080101005|    30|\n",
            "| 20190922|CS040415000178|P070501004|   128|\n",
            "| 20170504|ZZ000000000000|P071302010|   770|\n",
            "| 20191010|CS027514000015|P071101003|   680|\n",
            "| 20190918|CS025415000134|P070401002|   138|\n",
            "| 20171010|CS021515000126|P040402001|   228|\n",
            "| 20180506|CS039414000052|P059001019|   428|\n",
            "| 20190326|CS016215000032|P091401190|   780|\n",
            "| 20180329|ZZ000000000000|P050104001|   115|\n",
            "| 20170116|ZZ000000000000|P080803001|   100|\n",
            "| 20190621|ZZ000000000000|P040102001|   268|\n",
            "| 20181225|ZZ000000000000|P071401002|  1100|\n",
            "| 20190603|CS026515000042|P070504016|   188|\n",
            "| 20190606|ZZ000000000000|P071102002|   190|\n",
            "+---------+--------------+----------+------+\n",
            "only showing top 20 rows\n",
            "\n"
          ]
        }
      ]
    },
    {
      "cell_type": "markdown",
      "metadata": {
        "id": "raZwJrBbhhx3"
      },
      "source": [
        "---\n",
        "> P-009: 以下の処理において、出力結果を変えずにORをANDに書き換えよ。\n",
        "\n",
        "`df_store.query('not(prefecture_cd == \"13\" | floor_area > 900)')`"
      ]
    },
    {
      "cell_type": "code",
      "metadata": {
        "trusted": false,
        "id": "Ik77huJ-hhx3",
        "colab": {
          "base_uri": "https://localhost:8080/"
        },
        "outputId": "619df7de-2f67-4e46-b088-11c21eb79a75"
      },
      "source": [
        "df_store.filter((F.col(\"prefecture_cd\")!=\"13\") & (F.col(\"floor_area\")<=900)).show()"
      ],
      "execution_count": null,
      "outputs": [
        {
          "output_type": "stream",
          "name": "stdout",
          "text": [
            "+--------+----------+-------------+----------+----------------------------------+--------------------------------------+------------+---------+--------+----------+\n",
            "|store_cd|store_name|prefecture_cd|prefecture|                           address|                          address_kana|      tel_no|longitude|latitude|floor_area|\n",
            "+--------+----------+-------------+----------+----------------------------------+--------------------------------------+------------+---------+--------+----------+\n",
            "|  S14046|  北山田店|           14|  神奈川県|  神奈川県横浜市都筑区北山田一丁目| カナガワケンヨコハマシツヅキクキタ...|045-123-4049| 139.5916|35.56189|     831.0|\n",
            "|  S14011|日吉本町店|           14|  神奈川県|神奈川県横浜市港北区日吉本町四丁目| カナガワケンヨコハマシコウホククヒ...|045-123-4033| 139.6316|35.54655|     890.0|\n",
            "|  S12013|  習志野店|           12|    千葉県|          千葉県習志野市芝園一丁目|チバケンナラシノシシバゾノイッチョウメ|047-123-4002|  140.022|35.66122|     808.0|\n",
            "+--------+----------+-------------+----------+----------------------------------+--------------------------------------+------------+---------+--------+----------+\n",
            "\n"
          ]
        }
      ]
    },
    {
      "cell_type": "markdown",
      "metadata": {
        "id": "vyAFAs5Rhhx5"
      },
      "source": [
        "---\n",
        "> P-010: 店舗データフレーム（df_store）から、店舗コード（store_cd）が\"S14\"で始まるものだけ全項目抽出し、10件だけ表示せよ。"
      ]
    },
    {
      "cell_type": "code",
      "metadata": {
        "trusted": false,
        "id": "aaHaULLwhhx5",
        "colab": {
          "base_uri": "https://localhost:8080/"
        },
        "outputId": "b783bb7a-5ec0-422f-8425-d391c2cd6e4e"
      },
      "source": [
        "df_store.filter(F.col(\"store_cd\").rlike('S14.*')).show(10)"
      ],
      "execution_count": null,
      "outputs": [
        {
          "output_type": "stream",
          "name": "stdout",
          "text": [
            "+--------+------------+-------------+----------+--------------------------------------+----------------------------------------+------------+---------+--------+----------+\n",
            "|store_cd|  store_name|prefecture_cd|prefecture|                               address|                            address_kana|      tel_no|longitude|latitude|floor_area|\n",
            "+--------+------------+-------------+----------+--------------------------------------+----------------------------------------+------------+---------+--------+----------+\n",
            "|  S14010|      菊名店|           14|  神奈川県|        神奈川県横浜市港北区菊名一丁目|   カナガワケンヨコハマシコウホククキ...|045-123-4032| 139.6326|35.50049|    1732.0|\n",
            "|  S14033|    阿久和店|           14|  神奈川県|    神奈川県横浜市瀬谷区阿久和西一丁目|   カナガワケンヨコハマシセヤクアクワ...|045-123-4043| 139.4961|35.45918|    1495.0|\n",
            "|  S14036|相模原中央店|           14|  神奈川県|            神奈川県相模原市中央二丁目|   カナガワケンサガミハラシチュウオウ...|042-123-4045| 139.3716|35.57327|    1679.0|\n",
            "|  S14040|    長津田店|           14|  神奈川県|神奈川県横浜市緑区長津田みなみ台五丁目|   カナガワケンヨコハマシミドリクナガ...|045-123-4046| 139.4994|35.52398|    1548.0|\n",
            "|  S14050|  阿久和西店|           14|  神奈川県|    神奈川県横浜市瀬谷区阿久和西一丁目|   カナガワケンヨコハマシセヤクアクワ...|045-123-4053| 139.4961|35.45918|    1830.0|\n",
            "|  S14028|    二ツ橋店|           14|  神奈川県|          神奈川県横浜市瀬谷区二ツ橋町|   カナガワケンヨコハマシセヤクフタツ...|045-123-4042| 139.4963|35.46304|    1574.0|\n",
            "|  S14012|  本牧和田店|           14|  神奈川県|            神奈川県横浜市中区本牧和田|カナガワケンヨコハマシナカクホンモクワダ|045-123-4034| 139.6582|35.42156|    1341.0|\n",
            "|  S14046|    北山田店|           14|  神奈川県|      神奈川県横浜市都筑区北山田一丁目|   カナガワケンヨコハマシツヅキクキタ...|045-123-4049| 139.5916|35.56189|     831.0|\n",
            "|  S14022|      逗子店|           14|  神奈川県|              神奈川県逗子市逗子一丁目|      カナガワケンズシシズシイッチョウメ|046-123-4036| 139.5789|35.29642|    1838.0|\n",
            "|  S14011|  日吉本町店|           14|  神奈川県|    神奈川県横浜市港北区日吉本町四丁目|   カナガワケンヨコハマシコウホククヒ...|045-123-4033| 139.6316|35.54655|     890.0|\n",
            "+--------+------------+-------------+----------+--------------------------------------+----------------------------------------+------------+---------+--------+----------+\n",
            "only showing top 10 rows\n",
            "\n"
          ]
        }
      ]
    },
    {
      "cell_type": "markdown",
      "metadata": {
        "id": "rZOTvgu0hhx7"
      },
      "source": [
        "---\n",
        "> P-011: 顧客データフレーム（df_customer）から顧客ID（customer_id）の末尾が1のものだけ全項目抽出し、10件だけ表示せよ。"
      ]
    },
    {
      "cell_type": "code",
      "metadata": {
        "trusted": false,
        "id": "tTJ7JCl_hhx7",
        "colab": {
          "base_uri": "https://localhost:8080/"
        },
        "outputId": "1618a1cf-ce6e-4fa1-a120-820a389b96b8"
      },
      "source": [
        "df_customer.filter(F.col(\"customer_id\").rlike('.*1$')).show(10)"
      ],
      "execution_count": null,
      "outputs": [
        {
          "output_type": "stream",
          "name": "stdout",
          "text": [
            "+--------------+-------------+---------+------+----------+---+---------+---------------------------------+--------------------+----------------+------------+\n",
            "|   customer_id|customer_name|gender_cd|gender| birth_day|age|postal_cd|                          address|application_store_cd|application_date|   status_cd|\n",
            "+--------------+-------------+---------+------+----------+---+---------+---------------------------------+--------------------+----------------+------------+\n",
            "|CS037613000071|    六角 雅彦|        9|  不明|1952-04-01| 66| 136-0076|       東京都江東区南砂**********|              S13037|        20150414|0-00000000-0|\n",
            "|CS028811000001|  堀井 かおり|        1|  女性|1933-03-27| 86| 245-0016| 神奈川県横浜市泉区和泉町*****...|              S14028|        20160115|0-00000000-0|\n",
            "|CS040412000191|    川井 郁恵|        1|  女性|1977-01-05| 42| 226-0021|神奈川県横浜市緑区北八朔町****...|              S14040|        20151101|1-20091025-4|\n",
            "|CS028314000011|  小菅 あおい|        1|  女性|1983-11-26| 35| 246-0038| 神奈川県横浜市瀬谷区宮沢*****...|              S14028|        20151123|1-20080426-5|\n",
            "|CS039212000051|  藤島 恵梨香|        1|  女性|1997-02-03| 22| 166-0001|   東京都杉並区阿佐谷北**********|              S13039|        20171121|1-20100215-4|\n",
            "|CS015412000111|    松居 奈月|        1|  女性|1972-10-04| 46| 136-0071|       東京都江東区亀戸**********|              S13015|        20150629|0-00000000-0|\n",
            "|CS004702000041|      野島 洋|        0|  男性|1943-08-24| 75| 176-0022|       東京都練馬区向山**********|              S13004|        20170218|0-00000000-0|\n",
            "|CS041515000001|    栗田 千夏|        1|  女性|1967-01-02| 52| 206-0001|       東京都多摩市和田**********|              S13041|        20160422|E-20100803-F|\n",
            "|CS029313000221|  北条 ひかり|        1|  女性|1987-06-19| 31| 279-0011|       千葉県浦安市美浜**********|              S12029|        20180810|0-00000000-0|\n",
            "|CS034312000071|    望月 奈央|        1|  女性|1980-09-20| 38| 213-0026| 神奈川県川崎市高津区久末*****...|              S14034|        20160106|0-00000000-0|\n",
            "+--------------+-------------+---------+------+----------+---+---------+---------------------------------+--------------------+----------------+------------+\n",
            "only showing top 10 rows\n",
            "\n"
          ]
        }
      ]
    },
    {
      "cell_type": "markdown",
      "metadata": {
        "id": "rZR7bxyYhhx9"
      },
      "source": [
        "---\n",
        "> P-012: 店舗データフレーム（df_store）から横浜市の店舗だけ全項目表示せよ。"
      ]
    },
    {
      "cell_type": "code",
      "metadata": {
        "trusted": false,
        "id": "Yvqzxpskhhx9",
        "colab": {
          "base_uri": "https://localhost:8080/"
        },
        "outputId": "cc9dc268-3bb5-4822-c2c8-44121b6e973f"
      },
      "source": [
        "df_store.filter(F.col(\"address\").rlike('.*横浜市.*')).show()"
      ],
      "execution_count": null,
      "outputs": [
        {
          "output_type": "stream",
          "name": "stdout",
          "text": [
            "+--------+----------+-------------+----------+--------------------------------------+----------------------------------------+------------+---------+--------+----------+\n",
            "|store_cd|store_name|prefecture_cd|prefecture|                               address|                            address_kana|      tel_no|longitude|latitude|floor_area|\n",
            "+--------+----------+-------------+----------+--------------------------------------+----------------------------------------+------------+---------+--------+----------+\n",
            "|  S14010|    菊名店|           14|  神奈川県|        神奈川県横浜市港北区菊名一丁目|   カナガワケンヨコハマシコウホククキ...|045-123-4032| 139.6326|35.50049|    1732.0|\n",
            "|  S14033|  阿久和店|           14|  神奈川県|    神奈川県横浜市瀬谷区阿久和西一丁目|   カナガワケンヨコハマシセヤクアクワ...|045-123-4043| 139.4961|35.45918|    1495.0|\n",
            "|  S14040|  長津田店|           14|  神奈川県|神奈川県横浜市緑区長津田みなみ台五丁目|   カナガワケンヨコハマシミドリクナガ...|045-123-4046| 139.4994|35.52398|    1548.0|\n",
            "|  S14050|阿久和西店|           14|  神奈川県|    神奈川県横浜市瀬谷区阿久和西一丁目|   カナガワケンヨコハマシセヤクアクワ...|045-123-4053| 139.4961|35.45918|    1830.0|\n",
            "|  S14028|  二ツ橋店|           14|  神奈川県|          神奈川県横浜市瀬谷区二ツ橋町|   カナガワケンヨコハマシセヤクフタツ...|045-123-4042| 139.4963|35.46304|    1574.0|\n",
            "|  S14012|本牧和田店|           14|  神奈川県|            神奈川県横浜市中区本牧和田|カナガワケンヨコハマシナカクホンモクワダ|045-123-4034| 139.6582|35.42156|    1341.0|\n",
            "|  S14046|  北山田店|           14|  神奈川県|      神奈川県横浜市都筑区北山田一丁目|   カナガワケンヨコハマシツヅキクキタ...|045-123-4049| 139.5916|35.56189|     831.0|\n",
            "|  S14011|日吉本町店|           14|  神奈川県|    神奈川県横浜市港北区日吉本町四丁目|   カナガワケンヨコハマシコウホククヒ...|045-123-4033| 139.6316|35.54655|     890.0|\n",
            "|  S14048|中川中央店|           14|  神奈川県|    神奈川県横浜市都筑区中川中央二丁目|   カナガワケンヨコハマシツヅキクナカ...|045-123-4051| 139.5758|35.54912|    1657.0|\n",
            "|  S14042|  新山下店|           14|  神奈川県|        神奈川県横浜市中区新山下二丁目|   カナガワケンヨコハマシナカクシンヤ...|045-123-4047| 139.6593|35.43894|    1044.0|\n",
            "|  S14006|  葛が谷店|           14|  神奈川県|            神奈川県横浜市都筑区葛が谷|  カナガワケンヨコハマシツヅキククズガヤ|045-123-4031| 139.5633|35.53573|    1886.0|\n",
            "+--------+----------+-------------+----------+--------------------------------------+----------------------------------------+------------+---------+--------+----------+\n",
            "\n"
          ]
        }
      ]
    },
    {
      "cell_type": "markdown",
      "metadata": {
        "id": "6J8QsPb9hhx_"
      },
      "source": [
        "---\n",
        "> P-013: 顧客データフレーム（df_customer）から、ステータスコード（status_cd）の先頭がアルファベットのA〜Fで始まるデータを全項目抽出し、10件だけ表示せよ。"
      ]
    },
    {
      "cell_type": "code",
      "metadata": {
        "trusted": false,
        "id": "ZBA2t0BThhx_",
        "colab": {
          "base_uri": "https://localhost:8080/"
        },
        "outputId": "4214276a-bf45-4df1-ffaf-c89fe5a9f3e7"
      },
      "source": [
        "df_customer.filter(F.col(\"status_cd\").rlike('^[A-F]')).show(10)"
      ],
      "execution_count": null,
      "outputs": [
        {
          "output_type": "stream",
          "name": "stdout",
          "text": [
            "+--------------+-------------+---------+------+----------+---+---------+----------------------------------+--------------------+----------------+------------+\n",
            "|   customer_id|customer_name|gender_cd|gender| birth_day|age|postal_cd|                           address|application_store_cd|application_date|   status_cd|\n",
            "+--------------+-------------+---------+------+----------+---+---------+----------------------------------+--------------------+----------------+------------+\n",
            "|CS031415000172|宇多田 貴美子|        1|  女性|1976-10-04| 42| 151-0053|      東京都渋谷区代々木**********|              S13031|        20150529|D-20100325-C|\n",
            "|CS015414000103|    奥野 陽子|        1|  女性|1977-08-09| 41| 136-0073|        東京都江東区北砂**********|              S13015|        20150722|B-20100609-B|\n",
            "|CS011215000048|    芦田 沙耶|        1|  女性|1992-02-01| 27| 223-0062|神奈川県横浜市港北区日吉本町***...|              S14011|        20150228|C-20100421-9|\n",
            "|CS029415000023|    梅田 里穂|        1|  女性|1976-01-17| 43| 279-0043|      千葉県浦安市富士見**********|              S12029|        20150610|D-20100918-E|\n",
            "|CS035415000029|    寺沢 真希|        9|  不明|1977-09-27| 41| 158-0096|    東京都世田谷区玉川台**********|              S13035|        20141220|F-20101029-F|\n",
            "|CS031415000106|  宇野 由美子|        1|  女性|1970-02-26| 49| 151-0053|      東京都渋谷区代々木**********|              S13031|        20150201|F-20100511-E|\n",
            "|CS029215000025|    石倉 美帆|        1|  女性|1993-09-28| 25| 279-0022|        千葉県浦安市今川**********|              S12029|        20150708|B-20100820-C|\n",
            "|CS033605000005|    猪股 雄太|        0|  男性|1955-12-05| 63| 246-0031|  神奈川県横浜市瀬谷区瀬谷*****...|              S14033|        20150425|F-20100917-E|\n",
            "|CS033415000229|  板垣 菜々美|        1|  女性|1977-11-07| 41| 246-0021|神奈川県横浜市瀬谷区二ツ橋町***...|              S14033|        20150712|F-20100326-E|\n",
            "|CS008415000145|    黒谷 麻緒|        1|  女性|1977-06-27| 41| 157-0067|    東京都世田谷区喜多見**********|              S13008|        20150829|F-20100622-F|\n",
            "+--------------+-------------+---------+------+----------+---+---------+----------------------------------+--------------------+----------------+------------+\n",
            "only showing top 10 rows\n",
            "\n"
          ]
        }
      ]
    },
    {
      "cell_type": "markdown",
      "metadata": {
        "id": "4rPUMBu_hhyB"
      },
      "source": [
        "---\n",
        "> P-014: 顧客データフレーム（df_customer）から、ステータスコード（status_cd）の末尾が数字の1〜9で終わるデータを全項目抽出し、10件だけ表示せよ。"
      ]
    },
    {
      "cell_type": "code",
      "metadata": {
        "trusted": false,
        "id": "0U8WSbn1hhyB",
        "colab": {
          "base_uri": "https://localhost:8080/"
        },
        "outputId": "e1af7b54-f73f-4e7a-cff1-e4d0a493300c"
      },
      "source": [
        "df_customer.filter(F.col(\"status_cd\").rlike('[1-9]$')).show(10)"
      ],
      "execution_count": null,
      "outputs": [
        {
          "output_type": "stream",
          "name": "stdout",
          "text": [
            "+--------------+-------------+---------+------+----------+---+---------+----------------------------------+--------------------+----------------+------------+\n",
            "|   customer_id|customer_name|gender_cd|gender| birth_day|age|postal_cd|                           address|application_store_cd|application_date|   status_cd|\n",
            "+--------------+-------------+---------+------+----------+---+---------+----------------------------------+--------------------+----------------+------------+\n",
            "|CS001215000145|    田崎 美紀|        1|  女性|1995-03-29| 24| 144-0055|      東京都大田区仲六郷**********|              S13001|        20170605|6-20090929-2|\n",
            "|CS033513000180|      安斎 遥|        1|  女性|1962-07-11| 56| 241-0823|  神奈川県横浜市旭区善部町*****...|              S14033|        20150728|6-20080506-5|\n",
            "|CS011215000048|    芦田 沙耶|        1|  女性|1992-02-01| 27| 223-0062|神奈川県横浜市港北区日吉本町***...|              S14011|        20150228|C-20100421-9|\n",
            "|CS040412000191|    川井 郁恵|        1|  女性|1977-01-05| 42| 226-0021| 神奈川県横浜市緑区北八朔町****...|              S14040|        20151101|1-20091025-4|\n",
            "|CS009315000023|    皆川 文世|        1|  女性|1980-04-15| 38| 154-0012|      東京都世田谷区駒沢**********|              S13009|        20150319|5-20080322-1|\n",
            "|CS015315000033|  福士 璃奈子|        1|  女性|1983-03-17| 36| 135-0043|        東京都江東区塩浜**********|              S13015|        20141024|4-20080219-3|\n",
            "|CS023513000066|    神戸 そら|        1|  女性|1961-12-17| 57| 210-0005| 神奈川県川崎市川崎区東田町****...|              S14023|        20150915|5-20100524-9|\n",
            "|CS035513000134|    市川 美帆|        1|  女性|1960-03-27| 59| 156-0053|        東京都世田谷区桜**********|              S13035|        20150227|8-20100711-9|\n",
            "|CS001515000263|    高松 夏空|        1|  女性|1962-11-09| 56| 144-0051|      東京都大田区西蒲田**********|              S13001|        20160812|1-20100804-1|\n",
            "|CS040314000027|鶴田 きみまろ|        9|  不明|1986-03-26| 33| 226-0027|  神奈川県横浜市緑区長津田*****...|              S14040|        20150122|2-20080426-4|\n",
            "+--------------+-------------+---------+------+----------+---+---------+----------------------------------+--------------------+----------------+------------+\n",
            "only showing top 10 rows\n",
            "\n"
          ]
        }
      ]
    },
    {
      "cell_type": "markdown",
      "metadata": {
        "id": "0Jx471rjhhyD"
      },
      "source": [
        "---\n",
        "> P-015: 顧客データフレーム（df_customer）から、ステータスコード（status_cd）の先頭がアルファベットのA〜Fで始まり、末尾が数字の1〜9で終わるデータを全項目抽出し、10件だけ表示せよ。"
      ]
    },
    {
      "cell_type": "code",
      "source": [
        "df_customer.filter((F.col(\"status_cd\").rlike('^[A-F].*[1-9]$'))).show(10)"
      ],
      "metadata": {
        "colab": {
          "base_uri": "https://localhost:8080/"
        },
        "id": "lMc9rl_oZXWh",
        "outputId": "6f265a2c-37d8-4297-9668-f575b9e03c8a"
      },
      "execution_count": null,
      "outputs": [
        {
          "output_type": "stream",
          "name": "stdout",
          "text": [
            "+--------------+-------------+---------+------+----------+---+---------+----------------------------------+--------------------+----------------+------------+\n",
            "|   customer_id|customer_name|gender_cd|gender| birth_day|age|postal_cd|                           address|application_store_cd|application_date|   status_cd|\n",
            "+--------------+-------------+---------+------+----------+---+---------+----------------------------------+--------------------+----------------+------------+\n",
            "|CS011215000048|    芦田 沙耶|        1|  女性|1992-02-01| 27| 223-0062|神奈川県横浜市港北区日吉本町***...|              S14011|        20150228|C-20100421-9|\n",
            "|CS022513000105|  島村 貴美子|        1|  女性|1962-03-12| 57| 249-0002|    神奈川県逗子市山の根**********|              S14022|        20150320|A-20091115-7|\n",
            "|CS001515000096|    水野 陽子|        9|  不明|1960-11-29| 58| 144-0053|    東京都大田区蒲田本町**********|              S13001|        20150614|A-20100724-7|\n",
            "|CS013615000053|    西脇 季衣|        1|  女性|1953-10-18| 65| 261-0026|  千葉県千葉市美浜区幕張西*****...|              S12013|        20150128|B-20100329-6|\n",
            "|CS020412000161|      小宮 薫|        1|  女性|1974-05-21| 44| 174-0042|      東京都板橋区東坂下**********|              S13020|        20150822|B-20081021-3|\n",
            "|CS001215000097|  竹中 あさみ|        1|  女性|1990-07-25| 28| 146-0095|      東京都大田区多摩川**********|              S13001|        20170315|A-20100211-2|\n",
            "|CS035212000007|  内村 恵梨香|        1|  女性|1990-12-04| 28| 152-0023|        東京都目黒区八雲**********|              S13035|        20151013|B-20101018-6|\n",
            "|CS002515000386|    野田 コウ|        1|  女性|1963-05-30| 55| 185-0013|   東京都国分寺市西恋ケ窪******...|              S13002|        20160410|C-20100127-8|\n",
            "|CS001615000372|  稲垣 寿々花|        1|  女性|1956-10-29| 62| 144-0035|      東京都大田区南蒲田**********|              S13001|        20170403|A-20100104-1|\n",
            "|CS032512000121|    松井 知世|        1|  女性|1962-09-04| 56| 210-0011| 神奈川県川崎市川崎区富士見****...|              S13032|        20150727|A-20100103-5|\n",
            "+--------------+-------------+---------+------+----------+---+---------+----------------------------------+--------------------+----------------+------------+\n",
            "only showing top 10 rows\n",
            "\n"
          ]
        }
      ]
    },
    {
      "cell_type": "markdown",
      "metadata": {
        "id": "48UCinEUhhyF"
      },
      "source": [
        "---\n",
        "> P-016: 店舗データフレーム（df_store）から、電話番号（tel_no）が3桁-3桁-4桁のデータを全項目表示せよ。"
      ]
    },
    {
      "cell_type": "code",
      "metadata": {
        "trusted": false,
        "id": "SrA3BoD5hhyF",
        "colab": {
          "base_uri": "https://localhost:8080/"
        },
        "outputId": "513f25f3-864e-47f3-a639-c087667b9b70"
      },
      "source": [
        "df_store.filter(F.col(\"tel_no\").rlike('[0-9]{3}-[0-9]{3}-[0-9]{4}')).show()"
      ],
      "execution_count": null,
      "outputs": [
        {
          "output_type": "stream",
          "name": "stdout",
          "text": [
            "+--------+------------+-------------+----------+--------------------------------------+----------------------------------------+------------+---------+--------+----------+\n",
            "|store_cd|  store_name|prefecture_cd|prefecture|                               address|                            address_kana|      tel_no|longitude|latitude|floor_area|\n",
            "+--------+------------+-------------+----------+--------------------------------------+----------------------------------------+------------+---------+--------+----------+\n",
            "|  S12014|    千草台店|           12|    千葉県|        千葉県千葉市稲毛区千草台一丁目|   チバケンチバシイナゲクチグサダイイ...|043-123-4003|  140.118|35.63559|    1698.0|\n",
            "|  S13002|    国分寺店|           13|    東京都|              東京都国分寺市本多二丁目|トウキョウトコクブンジシホンダニチョウメ|042-123-4008| 139.4802|35.70566|    1735.0|\n",
            "|  S14010|      菊名店|           14|  神奈川県|        神奈川県横浜市港北区菊名一丁目|   カナガワケンヨコハマシコウホククキ...|045-123-4032| 139.6326|35.50049|    1732.0|\n",
            "|  S14033|    阿久和店|           14|  神奈川県|    神奈川県横浜市瀬谷区阿久和西一丁目|   カナガワケンヨコハマシセヤクアクワ...|045-123-4043| 139.4961|35.45918|    1495.0|\n",
            "|  S14036|相模原中央店|           14|  神奈川県|            神奈川県相模原市中央二丁目|   カナガワケンサガミハラシチュウオウ...|042-123-4045| 139.3716|35.57327|    1679.0|\n",
            "|  S14040|    長津田店|           14|  神奈川県|神奈川県横浜市緑区長津田みなみ台五丁目|   カナガワケンヨコハマシミドリクナガ...|045-123-4046| 139.4994|35.52398|    1548.0|\n",
            "|  S14050|  阿久和西店|           14|  神奈川県|    神奈川県横浜市瀬谷区阿久和西一丁目|   カナガワケンヨコハマシセヤクアクワ...|045-123-4053| 139.4961|35.45918|    1830.0|\n",
            "|  S13052|      森野店|           13|    東京都|                東京都町田市森野三丁目|  トウキョウトマチダシモリノサンチョウメ|042-123-4030| 139.4383|35.55293|    1087.0|\n",
            "|  S14028|    二ツ橋店|           14|  神奈川県|          神奈川県横浜市瀬谷区二ツ橋町|   カナガワケンヨコハマシセヤクフタツ...|045-123-4042| 139.4963|35.46304|    1574.0|\n",
            "|  S14012|  本牧和田店|           14|  神奈川県|            神奈川県横浜市中区本牧和田|カナガワケンヨコハマシナカクホンモクワダ|045-123-4034| 139.6582|35.42156|    1341.0|\n",
            "|  S14046|    北山田店|           14|  神奈川県|      神奈川県横浜市都筑区北山田一丁目|   カナガワケンヨコハマシツヅキクキタ...|045-123-4049| 139.5916|35.56189|     831.0|\n",
            "|  S14022|      逗子店|           14|  神奈川県|              神奈川県逗子市逗子一丁目|      カナガワケンズシシズシイッチョウメ|046-123-4036| 139.5789|35.29642|    1838.0|\n",
            "|  S14011|  日吉本町店|           14|  神奈川県|    神奈川県横浜市港北区日吉本町四丁目|   カナガワケンヨコハマシコウホククヒ...|045-123-4033| 139.6316|35.54655|     890.0|\n",
            "|  S13016|    小金井店|           13|    東京都|              東京都小金井市本町一丁目|   トウキョウトコガネイシホンチョウイ...|042-123-4015| 139.5094|35.70018|    1399.0|\n",
            "|  S14034|  川崎野川店|           14|  神奈川県|              神奈川県川崎市宮前区野川|  カナガワケンカワサキシミヤマエクノガワ|044-123-4044| 139.5998|35.57693|    1318.0|\n",
            "|  S14048|  中川中央店|           14|  神奈川県|    神奈川県横浜市都筑区中川中央二丁目|   カナガワケンヨコハマシツヅキクナカ...|045-123-4051| 139.5758|35.54912|    1657.0|\n",
            "|  S12007|      佐倉店|           12|    千葉県|                    千葉県佐倉市上志津|                チバケンサクラシカミシヅ|043-123-4001| 140.1452|35.71872|    1895.0|\n",
            "|  S14026|辻堂西海岸店|           14|  神奈川県|        神奈川県藤沢市辻堂西海岸二丁目|   カナガワケンフジサワシツジドウニシ...|046-123-4040| 139.4466|35.32464|    1732.0|\n",
            "|  S13041|    八王子店|           13|    東京都|                    東京都八王子市大塚|        トウキョウトハチオウジシオオツカ|042-123-4026| 139.4235|35.63787|     810.0|\n",
            "|  S14049|  川崎大師店|           14|  神奈川県|        神奈川県川崎市川崎区中瀬三丁目|   カナガワケンカワサキシカワサキクナ...|044-123-4052| 139.7327|35.53759|     962.0|\n",
            "+--------+------------+-------------+----------+--------------------------------------+----------------------------------------+------------+---------+--------+----------+\n",
            "only showing top 20 rows\n",
            "\n"
          ]
        }
      ]
    },
    {
      "cell_type": "markdown",
      "metadata": {
        "id": "KnSy736bhhyH"
      },
      "source": [
        "---\n",
        "> P-17: 顧客データフレーム（df_customer）を生年月日（birth_day）で高齢順にソートし、先頭10件を全項目表示せよ。"
      ]
    },
    {
      "cell_type": "code",
      "metadata": {
        "trusted": false,
        "id": "5gjQipFAhhyH",
        "colab": {
          "base_uri": "https://localhost:8080/"
        },
        "outputId": "0b38d33d-702b-496c-f9a6-45279e615630"
      },
      "source": [
        "df_customer.orderBy(F.col(\"birth_day\")).show(10)"
      ],
      "execution_count": null,
      "outputs": [
        {
          "output_type": "stream",
          "name": "stdout",
          "text": [
            "+--------------+-------------+---------+------+----------+---+---------+--------------------------------+--------------------+----------------+------------+\n",
            "|   customer_id|customer_name|gender_cd|gender| birth_day|age|postal_cd|                         address|application_store_cd|application_date|   status_cd|\n",
            "+--------------+-------------+---------+------+----------+---+---------+--------------------------------+--------------------+----------------+------------+\n",
            "|CS003813000014|  村山 菜々美|        1|  女性|1928-11-26| 90| 182-0007|    東京都調布市菊野台**********|              S13003|        20160214|0-00000000-0|\n",
            "|CS026813000004|    吉村 朝陽|        1|  女性|1928-12-14| 90| 251-0043| 神奈川県藤沢市辻堂元町******...|              S14026|        20150723|0-00000000-0|\n",
            "|CS018811000003|    熊沢 美里|        1|  女性|1929-01-07| 90| 204-0004|      東京都清瀬市野塩**********|              S13018|        20150403|0-00000000-0|\n",
            "|CS027803000004|    内村 拓郎|        0|  男性|1929-01-12| 90| 251-0031|神奈川県藤沢市鵠沼藤が谷*****...|              S14027|        20151227|0-00000000-0|\n",
            "|CS013801000003|    天野 拓郎|        0|  男性|1929-01-15| 90| 274-0824|    千葉県船橋市前原東**********|              S12013|        20160120|0-00000000-0|\n",
            "|CS001814000022|    鶴田 里穂|        1|  女性|1929-01-28| 90| 144-0045|    東京都大田区南六郷**********|              S13001|        20161012|A-20090415-7|\n",
            "|CS016815000002|    山元 美紀|        1|  女性|1929-02-22| 90| 184-0005|    東京都小金井市桜町**********|              S13016|        20150629|C-20090923-C|\n",
            "|CS009815000003|    中田 里穂|        1|  女性|1929-04-08| 89| 154-0014|    東京都世田谷区新町**********|              S13009|        20150421|D-20091021-E|\n",
            "|CS012813000013|    宇野 南朋|        1|  女性|1929-04-09| 89| 231-0806|神奈川県横浜市中区本牧町*****...|              S14012|        20150712|0-00000000-0|\n",
            "|CS005813000015|  金谷 恵梨香|        1|  女性|1929-04-09| 89| 165-0032|      東京都中野区鷺宮**********|              S13005|        20150506|0-00000000-0|\n",
            "+--------------+-------------+---------+------+----------+---+---------+--------------------------------+--------------------+----------------+------------+\n",
            "only showing top 10 rows\n",
            "\n"
          ]
        }
      ]
    },
    {
      "cell_type": "markdown",
      "metadata": {
        "id": "BDUAeRqshhyI"
      },
      "source": [
        "---\n",
        "> P-18: 顧客データフレーム（df_customer）を生年月日（birth_day）で若い順にソートし、先頭10件を全項目表示せよ。"
      ]
    },
    {
      "cell_type": "code",
      "metadata": {
        "trusted": false,
        "id": "AkM5jZ2xhhyJ",
        "colab": {
          "base_uri": "https://localhost:8080/"
        },
        "outputId": "f9d28801-6d34-4919-c7f5-7e63f1b67408"
      },
      "source": [
        "df_customer.orderBy(F.col(\"birth_day\").desc()).show(10)"
      ],
      "execution_count": null,
      "outputs": [
        {
          "output_type": "stream",
          "name": "stdout",
          "text": [
            "+--------------+-------------+---------+------+----------+---+---------+---------------------------------+--------------------+----------------+------------+\n",
            "|   customer_id|customer_name|gender_cd|gender| birth_day|age|postal_cd|                          address|application_store_cd|application_date|   status_cd|\n",
            "+--------------+-------------+---------+------+----------+---+---------+---------------------------------+--------------------+----------------+------------+\n",
            "|CS035114000004|    大村 美里|        1|  女性|2007-11-25| 11| 156-0053|       東京都世田谷区桜**********|              S13035|        20150619|6-20091205-6|\n",
            "|CS022103000002|  福山 はじめ|        9|  不明|2007-10-02| 11| 249-0006|     神奈川県逗子市逗子**********|              S14022|        20160909|0-00000000-0|\n",
            "|CS002113000009|  柴田 真悠子|        1|  女性|2007-09-17| 11| 184-0014|  東京都小金井市貫井南町******...|              S13002|        20160304|0-00000000-0|\n",
            "|CS004115000014|    松井 京子|        1|  女性|2007-08-09| 11| 165-0031|     東京都中野区上鷺宮**********|              S13004|        20161120|1-20081231-1|\n",
            "|CS002114000010|      山内 遥|        1|  女性|2007-06-03| 11| 184-0015|  東京都小金井市貫井北町******...|              S13002|        20160920|6-20100510-1|\n",
            "|CS025115000002|    小柳 夏希|        1|  女性|2007-04-18| 11| 245-0018|神奈川県横浜市泉区上飯田町****...|              S14025|        20160116|D-20100913-D|\n",
            "|CS002113000025|  広末 まなみ|        1|  女性|2007-03-30| 12| 184-0015|  東京都小金井市貫井北町******...|              S13002|        20171030|0-00000000-0|\n",
            "|CS033112000003|    長野 美紀|        1|  女性|2007-03-22| 12| 245-0051|神奈川県横浜市戸塚区名瀬町****...|              S14033|        20150606|0-00000000-0|\n",
            "|CS007115000006|      福岡 瞬|        1|  女性|2007-03-10| 12| 285-0845|     千葉県佐倉市西志津**********|              S12007|        20151118|F-20101016-F|\n",
            "|CS014113000008|    矢口 莉緒|        1|  女性|2007-03-05| 12| 260-0041| 千葉県千葉市中央区東千葉*****...|              S12014|        20150622|3-20091108-6|\n",
            "+--------------+-------------+---------+------+----------+---+---------+---------------------------------+--------------------+----------------+------------+\n",
            "only showing top 10 rows\n",
            "\n"
          ]
        }
      ]
    },
    {
      "cell_type": "markdown",
      "metadata": {
        "id": "jIbxf5DwhhyK"
      },
      "source": [
        "---\n",
        "> P-19: レシート明細データフレーム（df_receipt）に対し、1件あたりの売上金額（amount）が高い順にランクを付与し、先頭10件を抽出せよ。項目は顧客ID（customer_id）、売上金額（amount）、付与したランクを表示させること。なお、売上金額（amount）が等しい場合は同一順位を付与するものとする。"
      ]
    },
    {
      "cell_type": "code",
      "metadata": {
        "trusted": false,
        "id": "erXRPeQXhhyL",
        "colab": {
          "base_uri": "https://localhost:8080/"
        },
        "outputId": "ae057b2e-2cfb-401d-f4fb-00ecb6c99c08"
      },
      "source": [
        "# customer_idごとにランク付けする場合\n",
        "# df_receipt.withColumn(\"rank\", F.rank().over(Window.partitionBy(\"customer_id\").orderBy(F.col(\"amount\").desc()))).show()\n",
        "df_receipt.withColumn(\"rank\", F.rank().over(Window.orderBy(F.col(\"amount\").desc())))\\\n",
        "          .select([\"customer_id\", \"amount\", \"rank\"]).show(10)"
      ],
      "execution_count": null,
      "outputs": [
        {
          "output_type": "stream",
          "name": "stdout",
          "text": [
            "+--------------+------+----+\n",
            "|   customer_id|amount|rank|\n",
            "+--------------+------+----+\n",
            "|CS011415000006| 10925|   1|\n",
            "|ZZ000000000000|  6800|   2|\n",
            "|CS028605000002|  5780|   3|\n",
            "|CS015515000034|  5480|   4|\n",
            "|ZZ000000000000|  5480|   4|\n",
            "|ZZ000000000000|  5480|   4|\n",
            "|ZZ000000000000|  5440|   7|\n",
            "|CS021515000089|  5440|   7|\n",
            "|ZZ000000000000|  5280|   9|\n",
            "|CS017414000114|  5280|   9|\n",
            "+--------------+------+----+\n",
            "only showing top 10 rows\n",
            "\n"
          ]
        }
      ]
    },
    {
      "cell_type": "markdown",
      "metadata": {
        "id": "mhp33yibhhyM"
      },
      "source": [
        "---\n",
        "> P-020: レシート明細データフレーム（df_receipt）に対し、1件あたりの売上金額（amount）が高い順にランクを付与し、先頭10件を抽出せよ。項目は顧客ID（customer_id）、売上金額（amount）、付与したランクを表示させること。なお、売上金額（amount）が等しい場合でも別順位を付与すること。"
      ]
    },
    {
      "cell_type": "code",
      "metadata": {
        "trusted": false,
        "id": "Ks8wJ4dghhyM",
        "colab": {
          "base_uri": "https://localhost:8080/"
        },
        "outputId": "db5ffd21-86e3-4e89-cb32-bd12c3a53ee7"
      },
      "source": [
        "df_receipt.withColumn(\"row_number\", F.row_number().over(Window.orderBy(F.col(\"amount\").desc())))\\\n",
        "          .select([\"customer_id\", \"amount\", \"row_number\"]).show(10)"
      ],
      "execution_count": null,
      "outputs": [
        {
          "output_type": "stream",
          "name": "stdout",
          "text": [
            "+--------------+------+----------+\n",
            "|   customer_id|amount|row_number|\n",
            "+--------------+------+----------+\n",
            "|CS011415000006| 10925|         1|\n",
            "|ZZ000000000000|  6800|         2|\n",
            "|CS028605000002|  5780|         3|\n",
            "|CS015515000034|  5480|         4|\n",
            "|ZZ000000000000|  5480|         5|\n",
            "|ZZ000000000000|  5480|         6|\n",
            "|ZZ000000000000|  5440|         7|\n",
            "|CS021515000089|  5440|         8|\n",
            "|ZZ000000000000|  5280|         9|\n",
            "|CS017414000114|  5280|        10|\n",
            "+--------------+------+----------+\n",
            "only showing top 10 rows\n",
            "\n"
          ]
        }
      ]
    },
    {
      "cell_type": "markdown",
      "metadata": {
        "id": "1lRGtDSphhyQ"
      },
      "source": [
        "---\n",
        "> P-021: レシート明細データフレーム（df_receipt）に対し、件数をカウントせよ。"
      ]
    },
    {
      "cell_type": "code",
      "metadata": {
        "trusted": false,
        "id": "m-ihL_fVhhyQ",
        "colab": {
          "base_uri": "https://localhost:8080/"
        },
        "outputId": "732711db-5ae2-4a5f-8b84-3082936299d4"
      },
      "source": [
        "df_receipt.count()"
      ],
      "execution_count": null,
      "outputs": [
        {
          "output_type": "execute_result",
          "data": {
            "text/plain": [
              "104681"
            ]
          },
          "metadata": {},
          "execution_count": 78
        }
      ]
    },
    {
      "cell_type": "markdown",
      "metadata": {
        "id": "MkjDW-oyhhyS"
      },
      "source": [
        "---\n",
        "> P-022: レシート明細データフレーム（df_receipt）の顧客ID（customer_id）に対し、ユニーク件数をカウントせよ。"
      ]
    },
    {
      "cell_type": "code",
      "metadata": {
        "trusted": false,
        "id": "0xSI9r8UhhyS",
        "colab": {
          "base_uri": "https://localhost:8080/"
        },
        "outputId": "8bbf4676-c71f-4513-cce0-e6522c82cbdc"
      },
      "source": [
        "df_receipt.select(\"customer_id\").distinct().count()"
      ],
      "execution_count": null,
      "outputs": [
        {
          "output_type": "execute_result",
          "data": {
            "text/plain": [
              "8307"
            ]
          },
          "metadata": {},
          "execution_count": 79
        }
      ]
    },
    {
      "cell_type": "markdown",
      "metadata": {
        "id": "nhAK-Wf5hhyT"
      },
      "source": [
        "---\n",
        "> P-023: レシート明細データフレーム（df_receipt）に対し、店舗コード（store_cd）ごとに売上金額（amount）と売上数量（quantity）を合計せよ。"
      ]
    },
    {
      "cell_type": "code",
      "metadata": {
        "trusted": false,
        "id": "ZAkUf4-5hhyU",
        "colab": {
          "base_uri": "https://localhost:8080/"
        },
        "outputId": "e5134287-d674-4b98-c974-02b37dfa3121"
      },
      "source": [
        "df_receipt.groupBy(\"store_cd\").sum(\"amount\", \"quantity\")\\\n",
        "          .withColumnRenamed(\"sum(amount)\", \"amount\")\\\n",
        "          .withColumnRenamed(\"sum(quantity)\", \"quantity\")\\\n",
        "          .show()"
      ],
      "execution_count": null,
      "outputs": [
        {
          "output_type": "stream",
          "name": "stdout",
          "text": [
            "+--------+------+--------+\n",
            "|store_cd|amount|quantity|\n",
            "+--------+------+--------+\n",
            "|  S14024|736323|    2417|\n",
            "|  S14045|458484|    1398|\n",
            "|  S13020|796383|    2383|\n",
            "|  S13038|708884|    2337|\n",
            "|  S14047|338329|    1041|\n",
            "|  S12014|725167|    2358|\n",
            "|  S13037|693087|    2344|\n",
            "|  S13051|107452|     354|\n",
            "|  S12013|787513|    2425|\n",
            "|  S14046|412646|    1354|\n",
            "|  S14011|805724|    2434|\n",
            "|  S13016|793773|    2432|\n",
            "|  S13035|715869|    2219|\n",
            "|  S14006|712839|    2284|\n",
            "|  S14027|714550|    2303|\n",
            "|  S13008|809288|    2491|\n",
            "|  S14025|755581|    2394|\n",
            "|  S13031|705968|    2336|\n",
            "|  S14036|203694|     635|\n",
            "|  S14040|701858|    2233|\n",
            "+--------+------+--------+\n",
            "only showing top 20 rows\n",
            "\n"
          ]
        }
      ]
    },
    {
      "cell_type": "markdown",
      "metadata": {
        "id": "F4RjuZr_hhyV"
      },
      "source": [
        "---\n",
        "> P-024: レシート明細データフレーム（df_receipt）に対し、顧客ID（customer_id）ごとに最も新しい売上日（sales_ymd）を求め、10件表示せよ。"
      ]
    },
    {
      "cell_type": "code",
      "metadata": {
        "trusted": false,
        "id": "ir6Oke73hhyV",
        "colab": {
          "base_uri": "https://localhost:8080/"
        },
        "outputId": "62e02115-555c-4311-f2ad-67c6d82b2a27"
      },
      "source": [
        "df_receipt.groupBy(\"customer_id\").max(\"sales_ymd\").show(10)"
      ],
      "execution_count": null,
      "outputs": [
        {
          "output_type": "stream",
          "name": "stdout",
          "text": [
            "+--------------+--------------+\n",
            "|   customer_id|max(sales_ymd)|\n",
            "+--------------+--------------+\n",
            "|CS024415000195|      20190907|\n",
            "|CS011515000044|      20181226|\n",
            "|CS017415000245|      20190615|\n",
            "|CS011512000113|      20190829|\n",
            "|CS025414000093|      20191016|\n",
            "|CS010605000007|      20181009|\n",
            "|CS011415000097|      20180909|\n",
            "|CS018515000090|      20190717|\n",
            "|CS015415000222|      20190928|\n",
            "|CS038605000003|      20190910|\n",
            "+--------------+--------------+\n",
            "only showing top 10 rows\n",
            "\n"
          ]
        }
      ]
    },
    {
      "cell_type": "markdown",
      "metadata": {
        "id": "QZlvMM7AhhyX"
      },
      "source": [
        "---\n",
        "> P-025: レシート明細データフレーム（df_receipt）に対し、顧客ID（customer_id）ごとに最も古い売上日（sales_ymd）を求め、10件表示せよ。"
      ]
    },
    {
      "cell_type": "code",
      "metadata": {
        "trusted": false,
        "id": "MFnLotE_hhyX",
        "colab": {
          "base_uri": "https://localhost:8080/"
        },
        "outputId": "aae94bbc-6cd8-483b-f001-22238ba5ce74"
      },
      "source": [
        "df_receipt.groupBy(\"customer_id\").min(\"sales_ymd\").show(10)"
      ],
      "execution_count": null,
      "outputs": [
        {
          "output_type": "stream",
          "name": "stdout",
          "text": [
            "+--------------+--------------+\n",
            "|   customer_id|min(sales_ymd)|\n",
            "+--------------+--------------+\n",
            "|CS024415000195|      20170119|\n",
            "|CS011515000044|      20170505|\n",
            "|CS017415000245|      20180110|\n",
            "|CS011512000113|      20181213|\n",
            "|CS025414000093|      20170806|\n",
            "|CS010605000007|      20170125|\n",
            "|CS011415000097|      20170108|\n",
            "|CS018515000090|      20170131|\n",
            "|CS015415000222|      20170313|\n",
            "|CS038605000003|      20170321|\n",
            "+--------------+--------------+\n",
            "only showing top 10 rows\n",
            "\n"
          ]
        }
      ]
    },
    {
      "cell_type": "markdown",
      "metadata": {
        "id": "QLeGVwYWhhyZ"
      },
      "source": [
        "---\n",
        "> P-026: レシート明細データフレーム（df_receipt）に対し、顧客ID（customer_id）ごとに最も新しい売上日（sales_ymd）と古い売上日を求め、両者が異なるデータを10件表示せよ。"
      ]
    },
    {
      "cell_type": "code",
      "metadata": {
        "trusted": false,
        "id": "q68lbEewhhyZ"
      },
      "source": [
        "df_receipt_min = df_receipt.groupBy(\"customer_id\")\\\n",
        "                            .agg({\"sales_ymd\":\"min\"})\n",
        "df_receipt_max = df_receipt.groupBy(\"customer_id\")\\\n",
        "                            .agg({\"sales_ymd\":\"max\"})\n",
        "df_receipt_merge = df_receipt_min.join(df_receipt_max, df_receipt_min[\"customer_id\"]==df_receipt_max[\"customer_id\"])"
      ],
      "execution_count": null,
      "outputs": []
    },
    {
      "cell_type": "code",
      "source": [
        "df_receipt_merge.filter(F.col(\"min(sales_ymd)\") != F.col(\"max(sales_ymd)\")).show()"
      ],
      "metadata": {
        "colab": {
          "base_uri": "https://localhost:8080/"
        },
        "id": "1qO0TiS6mKZB",
        "outputId": "d5c424cd-68e1-431b-c012-46912203bdac"
      },
      "execution_count": null,
      "outputs": [
        {
          "output_type": "stream",
          "name": "stdout",
          "text": [
            "+--------------+--------------+--------------+--------------+\n",
            "|   customer_id|min(sales_ymd)|   customer_id|max(sales_ymd)|\n",
            "+--------------+--------------+--------------+--------------+\n",
            "|CS024415000195|      20170119|CS024415000195|      20190907|\n",
            "|CS011515000044|      20170505|CS011515000044|      20181226|\n",
            "|CS017415000245|      20180110|CS017415000245|      20190615|\n",
            "|CS011512000113|      20181213|CS011512000113|      20190829|\n",
            "|CS025414000093|      20170806|CS025414000093|      20191016|\n",
            "|CS010605000007|      20170125|CS010605000007|      20181009|\n",
            "|CS011415000097|      20170108|CS011415000097|      20180909|\n",
            "|CS018515000090|      20170131|CS018515000090|      20190717|\n",
            "|CS015415000222|      20170313|CS015415000222|      20190928|\n",
            "|CS038605000003|      20170321|CS038605000003|      20190910|\n",
            "|CS028515000242|      20190106|CS028515000242|      20190804|\n",
            "|CS040215000044|      20170219|CS040215000044|      20190924|\n",
            "|CS049513000008|      20181220|CS049513000008|      20190927|\n",
            "|CS002411000018|      20170225|CS002411000018|      20180805|\n",
            "|CS038415000161|      20170726|CS038415000161|      20190205|\n",
            "|CS017514000012|      20170901|CS017514000012|      20190208|\n",
            "|CS030412000172|      20170218|CS030412000172|      20181018|\n",
            "|CS034515000045|      20170629|CS034515000045|      20190303|\n",
            "|CS020515000105|      20171110|CS020515000105|      20190728|\n",
            "|CS029413000181|      20170915|CS029413000181|      20171020|\n",
            "+--------------+--------------+--------------+--------------+\n",
            "only showing top 20 rows\n",
            "\n"
          ]
        }
      ]
    },
    {
      "cell_type": "markdown",
      "metadata": {
        "id": "259M7d7Ohhyb"
      },
      "source": [
        "---\n",
        "> P-027: レシート明細データフレーム（df_receipt）に対し、店舗コード（store_cd）ごとに売上金額（amount）の平均を計算し、降順でTOP5を表示せよ。"
      ]
    },
    {
      "cell_type": "code",
      "metadata": {
        "trusted": false,
        "id": "i5ehOOaBhhyb",
        "colab": {
          "base_uri": "https://localhost:8080/"
        },
        "outputId": "c0b15fbd-36b1-415f-c09d-d9b55988c1ec"
      },
      "source": [
        "df_receipt.groupBy(\"store_cd\").avg(\"amount\").orderBy(F.col(\"avg(amount)\").desc()).show(5)"
      ],
      "execution_count": null,
      "outputs": [
        {
          "output_type": "stream",
          "name": "stdout",
          "text": [
            "+--------+------------------+\n",
            "|store_cd|       avg(amount)|\n",
            "+--------+------------------+\n",
            "|  S13052|402.86746987951807|\n",
            "|  S13015|351.11196043165467|\n",
            "|  S13003| 350.9155188246097|\n",
            "|  S14010|348.79126213592235|\n",
            "|  S13001| 348.4703862660944|\n",
            "+--------+------------------+\n",
            "only showing top 5 rows\n",
            "\n"
          ]
        }
      ]
    },
    {
      "cell_type": "markdown",
      "metadata": {
        "id": "5oUtacPihhyc"
      },
      "source": [
        "---\n",
        "> P-028: レシート明細データフレーム（df_receipt）に対し、店舗コード（store_cd）ごとに売上金額（amount）の中央値を計算し、降順でTOP5を表示せよ。"
      ]
    },
    {
      "cell_type": "code",
      "source": [
        "import numpy as np\n",
        "import scipy as sp\n",
        "\n",
        "\n",
        "@F.udf(DoubleType())\n",
        "def udf_median(values_list):\n",
        "    med = np.median(values_list)\n",
        "    return float(med)\n",
        "\n",
        "@F.udf(DoubleType())\n",
        "def udf_mode(values_list):\n",
        "    mode, count = sp.stats.mode(values_list)\n",
        "    return float(count)"
      ],
      "metadata": {
        "id": "6fLpo2aRpfJd"
      },
      "execution_count": null,
      "outputs": []
    },
    {
      "cell_type": "code",
      "metadata": {
        "trusted": false,
        "id": "-s9SplCEhhyd",
        "colab": {
          "base_uri": "https://localhost:8080/"
        },
        "outputId": "ba440148-07d4-4864-c5d0-78b456ed44d4"
      },
      "source": [
        "df_receipt.groupBy(\"store_cd\").agg(udf_median(F.collect_list('amount')).alias('median_amount')).orderBy(F.col(\"median_amount\").desc()).show(5)"
      ],
      "execution_count": null,
      "outputs": [
        {
          "output_type": "stream",
          "name": "stdout",
          "text": [
            "+--------+-------------+\n",
            "|store_cd|median_amount|\n",
            "+--------+-------------+\n",
            "|  S13052|        190.0|\n",
            "|  S14010|        188.0|\n",
            "|  S14050|        185.0|\n",
            "|  S14040|        180.0|\n",
            "|  S13003|        180.0|\n",
            "+--------+-------------+\n",
            "only showing top 5 rows\n",
            "\n"
          ]
        }
      ]
    },
    {
      "cell_type": "markdown",
      "metadata": {
        "id": "4i4pM4Cmhhye"
      },
      "source": [
        "---\n",
        "> P-029: レシート明細データフレーム（df_receipt）に対し、店舗コード（store_cd）ごとに商品コード（product_cd）の最頻値を求めよ。"
      ]
    },
    {
      "cell_type": "code",
      "metadata": {
        "trusted": false,
        "id": "DsX1TXZIhhye",
        "colab": {
          "base_uri": "https://localhost:8080/"
        },
        "outputId": "d6e83391-511a-4c76-cf7a-07dfd3462e73"
      },
      "source": [
        "# df_receipt.groupby([\"store_cd\", \"product_cd\"]).count().orderBy(F.col(\"count\").desc()).show()\n",
        "df_receipt.groupBy(\"store_cd\").agg(udf_mode(F.collect_list('product_cd')).alias('mode_product_cd')).orderBy(F.col(\"mode_product_cd\").desc()).show()"
      ],
      "execution_count": null,
      "outputs": [
        {
          "output_type": "stream",
          "name": "stdout",
          "text": [
            "+--------+---------------+\n",
            "|store_cd|mode_product_cd|\n",
            "+--------+---------------+\n",
            "|  S14027|          152.0|\n",
            "|  S14012|          142.0|\n",
            "|  S14028|          140.0|\n",
            "|  S13031|          115.0|\n",
            "|  S12030|          115.0|\n",
            "|  S12013|          107.0|\n",
            "|  S14024|           96.0|\n",
            "|  S13044|           96.0|\n",
            "|  S12029|           92.0|\n",
            "|  S13037|           88.0|\n",
            "|  S13004|           88.0|\n",
            "|  S13032|           85.0|\n",
            "|  S14040|           80.0|\n",
            "|  S13020|           79.0|\n",
            "|  S13002|           78.0|\n",
            "|  S13008|           77.0|\n",
            "|  S12007|           72.0|\n",
            "|  S14046|           71.0|\n",
            "|  S14022|           71.0|\n",
            "|  S14034|           71.0|\n",
            "+--------+---------------+\n",
            "only showing top 20 rows\n",
            "\n"
          ]
        }
      ]
    },
    {
      "cell_type": "markdown",
      "metadata": {
        "id": "DKpNVF4Ahhyg"
      },
      "source": [
        "---\n",
        "> P-030: レシート明細データフレーム（df_receipt）に対し、店舗コード（store_cd）ごとに売上金額（amount）の標本分散を計算し、降順でTOP5を表示せよ。"
      ]
    },
    {
      "cell_type": "code",
      "metadata": {
        "trusted": false,
        "id": "YO_oM4BRhhyg",
        "colab": {
          "base_uri": "https://localhost:8080/"
        },
        "outputId": "eb55d2bc-9456-4697-e8ee-a0ebad84227c"
      },
      "source": [
        "# df_receipt.select(F.stddev(F.col(\"amount\")).alias(\"std\")).show()\n",
        "df_receipt.groupBy(\"store_cd\").agg(F.variance(F.col(\"amount\")).alias(\"variance\")).orderBy(F.col(\"variance\").desc()).show(5)"
      ],
      "execution_count": null,
      "outputs": [
        {
          "output_type": "stream",
          "name": "stdout",
          "text": [
            "+--------+------------------+\n",
            "|store_cd|          variance|\n",
            "+--------+------------------+\n",
            "|  S13052| 441863.2525262341|\n",
            "|  S14011|306442.24243156874|\n",
            "|  S14034| 297068.3927400612|\n",
            "|  S13001| 295558.8426177121|\n",
            "|  S13015| 295427.1970858535|\n",
            "+--------+------------------+\n",
            "only showing top 5 rows\n",
            "\n"
          ]
        }
      ]
    },
    {
      "cell_type": "markdown",
      "metadata": {
        "id": "KQUwt_Zghhyi"
      },
      "source": [
        "---\n",
        "> P-031: レシート明細データフレーム（df_receipt）に対し、店舗コード（store_cd）ごとに売上金額（amount）の標本標準偏差を計算し、降順でTOP5を表示せよ。"
      ]
    },
    {
      "cell_type": "code",
      "metadata": {
        "trusted": false,
        "id": "7UwDIKcZhhyi",
        "colab": {
          "base_uri": "https://localhost:8080/"
        },
        "outputId": "71566fa1-8559-489d-a0cd-9e49754715a6"
      },
      "source": [
        "# df_receipt.select(F.stddev(F.col(\"amount\")).alias(\"std\")).show()\n",
        "df_receipt.groupBy(\"store_cd\").agg(F.stddev(F.col(\"amount\")).alias(\"std\")).orderBy(F.col(\"std\").desc()).show(5)"
      ],
      "execution_count": null,
      "outputs": [
        {
          "output_type": "stream",
          "name": "stdout",
          "text": [
            "+--------+-----------------+\n",
            "|store_cd|              std|\n",
            "+--------+-----------------+\n",
            "|  S13052|664.7279537722436|\n",
            "|  S14011|553.5722558361905|\n",
            "|  S14034| 545.039808399406|\n",
            "|  S13001|543.6532374756101|\n",
            "|  S13015|543.5321490821435|\n",
            "+--------+-----------------+\n",
            "only showing top 5 rows\n",
            "\n"
          ]
        }
      ]
    },
    {
      "cell_type": "markdown",
      "metadata": {
        "id": "DpGB1z1Ehhyj"
      },
      "source": [
        "---\n",
        "> P-032: レシート明細データフレーム（df_receipt）の売上金額（amount）について、25％刻みでパーセンタイル値を求めよ。"
      ]
    },
    {
      "cell_type": "code",
      "metadata": {
        "trusted": false,
        "id": "JBG97d1yhhyk",
        "colab": {
          "base_uri": "https://localhost:8080/"
        },
        "outputId": "69a5a662-d1b8-4c3d-fe90-8491528a5dba"
      },
      "source": [
        "df_receipt.select(\"amount\").summary().show()"
      ],
      "execution_count": null,
      "outputs": [
        {
          "output_type": "stream",
          "name": "stdout",
          "text": [
            "+-------+------------------+\n",
            "|summary|            amount|\n",
            "+-------+------------------+\n",
            "|  count|            104681|\n",
            "|   mean| 320.5600825364679|\n",
            "| stddev|477.70274931379606|\n",
            "|    min|                10|\n",
            "|    25%|               102|\n",
            "|    50%|               170|\n",
            "|    75%|               288|\n",
            "|    max|             10925|\n",
            "+-------+------------------+\n",
            "\n"
          ]
        }
      ]
    },
    {
      "cell_type": "markdown",
      "metadata": {
        "id": "mYPLc_n4hhyl"
      },
      "source": [
        "---\n",
        "> P-033: レシート明細データフレーム（df_receipt）に対し、店舗コード（store_cd）ごとに売上金額（amount）の平均を計算し、330以上のものを抽出せよ。"
      ]
    },
    {
      "cell_type": "code",
      "metadata": {
        "trusted": false,
        "id": "mJsrgWhNhhym",
        "colab": {
          "base_uri": "https://localhost:8080/"
        },
        "outputId": "c2691456-8f9c-4d55-8ec0-8b9fabf887d7"
      },
      "source": [
        "df_receipt.groupBy(\"store_cd\").agg(F.mean(F.col(\"amount\")).alias(\"mean_amount\")).filter(F.col(\"mean_amount\")>=330).show()"
      ],
      "execution_count": null,
      "outputs": [
        {
          "output_type": "stream",
          "name": "stdout",
          "text": [
            "+--------+------------------+\n",
            "|store_cd|       mean_amount|\n",
            "+--------+------------------+\n",
            "|  S14045| 330.0820734341253|\n",
            "|  S13020|  337.879932117098|\n",
            "|  S14047| 330.0770731707317|\n",
            "|  S12013|330.19412997903567|\n",
            "|  S14011| 335.7183333333333|\n",
            "|  S14010|348.79126213592235|\n",
            "|  S13004|330.94394904458596|\n",
            "|  S13052|402.86746987951807|\n",
            "|  S13003| 350.9155188246097|\n",
            "|  S13019|330.20861587554845|\n",
            "|  S13001| 348.4703862660944|\n",
            "|  S13015|351.11196043165467|\n",
            "|  S14026|332.34058847239015|\n",
            "+--------+------------------+\n",
            "\n"
          ]
        }
      ]
    },
    {
      "cell_type": "markdown",
      "metadata": {
        "id": "Wraz5peFhhyo"
      },
      "source": [
        "---\n",
        "> P-034: レシート明細データフレーム（df_receipt）に対し、顧客ID（customer_id）ごとに売上金額（amount）を合計して全顧客の平均を求めよ。ただし、顧客IDが\"Z\"から始まるのものは非会員を表すため、除外して計算すること。\n"
      ]
    },
    {
      "cell_type": "code",
      "metadata": {
        "trusted": false,
        "id": "hYgDnVGjhhyo",
        "colab": {
          "base_uri": "https://localhost:8080/"
        },
        "outputId": "dd22fd78-05d5-4c21-a2da-a93c5415cfe1"
      },
      "source": [
        "df_receipt.filter(F.col(\"customer_id\").rlike('^(?!Z).*'))\\\n",
        "          .groupBy(\"customer_id\").agg(F.sum(F.col(\"amount\")))\\\n",
        "          .agg(F.mean(F.col(\"sum(amount)\"))).show()"
      ],
      "execution_count": null,
      "outputs": [
        {
          "output_type": "stream",
          "name": "stdout",
          "text": [
            "+-----------------+\n",
            "| avg(sum(amount))|\n",
            "+-----------------+\n",
            "|2547.742234529256|\n",
            "+-----------------+\n",
            "\n"
          ]
        }
      ]
    },
    {
      "cell_type": "markdown",
      "metadata": {
        "id": "h9E9b_yUhhyq"
      },
      "source": [
        "---\n",
        "> P-035: レシート明細データフレーム（df_receipt）に対し、顧客ID（customer_id）ごとに売上金額（amount）を合計して全顧客の平均を求め、平均以上に買い物をしている顧客を抽出せよ。ただし、顧客IDが\"Z\"から始まるのものは非会員を表すため、除外して計算すること。なお、データは10件だけ表示させれば良い。"
      ]
    },
    {
      "cell_type": "code",
      "metadata": {
        "trusted": false,
        "id": "7lYKkmsohhyq",
        "colab": {
          "base_uri": "https://localhost:8080/"
        },
        "outputId": "5dfc4827-c8bb-4e38-b124-e9d19b358747"
      },
      "source": [
        "df_amount_sum = df_receipt.filter(F.col(\"customer_id\").rlike('^(?!Z).*'))\\\n",
        "                        .groupBy(\"customer_id\").agg(F.sum(F.col(\"amount\")))\n",
        "amount_mean = df_amount_sum.agg(F.mean(F.col(\"sum(amount)\"))).first()[0]\n",
        "df_amount_sum.filter(F.col(\"sum(amount)\")>=amount_mean).show(10)"
      ],
      "execution_count": null,
      "outputs": [
        {
          "output_type": "stream",
          "name": "stdout",
          "text": [
            "+--------------+-----------+\n",
            "|   customer_id|sum(amount)|\n",
            "+--------------+-----------+\n",
            "|CS024415000195|       4638|\n",
            "|CS025414000093|       3929|\n",
            "|CS010605000007|       6420|\n",
            "|CS011415000097|       3462|\n",
            "|CS018515000090|       3756|\n",
            "|CS015415000222|      11472|\n",
            "|CS038605000003|       2833|\n",
            "|CS049513000008|       4450|\n",
            "|CS017514000012|       4699|\n",
            "|CS020515000105|       5283|\n",
            "+--------------+-----------+\n",
            "only showing top 10 rows\n",
            "\n"
          ]
        }
      ]
    },
    {
      "cell_type": "markdown",
      "metadata": {
        "id": "e4wFXsuLhhys"
      },
      "source": [
        "---\n",
        "> P-036: レシート明細データフレーム（df_receipt）と店舗データフレーム（df_store）を内部結合し、レシート明細データフレームの全項目と店舗データフレームの店舗名（store_name）を10件表示させよ。"
      ]
    },
    {
      "cell_type": "code",
      "metadata": {
        "trusted": false,
        "id": "n7p7o5sDhhys",
        "colab": {
          "base_uri": "https://localhost:8080/"
        },
        "outputId": "bf9aa1c3-5322-4d01-8b7d-3c30599717f2"
      },
      "source": [
        "df_receipt.join(df_store, \"store_cd\", \"inner\").select(df_receipt.columns+[\"store_name\"]).show(10)"
      ],
      "execution_count": null,
      "outputs": [
        {
          "output_type": "stream",
          "name": "stdout",
          "text": [
            "+---------+-----------+--------+----------+--------------+--------------+----------+--------+------+----------+\n",
            "|sales_ymd|sales_epoch|store_cd|receipt_no|receipt_sub_no|   customer_id|product_cd|quantity|amount|store_name|\n",
            "+---------+-----------+--------+----------+--------------+--------------+----------+--------+------+----------+\n",
            "| 20181103| 1541203200|  S14006|       112|             1|CS006214000001|P070305012|       1|   158|  葛が谷店|\n",
            "| 20181118| 1542499200|  S13008|      1132|             2|CS008415000097|P070701017|       1|    81|    成城店|\n",
            "| 20170712| 1499817600|  S14028|      1102|             1|CS028414000014|P060101005|       1|   170|  二ツ橋店|\n",
            "| 20190205| 1549324800|  S14042|      1132|             1|ZZ000000000000|P050301001|       1|    25|  新山下店|\n",
            "| 20180821| 1534809600|  S14025|      1102|             2|CS025415000050|P060102007|       1|    90|    大和店|\n",
            "| 20190605| 1559692800|  S13003|      1112|             1|CS003515000195|P050102002|       1|   138|    狛江店|\n",
            "| 20181205| 1543968000|  S14024|      1102|             2|CS024514000042|P080101005|       1|    30|    三田店|\n",
            "| 20190922| 1569110400|  S14040|      1102|             1|CS040415000178|P070501004|       1|   128|  長津田店|\n",
            "| 20170504| 1493856000|  S13020|      1112|             2|ZZ000000000000|P071302010|       1|   770|十条仲原店|\n",
            "| 20191010| 1570665600|  S14027|      1102|             1|CS027514000015|P071101003|       1|   680|  南藤沢店|\n",
            "+---------+-----------+--------+----------+--------------+--------------+----------+--------+------+----------+\n",
            "only showing top 10 rows\n",
            "\n"
          ]
        }
      ]
    },
    {
      "cell_type": "markdown",
      "metadata": {
        "id": "8TdeNEn_hhyu"
      },
      "source": [
        "---\n",
        "> P-037: 商品データフレーム（df_product）とカテゴリデータフレーム（df_category）を内部結合し、商品データフレームの全項目とカテゴリデータフレームの小区分名（category_small_name）を10件表示させよ。"
      ]
    },
    {
      "cell_type": "code",
      "metadata": {
        "trusted": false,
        "id": "J20VBcmxhhyu",
        "colab": {
          "base_uri": "https://localhost:8080/"
        },
        "outputId": "e82e0c05-fc3d-4c0c-8fe6-e76f90d9f720"
      },
      "source": [
        "df_product.join(df_category, [\"category_major_cd\", \"category_medium_cd\", \"category_small_cd\"], \"inner\").select(df_product.columns+[\"category_small_name\"]).show(10)"
      ],
      "execution_count": null,
      "outputs": [
        {
          "output_type": "stream",
          "name": "stdout",
          "text": [
            "+----------+-----------------+------------------+-----------------+----------+---------+-------------------+\n",
            "|product_cd|category_major_cd|category_medium_cd|category_small_cd|unit_price|unit_cost|category_small_name|\n",
            "+----------+-----------------+------------------+-----------------+----------+---------+-------------------+\n",
            "|P040101001|                4|               401|            40101|       198|      149|             弁当類|\n",
            "|P040101002|                4|               401|            40101|       218|      164|             弁当類|\n",
            "|P040101003|                4|               401|            40101|       230|      173|             弁当類|\n",
            "|P040101004|                4|               401|            40101|       248|      186|             弁当類|\n",
            "|P040101005|                4|               401|            40101|       268|      201|             弁当類|\n",
            "|P040101006|                4|               401|            40101|       298|      224|             弁当類|\n",
            "|P040101007|                4|               401|            40101|       338|      254|             弁当類|\n",
            "|P040101008|                4|               401|            40101|       420|      315|             弁当類|\n",
            "|P040101009|                4|               401|            40101|       498|      374|             弁当類|\n",
            "|P040101010|                4|               401|            40101|       580|      435|             弁当類|\n",
            "+----------+-----------------+------------------+-----------------+----------+---------+-------------------+\n",
            "only showing top 10 rows\n",
            "\n"
          ]
        }
      ]
    },
    {
      "cell_type": "markdown",
      "metadata": {
        "id": "iNO7ESvWhhyw"
      },
      "source": [
        "---\n",
        "> P-038: 顧客データフレーム（df_customer）とレシート明細データフレーム（df_receipt）から、各顧客ごとの売上金額合計を求めよ。ただし、買い物の実績がない顧客については売上金額を0として表示させること。また、顧客は性別コード（gender_cd）が女性（1）であるものを対象とし、非会員（顧客IDが'Z'から始まるもの）は除外すること。なお、結果は10件だけ表示させれば良い。"
      ]
    },
    {
      "cell_type": "code",
      "source": [
        "df_customer.join(df_receipt, \"customer_id\", \"inner\")\\\n",
        "            .filter((F.col(\"gender_cd\")==1) & (F.col(\"customer_id\").rlike('^(?!Z).*')))\\\n",
        "            .groupBy(\"customer_id\").agg(F.sum(F.col(\"amount\"))).show()"
      ],
      "metadata": {
        "colab": {
          "base_uri": "https://localhost:8080/"
        },
        "id": "BVrfokn8PLiR",
        "outputId": "c1c74fc3-3bba-44bd-c47e-8dd807964400"
      },
      "execution_count": null,
      "outputs": [
        {
          "output_type": "stream",
          "name": "stdout",
          "text": [
            "+--------------+-----------+\n",
            "|   customer_id|sum(amount)|\n",
            "+--------------+-----------+\n",
            "|CS024415000195|       4638|\n",
            "|CS011515000044|       2533|\n",
            "|CS017415000245|       1289|\n",
            "|CS011512000113|        686|\n",
            "|CS025414000093|       3929|\n",
            "|CS011415000097|       3462|\n",
            "|CS018515000090|       3756|\n",
            "|CS015415000222|      11472|\n",
            "|CS028515000242|       1525|\n",
            "|CS040215000044|       1439|\n",
            "|CS049513000008|       4450|\n",
            "|CS002411000018|       1054|\n",
            "|CS017514000103|        348|\n",
            "|CS010413000069|        278|\n",
            "|CS038415000161|       2512|\n",
            "|CS017514000012|       4699|\n",
            "|CS030412000172|        766|\n",
            "|CS002513000664|        398|\n",
            "|CS002514000021|        413|\n",
            "|CS034515000045|       1105|\n",
            "+--------------+-----------+\n",
            "only showing top 20 rows\n",
            "\n"
          ]
        }
      ]
    },
    {
      "cell_type": "markdown",
      "metadata": {
        "id": "O8FU3doGhhyy"
      },
      "source": [
        "---\n",
        "> P-039: レシート明細データフレーム（df_receipt）から売上日数の多い顧客の上位20件と、売上金額合計の多い顧客の上位20件を抽出し、完全外部結合せよ。ただし、非会員（顧客IDが'Z'から始まるもの）は除外すること。"
      ]
    },
    {
      "cell_type": "code",
      "source": [
        "df_receipt_tmp1.show()"
      ],
      "metadata": {
        "colab": {
          "base_uri": "https://localhost:8080/"
        },
        "id": "fI0Y_lFVTBCh",
        "outputId": "0548b56d-763d-4c6c-af39-2a5860068eee"
      },
      "execution_count": null,
      "outputs": [
        {
          "output_type": "stream",
          "name": "stdout",
          "text": [
            "+--------------+\n",
            "|   customer_id|\n",
            "+--------------+\n",
            "|CS040214000008|\n",
            "|CS010214000010|\n",
            "|CS015415000185|\n",
            "|CS028415000007|\n",
            "|CS010214000002|\n",
            "|CS007515000107|\n",
            "|CS021514000045|\n",
            "|CS016415000141|\n",
            "|CS017415000097|\n",
            "|CS031414000051|\n",
            "|CS031414000073|\n",
            "|CS021515000172|\n",
            "|CS014415000077|\n",
            "|CS032415000209|\n",
            "|CS014214000023|\n",
            "|CS039414000052|\n",
            "|CS022515000226|\n",
            "|CS021515000101|\n",
            "|CS030214000008|\n",
            "|CS021514000008|\n",
            "+--------------+\n",
            "\n"
          ]
        }
      ]
    },
    {
      "cell_type": "code",
      "metadata": {
        "trusted": false,
        "id": "Av7SadgPhhyy",
        "colab": {
          "base_uri": "https://localhost:8080/"
        },
        "outputId": "b40540ff-afe6-4bcf-ceef-c43158a780ee"
      },
      "source": [
        "df_receipt_tmp1 = df_receipt.filter(F.col(\"customer_id\").rlike('^(?!Z).*'))\\\n",
        "                            .groupBy(\"customer_id\")\\\n",
        "                            .agg(F.count(F.col(\"sales_ymd\")))\\\n",
        "                            .orderBy(F.col(\"count(sales_ymd)\").desc()).select([\"customer_id\", \"count(sales_ymd)\"]).limit(20)\n",
        "df_receipt_tmp2 = df_receipt.filter(F.col(\"customer_id\").rlike('^(?!Z).*'))\\\n",
        "                            .groupBy(\"customer_id\")\\\n",
        "                            .agg(F.sum(F.col(\"amount\")))\\\n",
        "                            .orderBy(F.col(\"sum(amount)\").desc()).select([\"customer_id\", \"sum(amount)\"]).limit(20)\n",
        "df_receipt_tmp1.join(df_receipt_tmp2, \"customer_id\", \"outer\").show()"
      ],
      "execution_count": null,
      "outputs": [
        {
          "output_type": "stream",
          "name": "stdout",
          "text": [
            "+--------------+----------------+-----------+\n",
            "|   customer_id|count(sales_ymd)|sum(amount)|\n",
            "+--------------+----------------+-----------+\n",
            "|CS001605000009|            null|      18925|\n",
            "|CS006515000023|            null|      18372|\n",
            "|CS007514000094|            null|      15735|\n",
            "|CS007515000107|              40|       null|\n",
            "|CS009414000059|            null|      15492|\n",
            "|CS010214000002|              42|       null|\n",
            "|CS010214000010|              44|      18585|\n",
            "|CS011414000106|            null|      18338|\n",
            "|CS011415000006|            null|      16094|\n",
            "|CS014214000023|              38|       null|\n",
            "|CS014415000077|              38|       null|\n",
            "|CS015415000185|              44|      20153|\n",
            "|CS015515000034|            null|      15300|\n",
            "|CS016415000101|            null|      16348|\n",
            "|CS016415000141|              40|      18372|\n",
            "|CS017415000097|              40|      23086|\n",
            "|CS021514000008|              36|       null|\n",
            "|CS021514000045|              40|       null|\n",
            "|CS021515000089|            null|      17580|\n",
            "|CS021515000101|              36|       null|\n",
            "+--------------+----------------+-----------+\n",
            "only showing top 20 rows\n",
            "\n"
          ]
        }
      ]
    },
    {
      "cell_type": "markdown",
      "metadata": {
        "id": "pcu3GCH9hhyz"
      },
      "source": [
        "---\n",
        "> P-040: 全ての店舗と全ての商品を組み合わせると何件のデータとなるか調査したい。店舗（df_store）と商品（df_product）を直積した件数を計算せよ。"
      ]
    },
    {
      "cell_type": "code",
      "source": [
        "df_store.count() * df_product.count()"
      ],
      "metadata": {
        "colab": {
          "base_uri": "https://localhost:8080/"
        },
        "id": "41PvosWD73Fo",
        "outputId": "bfb29f43-a601-4e74-c47f-d24b56eeafe8"
      },
      "execution_count": null,
      "outputs": [
        {
          "output_type": "execute_result",
          "data": {
            "text/plain": [
              "531590"
            ]
          },
          "metadata": {},
          "execution_count": 26
        }
      ]
    },
    {
      "cell_type": "markdown",
      "metadata": {
        "id": "qbPipL0Hhhy1"
      },
      "source": [
        "---\n",
        "> P-041: レシート明細データフレーム（df_receipt）の売上金額（amount）を日付（sales_ymd）ごとに集計し、前日からの売上金額増減を計算せよ。なお、計算結果は10件表示すればよい。"
      ]
    },
    {
      "cell_type": "code",
      "metadata": {
        "trusted": false,
        "id": "SvVN53Kehhy2",
        "colab": {
          "base_uri": "https://localhost:8080/"
        },
        "outputId": "d5f8a42b-788d-4e48-c4df-2acbb22e3dc6"
      },
      "source": [
        "df_sales_amount_by_date = df_receipt.select([\"sales_ymd\", \"amount\"]).groupby(\"sales_ymd\").agg(F.sum(\"amount\"))\n",
        "w = Window.orderBy(\"sales_ymd\")\n",
        "df_sales_amount_by_date = df_sales_amount_by_date.withColumn(\"lag_ymd\", F.lag(\"sales_ymd\").over(w))\\\n",
        "                                                 .withColumn(\"lag_amount\", F.lag(\"sum(amount)\").over(w))\\\n",
        "                                                 .withColumn(\"diff_amount\", F.col(\"sum(amount)\") - F.col(\"lag_amount\"))\n",
        "\n",
        "df_sales_amount_by_date.orderBy(\"sales_ymd\").show(10)"
      ],
      "execution_count": null,
      "outputs": [
        {
          "output_type": "stream",
          "name": "stdout",
          "text": [
            "+---------+-----------+----------+--------+-----------+\n",
            "|sales_ymd|sum(amount)|lag_amount| lag_ymd|diff_amount|\n",
            "+---------+-----------+----------+--------+-----------+\n",
            "| 20170101|      33723|      null|    null|       null|\n",
            "| 20170102|      24165|     33723|20170101|      -9558|\n",
            "| 20170103|      27503|     24165|20170102|       3338|\n",
            "| 20170104|      36165|     27503|20170103|       8662|\n",
            "| 20170105|      37830|     36165|20170104|       1665|\n",
            "| 20170106|      32387|     37830|20170105|      -5443|\n",
            "| 20170107|      23415|     32387|20170106|      -8972|\n",
            "| 20170108|      24737|     23415|20170107|       1322|\n",
            "| 20170109|      26718|     24737|20170108|       1981|\n",
            "| 20170110|      20143|     26718|20170109|      -6575|\n",
            "+---------+-----------+----------+--------+-----------+\n",
            "only showing top 10 rows\n",
            "\n"
          ]
        }
      ]
    },
    {
      "cell_type": "markdown",
      "metadata": {
        "id": "PNUVk5Dmhhy3"
      },
      "source": [
        "---\n",
        "> P-042: レシート明細データフレーム（df_receipt）の売上金額（amount）を日付（sales_ymd）ごとに集計し、各日付のデータに対し、１日前、２日前、３日前のデータを結合せよ。結果は10件表示すればよい。"
      ]
    },
    {
      "cell_type": "code",
      "metadata": {
        "trusted": false,
        "id": "LE_foOoUhhy4",
        "colab": {
          "base_uri": "https://localhost:8080/"
        },
        "outputId": "465641cd-857c-4c13-fae7-b6c5cf300f6e"
      },
      "source": [
        "df_sales_amount_by_date = df_receipt.select([\"sales_ymd\", \"amount\"]).groupby(\"sales_ymd\").agg(F.sum(\"amount\"))\n",
        "w = Window.orderBy(\"sales_ymd\")\n",
        "df_sales_amount_by_date = df_sales_amount_by_date.withColumn(\"lag_ymd_d1\", F.lag(\"sales_ymd\").over(w))\\\n",
        "                                                 .withColumn(\"lag_amount_d1\", F.lag(\"sum(amount)\").over(w))\\\n",
        "                                                 .withColumn(\"lag_ymd_d2\", F.lag(\"sales_ymd\", offset=2).over(w))\\\n",
        "                                                 .withColumn(\"lag_amount_d2\", F.lag(\"sum(amount)\", offset=2).over(w))\\\n",
        "                                                 .withColumn(\"lag_ymd_d3\", F.lag(\"sales_ymd\", offset=3).over(w))\\\n",
        "                                                 .withColumn(\"lag_amount_d3\", F.lag(\"sum(amount)\", offset=3).over(w))\n",
        "                                                 \n",
        "df_sales_amount_by_date.dropna().orderBy(\"sales_ymd\").show(10)                              "
      ],
      "execution_count": null,
      "outputs": [
        {
          "output_type": "stream",
          "name": "stdout",
          "text": [
            "+---------+-----------+-------------+----------+-------------+----------+-------------+----------+\n",
            "|sales_ymd|sum(amount)|lag_amount_d1|lag_ymd_d1|lag_amount_d2|lag_ymd_d2|lag_amount_d3|lag_ymd_d3|\n",
            "+---------+-----------+-------------+----------+-------------+----------+-------------+----------+\n",
            "| 20170104|      36165|        27503|  20170103|        24165|  20170102|        33723|  20170101|\n",
            "| 20170105|      37830|        36165|  20170104|        27503|  20170103|        24165|  20170102|\n",
            "| 20170106|      32387|        37830|  20170105|        36165|  20170104|        27503|  20170103|\n",
            "| 20170107|      23415|        32387|  20170106|        37830|  20170105|        36165|  20170104|\n",
            "| 20170108|      24737|        23415|  20170107|        32387|  20170106|        37830|  20170105|\n",
            "| 20170109|      26718|        24737|  20170108|        23415|  20170107|        32387|  20170106|\n",
            "| 20170110|      20143|        26718|  20170109|        24737|  20170108|        23415|  20170107|\n",
            "| 20170111|      24287|        20143|  20170110|        26718|  20170109|        24737|  20170108|\n",
            "| 20170112|      23526|        24287|  20170111|        20143|  20170110|        26718|  20170109|\n",
            "| 20170113|      28004|        23526|  20170112|        24287|  20170111|        20143|  20170110|\n",
            "+---------+-----------+-------------+----------+-------------+----------+-------------+----------+\n",
            "only showing top 10 rows\n",
            "\n"
          ]
        }
      ]
    },
    {
      "cell_type": "markdown",
      "metadata": {
        "id": "uEnwKvWbhhy5"
      },
      "source": [
        "---\n",
        "> P-043： レシート明細データフレーム（df_receipt）と顧客データフレーム（df_customer）を結合し、性別（gender）と年代（ageから計算）ごとに売上金額（amount）を合計した売上サマリデータフレーム（df_sales_summary）を作成せよ。性別は0が男性、1が女性、9が不明を表すものとする。\n",
        ">\n",
        "> ただし、項目構成は年代、女性の売上金額、男性の売上金額、性別不明の売上金額の4項目とすること（縦に年代、横に性別のクロス集計）。また、年代は10歳ごとの階級とすること。"
      ]
    },
    {
      "cell_type": "code",
      "source": [
        "df_customer_tmp = df_customer.withColumn(\"age_group\",\n",
        "                                         F.when(F.col(\"age\") < 10, 1)\\\n",
        "                                          .when((F.col(\"age\") >= 10) & (F.col(\"age\") < 20), 10)\\\n",
        "                                          .when((F.col(\"age\") >= 20) & (F.col(\"age\") < 30), 20)\\\n",
        "                                          .when((F.col(\"age\") >= 30) & (F.col(\"age\") < 40), 30)\\\n",
        "                                          .when((F.col(\"age\") >= 40) & (F.col(\"age\") < 50), 40)\\\n",
        "                                          .when((F.col(\"age\") >= 50) & (F.col(\"age\") < 60), 50)\\\n",
        "                                          .when((F.col(\"age\") >= 60) & (F.col(\"age\") < 70), 60)\\\n",
        "                                          .when((F.col(\"age\") >= 70) & (F.col(\"age\") < 80), 70)\\\n",
        "                                          .otherwise(80)\n",
        "                                         )\n",
        "df_receipt_tmp = df_receipt.join(df_customer_tmp, \"customer_id\", \"inner\")\n",
        "# df_sales_summary = df_receipt_tmp.groupby(\"age_group\").pivot(\"gender\").agg(F.sum(\"amount\").alias(\"gender_age_amount\"))\n",
        "# ↓パフォーマンスよい\n",
        "df_sales_summary = df_receipt_tmp.groupby(\"age_group\", \"gender\").sum(\"amount\").groupby(\"age_group\").pivot(\"gender\").agg(F.sum(\"sum(amount)\").alias(\"gender_age_amount\"))"
      ],
      "metadata": {
        "id": "qsqLcnnl34m0"
      },
      "execution_count": null,
      "outputs": []
    },
    {
      "cell_type": "markdown",
      "metadata": {
        "id": "PIC95tKMhhy8"
      },
      "source": [
        "---\n",
        "> P-044： 前設問で作成した売上サマリデータフレーム（df_sales_summary）は性別の売上を横持ちさせたものであった。このデータフレームから性別を縦持ちさせ、年代、性別コード、売上金額の3項目に変換せよ。ただし、性別コードは男性を'00'、女性を'01'、不明を'99'とする。"
      ]
    },
    {
      "cell_type": "code",
      "source": [
        "df_sales_summary_pivot = df_sales_summary.withColumnRenamed(\"男性\", \"00\").withColumnRenamed(\"女性\", \"01\").withColumnRenamed(\"不明\", \"99\")"
      ],
      "metadata": {
        "id": "GGxc9HAU6UPk"
      },
      "execution_count": null,
      "outputs": []
    },
    {
      "cell_type": "code",
      "metadata": {
        "trusted": false,
        "id": "TMKQe8F5hhy8",
        "outputId": "4924f99b-1201-46c0-ebb4-bfe23d6bb335",
        "colab": {
          "base_uri": "https://localhost:8080/"
        }
      },
      "source": [
        "df_sales_summary_pivot.select(\"age_group\",\n",
        "                              F.expr(expr_unpivot)\n",
        "                              ).show()"
      ],
      "execution_count": null,
      "outputs": [
        {
          "output_type": "stream",
          "name": "stdout",
          "text": [
            "+---------+-----------+-----------------+\n",
            "|age_group|gender_code|gender_age_amount|\n",
            "+---------+-----------+-----------------+\n",
            "|       20|         99|               99|\n",
            "|       20|         00|                0|\n",
            "|       20|         01|                1|\n",
            "|       40|         99|               99|\n",
            "|       40|         00|                0|\n",
            "|       40|         01|                1|\n",
            "|       10|         99|               99|\n",
            "|       10|         00|                0|\n",
            "|       10|         01|                1|\n",
            "|       50|         99|               99|\n",
            "|       50|         00|                0|\n",
            "|       50|         01|                1|\n",
            "|       80|         99|               99|\n",
            "|       80|         00|                0|\n",
            "|       80|         01|                1|\n",
            "|       70|         99|               99|\n",
            "|       70|         00|                0|\n",
            "|       70|         01|                1|\n",
            "|       60|         99|               99|\n",
            "|       60|         00|                0|\n",
            "+---------+-----------+-----------------+\n",
            "only showing top 20 rows\n",
            "\n"
          ]
        }
      ]
    },
    {
      "cell_type": "code",
      "source": [
        "df_sales_summary_tmp = df_sales_summary_pivot.toPandas()\n",
        "\n",
        "df_sales_summary_tmp.melt(id_vars=[\"age_group\"])"
      ],
      "metadata": {
        "id": "oj3jVUxU7YKB",
        "outputId": "5577e957-5736-4d96-a66a-d79e15aeef62",
        "colab": {
          "base_uri": "https://localhost:8080/",
          "height": 802
        }
      },
      "execution_count": null,
      "outputs": [
        {
          "output_type": "execute_result",
          "data": {
            "text/plain": [
              "    age_group variable    value\n",
              "0          40       99   483512\n",
              "1          20       99    44328\n",
              "2          10       99     4317\n",
              "3          50       99   342923\n",
              "4          80       99     5111\n",
              "5          70       99     2427\n",
              "6          60       99    71418\n",
              "7          30       99    50441\n",
              "8          40       01  9320791\n",
              "9          20       01  1363724\n",
              "10         10       01   149836\n",
              "11         50       01  6685192\n",
              "12         80       01   269183\n",
              "13         70       01    29764\n",
              "14         60       01   987741\n",
              "15         30       01   693047\n",
              "16         40       00    19355\n",
              "17         20       00    72940\n",
              "18         10       00     1591\n",
              "19         50       00    54320\n",
              "20         80       00    46360\n",
              "21         70       00    13435\n",
              "22         60       00   272469\n",
              "23         30       00   177322"
            ],
            "text/html": [
              "\n",
              "  <div id=\"df-67225c13-f5be-427b-8ae1-a237dfd5c510\">\n",
              "    <div class=\"colab-df-container\">\n",
              "      <div>\n",
              "<style scoped>\n",
              "    .dataframe tbody tr th:only-of-type {\n",
              "        vertical-align: middle;\n",
              "    }\n",
              "\n",
              "    .dataframe tbody tr th {\n",
              "        vertical-align: top;\n",
              "    }\n",
              "\n",
              "    .dataframe thead th {\n",
              "        text-align: right;\n",
              "    }\n",
              "</style>\n",
              "<table border=\"1\" class=\"dataframe\">\n",
              "  <thead>\n",
              "    <tr style=\"text-align: right;\">\n",
              "      <th></th>\n",
              "      <th>age_group</th>\n",
              "      <th>variable</th>\n",
              "      <th>value</th>\n",
              "    </tr>\n",
              "  </thead>\n",
              "  <tbody>\n",
              "    <tr>\n",
              "      <th>0</th>\n",
              "      <td>40</td>\n",
              "      <td>99</td>\n",
              "      <td>483512</td>\n",
              "    </tr>\n",
              "    <tr>\n",
              "      <th>1</th>\n",
              "      <td>20</td>\n",
              "      <td>99</td>\n",
              "      <td>44328</td>\n",
              "    </tr>\n",
              "    <tr>\n",
              "      <th>2</th>\n",
              "      <td>10</td>\n",
              "      <td>99</td>\n",
              "      <td>4317</td>\n",
              "    </tr>\n",
              "    <tr>\n",
              "      <th>3</th>\n",
              "      <td>50</td>\n",
              "      <td>99</td>\n",
              "      <td>342923</td>\n",
              "    </tr>\n",
              "    <tr>\n",
              "      <th>4</th>\n",
              "      <td>80</td>\n",
              "      <td>99</td>\n",
              "      <td>5111</td>\n",
              "    </tr>\n",
              "    <tr>\n",
              "      <th>5</th>\n",
              "      <td>70</td>\n",
              "      <td>99</td>\n",
              "      <td>2427</td>\n",
              "    </tr>\n",
              "    <tr>\n",
              "      <th>6</th>\n",
              "      <td>60</td>\n",
              "      <td>99</td>\n",
              "      <td>71418</td>\n",
              "    </tr>\n",
              "    <tr>\n",
              "      <th>7</th>\n",
              "      <td>30</td>\n",
              "      <td>99</td>\n",
              "      <td>50441</td>\n",
              "    </tr>\n",
              "    <tr>\n",
              "      <th>8</th>\n",
              "      <td>40</td>\n",
              "      <td>01</td>\n",
              "      <td>9320791</td>\n",
              "    </tr>\n",
              "    <tr>\n",
              "      <th>9</th>\n",
              "      <td>20</td>\n",
              "      <td>01</td>\n",
              "      <td>1363724</td>\n",
              "    </tr>\n",
              "    <tr>\n",
              "      <th>10</th>\n",
              "      <td>10</td>\n",
              "      <td>01</td>\n",
              "      <td>149836</td>\n",
              "    </tr>\n",
              "    <tr>\n",
              "      <th>11</th>\n",
              "      <td>50</td>\n",
              "      <td>01</td>\n",
              "      <td>6685192</td>\n",
              "    </tr>\n",
              "    <tr>\n",
              "      <th>12</th>\n",
              "      <td>80</td>\n",
              "      <td>01</td>\n",
              "      <td>269183</td>\n",
              "    </tr>\n",
              "    <tr>\n",
              "      <th>13</th>\n",
              "      <td>70</td>\n",
              "      <td>01</td>\n",
              "      <td>29764</td>\n",
              "    </tr>\n",
              "    <tr>\n",
              "      <th>14</th>\n",
              "      <td>60</td>\n",
              "      <td>01</td>\n",
              "      <td>987741</td>\n",
              "    </tr>\n",
              "    <tr>\n",
              "      <th>15</th>\n",
              "      <td>30</td>\n",
              "      <td>01</td>\n",
              "      <td>693047</td>\n",
              "    </tr>\n",
              "    <tr>\n",
              "      <th>16</th>\n",
              "      <td>40</td>\n",
              "      <td>00</td>\n",
              "      <td>19355</td>\n",
              "    </tr>\n",
              "    <tr>\n",
              "      <th>17</th>\n",
              "      <td>20</td>\n",
              "      <td>00</td>\n",
              "      <td>72940</td>\n",
              "    </tr>\n",
              "    <tr>\n",
              "      <th>18</th>\n",
              "      <td>10</td>\n",
              "      <td>00</td>\n",
              "      <td>1591</td>\n",
              "    </tr>\n",
              "    <tr>\n",
              "      <th>19</th>\n",
              "      <td>50</td>\n",
              "      <td>00</td>\n",
              "      <td>54320</td>\n",
              "    </tr>\n",
              "    <tr>\n",
              "      <th>20</th>\n",
              "      <td>80</td>\n",
              "      <td>00</td>\n",
              "      <td>46360</td>\n",
              "    </tr>\n",
              "    <tr>\n",
              "      <th>21</th>\n",
              "      <td>70</td>\n",
              "      <td>00</td>\n",
              "      <td>13435</td>\n",
              "    </tr>\n",
              "    <tr>\n",
              "      <th>22</th>\n",
              "      <td>60</td>\n",
              "      <td>00</td>\n",
              "      <td>272469</td>\n",
              "    </tr>\n",
              "    <tr>\n",
              "      <th>23</th>\n",
              "      <td>30</td>\n",
              "      <td>00</td>\n",
              "      <td>177322</td>\n",
              "    </tr>\n",
              "  </tbody>\n",
              "</table>\n",
              "</div>\n",
              "      <button class=\"colab-df-convert\" onclick=\"convertToInteractive('df-67225c13-f5be-427b-8ae1-a237dfd5c510')\"\n",
              "              title=\"Convert this dataframe to an interactive table.\"\n",
              "              style=\"display:none;\">\n",
              "        \n",
              "  <svg xmlns=\"http://www.w3.org/2000/svg\" height=\"24px\"viewBox=\"0 0 24 24\"\n",
              "       width=\"24px\">\n",
              "    <path d=\"M0 0h24v24H0V0z\" fill=\"none\"/>\n",
              "    <path d=\"M18.56 5.44l.94 2.06.94-2.06 2.06-.94-2.06-.94-.94-2.06-.94 2.06-2.06.94zm-11 1L8.5 8.5l.94-2.06 2.06-.94-2.06-.94L8.5 2.5l-.94 2.06-2.06.94zm10 10l.94 2.06.94-2.06 2.06-.94-2.06-.94-.94-2.06-.94 2.06-2.06.94z\"/><path d=\"M17.41 7.96l-1.37-1.37c-.4-.4-.92-.59-1.43-.59-.52 0-1.04.2-1.43.59L10.3 9.45l-7.72 7.72c-.78.78-.78 2.05 0 2.83L4 21.41c.39.39.9.59 1.41.59.51 0 1.02-.2 1.41-.59l7.78-7.78 2.81-2.81c.8-.78.8-2.07 0-2.86zM5.41 20L4 18.59l7.72-7.72 1.47 1.35L5.41 20z\"/>\n",
              "  </svg>\n",
              "      </button>\n",
              "      \n",
              "  <style>\n",
              "    .colab-df-container {\n",
              "      display:flex;\n",
              "      flex-wrap:wrap;\n",
              "      gap: 12px;\n",
              "    }\n",
              "\n",
              "    .colab-df-convert {\n",
              "      background-color: #E8F0FE;\n",
              "      border: none;\n",
              "      border-radius: 50%;\n",
              "      cursor: pointer;\n",
              "      display: none;\n",
              "      fill: #1967D2;\n",
              "      height: 32px;\n",
              "      padding: 0 0 0 0;\n",
              "      width: 32px;\n",
              "    }\n",
              "\n",
              "    .colab-df-convert:hover {\n",
              "      background-color: #E2EBFA;\n",
              "      box-shadow: 0px 1px 2px rgba(60, 64, 67, 0.3), 0px 1px 3px 1px rgba(60, 64, 67, 0.15);\n",
              "      fill: #174EA6;\n",
              "    }\n",
              "\n",
              "    [theme=dark] .colab-df-convert {\n",
              "      background-color: #3B4455;\n",
              "      fill: #D2E3FC;\n",
              "    }\n",
              "\n",
              "    [theme=dark] .colab-df-convert:hover {\n",
              "      background-color: #434B5C;\n",
              "      box-shadow: 0px 1px 3px 1px rgba(0, 0, 0, 0.15);\n",
              "      filter: drop-shadow(0px 1px 2px rgba(0, 0, 0, 0.3));\n",
              "      fill: #FFFFFF;\n",
              "    }\n",
              "  </style>\n",
              "\n",
              "      <script>\n",
              "        const buttonEl =\n",
              "          document.querySelector('#df-67225c13-f5be-427b-8ae1-a237dfd5c510 button.colab-df-convert');\n",
              "        buttonEl.style.display =\n",
              "          google.colab.kernel.accessAllowed ? 'block' : 'none';\n",
              "\n",
              "        async function convertToInteractive(key) {\n",
              "          const element = document.querySelector('#df-67225c13-f5be-427b-8ae1-a237dfd5c510');\n",
              "          const dataTable =\n",
              "            await google.colab.kernel.invokeFunction('convertToInteractive',\n",
              "                                                     [key], {});\n",
              "          if (!dataTable) return;\n",
              "\n",
              "          const docLinkHtml = 'Like what you see? Visit the ' +\n",
              "            '<a target=\"_blank\" href=https://colab.research.google.com/notebooks/data_table.ipynb>data table notebook</a>'\n",
              "            + ' to learn more about interactive tables.';\n",
              "          element.innerHTML = '';\n",
              "          dataTable['output_type'] = 'display_data';\n",
              "          await google.colab.output.renderOutput(dataTable, element);\n",
              "          const docLink = document.createElement('div');\n",
              "          docLink.innerHTML = docLinkHtml;\n",
              "          element.appendChild(docLink);\n",
              "        }\n",
              "      </script>\n",
              "    </div>\n",
              "  </div>\n",
              "  "
            ]
          },
          "metadata": {},
          "execution_count": 53
        }
      ]
    },
    {
      "cell_type": "code",
      "source": [],
      "metadata": {
        "id": "AcqbisAk7YMR"
      },
      "execution_count": null,
      "outputs": []
    },
    {
      "cell_type": "markdown",
      "metadata": {
        "id": "L29i1r0Nhhy9"
      },
      "source": [
        "---\n",
        "> P-045: 顧客データフレーム（df_customer）の生年月日（birth_day）は日付型（Date）でデータを保有している。これをYYYYMMDD形式の文字列に変換し、顧客ID（customer_id）とともに抽出せよ。データは10件を抽出すれば良い。"
      ]
    },
    {
      "cell_type": "code",
      "metadata": {
        "trusted": false,
        "id": "t2t7rJCWhhy9",
        "outputId": "74bf18f2-37d0-46c9-b125-f4846b3f15b9",
        "colab": {
          "base_uri": "https://localhost:8080/"
        }
      },
      "source": [
        "df_customer.withColumn(\"birth_day\", F.to_date(\"birth_day\")).select([\"customer_id\", \"birth_day\"]).show(10)"
      ],
      "execution_count": null,
      "outputs": [
        {
          "output_type": "stream",
          "name": "stdout",
          "text": [
            "+--------------+----------+\n",
            "|   customer_id| birth_day|\n",
            "+--------------+----------+\n",
            "|CS021313000114|1981-04-29|\n",
            "|CS037613000071|1952-04-01|\n",
            "|CS031415000172|1976-10-04|\n",
            "|CS028811000001|1933-03-27|\n",
            "|CS001215000145|1995-03-29|\n",
            "|CS020401000016|1974-09-15|\n",
            "|CS015414000103|1977-08-09|\n",
            "|CS029403000008|1973-08-17|\n",
            "|CS015804000004|1931-05-02|\n",
            "|CS033513000180|1962-07-11|\n",
            "+--------------+----------+\n",
            "only showing top 10 rows\n",
            "\n"
          ]
        }
      ]
    },
    {
      "cell_type": "markdown",
      "metadata": {
        "id": "umDmd8kohhzA"
      },
      "source": [
        "---\n",
        "> P-046: 顧客データフレーム（df_customer）の申し込み日（application_date）はYYYYMMD形式の文字列型でデータを保有している。これを日付型（dateやdatetime）に変換し、顧客ID（customer_id）とともに抽出せよ。データは10件を抽出すれば良い。"
      ]
    },
    {
      "cell_type": "code",
      "metadata": {
        "trusted": false,
        "id": "pVAxV-TWhhzA",
        "outputId": "a6a7d035-1507-4906-8590-b5b7d79c870f",
        "colab": {
          "base_uri": "https://localhost:8080/"
        }
      },
      "source": [
        "df_customer.withColumn(\"application_date\", F.col('application_date').cast(StringType()))\\\n",
        "           .withColumn(\"application_date\", F.to_date(F.unix_timestamp(F.col(\"application_date\"), \"yyyyMMdd\").cast(\"timestamp\")))\\\n",
        "           .select([\"customer_id\", \"application_date\"]).show(10)"
      ],
      "execution_count": null,
      "outputs": [
        {
          "output_type": "stream",
          "name": "stdout",
          "text": [
            "+--------------+----------------+\n",
            "|   customer_id|application_date|\n",
            "+--------------+----------------+\n",
            "|CS021313000114|      2015-09-05|\n",
            "|CS037613000071|      2015-04-14|\n",
            "|CS031415000172|      2015-05-29|\n",
            "|CS028811000001|      2016-01-15|\n",
            "|CS001215000145|      2017-06-05|\n",
            "|CS020401000016|      2015-02-25|\n",
            "|CS015414000103|      2015-07-22|\n",
            "|CS029403000008|      2015-05-15|\n",
            "|CS015804000004|      2015-06-07|\n",
            "|CS033513000180|      2015-07-28|\n",
            "+--------------+----------------+\n",
            "only showing top 10 rows\n",
            "\n"
          ]
        }
      ]
    },
    {
      "cell_type": "markdown",
      "metadata": {
        "id": "lbc058iGhhzC"
      },
      "source": [
        "---\n",
        "> P-047: レシート明細データフレーム（df_receipt）の売上日（sales_ymd）はYYYYMMDD形式の数値型でデータを保有している。これを日付型（dateやdatetime）に変換し、レシート番号(receipt_no)、レシートサブ番号（receipt_sub_no）とともに抽出せよ。データは10件を抽出すれば良い。"
      ]
    },
    {
      "cell_type": "code",
      "metadata": {
        "trusted": false,
        "id": "-StgxCNyhhzC",
        "outputId": "39066161-45b5-4d5e-9d51-12098b2367af",
        "colab": {
          "base_uri": "https://localhost:8080/"
        }
      },
      "source": [
        "df_receipt.withColumn(\"sales_ymd\", F.col('sales_ymd').cast(StringType()))\\\n",
        "          .withColumn(\"sales_ymd\", F.to_date(F.unix_timestamp(F.col(\"sales_ymd\"), \"yyyyMMdd\").cast(\"timestamp\")))\\\n",
        "          .select([\"receipt_no\", \"receipt_sub_no\", \"sales_ymd\"]).show(10)"
      ],
      "execution_count": null,
      "outputs": [
        {
          "output_type": "stream",
          "name": "stdout",
          "text": [
            "+----------+--------------+----------+\n",
            "|receipt_no|receipt_sub_no| sales_ymd|\n",
            "+----------+--------------+----------+\n",
            "|       112|             1|2018-11-03|\n",
            "|      1132|             2|2018-11-18|\n",
            "|      1102|             1|2017-07-12|\n",
            "|      1132|             1|2019-02-05|\n",
            "|      1102|             2|2018-08-21|\n",
            "|      1112|             1|2019-06-05|\n",
            "|      1102|             2|2018-12-05|\n",
            "|      1102|             1|2019-09-22|\n",
            "|      1112|             2|2017-05-04|\n",
            "|      1102|             1|2019-10-10|\n",
            "+----------+--------------+----------+\n",
            "only showing top 10 rows\n",
            "\n"
          ]
        }
      ]
    },
    {
      "cell_type": "markdown",
      "metadata": {
        "id": "ohZn7QSihhzD"
      },
      "source": [
        "---\n",
        "> P-048: レシート明細データフレーム（df_receipt）の売上エポック秒（sales_epoch）は数値型のUNIX秒でデータを保有している。これを日付型（dateやdatetime）に変換し、レシート番号(receipt_no)、レシートサブ番号（receipt_sub_no）とともに抽出せよ。データは10件を抽出すれば良い。"
      ]
    },
    {
      "cell_type": "code",
      "source": [
        "df_receipt.withColumn(\"sales_epoch\", F.col('sales_epoch').cast(\"timestamp\"))\\\n",
        "          .withColumn(\"sales_epoch\", F.to_date(\"sales_epoch\"))\\\n",
        "          .select([\"receipt_no\", \"receipt_sub_no\", \"sales_epoch\"]).show(10)"
      ],
      "metadata": {
        "id": "7ZE8OkSlCfxZ",
        "outputId": "42f2b92d-c58b-4c0f-bc03-5e240dd4d9fc",
        "colab": {
          "base_uri": "https://localhost:8080/"
        }
      },
      "execution_count": null,
      "outputs": [
        {
          "output_type": "stream",
          "name": "stdout",
          "text": [
            "+----------+--------------+-----------+\n",
            "|receipt_no|receipt_sub_no|sales_epoch|\n",
            "+----------+--------------+-----------+\n",
            "|       112|             1| 2018-11-03|\n",
            "|      1132|             2| 2018-11-18|\n",
            "|      1102|             1| 2017-07-12|\n",
            "|      1132|             1| 2019-02-05|\n",
            "|      1102|             2| 2018-08-21|\n",
            "|      1112|             1| 2019-06-05|\n",
            "|      1102|             2| 2018-12-05|\n",
            "|      1102|             1| 2019-09-22|\n",
            "|      1112|             2| 2017-05-04|\n",
            "|      1102|             1| 2019-10-10|\n",
            "+----------+--------------+-----------+\n",
            "only showing top 10 rows\n",
            "\n"
          ]
        }
      ]
    },
    {
      "cell_type": "markdown",
      "metadata": {
        "id": "GfUYeJaFhhzE"
      },
      "source": [
        "---\n",
        "> P-049: レシート明細データフレーム（df_receipt）の売上エポック秒（sales_epoch）を日付型（timestamp型）に変換し、\"年\"だけ取り出してレシート番号(receipt_no)、レシートサブ番号（receipt_sub_no）とともに抽出せよ。データは10件を抽出すれば良い。"
      ]
    },
    {
      "cell_type": "code",
      "metadata": {
        "trusted": false,
        "id": "C72RHYAThhzE",
        "outputId": "8ffccaca-e870-4300-8195-79668a792e7d",
        "colab": {
          "base_uri": "https://localhost:8080/"
        }
      },
      "source": [
        "df_receipt.withColumn(\"sales_epoch\", F.col('sales_epoch').cast(\"timestamp\"))\\\n",
        "          .withColumn(\"sales_epoch\", F.year(\"sales_epoch\"))\\\n",
        "          .select([\"receipt_no\", \"receipt_sub_no\", \"sales_epoch\"]).show(10)"
      ],
      "execution_count": null,
      "outputs": [
        {
          "output_type": "stream",
          "name": "stdout",
          "text": [
            "+----------+--------------+-----------+\n",
            "|receipt_no|receipt_sub_no|sales_epoch|\n",
            "+----------+--------------+-----------+\n",
            "|       112|             1|       2018|\n",
            "|      1132|             2|       2018|\n",
            "|      1102|             1|       2017|\n",
            "|      1132|             1|       2019|\n",
            "|      1102|             2|       2018|\n",
            "|      1112|             1|       2019|\n",
            "|      1102|             2|       2018|\n",
            "|      1102|             1|       2019|\n",
            "|      1112|             2|       2017|\n",
            "|      1102|             1|       2019|\n",
            "+----------+--------------+-----------+\n",
            "only showing top 10 rows\n",
            "\n"
          ]
        }
      ]
    },
    {
      "cell_type": "markdown",
      "metadata": {
        "id": "wiogoJ-8hhzF"
      },
      "source": [
        "---\n",
        "> P-050: レシート明細データフレーム（df_receipt）の売上エポック秒（sales_epoch）を日付型（timestamp型）に変換し、\"月\"だけ取り出してレシート番号(receipt_no)、レシートサブ番号（receipt_sub_no）とともに抽出せよ。なお、\"月\"は0埋め2桁で取り出すこと。データは10件を抽出すれば良い。"
      ]
    },
    {
      "cell_type": "code",
      "metadata": {
        "trusted": false,
        "id": "Dx9OH1LNhhzG",
        "outputId": "0f7015d0-d19b-4a3f-a8b1-64699c4e22d3",
        "colab": {
          "base_uri": "https://localhost:8080/"
        }
      },
      "source": [
        "df_receipt.withColumn(\"sales_epoch\", F.col('sales_epoch').cast(\"timestamp\"))\\\n",
        "          .withColumn(\"sales_epoch\", F.date_format(\"sales_epoch\", \"MM\"))\\\n",
        "          .select([\"receipt_no\", \"receipt_sub_no\", \"sales_epoch\"]).show(10)"
      ],
      "execution_count": null,
      "outputs": [
        {
          "output_type": "stream",
          "name": "stdout",
          "text": [
            "+----------+--------------+-----------+\n",
            "|receipt_no|receipt_sub_no|sales_epoch|\n",
            "+----------+--------------+-----------+\n",
            "|       112|             1|         11|\n",
            "|      1132|             2|         11|\n",
            "|      1102|             1|         07|\n",
            "|      1132|             1|         02|\n",
            "|      1102|             2|         08|\n",
            "|      1112|             1|         06|\n",
            "|      1102|             2|         12|\n",
            "|      1102|             1|         09|\n",
            "|      1112|             2|         05|\n",
            "|      1102|             1|         10|\n",
            "+----------+--------------+-----------+\n",
            "only showing top 10 rows\n",
            "\n"
          ]
        }
      ]
    },
    {
      "cell_type": "markdown",
      "metadata": {
        "id": "8JT6_Cu-hhzH"
      },
      "source": [
        "---\n",
        "> P-051: レシート明細データフレーム（df_receipt）の売上エポック秒（sales_epoch）を日付型（timestamp型）に変換し、\"日\"だけ取り出してレシート番号(receipt_no)、レシートサブ番号（receipt_sub_no）とともに抽出せよ。なお、\"日\"は0埋め2桁で取り出すこと。データは10件を抽出すれば良い。"
      ]
    },
    {
      "cell_type": "code",
      "metadata": {
        "trusted": false,
        "id": "6A7WIWLhhhzH",
        "outputId": "f5d67390-2032-4928-e824-e0741286db21",
        "colab": {
          "base_uri": "https://localhost:8080/"
        }
      },
      "source": [
        "df_receipt.withColumn(\"sales_epoch\", F.col('sales_epoch').cast(\"timestamp\"))\\\n",
        "          .withColumn(\"sales_epoch\", F.date_format(\"sales_epoch\", \"dd\"))\\\n",
        "          .select([\"receipt_no\", \"receipt_sub_no\", \"sales_epoch\"]).show(10)"
      ],
      "execution_count": null,
      "outputs": [
        {
          "output_type": "stream",
          "name": "stdout",
          "text": [
            "+----------+--------------+-----------+\n",
            "|receipt_no|receipt_sub_no|sales_epoch|\n",
            "+----------+--------------+-----------+\n",
            "|       112|             1|         03|\n",
            "|      1132|             2|         18|\n",
            "|      1102|             1|         12|\n",
            "|      1132|             1|         05|\n",
            "|      1102|             2|         21|\n",
            "|      1112|             1|         05|\n",
            "|      1102|             2|         05|\n",
            "|      1102|             1|         22|\n",
            "|      1112|             2|         04|\n",
            "|      1102|             1|         10|\n",
            "+----------+--------------+-----------+\n",
            "only showing top 10 rows\n",
            "\n"
          ]
        }
      ]
    },
    {
      "cell_type": "markdown",
      "metadata": {
        "id": "OGXY-uRrhhzI"
      },
      "source": [
        "---\n",
        "> P-052: レシート明細データフレーム（df_receipt）の売上金額（amount）を顧客ID（customer_id）ごとに合計の上、売上金額合計に対して2000円以下を0、2000円超を1に2値化し、顧客ID、売上金額合計とともに10件表示せよ。ただし、顧客IDが\"Z\"から始まるのものは非会員を表すため、除外して計算すること。"
      ]
    },
    {
      "cell_type": "code",
      "metadata": {
        "trusted": false,
        "id": "rQvmUUolhhzJ",
        "outputId": "070bdd7c-4b91-4171-d957-9294b0f1afd5",
        "colab": {
          "base_uri": "https://localhost:8080/"
        }
      },
      "source": [
        "df_receipt.filter(F.col(\"customer_id\").rlike('^(?!Z).*'))\\\n",
        "          .groupBy(\"customer_id\").agg(F.sum(F.col(\"amount\")).alias(\"sum_amount\"))\\\n",
        "          .withColumn(\"2000over_flg\", F.when(F.col(\"sum_amount\") > 2000, 1).otherwise(0))\\\n",
        "          .select([\"customer_id\", \"sum_amount\", \"2000over_flg\"]).show(10)"
      ],
      "execution_count": null,
      "outputs": [
        {
          "output_type": "stream",
          "name": "stdout",
          "text": [
            "+--------------+----------+------------+\n",
            "|   customer_id|sum_amount|2000over_flg|\n",
            "+--------------+----------+------------+\n",
            "|CS024415000195|      4638|           1|\n",
            "|CS011515000044|      2533|           1|\n",
            "|CS017415000245|      1289|           0|\n",
            "|CS011512000113|       686|           0|\n",
            "|CS025414000093|      3929|           1|\n",
            "|CS010605000007|      6420|           1|\n",
            "|CS011415000097|      3462|           1|\n",
            "|CS018515000090|      3756|           1|\n",
            "|CS015415000222|     11472|           1|\n",
            "|CS038605000003|      2833|           1|\n",
            "+--------------+----------+------------+\n",
            "only showing top 10 rows\n",
            "\n"
          ]
        }
      ]
    },
    {
      "cell_type": "markdown",
      "metadata": {
        "id": "ZtGCQePGhhzK"
      },
      "source": [
        "---\n",
        "> P-053: 顧客データフレーム（df_customer）の郵便番号（postal_cd）に対し、東京（先頭3桁が100〜209のもの）を1、それ以外のものを0に２値化せよ。さらにレシート明細データフレーム（df_receipt）と結合し、全期間において買い物実績のある顧客数を、作成した2値ごとにカウントせよ。"
      ]
    },
    {
      "cell_type": "code",
      "metadata": {
        "trusted": false,
        "id": "8NZw1hv2hhzK",
        "outputId": "53a9ddc3-49eb-42a2-ea31-5ef75fd4358b",
        "colab": {
          "base_uri": "https://localhost:8080/"
        }
      },
      "source": [
        "df_customer_tmp = df_customer.withColumn(\"tokyo_flg\", F.when((100 <= F.substring(\"postal_cd\", 1, 3).cast(IntegerType())) & \\\n",
        "                                                             (F.substring(\"postal_cd\", 1, 3).cast(IntegerType()) <= 209), 1).otherwise(0))\n",
        "df_receipt.join(df_customer_tmp, \"customer_id\", \"inner\").groupby(\"tokyo_flg\").agg(F.countDistinct(\"customer_id\")).show()"
      ],
      "execution_count": null,
      "outputs": [
        {
          "output_type": "stream",
          "name": "stdout",
          "text": [
            "+---------+------------------+\n",
            "|tokyo_flg|count(customer_id)|\n",
            "+---------+------------------+\n",
            "|        1|              4400|\n",
            "|        0|              3906|\n",
            "+---------+------------------+\n",
            "\n"
          ]
        }
      ]
    },
    {
      "cell_type": "markdown",
      "metadata": {
        "id": "HHPGETlfhhzL"
      },
      "source": [
        "---\n",
        "> P-054: 顧客データデータフレーム（df_customer）の住所（address）は、埼玉県、千葉県、東京都、神奈川県のいずれかとなっている。都道府県毎にコード値を作成し、顧客ID、住所とともに抽出せよ。値は埼玉県を11、千葉県を12、東京都を13、神奈川県を14とすること。結果は10件表示させれば良い。"
      ]
    },
    {
      "cell_type": "code",
      "metadata": {
        "trusted": false,
        "id": "r4hjSRMohhzL",
        "outputId": "9a57c6e2-e0d9-4356-e012-64a41c4f815d",
        "colab": {
          "base_uri": "https://localhost:8080/"
        }
      },
      "source": [
        "df_customer.withColumn(\"prefecture_cd\", F.when(F.substring(\"address\", 1, 3)==\"埼玉県\", \"11\")\\\n",
        "                                         .when(F.substring(\"address\", 1, 3)==\"千葉県\", \"12\")\\\n",
        "                                         .when(F.substring(\"address\", 1, 3)==\"東京都\", \"13\")\\\n",
        "                                         .when(F.substring(\"address\", 1, 3)==\"神奈川\", \"14\")).show(10)"
      ],
      "execution_count": null,
      "outputs": [
        {
          "output_type": "stream",
          "name": "stdout",
          "text": [
            "+--------------+-------------+---------+------+-------------------+---+---------+--------------------------------+--------------------+----------------+------------+-------------+\n",
            "|   customer_id|customer_name|gender_cd|gender|          birth_day|age|postal_cd|                         address|application_store_cd|application_date|   status_cd|prefecture_cd|\n",
            "+--------------+-------------+---------+------+-------------------+---+---------+--------------------------------+--------------------+----------------+------------+-------------+\n",
            "|CS021313000114|  大野 あや子|        1|  女性|1981-04-29 00:00:00| 37| 259-1113|  神奈川県伊勢原市粟窪**********|              S14021|        20150905|0-00000000-0|           14|\n",
            "|CS037613000071|    六角 雅彦|        9|  不明|1952-04-01 00:00:00| 66| 136-0076|      東京都江東区南砂**********|              S13037|        20150414|0-00000000-0|           13|\n",
            "|CS031415000172|宇多田 貴美子|        1|  女性|1976-10-04 00:00:00| 42| 151-0053|    東京都渋谷区代々木**********|              S13031|        20150529|D-20100325-C|           13|\n",
            "|CS028811000001|  堀井 かおり|        1|  女性|1933-03-27 00:00:00| 86| 245-0016|神奈川県横浜市泉区和泉町*****...|              S14028|        20160115|0-00000000-0|           14|\n",
            "|CS001215000145|    田崎 美紀|        1|  女性|1995-03-29 00:00:00| 24| 144-0055|    東京都大田区仲六郷**********|              S13001|        20170605|6-20090929-2|           13|\n",
            "|CS020401000016|    宮下 達士|        0|  男性|1974-09-15 00:00:00| 44| 174-0065|      東京都板橋区若木**********|              S13020|        20150225|0-00000000-0|           13|\n",
            "|CS015414000103|    奥野 陽子|        1|  女性|1977-08-09 00:00:00| 41| 136-0073|      東京都江東区北砂**********|              S13015|        20150722|B-20100609-B|           13|\n",
            "|CS029403000008|      釈 人志|        0|  男性|1973-08-17 00:00:00| 45| 279-0003|      千葉県浦安市海楽**********|              S12029|        20150515|0-00000000-0|           12|\n",
            "|CS015804000004|    松谷 米蔵|        0|  男性|1931-05-02 00:00:00| 87| 136-0073|      東京都江東区北砂**********|              S13015|        20150607|0-00000000-0|           13|\n",
            "|CS033513000180|      安斎 遥|        1|  女性|1962-07-11 00:00:00| 56| 241-0823|神奈川県横浜市旭区善部町*****...|              S14033|        20150728|6-20080506-5|           14|\n",
            "+--------------+-------------+---------+------+-------------------+---+---------+--------------------------------+--------------------+----------------+------------+-------------+\n",
            "only showing top 10 rows\n",
            "\n"
          ]
        }
      ]
    },
    {
      "cell_type": "markdown",
      "metadata": {
        "id": "0Gr2RKrrhhzM"
      },
      "source": [
        "---\n",
        "> P-055: レシート明細データフレーム（df_receipt）の売上金額（amount）を顧客ID（customer_id）ごとに合計し、その合計金額の四分位点を求めよ。その上で、顧客ごとの売上金額合計に対して以下の基準でカテゴリ値を作成し、顧客ID、売上金額と合計ともに表示せよ。カテゴリ値は上から順に1〜4とする。結果は10件表示させれば良い。\n",
        ">\n",
        "> - 最小値以上第一四分位未満\n",
        "> - 第一四分位以上第二四分位未満\n",
        "> - 第二四分位以上第三四分位未満\n",
        "> - 第三四分位以上"
      ]
    },
    {
      "cell_type": "code",
      "source": [
        "df_receipt_tmp = df_receipt.groupby(\"customer_id\").agg(F.sum(\"amount\").alias(\"sum_amount\"))"
      ],
      "metadata": {
        "id": "o_KadyWHaoCl"
      },
      "execution_count": null,
      "outputs": []
    },
    {
      "cell_type": "code",
      "source": [
        "perc25 = df_receipt_tmp.select(F.percentile_approx(\"sum_amount\", 0.25)).collect()[0][0]\n",
        "perc50 = df_receipt_tmp.select(F.percentile_approx(\"sum_amount\", 0.50)).collect()[0][0]\n",
        "perc75 = df_receipt_tmp.select(F.percentile_approx(\"sum_amount\", 0.75)).collect()[0][0]"
      ],
      "metadata": {
        "id": "mq-4nwZ3iUV6"
      },
      "execution_count": null,
      "outputs": []
    },
    {
      "cell_type": "code",
      "source": [
        "df_receipt_tmp.withColumn(\"pct_group\", \\\n",
        "                          F.when(F.col(\"sum_amount\") >= perc75, 4)\\\n",
        "                           .when((F.col(\"sum_amount\") < perc75) & (F.col(\"sum_amount\") >= perc50), 3)\\\n",
        "                           .when((F.col(\"sum_amount\") < perc50) & (F.col(\"sum_amount\") >= perc25), 2)\\\n",
        "                           .when(F.col(\"sum_amount\") < perc25, 1))\\\n",
        "                          .show()"
      ],
      "metadata": {
        "id": "qpXZVWbWdf9f",
        "outputId": "fe4eefa0-d77a-4b51-c1a5-794d8b00b8a3",
        "colab": {
          "base_uri": "https://localhost:8080/"
        }
      },
      "execution_count": null,
      "outputs": [
        {
          "output_type": "stream",
          "name": "stdout",
          "text": [
            "+--------------+----------+---------+\n",
            "|   customer_id|sum_amount|pct_group|\n",
            "+--------------+----------+---------+\n",
            "|CS024415000195|      4638|        4|\n",
            "|CS011515000044|      2533|        3|\n",
            "|CS017415000245|      1289|        2|\n",
            "|CS011512000113|       686|        2|\n",
            "|CS025414000093|      3929|        4|\n",
            "|CS010605000007|      6420|        4|\n",
            "|CS011415000097|      3462|        3|\n",
            "|CS018515000090|      3756|        4|\n",
            "|CS015415000222|     11472|        4|\n",
            "|CS038605000003|      2833|        3|\n",
            "|CS028515000242|      1525|        3|\n",
            "|CS040215000044|      1439|        2|\n",
            "|CS049513000008|      4450|        4|\n",
            "|CS002411000018|      1054|        2|\n",
            "|CS017514000103|       348|        1|\n",
            "|CS010413000069|       278|        1|\n",
            "|CS038415000161|      2512|        3|\n",
            "|CS017514000012|      4699|        4|\n",
            "|CS030412000172|       766|        2|\n",
            "|CS002513000664|       398|        1|\n",
            "+--------------+----------+---------+\n",
            "only showing top 20 rows\n",
            "\n"
          ]
        }
      ]
    },
    {
      "cell_type": "markdown",
      "metadata": {
        "id": "X3_-P1ahhhzN"
      },
      "source": [
        "---\n",
        "> P-056: 顧客データフレーム（df_customer）の年齢（age）をもとに10歳刻みで年代を算出し、顧客ID（customer_id）、生年月日（birth_day）とともに抽出せよ。ただし、60歳以上は全て60歳代とすること。年代を表すカテゴリ名は任意とする。先頭10件を表示させればよい。"
      ]
    },
    {
      "cell_type": "code",
      "metadata": {
        "trusted": false,
        "id": "p4xXkwzhhhzN",
        "outputId": "d766eea8-1059-4c2f-bec0-d29e6f488f86",
        "colab": {
          "base_uri": "https://localhost:8080/"
        }
      },
      "source": [
        "df_customer_tmp = df_customer.withColumn(\"age_group\",\n",
        "                                         F.when(F.col(\"age\") < 10, 1)\\\n",
        "                                          .when((F.col(\"age\") >= 10) & (F.col(\"age\") < 20), 10)\\\n",
        "                                          .when((F.col(\"age\") >= 20) & (F.col(\"age\") < 30), 20)\\\n",
        "                                          .when((F.col(\"age\") >= 30) & (F.col(\"age\") < 40), 30)\\\n",
        "                                          .when((F.col(\"age\") >= 40) & (F.col(\"age\") < 50), 40)\\\n",
        "                                          .when((F.col(\"age\") >= 50) & (F.col(\"age\") < 60), 50)\\\n",
        "                                          .otherwise(60)\n",
        "                                         )\n",
        "df_customer_tmp.select([\"customer_id\", \"birth_day\", \"age_group\"]).show(10)"
      ],
      "execution_count": null,
      "outputs": [
        {
          "output_type": "stream",
          "name": "stdout",
          "text": [
            "+--------------+-------------------+---------+\n",
            "|   customer_id|          birth_day|age_group|\n",
            "+--------------+-------------------+---------+\n",
            "|CS021313000114|1981-04-29 00:00:00|       30|\n",
            "|CS037613000071|1952-04-01 00:00:00|       60|\n",
            "|CS031415000172|1976-10-04 00:00:00|       40|\n",
            "|CS028811000001|1933-03-27 00:00:00|       60|\n",
            "|CS001215000145|1995-03-29 00:00:00|       20|\n",
            "|CS020401000016|1974-09-15 00:00:00|       40|\n",
            "|CS015414000103|1977-08-09 00:00:00|       40|\n",
            "|CS029403000008|1973-08-17 00:00:00|       40|\n",
            "|CS015804000004|1931-05-02 00:00:00|       60|\n",
            "|CS033513000180|1962-07-11 00:00:00|       50|\n",
            "+--------------+-------------------+---------+\n",
            "only showing top 10 rows\n",
            "\n"
          ]
        }
      ]
    },
    {
      "cell_type": "markdown",
      "metadata": {
        "id": "b_I_dEsdhhzP"
      },
      "source": [
        "---\n",
        "> P-057: 前問題の抽出結果と性別（gender）を組み合わせ、新たに性別×年代の組み合わせを表すカテゴリデータを作成せよ。組み合わせを表すカテゴリの値は任意とする。先頭10件を表示させればよい。"
      ]
    },
    {
      "cell_type": "code",
      "metadata": {
        "trusted": false,
        "id": "zz-TCEbChhzP",
        "outputId": "15d9f680-42ca-4120-d329-e05ffeab1e54",
        "colab": {
          "base_uri": "https://localhost:8080/"
        }
      },
      "source": [
        "df_customer_tmp.withColumn(\"gemder_age_agegroup\", F.concat(F.col(\"gender\"), F.col(\"age_group\").cast(StringType()))).select([\"customer_id\", \"birth_day\", \"age_group\", \"gemder_age_agegroup\"]).show(10)"
      ],
      "execution_count": null,
      "outputs": [
        {
          "output_type": "stream",
          "name": "stdout",
          "text": [
            "+--------------+-------------------+---------+-------------------+\n",
            "|   customer_id|          birth_day|age_group|gemder_age_agegroup|\n",
            "+--------------+-------------------+---------+-------------------+\n",
            "|CS021313000114|1981-04-29 00:00:00|       30|             女性30|\n",
            "|CS037613000071|1952-04-01 00:00:00|       60|             不明60|\n",
            "|CS031415000172|1976-10-04 00:00:00|       40|             女性40|\n",
            "|CS028811000001|1933-03-27 00:00:00|       60|             女性60|\n",
            "|CS001215000145|1995-03-29 00:00:00|       20|             女性20|\n",
            "|CS020401000016|1974-09-15 00:00:00|       40|             男性40|\n",
            "|CS015414000103|1977-08-09 00:00:00|       40|             女性40|\n",
            "|CS029403000008|1973-08-17 00:00:00|       40|             男性40|\n",
            "|CS015804000004|1931-05-02 00:00:00|       60|             男性60|\n",
            "|CS033513000180|1962-07-11 00:00:00|       50|             女性50|\n",
            "+--------------+-------------------+---------+-------------------+\n",
            "only showing top 10 rows\n",
            "\n"
          ]
        }
      ]
    },
    {
      "cell_type": "markdown",
      "metadata": {
        "id": "oJZe2WQ3hhzQ"
      },
      "source": [
        "---\n",
        "> P-058: 顧客データフレーム（df_customer）の性別コード（gender_cd）をダミー変数化し、顧客ID（customer_id）とともに抽出せよ。結果は10件表示させれば良い。"
      ]
    },
    {
      "cell_type": "code",
      "metadata": {
        "trusted": false,
        "id": "pm-akNNrhhzQ",
        "outputId": "3b82d62c-d0e4-4973-c23f-dcf00c6f298a",
        "colab": {
          "base_uri": "https://localhost:8080/"
        }
      },
      "source": [
        "df_customer.withColumn(\"gender_code_1\", F.when(F.col(\"gender_cd\") == 1, 1).otherwise(0))\\\n",
        "           .withColumn(\"gender_code_2\", F.when(F.col(\"gender_cd\") == 2, 1).otherwise(0))\\\n",
        "           .withColumn(\"gender_code_9\", F.when(F.col(\"gender_cd\") == 9, 1).otherwise(0)).select([\"customer_id\", \"gender_code_1\", \"gender_code_2\", \"gender_code_9\"]).show(10)"
      ],
      "execution_count": null,
      "outputs": [
        {
          "output_type": "stream",
          "name": "stdout",
          "text": [
            "+--------------+-------------+-------------+-------------+\n",
            "|   customer_id|gender_code_1|gender_code_2|gender_code_9|\n",
            "+--------------+-------------+-------------+-------------+\n",
            "|CS021313000114|            1|            0|            0|\n",
            "|CS037613000071|            0|            0|            1|\n",
            "|CS031415000172|            1|            0|            0|\n",
            "|CS028811000001|            1|            0|            0|\n",
            "|CS001215000145|            1|            0|            0|\n",
            "|CS020401000016|            0|            0|            0|\n",
            "|CS015414000103|            1|            0|            0|\n",
            "|CS029403000008|            0|            0|            0|\n",
            "|CS015804000004|            0|            0|            0|\n",
            "|CS033513000180|            1|            0|            0|\n",
            "+--------------+-------------+-------------+-------------+\n",
            "only showing top 10 rows\n",
            "\n"
          ]
        }
      ]
    },
    {
      "cell_type": "markdown",
      "metadata": {
        "id": "_rIF1D4RhhzR"
      },
      "source": [
        "---\n",
        "> P-059: レシート明細データフレーム（df_receipt）の売上金額（amount）を顧客ID（customer_id）ごとに合計し、合計した売上金額を平均0、標準偏差1に標準化して顧客ID、売上金額合計とともに表示せよ。標準化に使用する標準偏差は、不偏標準偏差と標本標準偏差のどちらでも良いものとする。ただし、顧客IDが\"Z\"から始まるのものは非会員を表すため、除外して計算すること。結果は10件表示させれば良い。"
      ]
    },
    {
      "cell_type": "code",
      "source": [
        "def z_score_w(col, w):\n",
        "    avg_ = F.avg(col).over(w)\n",
        "    avg_sq = F.avg(col * col).over(w)\n",
        "    sd_ = F.sqrt(avg_sq - avg_ * avg_)\n",
        "    return (col - avg_) / sd_\n",
        "\n",
        "\n",
        "df_receipt_tmp1 = df_receipt.filter(F.col(\"customer_id\").rlike('^(?!Z).*'))\\\n",
        "                            .groupBy(\"customer_id\")\\\n",
        "                            .agg(F.sum(F.col(\"amount\")).alias(\"sum_amount\"))\n",
        "w = Window().partitionBy()\n",
        "df_receipt_tmp1.withColumn(\"zscore\", z_score_w(df_receipt_tmp1.sum_amount, w)).show(10)"
      ],
      "metadata": {
        "id": "ZgJUjjCMsUE3",
        "outputId": "2c748635-008e-4f93-a720-8369034f3245",
        "colab": {
          "base_uri": "https://localhost:8080/"
        }
      },
      "execution_count": null,
      "outputs": [
        {
          "output_type": "stream",
          "name": "stdout",
          "text": [
            "+--------------+----------+--------------------+\n",
            "|   customer_id|sum_amount|              zscore|\n",
            "+--------------+----------+--------------------+\n",
            "|CS024415000195|      4638|  0.7683329849668896|\n",
            "|CS011515000044|      2533|-0.00541892260756...|\n",
            "|CS017415000245|      1289|-0.46268608318838106|\n",
            "|CS011512000113|       686| -0.6843356795149347|\n",
            "|CS025414000093|      3929|  0.5077201096840928|\n",
            "|CS010605000007|      6420|  1.4233571651558095|\n",
            "|CS011415000097|      3462| 0.33606113541460586|\n",
            "|CS018515000090|      3756| 0.44412909780267684|\n",
            "|CS015415000222|     11472|  3.2803617433344976|\n",
            "|CS038605000003|      2833| 0.10485450840067179|\n",
            "+--------------+----------+--------------------+\n",
            "only showing top 10 rows\n",
            "\n"
          ]
        }
      ]
    },
    {
      "cell_type": "markdown",
      "metadata": {
        "id": "--LbbUHGhhzT"
      },
      "source": [
        "---\n",
        "> P-060: レシート明細データフレーム（df_receipt）の売上金額（amount）を顧客ID（customer_id）ごとに合計し、合計した売上金額を最小値0、最大値1に正規化して顧客ID、売上金額合計とともに表示せよ。ただし、顧客IDが\"Z\"から始まるのものは非会員を表すため、除外して計算すること。結果は10件表示させれば良い。"
      ]
    },
    {
      "cell_type": "code",
      "source": [
        "def min_max_w(col, w):\n",
        "    min_ = F.min(col).over(w)\n",
        "    max_ = F.max(col).over(w)\n",
        "    return (col - min_) / (max_ - min_)\n",
        "\n",
        "df_receipt_tmp1 = df_receipt.filter(F.col(\"customer_id\").rlike('^(?!Z).*'))\\\n",
        "                            .groupBy(\"customer_id\")\\\n",
        "                            .agg(F.sum(F.col(\"amount\")).alias(\"sum_amount\"))\n",
        "w = Window().partitionBy()\n",
        "df_receipt_tmp1.withColumn(\"min_max_scaler\", min_max_w(df_receipt_tmp1.sum_amount, w)).show(10)"
      ],
      "metadata": {
        "id": "dOHoOuBrud6u",
        "outputId": "1c13cb0b-e3d8-4df3-dba2-e61989869f21",
        "colab": {
          "base_uri": "https://localhost:8080/"
        }
      },
      "execution_count": null,
      "outputs": [
        {
          "output_type": "stream",
          "name": "stdout",
          "text": [
            "+--------------+----------+--------------------+\n",
            "|   customer_id|sum_amount|      min_max_scaler|\n",
            "+--------------+----------+--------------------+\n",
            "|CS024415000195|      4638| 0.19847062912756344|\n",
            "|CS011515000044|      2533| 0.10701251303441084|\n",
            "|CS017415000245|      1289|0.052963156065345844|\n",
            "|CS011512000113|       686|  0.0267639902676399|\n",
            "|CS025414000093|      3929|  0.1676659714980883|\n",
            "|CS010605000007|      6420|  0.2758950295446646|\n",
            "|CS011415000097|      3462| 0.14737573861661452|\n",
            "|CS018515000090|      3756| 0.16014946124435175|\n",
            "|CS015415000222|     11472|  0.4953945081682308|\n",
            "|CS038605000003|      2833| 0.12004692387904067|\n",
            "+--------------+----------+--------------------+\n",
            "only showing top 10 rows\n",
            "\n"
          ]
        }
      ]
    },
    {
      "cell_type": "markdown",
      "metadata": {
        "id": "9v_q6BLjhhzU"
      },
      "source": [
        "---\n",
        "> P-061: レシート明細データフレーム（df_receipt）の売上金額（amount）を顧客ID（customer_id）ごとに合計し、合計した売上金額を常用対数化（底=10）して顧客ID、売上金額合計とともに表示せよ。ただし、顧客IDが\"Z\"から始まるのものは非会員を表すため、除外して計算すること。結果は10件表示させれば良い。"
      ]
    },
    {
      "cell_type": "code",
      "metadata": {
        "trusted": false,
        "id": "d5_2HQ-2hhzU",
        "outputId": "f8eacbb2-7ae2-4b0f-884b-d4db0c6be8f7",
        "colab": {
          "base_uri": "https://localhost:8080/"
        }
      },
      "source": [
        "df_receipt_tmp1 = df_receipt.filter(F.col(\"customer_id\").rlike('^(?!Z).*'))\\\n",
        "                            .groupBy(\"customer_id\")\\\n",
        "                            .agg(F.sum(F.col(\"amount\")).alias(\"sum_amount\"))\n",
        "df_receipt_tmp1.withColumn(\"log_amount\", F.log10(\"sum_amount\")).show(10)"
      ],
      "execution_count": null,
      "outputs": [
        {
          "output_type": "stream",
          "name": "stdout",
          "text": [
            "+--------------+----------+------------------+\n",
            "|   customer_id|sum_amount|        log_amount|\n",
            "+--------------+----------+------------------+\n",
            "|CS024415000195|      4638|3.6663307443019684|\n",
            "|CS011515000044|      2533| 3.403635189790548|\n",
            "|CS017415000245|      1289| 3.110252917353403|\n",
            "|CS011512000113|       686|2.8363241157067516|\n",
            "|CS025414000093|      3929| 3.594282028811806|\n",
            "|CS010605000007|      6420| 3.807535028068853|\n",
            "|CS011415000097|      3462| 3.539327063539375|\n",
            "|CS018515000090|      3756|3.5747255835940734|\n",
            "|CS015415000222|     11472| 4.059639138323725|\n",
            "|CS038605000003|      2833| 3.452246574520437|\n",
            "+--------------+----------+------------------+\n",
            "only showing top 10 rows\n",
            "\n"
          ]
        }
      ]
    },
    {
      "cell_type": "markdown",
      "metadata": {
        "id": "uYepDUW5hhzV"
      },
      "source": [
        "---\n",
        "> P-062: レシート明細データフレーム（df_receipt）の売上金額（amount）を顧客ID（customer_id）ごとに合計し、合計した売上金額を自然対数化(底=e）して顧客ID、売上金額合計とともに表示せよ。ただし、顧客IDが\"Z\"から始まるのものは非会員を表すため、除外して計算すること。結果は10件表示させれば良い。"
      ]
    },
    {
      "cell_type": "code",
      "metadata": {
        "trusted": false,
        "id": "aqDDlXmEhhzV",
        "outputId": "7e699c33-8aff-4411-bdb2-9f5ea0f60a1f",
        "colab": {
          "base_uri": "https://localhost:8080/"
        }
      },
      "source": [
        "df_receipt_tmp1 = df_receipt.filter(F.col(\"customer_id\").rlike('^(?!Z).*'))\\\n",
        "                            .groupBy(\"customer_id\")\\\n",
        "                            .agg(F.sum(F.col(\"amount\")).alias(\"sum_amount\"))\n",
        "df_receipt_tmp1.withColumn(\"log_amount\", F.log(\"sum_amount\")).show(10)"
      ],
      "execution_count": null,
      "outputs": [
        {
          "output_type": "stream",
          "name": "stdout",
          "text": [
            "+--------------+----------+-----------------+\n",
            "|   customer_id|sum_amount|       log_amount|\n",
            "+--------------+----------+-----------------+\n",
            "|CS024415000195|      4638|8.442038517815478|\n",
            "|CS011515000044|      2533|7.837159650001675|\n",
            "|CS017415000245|      1289|7.161622002939187|\n",
            "|CS011512000113|       686|6.530877627725885|\n",
            "|CS025414000093|      3929| 8.27614021955846|\n",
            "|CS010605000007|      6420|8.767173396684006|\n",
            "|CS011415000097|      3462|8.149601735736155|\n",
            "|CS018515000090|      3756|8.231109840328154|\n",
            "|CS015415000222|     11472|9.347664562839402|\n",
            "|CS038605000003|      2833|7.949091499830517|\n",
            "+--------------+----------+-----------------+\n",
            "only showing top 10 rows\n",
            "\n"
          ]
        }
      ]
    },
    {
      "cell_type": "markdown",
      "metadata": {
        "id": "JrQz7vUxhhzW"
      },
      "source": [
        "---\n",
        "> P-063: 商品データフレーム（df_product）の単価（unit_price）と原価（unit_cost）から、各商品の利益額を算出せよ。結果は10件表示させれば良い。"
      ]
    },
    {
      "cell_type": "code",
      "metadata": {
        "trusted": false,
        "id": "AEzRXedrhhzX",
        "outputId": "a4c7eff4-e52b-4a4a-fed9-7068d159c865",
        "colab": {
          "base_uri": "https://localhost:8080/"
        }
      },
      "source": [
        "df_product.withColumn(\"unit_profit\", F.col(\"unit_price\") - F.col(\"unit_cost\")).show(10)"
      ],
      "execution_count": null,
      "outputs": [
        {
          "output_type": "stream",
          "name": "stdout",
          "text": [
            "+----------+-----------------+------------------+-----------------+----------+---------+-----------+\n",
            "|product_cd|category_major_cd|category_medium_cd|category_small_cd|unit_price|unit_cost|unit_profit|\n",
            "+----------+-----------------+------------------+-----------------+----------+---------+-----------+\n",
            "|P040101001|                4|               401|            40101|       198|      149|         49|\n",
            "|P040101002|                4|               401|            40101|       218|      164|         54|\n",
            "|P040101003|                4|               401|            40101|       230|      173|         57|\n",
            "|P040101004|                4|               401|            40101|       248|      186|         62|\n",
            "|P040101005|                4|               401|            40101|       268|      201|         67|\n",
            "|P040101006|                4|               401|            40101|       298|      224|         74|\n",
            "|P040101007|                4|               401|            40101|       338|      254|         84|\n",
            "|P040101008|                4|               401|            40101|       420|      315|        105|\n",
            "|P040101009|                4|               401|            40101|       498|      374|        124|\n",
            "|P040101010|                4|               401|            40101|       580|      435|        145|\n",
            "+----------+-----------------+------------------+-----------------+----------+---------+-----------+\n",
            "only showing top 10 rows\n",
            "\n"
          ]
        }
      ]
    },
    {
      "cell_type": "markdown",
      "metadata": {
        "id": "dA3_mEIghhzY"
      },
      "source": [
        "---\n",
        "> P-064: 商品データフレーム（df_product）の単価（unit_price）と原価（unit_cost）から、各商品の利益率の全体平均を算出せよ。\n",
        "ただし、単価と原価にはNULLが存在することに注意せよ。"
      ]
    },
    {
      "cell_type": "code",
      "metadata": {
        "trusted": false,
        "id": "tVmogEBBhhzY",
        "outputId": "66d151e2-2b12-45e9-96a4-0f4bc8f25e7b",
        "colab": {
          "base_uri": "https://localhost:8080/"
        }
      },
      "source": [
        "df_product.withColumn(\"unit_profit_rate\", (F.col(\"unit_price\") - F.col(\"unit_cost\")) / F.col(\"unit_price\"))\\\n",
        "          .agg(F.mean(F.col(\"unit_profit_rate\"))).show()"
      ],
      "execution_count": null,
      "outputs": [
        {
          "output_type": "stream",
          "name": "stdout",
          "text": [
            "+---------------------+\n",
            "|avg(unit_profit_rate)|\n",
            "+---------------------+\n",
            "|  0.24911389885176904|\n",
            "+---------------------+\n",
            "\n"
          ]
        }
      ]
    },
    {
      "cell_type": "markdown",
      "metadata": {
        "id": "jQowqYLWhhzZ"
      },
      "source": [
        "---\n",
        "> P-065: 商品データフレーム（df_product）の各商品について、利益率が30%となる新たな単価を求めよ。ただし、1円未満は切り捨てること。そして結果を10件表示させ、利益率がおよそ30％付近であることを確認せよ。ただし、単価（unit_price）と原価（unit_cost）にはNULLが存在することに注意せよ。"
      ]
    },
    {
      "cell_type": "code",
      "metadata": {
        "trusted": false,
        "id": "fSPVlHxthhzZ",
        "outputId": "9f77e19d-8b1f-4870-eb88-b194b43cc139",
        "colab": {
          "base_uri": "https://localhost:8080/"
        }
      },
      "source": [
        "df_product.withColumn(\"new_price\", F.floor(F.col(\"unit_cost\") / 0.7))\\\n",
        "          .withColumn(\"new_profit_rate\", (F.col(\"new_price\") - F.col(\"unit_cost\")) / F.col(\"new_price\")).show(10)"
      ],
      "execution_count": null,
      "outputs": [
        {
          "output_type": "stream",
          "name": "stdout",
          "text": [
            "+----------+-----------------+------------------+-----------------+----------+---------+---------+-------------------+\n",
            "|product_cd|category_major_cd|category_medium_cd|category_small_cd|unit_price|unit_cost|new_price|    new_profit_rate|\n",
            "+----------+-----------------+------------------+-----------------+----------+---------+---------+-------------------+\n",
            "|P040101001|                4|               401|            40101|       198|      149|      212| 0.2971698113207547|\n",
            "|P040101002|                4|               401|            40101|       218|      164|      234|0.29914529914529914|\n",
            "|P040101003|                4|               401|            40101|       230|      173|      247|0.29959514170040485|\n",
            "|P040101004|                4|               401|            40101|       248|      186|      265| 0.2981132075471698|\n",
            "|P040101005|                4|               401|            40101|       268|      201|      287|0.29965156794425085|\n",
            "|P040101006|                4|               401|            40101|       298|      224|      320|                0.3|\n",
            "|P040101007|                4|               401|            40101|       338|      254|      362| 0.2983425414364641|\n",
            "|P040101008|                4|               401|            40101|       420|      315|      450|                0.3|\n",
            "|P040101009|                4|               401|            40101|       498|      374|      534|  0.299625468164794|\n",
            "|P040101010|                4|               401|            40101|       580|      435|      621| 0.2995169082125604|\n",
            "+----------+-----------------+------------------+-----------------+----------+---------+---------+-------------------+\n",
            "only showing top 10 rows\n",
            "\n"
          ]
        }
      ]
    },
    {
      "cell_type": "markdown",
      "metadata": {
        "id": "Tj7mplJihhza"
      },
      "source": [
        "---\n",
        "> P-066: 商品データフレーム（df_product）の各商品について、利益率が30%となる新たな単価を求めよ。今回は、1円未満を四捨五入すること（0.5については偶数方向の丸めで良い）。そして結果を10件表示させ、利益率がおよそ30％付近であることを確認せよ。ただし、単価（unit_price）と原価（unit_cost）にはNULLが存在することに注意せよ。"
      ]
    },
    {
      "cell_type": "code",
      "metadata": {
        "trusted": false,
        "id": "gC81Fp6ehhza",
        "outputId": "b6717b8b-b2af-4dc9-9e32-ba78eac83f2f",
        "colab": {
          "base_uri": "https://localhost:8080/"
        }
      },
      "source": [
        "df_product.withColumn(\"new_price\", F.round(F.col(\"unit_cost\") / 0.7))\\\n",
        "          .withColumn(\"new_profit_rate\", (F.col(\"new_price\") - F.col(\"unit_cost\")) / F.col(\"new_price\")).show(10)"
      ],
      "execution_count": null,
      "outputs": [
        {
          "output_type": "stream",
          "name": "stdout",
          "text": [
            "+----------+-----------------+------------------+-----------------+----------+---------+---------+-------------------+\n",
            "|product_cd|category_major_cd|category_medium_cd|category_small_cd|unit_price|unit_cost|new_price|    new_profit_rate|\n",
            "+----------+-----------------+------------------+-----------------+----------+---------+---------+-------------------+\n",
            "|P040101001|                4|               401|            40101|       198|      149|    213.0| 0.3004694835680751|\n",
            "|P040101002|                4|               401|            40101|       218|      164|    234.0|0.29914529914529914|\n",
            "|P040101003|                4|               401|            40101|       230|      173|    247.0|0.29959514170040485|\n",
            "|P040101004|                4|               401|            40101|       248|      186|    266.0| 0.3007518796992481|\n",
            "|P040101005|                4|               401|            40101|       268|      201|    287.0|0.29965156794425085|\n",
            "|P040101006|                4|               401|            40101|       298|      224|    320.0|                0.3|\n",
            "|P040101007|                4|               401|            40101|       338|      254|    363.0| 0.3002754820936639|\n",
            "|P040101008|                4|               401|            40101|       420|      315|    450.0|                0.3|\n",
            "|P040101009|                4|               401|            40101|       498|      374|    534.0|  0.299625468164794|\n",
            "|P040101010|                4|               401|            40101|       580|      435|    621.0| 0.2995169082125604|\n",
            "+----------+-----------------+------------------+-----------------+----------+---------+---------+-------------------+\n",
            "only showing top 10 rows\n",
            "\n"
          ]
        }
      ]
    },
    {
      "cell_type": "markdown",
      "metadata": {
        "id": "xxce_R6bhhzb"
      },
      "source": [
        "---\n",
        "> P-067: 商品データフレーム（df_product）の各商品について、利益率が30%となる新たな単価を求めよ。今回は、1円未満を切り上げること。そして結果を10件表示させ、利益率がおよそ30％付近であることを確認せよ。ただし、単価（unit_price）と原価（unit_cost）にはNULLが存在することに注意せよ。"
      ]
    },
    {
      "cell_type": "code",
      "metadata": {
        "trusted": false,
        "id": "3rMUdEF6hhzb",
        "outputId": "d27249c3-846d-4dab-e52e-2ebaf9ae7d8d",
        "colab": {
          "base_uri": "https://localhost:8080/"
        }
      },
      "source": [
        "df_product.withColumn(\"new_price\", F.ceil(F.col(\"unit_cost\") / 0.7))\\\n",
        "          .withColumn(\"new_profit_rate\", (F.col(\"new_price\") - F.col(\"unit_cost\")) / F.col(\"new_price\")).show(10)"
      ],
      "execution_count": null,
      "outputs": [
        {
          "output_type": "stream",
          "name": "stdout",
          "text": [
            "+----------+-----------------+------------------+-----------------+----------+---------+---------+-------------------+\n",
            "|product_cd|category_major_cd|category_medium_cd|category_small_cd|unit_price|unit_cost|new_price|    new_profit_rate|\n",
            "+----------+-----------------+------------------+-----------------+----------+---------+---------+-------------------+\n",
            "|P040101001|                4|               401|            40101|       198|      149|      213| 0.3004694835680751|\n",
            "|P040101002|                4|               401|            40101|       218|      164|      235| 0.3021276595744681|\n",
            "|P040101003|                4|               401|            40101|       230|      173|      248| 0.3024193548387097|\n",
            "|P040101004|                4|               401|            40101|       248|      186|      266| 0.3007518796992481|\n",
            "|P040101005|                4|               401|            40101|       268|      201|      288| 0.3020833333333333|\n",
            "|P040101006|                4|               401|            40101|       298|      224|      320|                0.3|\n",
            "|P040101007|                4|               401|            40101|       338|      254|      363| 0.3002754820936639|\n",
            "|P040101008|                4|               401|            40101|       420|      315|      451|0.30155210643015523|\n",
            "|P040101009|                4|               401|            40101|       498|      374|      535|0.30093457943925234|\n",
            "|P040101010|                4|               401|            40101|       580|      435|      622|0.30064308681672025|\n",
            "+----------+-----------------+------------------+-----------------+----------+---------+---------+-------------------+\n",
            "only showing top 10 rows\n",
            "\n"
          ]
        }
      ]
    },
    {
      "cell_type": "markdown",
      "metadata": {
        "id": "CnpgvfPThhzd"
      },
      "source": [
        "---\n",
        "> P-068: 商品データフレーム（df_product）の各商品について、消費税率10%の税込み金額を求めよ。 1円未満の端数は切り捨てとし、結果は10件表示すれば良い。ただし、単価（unit_price）にはNULLが存在することに注意せよ。"
      ]
    },
    {
      "cell_type": "code",
      "metadata": {
        "trusted": false,
        "id": "pAlTEkKHhhzd",
        "outputId": "d0d1b90f-998d-4dbd-f23e-9814b067d725",
        "colab": {
          "base_uri": "https://localhost:8080/"
        }
      },
      "source": [
        "df_product.withColumn(\"tax_price\", F.floor(F.col(\"unit_price\") * 1.1)).show(10)"
      ],
      "execution_count": null,
      "outputs": [
        {
          "output_type": "stream",
          "name": "stdout",
          "text": [
            "+----------+-----------------+------------------+-----------------+----------+---------+---------+\n",
            "|product_cd|category_major_cd|category_medium_cd|category_small_cd|unit_price|unit_cost|tax_price|\n",
            "+----------+-----------------+------------------+-----------------+----------+---------+---------+\n",
            "|P040101001|                4|               401|            40101|       198|      149|      217|\n",
            "|P040101002|                4|               401|            40101|       218|      164|      239|\n",
            "|P040101003|                4|               401|            40101|       230|      173|      253|\n",
            "|P040101004|                4|               401|            40101|       248|      186|      272|\n",
            "|P040101005|                4|               401|            40101|       268|      201|      294|\n",
            "|P040101006|                4|               401|            40101|       298|      224|      327|\n",
            "|P040101007|                4|               401|            40101|       338|      254|      371|\n",
            "|P040101008|                4|               401|            40101|       420|      315|      462|\n",
            "|P040101009|                4|               401|            40101|       498|      374|      547|\n",
            "|P040101010|                4|               401|            40101|       580|      435|      638|\n",
            "+----------+-----------------+------------------+-----------------+----------+---------+---------+\n",
            "only showing top 10 rows\n",
            "\n"
          ]
        }
      ]
    },
    {
      "cell_type": "markdown",
      "metadata": {
        "id": "zEABVDKXhhze"
      },
      "source": [
        "---\n",
        "> P-069: レシート明細データフレーム（df_receipt）と商品データフレーム（df_product）を結合し、顧客毎に全商品の売上金額合計と、カテゴリ大区分（category_major_cd）が\"07\"（瓶詰缶詰）の売上金額合計を計算の上、両者の比率を求めよ。抽出対象はカテゴリ大区分\"07\"（瓶詰缶詰）の購入実績がある顧客のみとし、結果は10件表示させればよい。"
      ]
    },
    {
      "cell_type": "code",
      "metadata": {
        "trusted": false,
        "id": "FL33wGUMhhze",
        "outputId": "9b81cc08-b1d4-471f-b83d-a8e9ad16eb6f",
        "colab": {
          "base_uri": "https://localhost:8080/"
        }
      },
      "source": [
        "df_tmp1 = df_receipt.groupby(\"customer_id\").agg(F.sum(\"amount\").alias(\"sum_amount\"))\n",
        "df_tmp2 = df_receipt.join(df_product, \"product_cd\", \"inner\").filter(F.col(\"category_major_cd\")==\"07\").groupby(\"customer_id\").agg(F.sum(\"amount\").alias(\"sum_amount_07\"))\n",
        "df_tmp3 = df_tmp1.join(df_tmp2, \"customer_id\", \"inner\")\n",
        "df_tmp3.withColumn(\"rate\", F.col(\"sum_amount_07\") / F.col(\"sum_amount\")).show(10)"
      ],
      "execution_count": null,
      "outputs": [
        {
          "output_type": "stream",
          "name": "stdout",
          "text": [
            "+--------------+----------+-------------+-------------------+\n",
            "|   customer_id|sum_amount|sum_amount_07|               rate|\n",
            "+--------------+----------+-------------+-------------------+\n",
            "|CS017415000245|      1289|          607| 0.4709076803723817|\n",
            "|CS025414000093|      3929|         1010| 0.2570628658691779|\n",
            "|CS024415000195|      4638|         1431|0.30853816300129366|\n",
            "|CS018515000090|      3756|         1594|0.42438764643237487|\n",
            "|CS038605000003|      2833|         1673| 0.5905400635368867|\n",
            "|CS040215000044|      1439|         1271| 0.8832522585128562|\n",
            "|CS049513000008|      4450|         3305| 0.7426966292134831|\n",
            "|CS017514000103|       348|           50|0.14367816091954022|\n",
            "|CS028515000242|      1525|          438| 0.2872131147540984|\n",
            "|CS038415000161|      2512|          680|0.27070063694267515|\n",
            "+--------------+----------+-------------+-------------------+\n",
            "only showing top 10 rows\n",
            "\n"
          ]
        }
      ]
    },
    {
      "cell_type": "markdown",
      "metadata": {
        "id": "ZEAiLMTShhzf"
      },
      "source": [
        "---\n",
        "> P-070: レシート明細データフレーム（df_receipt）の売上日（sales_ymd）に対し、顧客データフレーム（df_customer）の会員申込日（application_date）からの経過日数を計算し、顧客ID（customer_id）、売上日、会員申込日とともに表示せよ。結果は10件表示させれば良い（なお、sales_ymdは数値、application_dateは文字列でデータを保持している点に注意）。"
      ]
    },
    {
      "cell_type": "code",
      "metadata": {
        "trusted": false,
        "id": "kvzQzXuShhzf",
        "outputId": "c39135e6-304d-4070-d346-6c390de30a99",
        "colab": {
          "base_uri": "https://localhost:8080/"
        }
      },
      "source": [
        "df_tmp = df_receipt.select([\"customer_id\", \"sales_ymd\"]).drop_duplicates()\n",
        "\n",
        "df_tmp.join(df_customer, \"customer_id\", \"inner\")\\\n",
        "      .withColumn(\"sales_ymd\", F.col('sales_ymd').cast(StringType()))\\\n",
        "      .withColumn(\"sales_ymd\", F.to_date(F.unix_timestamp(F.col(\"sales_ymd\"), \"yyyyMMdd\").cast(\"timestamp\")))\\\n",
        "      .withColumn(\"application_date\", F.col('application_date').cast(StringType()))\\\n",
        "      .withColumn(\"application_date\", F.to_date(F.unix_timestamp(F.col(\"application_date\"), \"yyyyMMdd\").cast(\"timestamp\")))\\\n",
        "      .withColumn(\"elapsed_days\", F.datediff(F.col(\"sales_ymd\"), F.col(\"application_date\")))\\\n",
        "      .select([\"customer_id\", \"sales_ymd\", \"application_date\", \"elapsed_days\"]).show(10)"
      ],
      "execution_count": null,
      "outputs": [
        {
          "output_type": "stream",
          "name": "stdout",
          "text": [
            "+--------------+----------+----------------+------------+\n",
            "|   customer_id| sales_ymd|application_date|elapsed_days|\n",
            "+--------------+----------+----------------+------------+\n",
            "|CS023415000033|2017-06-19|      2015-10-07|         621|\n",
            "|CS007515000170|2018-09-04|      2015-10-20|        1050|\n",
            "|CS006415000221|2019-04-13|      2015-04-21|        1453|\n",
            "|CS011415000107|2017-02-27|      2015-08-30|         547|\n",
            "|CS025415000019|2017-10-09|      2015-06-22|         840|\n",
            "|CS021515000069|2018-03-27|      2015-05-01|        1061|\n",
            "|CS033411000030|2017-07-10|      2015-08-25|         685|\n",
            "|CS016515000156|2018-08-08|      2015-02-15|        1270|\n",
            "|CS032515000080|2017-08-03|      2015-09-26|         677|\n",
            "|CS009415000112|2018-03-21|      2015-08-06|         958|\n",
            "+--------------+----------+----------------+------------+\n",
            "only showing top 10 rows\n",
            "\n"
          ]
        }
      ]
    },
    {
      "cell_type": "markdown",
      "metadata": {
        "id": "HsMXQZXshhzg"
      },
      "source": [
        "---\n",
        "> P-071: レシート明細データフレーム（df_receipt）の売上日（sales_ymd）に対し、顧客データフレーム（df_customer）の会員申込日（application_date）からの経過月数を計算し、顧客ID（customer_id）、売上日、会員申込日とともに表示せよ。結果は10件表示させれば良い（なお、sales_ymdは数値、application_dateは文字列でデータを保持している点に注意）。1ヶ月未満は切り捨てること。"
      ]
    },
    {
      "cell_type": "code",
      "metadata": {
        "trusted": false,
        "id": "go_c1NKxhhzh",
        "outputId": "0a2fc6d6-5a1f-4d9b-a82f-8ea248e39d2b",
        "colab": {
          "base_uri": "https://localhost:8080/"
        }
      },
      "source": [
        "df_tmp = df_receipt.select([\"customer_id\", \"sales_ymd\"]).drop_duplicates()\n",
        "\n",
        "df_tmp.join(df_customer, \"customer_id\", \"inner\")\\\n",
        "      .withColumn(\"sales_ymd\", F.col('sales_ymd').cast(StringType()))\\\n",
        "      .withColumn(\"sales_ymd\", F.to_date(F.unix_timestamp(F.col(\"sales_ymd\"), \"yyyyMMdd\").cast(\"timestamp\")))\\\n",
        "      .withColumn(\"application_date\", F.col('application_date').cast(StringType()))\\\n",
        "      .withColumn(\"application_date\", F.to_date(F.unix_timestamp(F.col(\"application_date\"), \"yyyyMMdd\").cast(\"timestamp\")))\\\n",
        "      .withColumn(\"elapsed_months\", F.floor(F.months_between(F.col(\"sales_ymd\"), F.col(\"application_date\"))))\\\n",
        "      .select([\"customer_id\", \"sales_ymd\", \"application_date\", \"elapsed_months\"]).show(10)"
      ],
      "execution_count": null,
      "outputs": [
        {
          "output_type": "stream",
          "name": "stdout",
          "text": [
            "+--------------+----------+----------------+--------------+\n",
            "|   customer_id| sales_ymd|application_date|elapsed_months|\n",
            "+--------------+----------+----------------+--------------+\n",
            "|CS023415000033|2017-06-19|      2015-10-07|            20|\n",
            "|CS007515000170|2018-09-04|      2015-10-20|            34|\n",
            "|CS006415000221|2019-04-13|      2015-04-21|            47|\n",
            "|CS011415000107|2017-02-27|      2015-08-30|            17|\n",
            "|CS025415000019|2017-10-09|      2015-06-22|            27|\n",
            "|CS021515000069|2018-03-27|      2015-05-01|            34|\n",
            "|CS033411000030|2017-07-10|      2015-08-25|            22|\n",
            "|CS016515000156|2018-08-08|      2015-02-15|            41|\n",
            "|CS032515000080|2017-08-03|      2015-09-26|            22|\n",
            "|CS009415000112|2018-03-21|      2015-08-06|            31|\n",
            "+--------------+----------+----------------+--------------+\n",
            "only showing top 10 rows\n",
            "\n"
          ]
        }
      ]
    },
    {
      "cell_type": "markdown",
      "metadata": {
        "id": "uRcwkWA6hhzi"
      },
      "source": [
        "---\n",
        "> P-072: レシート明細データフレーム（df_receipt）の売上日（sales_ymd）に対し、顧客データフレーム（df_customer）の会員申込日（application_date）からの経過年数を計算し、顧客ID（customer_id）、売上日、会員申込日とともに表示せよ。結果は10件表示させれば良い。（なお、sales_ymdは数値、application_dateは文字列でデータを保持している点に注意）。1年未満は切り捨てること。"
      ]
    },
    {
      "cell_type": "code",
      "metadata": {
        "trusted": false,
        "id": "Z5-u-KYhhhzi",
        "outputId": "60976f67-3771-4e97-c2ac-9e897e81b93e",
        "colab": {
          "base_uri": "https://localhost:8080/"
        }
      },
      "source": [
        "df_tmp = df_receipt.select([\"customer_id\", \"sales_ymd\"]).drop_duplicates()\n",
        "\n",
        "df_tmp.join(df_customer, \"customer_id\", \"inner\")\\\n",
        "      .withColumn(\"sales_ymd\", F.col('sales_ymd').cast(StringType()))\\\n",
        "      .withColumn(\"sales_ymd\", F.to_date(F.unix_timestamp(F.col(\"sales_ymd\"), \"yyyyMMdd\").cast(\"timestamp\")))\\\n",
        "      .withColumn(\"application_date\", F.col('application_date').cast(StringType()))\\\n",
        "      .withColumn(\"application_date\", F.to_date(F.unix_timestamp(F.col(\"application_date\"), \"yyyyMMdd\").cast(\"timestamp\")))\\\n",
        "      .withColumn(\"elapsed_years\", F.floor(F.datediff(F.col(\"sales_ymd\"), F.col(\"application_date\")) / 365))\\\n",
        "      .select([\"customer_id\", \"sales_ymd\", \"application_date\", \"elapsed_years\"]).show(10)"
      ],
      "execution_count": null,
      "outputs": [
        {
          "output_type": "stream",
          "name": "stdout",
          "text": [
            "+--------------+----------+----------------+-------------+\n",
            "|   customer_id| sales_ymd|application_date|elapsed_years|\n",
            "+--------------+----------+----------------+-------------+\n",
            "|CS023415000033|2017-06-19|      2015-10-07|            1|\n",
            "|CS007515000170|2018-09-04|      2015-10-20|            2|\n",
            "|CS006415000221|2019-04-13|      2015-04-21|            3|\n",
            "|CS011415000107|2017-02-27|      2015-08-30|            1|\n",
            "|CS025415000019|2017-10-09|      2015-06-22|            2|\n",
            "|CS021515000069|2018-03-27|      2015-05-01|            2|\n",
            "|CS033411000030|2017-07-10|      2015-08-25|            1|\n",
            "|CS016515000156|2018-08-08|      2015-02-15|            3|\n",
            "|CS032515000080|2017-08-03|      2015-09-26|            1|\n",
            "|CS009415000112|2018-03-21|      2015-08-06|            2|\n",
            "+--------------+----------+----------------+-------------+\n",
            "only showing top 10 rows\n",
            "\n"
          ]
        }
      ]
    },
    {
      "cell_type": "markdown",
      "metadata": {
        "id": "-PsOPZZBhhzj"
      },
      "source": [
        "---\n",
        "> P-073: レシート明細データフレーム（df_receipt）の売上日（sales_ymd）に対し、顧客データフレーム（df_customer）の会員申込日（application_date）からのエポック秒による経過時間を計算し、顧客ID（customer_id）、売上日、会員申込日とともに表示せよ。結果は10件表示させれば良い（なお、sales_ymdは数値、application_dateは文字列でデータを保持している点に注意）。なお、時間情報は保有していないため各日付は0時0分0秒を表すものとする。"
      ]
    },
    {
      "cell_type": "code",
      "metadata": {
        "trusted": false,
        "id": "vUrvuOBfhhzj",
        "outputId": "560daeb6-4561-474e-c224-9b017282b14d",
        "colab": {
          "base_uri": "https://localhost:8080/"
        }
      },
      "source": [
        "df_tmp = df_receipt.select([\"customer_id\", \"sales_ymd\"]).drop_duplicates()\n",
        "\n",
        "df_tmp.join(df_customer, \"customer_id\", \"inner\")\\\n",
        "      .withColumn(\"sales_ymd\", F.col('sales_ymd').cast(StringType()))\\\n",
        "      .withColumn(\"sales_ymd\", F.unix_timestamp(F.col(\"sales_ymd\"), \"yyyyMMdd\"))\\\n",
        "      .withColumn(\"application_date\", F.col('application_date').cast(StringType()))\\\n",
        "      .withColumn(\"application_date\", F.unix_timestamp(F.col(\"application_date\"), \"yyyyMMdd\"))\\\n",
        "      .withColumn(\"elapsed_times\", F.col(\"sales_ymd\") - F.col(\"application_date\"))\\\n",
        "      .select([\"customer_id\", \"sales_ymd\", \"application_date\", \"elapsed_times\"]).show(10)"
      ],
      "execution_count": null,
      "outputs": [
        {
          "output_type": "stream",
          "name": "stdout",
          "text": [
            "+--------------+----------+----------------+-------------+\n",
            "|   customer_id| sales_ymd|application_date|elapsed_times|\n",
            "+--------------+----------+----------------+-------------+\n",
            "|CS023415000033|1497830400|      1444176000|     53654400|\n",
            "|CS007515000170|1536019200|      1445299200|     90720000|\n",
            "|CS006415000221|1555113600|      1429574400|    125539200|\n",
            "|CS011415000107|1488153600|      1440892800|     47260800|\n",
            "|CS025415000019|1507507200|      1434931200|     72576000|\n",
            "|CS021515000069|1522108800|      1430438400|     91670400|\n",
            "|CS033411000030|1499644800|      1440460800|     59184000|\n",
            "|CS016515000156|1533686400|      1423958400|    109728000|\n",
            "|CS032515000080|1501718400|      1443225600|     58492800|\n",
            "|CS009415000112|1521590400|      1438819200|     82771200|\n",
            "+--------------+----------+----------------+-------------+\n",
            "only showing top 10 rows\n",
            "\n"
          ]
        }
      ]
    },
    {
      "cell_type": "markdown",
      "metadata": {
        "id": "u_8UNALZhhzk"
      },
      "source": [
        "---\n",
        "> P-074: レシート明細データフレーム（df_receipt）の売上日（sales_ymd）に対し、当該週の月曜日からの経過日数を計算し、売上日、当該週の月曜日付とともに表示せよ。結果は10件表示させれば良い（なお、sales_ymdは数値でデータを保持している点に注意）。"
      ]
    },
    {
      "cell_type": "code",
      "metadata": {
        "trusted": false,
        "id": "mCtL5g4mhhzk",
        "outputId": "b03cb526-a59f-4d3e-85d6-030668c0e827",
        "colab": {
          "base_uri": "https://localhost:8080/"
        }
      },
      "source": [
        "df_tmp = df_receipt.select([\"customer_id\", \"sales_ymd\"]).drop_duplicates()\n",
        "\n",
        "df_tmp.join(df_customer, \"customer_id\", \"inner\")\\\n",
        "      .withColumn(\"sales_ymd\", F.col('sales_ymd').cast(StringType()))\\\n",
        "      .withColumn(\"sales_ymd\", F.to_date(F.unix_timestamp(F.col(\"sales_ymd\"), \"yyyyMMdd\").cast(\"timestamp\")))\\\n",
        "      .withColumn(\"weekday\", F.date_format(\"sales_ymd\", \"EEEE\"))\\\n",
        "      .withColumn(\"weekday_number\", F.expr('weekday(sales_ymd)'))\\\n",
        "      .select([\"customer_id\", \"sales_ymd\", \"weekday\", \"weekday_number\"]).show(10)"
      ],
      "execution_count": null,
      "outputs": [
        {
          "output_type": "stream",
          "name": "stdout",
          "text": [
            "+--------------+----------+---------+--------------+\n",
            "|   customer_id| sales_ymd|  weekday|weekday_number|\n",
            "+--------------+----------+---------+--------------+\n",
            "|CS023415000033|2017-06-19|   Monday|             0|\n",
            "|CS007515000170|2018-09-04|  Tuesday|             1|\n",
            "|CS006415000221|2019-04-13| Saturday|             5|\n",
            "|CS011415000107|2017-02-27|   Monday|             0|\n",
            "|CS025415000019|2017-10-09|   Monday|             0|\n",
            "|CS021515000069|2018-03-27|  Tuesday|             1|\n",
            "|CS033411000030|2017-07-10|   Monday|             0|\n",
            "|CS016515000156|2018-08-08|Wednesday|             2|\n",
            "|CS032515000080|2017-08-03| Thursday|             3|\n",
            "|CS009415000112|2018-03-21|Wednesday|             2|\n",
            "+--------------+----------+---------+--------------+\n",
            "only showing top 10 rows\n",
            "\n"
          ]
        }
      ]
    },
    {
      "cell_type": "markdown",
      "metadata": {
        "id": "2Jxo_7quhhzl"
      },
      "source": [
        "---\n",
        "> P-075: 顧客データフレーム（df_customer）からランダムに1%のデータを抽出し、先頭から10件データを抽出せよ。"
      ]
    },
    {
      "cell_type": "code",
      "metadata": {
        "trusted": false,
        "id": "IlLf0t38hhzl",
        "outputId": "d5aa8178-84c0-4686-c48f-a487d8f68d23",
        "colab": {
          "base_uri": "https://localhost:8080/"
        }
      },
      "source": [
        "df_customer.sample(0.01).head(10)"
      ],
      "execution_count": null,
      "outputs": [
        {
          "output_type": "execute_result",
          "data": {
            "text/plain": [
              "[Row(customer_id='CS039714000007', customer_name='水田 さやか', gender_cd=1, gender='女性', birth_day=datetime.datetime(1941, 11, 21, 0, 0), age=77, postal_cd='167-0043', address='東京都杉並区上荻**********', application_store_cd='S13039', application_date=20150605, status_cd='0-00000000-0'),\n",
              " Row(customer_id='CS005512000106', customer_name='河原 恭子', gender_cd=1, gender='女性', birth_day=datetime.datetime(1963, 6, 25, 0, 0), age=55, postal_cd='166-0001', address='東京都杉並区阿佐谷北**********', application_store_cd='S13005', application_date=20150401, status_cd='3-20091206-1'),\n",
              " Row(customer_id='CS027613000045', customer_name='土屋 菜々美', gender_cd=1, gender='女性', birth_day=datetime.datetime(1950, 11, 1, 0, 0), age=68, postal_cd='251-0052', address='神奈川県藤沢市藤沢**********', application_store_cd='S14027', application_date=20150607, status_cd='0-00000000-0'),\n",
              " Row(customer_id='CS031315000180', customer_name='玉置 未來', gender_cd=1, gender='女性', birth_day=datetime.datetime(1982, 1, 9, 0, 0), age=37, postal_cd='151-0071', address='東京都渋谷区本町**********', application_store_cd='S13031', application_date=20150205, status_cd='0-00000000-0'),\n",
              " Row(customer_id='CS034512000113', customer_name='大倉 夏希', gender_cd=1, gender='女性', birth_day=datetime.datetime(1966, 10, 21, 0, 0), age=52, postal_cd='213-0002', address='神奈川県川崎市高津区二子**********', application_store_cd='S14034', application_date=20150730, status_cd='0-00000000-0'),\n",
              " Row(customer_id='CS001514000191', customer_name='高倉 礼子', gender_cd=1, gender='女性', birth_day=datetime.datetime(1965, 11, 4, 0, 0), age=53, postal_cd='144-0046', address='東京都大田区東六郷**********', application_store_cd='S13001', application_date=20160628, status_cd='A-20100731-1'),\n",
              " Row(customer_id='CS003413000159', customer_name='松川 礼子', gender_cd=1, gender='女性', birth_day=datetime.datetime(1970, 12, 2, 0, 0), age=48, postal_cd='182-0022', address='東京都調布市国領町**********', application_store_cd='S13003', application_date=20150402, status_cd='0-00000000-0'),\n",
              " Row(customer_id='CS004615000209', customer_name='桜井 未來', gender_cd=1, gender='女性', birth_day=datetime.datetime(1952, 4, 29, 0, 0), age=66, postal_cd='176-0023', address='東京都練馬区中村北**********', application_store_cd='S13004', application_date=20160619, status_cd='0-00000000-0'),\n",
              " Row(customer_id='CS017412000019', customer_name='菊地 恵麻', gender_cd=1, gender='女性', birth_day=datetime.datetime(1969, 4, 8, 0, 0), age=49, postal_cd='167-0032', address='東京都杉並区天沼**********', application_store_cd='S13017', application_date=20150205, status_cd='5-20081027-3'),\n",
              " Row(customer_id='CS046415000011', customer_name='菊地 真悠子', gender_cd=1, gender='女性', birth_day=datetime.datetime(1972, 2, 1, 0, 0), age=47, postal_cd='216-0002', address='神奈川県川崎市宮前区東有馬**********', application_store_cd='S14046', application_date=20180412, status_cd='6-20101014-9')]"
            ]
          },
          "metadata": {},
          "execution_count": 23
        }
      ]
    },
    {
      "cell_type": "markdown",
      "metadata": {
        "id": "aln1Xt5ghhzm"
      },
      "source": [
        "---\n",
        "> P-076: 顧客データフレーム（df_customer）から性別（gender_cd）の割合に基づきランダムに10%のデータを層化抽出データし、性別ごとに件数を集計せよ。"
      ]
    },
    {
      "cell_type": "code",
      "source": [
        "df_customer.groupBy(\"gender_cd\").count().show()"
      ],
      "metadata": {
        "id": "yf848vEVZ9Ud",
        "outputId": "75fb7b8f-d785-4991-8861-19ec931a2026",
        "colab": {
          "base_uri": "https://localhost:8080/"
        }
      },
      "execution_count": null,
      "outputs": [
        {
          "output_type": "stream",
          "name": "stdout",
          "text": [
            "+---------+-----+\n",
            "|gender_cd|count|\n",
            "+---------+-----+\n",
            "|        1|17918|\n",
            "|        9| 1072|\n",
            "|        0| 2981|\n",
            "+---------+-----+\n",
            "\n"
          ]
        }
      ]
    },
    {
      "cell_type": "code",
      "metadata": {
        "trusted": false,
        "id": "RbrjkGllhhzm",
        "outputId": "36dce638-ff65-4dac-a7c9-5de81edf75f4",
        "colab": {
          "base_uri": "https://localhost:8080/"
        }
      },
      "source": [
        "df_customer.sampleBy(\"gender_cd\", fractions={0: 0.1, 1: 0.1, 9:0.1}).groupBy(\"gender_cd\").count().show()"
      ],
      "execution_count": null,
      "outputs": [
        {
          "output_type": "stream",
          "name": "stdout",
          "text": [
            "+---------+-----+\n",
            "|gender_cd|count|\n",
            "+---------+-----+\n",
            "|        1| 1895|\n",
            "|        9|  101|\n",
            "|        0|  280|\n",
            "+---------+-----+\n",
            "\n"
          ]
        }
      ]
    },
    {
      "cell_type": "markdown",
      "metadata": {
        "id": "VPRFv68Jhhzn"
      },
      "source": [
        "---\n",
        "> P-077: レシート明細データフレーム（df_receipt）の売上金額（amount）を顧客単位に合計し、合計した売上金額の外れ値を抽出せよ。ただし、顧客IDが\"Z\"から始まるのものは非会員を表すため、除外して計算すること。なお、ここでは外れ値を平均から3σ以上離れたものとする。結果は10件表示させれば良い。"
      ]
    },
    {
      "cell_type": "code",
      "source": [
        "df_receipt_tmp1 = df_receipt.filter(F.col(\"customer_id\").rlike('^(?!Z).*'))\\\n",
        "                            .groupBy(\"customer_id\")\\\n",
        "                            .agg(F.sum(F.col(\"amount\")).alias(\"sum_amount\"))\n",
        "stddev_pop_sum_amount = df_receipt_tmp1.select(F.stddev_pop('sum_amount')).first()[0]\n",
        "mean_sum_amount = df_receipt_tmp1.select(F.mean('sum_amount')).first()[0]\n",
        "df_receipt_tmp1.where(F.abs(F.col(\"sum_amount\") - mean_sum_amount) > (stddev_pop_sum_amount * 3)).show(10)"
      ],
      "metadata": {
        "id": "gE0p4FE9f1lP",
        "outputId": "4557bf1a-940b-4aef-90e8-b8412e3a8d0e",
        "colab": {
          "base_uri": "https://localhost:8080/"
        }
      },
      "execution_count": null,
      "outputs": [
        {
          "output_type": "stream",
          "name": "stdout",
          "text": [
            "+--------------+----------+\n",
            "|   customer_id|sum_amount|\n",
            "+--------------+----------+\n",
            "|CS015415000222|     11472|\n",
            "|CS038415000071|     12696|\n",
            "|CS026515000201|     11144|\n",
            "|CS006515000023|     18372|\n",
            "|CS013415000176|     12383|\n",
            "|CS010415000121|     11761|\n",
            "|CS015515000034|     15300|\n",
            "|CS032414000072|     16563|\n",
            "|CS008414000053|     12276|\n",
            "|CS009415000214|     13742|\n",
            "+--------------+----------+\n",
            "only showing top 10 rows\n",
            "\n"
          ]
        }
      ]
    },
    {
      "cell_type": "markdown",
      "metadata": {
        "id": "BatcRBrehhzp"
      },
      "source": [
        "---\n",
        "> P-078: レシート明細データフレーム（df_receipt）の売上金額（amount）を顧客単位に合計し、合計した売上金額の外れ値を抽出せよ。ただし、顧客IDが\"Z\"から始まるのものは非会員を表すため、除外して計算すること。なお、ここでは外れ値を第一四分位と第三四分位の差であるIQRを用いて、「第一四分位数-1.5×IQR」よりも下回るもの、または「第三四分位数+1.5×IQR」を超えるものとする。結果は10件表示させれば良い。"
      ]
    },
    {
      "cell_type": "code",
      "source": [
        "df_receipt_tmp1 = df_receipt.filter(F.col(\"customer_id\").rlike('^(?!Z).*'))\\\n",
        "                            .groupBy(\"customer_id\")\\\n",
        "                            .agg(F.sum(F.col(\"amount\")).alias(\"sum_amount\"))"
      ],
      "metadata": {
        "id": "RPTxLi-Yija4"
      },
      "execution_count": null,
      "outputs": []
    },
    {
      "cell_type": "code",
      "metadata": {
        "trusted": false,
        "id": "4RvDfhvChhzp"
      },
      "source": [
        "perc25 = df_receipt_tmp.select(F.percentile_approx(\"sum_amount\", 0.25)).collect()[0][0]\n",
        "perc75 = df_receipt_tmp.select(F.percentile_approx(\"sum_amount\", 0.75)).collect()[0][0]\n",
        "\n",
        "iqr = perc75 - perc25\n",
        "amount_low = perc25 - (iqr * 1.5)\n",
        "amount_hight = perc75 + (iqr * 1.5)"
      ],
      "execution_count": null,
      "outputs": []
    },
    {
      "cell_type": "code",
      "source": [
        "df_receipt_tmp1.filter((F.col(\"sum_amount\") < amount_low) | (F.col(\"sum_amount\") > amount_hight)).show(10)"
      ],
      "metadata": {
        "id": "ie0PSO2_iwwh",
        "outputId": "5b6a2ff8-e926-409e-c5ee-09a9f4f7b9f4",
        "colab": {
          "base_uri": "https://localhost:8080/"
        }
      },
      "execution_count": null,
      "outputs": [
        {
          "output_type": "stream",
          "name": "stdout",
          "text": [
            "+--------------+----------+\n",
            "|   customer_id|sum_amount|\n",
            "+--------------+----------+\n",
            "|CS015415000222|     11472|\n",
            "|CS038415000071|     12696|\n",
            "|CS021514000045|      9741|\n",
            "|CS026515000201|     11144|\n",
            "|CS006515000023|     18372|\n",
            "|CS013214000003|      8589|\n",
            "|CS034415000196|      8656|\n",
            "|CS023414000057|     10075|\n",
            "|CS031414000048|     10538|\n",
            "|CS018205000001|      8739|\n",
            "+--------------+----------+\n",
            "only showing top 10 rows\n",
            "\n"
          ]
        }
      ]
    },
    {
      "cell_type": "markdown",
      "metadata": {
        "id": "boe923CMhhzq"
      },
      "source": [
        "---\n",
        "> P-079: 商品データフレーム（df_product）の各項目に対し、欠損数を確認せよ。"
      ]
    },
    {
      "cell_type": "code",
      "metadata": {
        "trusted": false,
        "id": "bxl__vC5hhzq",
        "outputId": "b5c4fc40-ea0f-4ea7-89ad-09b301b8e71e",
        "colab": {
          "base_uri": "https://localhost:8080/"
        }
      },
      "source": [
        "df_product.select([F.count(F.when(F.isnull(F.col(c)), c)).alias(c) for c in df_product.columns]).show()"
      ],
      "execution_count": null,
      "outputs": [
        {
          "output_type": "stream",
          "name": "stdout",
          "text": [
            "+----------+-----------------+------------------+-----------------+----------+---------+\n",
            "|product_cd|category_major_cd|category_medium_cd|category_small_cd|unit_price|unit_cost|\n",
            "+----------+-----------------+------------------+-----------------+----------+---------+\n",
            "|         0|                0|                 0|                0|         7|        7|\n",
            "+----------+-----------------+------------------+-----------------+----------+---------+\n",
            "\n"
          ]
        }
      ]
    },
    {
      "cell_type": "markdown",
      "metadata": {
        "id": "afprSqIvhhzs"
      },
      "source": [
        "---\n",
        "> P-080: 商品データフレーム（df_product）のいずれかの項目に欠損が発生しているレコードを全て削除した新たなdf_product_1を作成せよ。なお、削除前後の件数を表示させ、前設問で確認した件数だけ減少していることも確認すること。"
      ]
    },
    {
      "cell_type": "code",
      "metadata": {
        "trusted": false,
        "id": "q3_9sLdHhhzt",
        "outputId": "68622775-635c-4d9e-fc53-38fa370f3bd2",
        "colab": {
          "base_uri": "https://localhost:8080/"
        }
      },
      "source": [
        "df_product_1 = df_product.dropna()\n",
        "print('削除前:', df_product.count())\n",
        "print('削除後:', df_product_1.count())"
      ],
      "execution_count": null,
      "outputs": [
        {
          "output_type": "stream",
          "name": "stdout",
          "text": [
            "削除前: 10030\n",
            "削除後: 10023\n"
          ]
        }
      ]
    },
    {
      "cell_type": "markdown",
      "metadata": {
        "id": "GtiO20ZKhhzu"
      },
      "source": [
        "---\n",
        "> P-081: 単価（unit_price）と原価（unit_cost）の欠損値について、それぞれの平均値で補完した新たなdf_product_2を作成せよ。なお、平均値について1円未満は四捨五入とし、0.5については偶数寄せでかまわない。補完実施後、各項目について欠損が生じていないことも確認すること。"
      ]
    },
    {
      "cell_type": "code",
      "metadata": {
        "trusted": false,
        "id": "puFf-7Ewhhzu",
        "outputId": "5e79227a-d09c-47d7-ff86-e429d8992d3d",
        "colab": {
          "base_uri": "https://localhost:8080/"
        }
      },
      "source": [
        "mean_unit_price = df_product.select(F.round(F.mean(\"unit_price\"))).first()[0]\n",
        "mean_unit_cost = df_product.select(F.round(F.mean(\"unit_cost\"))).first()[0]\n",
        "fill_dict = {\"unit_price\":mean_unit_price, \"unit_cost\":mean_unit_cost}\n",
        "df_product_2 = df_product.fillna(fill_dict)\n",
        "df_product_2.select([F.count(F.when(F.isnull(F.col(c)), c)).alias(c) for c in df_product_2.columns]).show()"
      ],
      "execution_count": null,
      "outputs": [
        {
          "output_type": "stream",
          "name": "stdout",
          "text": [
            "+----------+-----------------+------------------+-----------------+----------+---------+\n",
            "|product_cd|category_major_cd|category_medium_cd|category_small_cd|unit_price|unit_cost|\n",
            "+----------+-----------------+------------------+-----------------+----------+---------+\n",
            "|         0|                0|                 0|                0|         0|        0|\n",
            "+----------+-----------------+------------------+-----------------+----------+---------+\n",
            "\n"
          ]
        }
      ]
    },
    {
      "cell_type": "markdown",
      "metadata": {
        "id": "i7x6WAJ2hhzv"
      },
      "source": [
        "---\n",
        "> P-082: 単価（unit_price）と原価（unit_cost）の欠損値について、それぞれの中央値で補完した新たなdf_product_3を作成せよ。なお、中央値について1円未満は四捨五入とし、0.5については偶数寄せでかまわない。補完実施後、各項目について欠損が生じていないことも確認すること。"
      ]
    },
    {
      "cell_type": "code",
      "source": [
        "import numpy as np\n",
        "\n",
        "@F.udf(DoubleType())\n",
        "def udf_median(values_list):\n",
        "    med = np.median(values_list)\n",
        "    return float(med)"
      ],
      "metadata": {
        "id": "WGBOnm35oai_"
      },
      "execution_count": null,
      "outputs": []
    },
    {
      "cell_type": "code",
      "metadata": {
        "trusted": false,
        "id": "Meng_cTIhhzv",
        "outputId": "4eab4d2f-31c0-4242-f9aa-eaeac0a3cae4",
        "colab": {
          "base_uri": "https://localhost:8080/"
        }
      },
      "source": [
        "median_unit_price = df_product.select(F.round(udf_median(F.collect_list('unit_price'))).alias('median_unit_price')).first()[0]\n",
        "median_unit_cost = df_product.select(F.round(udf_median(F.collect_list('unit_cost'))).alias('median_unit_cost')).first()[0]\n",
        "fill_dict = {\"unit_price\":median_unit_price, \"unit_cost\":median_unit_cost}\n",
        "df_product_2 = df_product.fillna(fill_dict)\n",
        "df_product_2.select([F.count(F.when(F.isnull(F.col(c)), c)).alias(c) for c in df_product_2.columns]).show()"
      ],
      "execution_count": null,
      "outputs": [
        {
          "output_type": "stream",
          "name": "stdout",
          "text": [
            "+----------+-----------------+------------------+-----------------+----------+---------+\n",
            "|product_cd|category_major_cd|category_medium_cd|category_small_cd|unit_price|unit_cost|\n",
            "+----------+-----------------+------------------+-----------------+----------+---------+\n",
            "|         0|                0|                 0|                0|         0|        0|\n",
            "+----------+-----------------+------------------+-----------------+----------+---------+\n",
            "\n"
          ]
        }
      ]
    },
    {
      "cell_type": "markdown",
      "metadata": {
        "id": "kXCIpqm4hhzw"
      },
      "source": [
        "---\n",
        "> P-083: 単価（unit_price）と原価（unit_cost）の欠損値について、各商品の小区分（category_small_cd）ごとに算出した中央値で補完した新たなdf_product_4を作成せよ。なお、中央値について1円未満は四捨五入とし、0.5については偶数寄せでかまわない。補完実施後、各項目について欠損が生じていないことも確認すること。"
      ]
    },
    {
      "cell_type": "code",
      "metadata": {
        "trusted": false,
        "id": "Qeq1bChyhhzw",
        "outputId": "8ddc38cb-ee46-4efe-d19f-63f0de94cc91",
        "colab": {
          "base_uri": "https://localhost:8080/"
        }
      },
      "source": [
        "df_tmp = df_product.groupBy(\"category_small_cd\").agg(F.round(udf_median(F.collect_list(\"unit_price\"))).alias(\"median_unit_price\"),\\\n",
        "                                                     F.round(udf_median(F.collect_list(\"unit_cost\"))).alias(\"median_unit_cost\"))\n",
        "df_product_4 = df_product.join(df_tmp, \"category_small_cd\", \"inner\")\n",
        "df_product_4 = df_product_4.withColumn(\"unit_price\", F.when(F.isnull(\"unit_price\"), F.col(\"median_unit_price\")).otherwise(F.col(\"unit_price\")))\\\n",
        "                           .withColumn(\"unit_cost\", F.when(F.isnull(\"unit_cost\"), F.col(\"median_unit_cost\")).otherwise(F.col(\"unit_cost\")))\n",
        "df_product_4.select([F.count(F.when(F.isnull(F.col(c)), c)).alias(c) for c in df_product_4.columns]).show()"
      ],
      "execution_count": null,
      "outputs": [
        {
          "output_type": "stream",
          "name": "stdout",
          "text": [
            "+-----------------+----------+-----------------+------------------+----------+---------+-----------------+----------------+\n",
            "|category_small_cd|product_cd|category_major_cd|category_medium_cd|unit_price|unit_cost|median_unit_price|median_unit_cost|\n",
            "+-----------------+----------+-----------------+------------------+----------+---------+-----------------+----------------+\n",
            "|                0|         0|                0|                 0|         0|        0|                0|               0|\n",
            "+-----------------+----------+-----------------+------------------+----------+---------+-----------------+----------------+\n",
            "\n"
          ]
        }
      ]
    },
    {
      "cell_type": "markdown",
      "metadata": {
        "id": "kKqZ8U_ihhzx"
      },
      "source": [
        "---\n",
        "> P-084: 顧客データフレーム（df_customer）の全顧客に対し、全期間の売上金額に占める2019年売上金額の割合を計算せよ。ただし、販売実績のない場合は0として扱うこと。そして計算した割合が0超のものを抽出せよ。 結果は10件表示させれば良い。また、作成したデータにNAやNANが存在しないことを確認せよ。"
      ]
    },
    {
      "cell_type": "code",
      "source": [
        "df_customer.printSchema()"
      ],
      "metadata": {
        "id": "GzmYFRr7scyz",
        "outputId": "c1317fab-d939-48ca-b320-e8caa9e60980",
        "colab": {
          "base_uri": "https://localhost:8080/"
        }
      },
      "execution_count": null,
      "outputs": [
        {
          "output_type": "stream",
          "name": "stdout",
          "text": [
            "root\n",
            " |-- customer_id: string (nullable = true)\n",
            " |-- customer_name: string (nullable = true)\n",
            " |-- gender_cd: integer (nullable = true)\n",
            " |-- gender: string (nullable = true)\n",
            " |-- birth_day: timestamp (nullable = true)\n",
            " |-- age: integer (nullable = true)\n",
            " |-- postal_cd: string (nullable = true)\n",
            " |-- address: string (nullable = true)\n",
            " |-- application_store_cd: string (nullable = true)\n",
            " |-- application_date: integer (nullable = true)\n",
            " |-- status_cd: string (nullable = true)\n",
            "\n"
          ]
        }
      ]
    },
    {
      "cell_type": "code",
      "metadata": {
        "trusted": false,
        "id": "Rtq3Y8Gxhhzx",
        "outputId": "6a2cc8db-41f7-45f5-cb77-33125b0eec54",
        "colab": {
          "base_uri": "https://localhost:8080/"
        }
      },
      "source": [
        "df_receipt_2019 = df_receipt.filter((\"20190101\" <= F.col(\"sales_ymd\")) & (\"20191231\" > F.col(\"sales_ymd\")))\\\n",
        "                            .groupBy(\"customer_id\").agg(F.sum(\"amount\").alias(\"sum_amount_2019\"))\n",
        "df_receipt_all = df_receipt.groupBy(\"customer_id\").agg(F.sum(\"amount\").alias(\"sum_amount_all\"))\n",
        "df_sales_rate = df_customer.join(df_receipt_all, \"customer_id\", \"left\").join(df_receipt_2019, \"customer_id\", \"left\").fillna(0)\n",
        "df_sales_rate = df_sales_rate.withColumn(\"sales_rate\", F.col(\"sum_amount_2019\") / F.col(\"sum_amount_all\")).fillna(0).filter(F.col(\"sales_rate\") > 0)\n",
        "df_sales_rate.show(10)"
      ],
      "execution_count": null,
      "outputs": [
        {
          "output_type": "stream",
          "name": "stdout",
          "text": [
            "+--------------+-------------+---------+------+-------------------+---+---------+----------------------------------+--------------------+----------------+------------+--------------+---------------+--------------------+\n",
            "|   customer_id|customer_name|gender_cd|gender|          birth_day|age|postal_cd|                           address|application_store_cd|application_date|   status_cd|sum_amount_all|sum_amount_2019|          sales_rate|\n",
            "+--------------+-------------+---------+------+-------------------+---+---------+----------------------------------+--------------------+----------------+------------+--------------+---------------+--------------------+\n",
            "|CS031415000172|宇多田 貴美子|        1|  女性|1976-10-04 00:00:00| 42| 151-0053|      東京都渋谷区代々木**********|              S13031|        20150529|D-20100325-C|          5088|           2971|  0.5839229559748428|\n",
            "|CS015414000103|    奥野 陽子|        1|  女性|1977-08-09 00:00:00| 41| 136-0073|        東京都江東区北砂**********|              S13015|        20150722|B-20100609-B|          3122|            874| 0.27994875080076875|\n",
            "|CS011215000048|    芦田 沙耶|        1|  女性|1992-02-01 00:00:00| 27| 223-0062|神奈川県横浜市港北区日吉本町***...|              S14011|        20150228|C-20100421-9|          3444|            248| 0.07200929152148665|\n",
            "|CS029415000023|    梅田 里穂|        1|  女性|1976-01-17 00:00:00| 43| 279-0043|      千葉県浦安市富士見**********|              S12029|        20150610|D-20100918-E|          5167|           3767|  0.7290497387265338|\n",
            "|CS035415000029|    寺沢 真希|        9|  不明|1977-09-27 00:00:00| 41| 158-0096|    東京都世田谷区玉川台**********|              S13035|        20141220|F-20101029-F|          7504|           5823|  0.7759861407249466|\n",
            "|CS023513000066|    神戸 そら|        1|  女性|1961-12-17 00:00:00| 57| 210-0005| 神奈川県川崎市川崎区東田町****...|              S14023|        20150915|5-20100524-9|           771|            208|  0.2697795071335927|\n",
            "|CS035513000134|    市川 美帆|        1|  女性|1960-03-27 00:00:00| 59| 156-0053|        東京都世田谷区桜**********|              S13035|        20150227|8-20100711-9|          1565|            463|  0.2958466453674121|\n",
            "|CS001515000263|    高松 夏空|        1|  女性|1962-11-09 00:00:00| 56| 144-0051|      東京都大田区西蒲田**********|              S13001|        20160812|1-20100804-1|           216|            216|                 1.0|\n",
            "|CS006415000279|      末永 綾|        1|  女性|1969-10-03 00:00:00| 49| 224-0037|神奈川県横浜市都筑区茅ケ崎南***...|              S14006|        20150713|1-20100519-2|           229|            229|                 1.0|\n",
            "|CS031415000106|  宇野 由美子|        1|  女性|1970-02-26 00:00:00| 49| 151-0053|      東京都渋谷区代々木**********|              S13031|        20150201|F-20100511-E|          7741|            215|0.027774189381216896|\n",
            "+--------------+-------------+---------+------+-------------------+---+---------+----------------------------------+--------------------+----------------+------------+--------------+---------------+--------------------+\n",
            "only showing top 10 rows\n",
            "\n"
          ]
        }
      ]
    },
    {
      "cell_type": "code",
      "source": [
        "df_sales_rate.select([F.count(F.when(F.isnull(F.col(c)), c)).alias(c) for c in df_sales_rate.columns]).show()"
      ],
      "metadata": {
        "id": "3Ydw4pErt9bF",
        "outputId": "a6278240-693e-4289-bc02-4f8c0456169e",
        "colab": {
          "base_uri": "https://localhost:8080/",
          "height": 316
        }
      },
      "execution_count": null,
      "outputs": [
        {
          "output_type": "error",
          "ename": "ConnectionRefusedError",
          "evalue": "ignored",
          "traceback": [
            "\u001b[0;31m---------------------------------------------------------------------------\u001b[0m",
            "\u001b[0;31mConnectionRefusedError\u001b[0m                    Traceback (most recent call last)",
            "\u001b[0;32m<ipython-input-82-af988ea67d55>\u001b[0m in \u001b[0;36m<module>\u001b[0;34m\u001b[0m\n\u001b[0;32m----> 1\u001b[0;31m \u001b[0mdf_sales_rate\u001b[0m\u001b[0;34m.\u001b[0m\u001b[0mselect\u001b[0m\u001b[0;34m(\u001b[0m\u001b[0;34m[\u001b[0m\u001b[0mF\u001b[0m\u001b[0;34m.\u001b[0m\u001b[0mcount\u001b[0m\u001b[0;34m(\u001b[0m\u001b[0mF\u001b[0m\u001b[0;34m.\u001b[0m\u001b[0mwhen\u001b[0m\u001b[0;34m(\u001b[0m\u001b[0mF\u001b[0m\u001b[0;34m.\u001b[0m\u001b[0misnull\u001b[0m\u001b[0;34m(\u001b[0m\u001b[0mF\u001b[0m\u001b[0;34m.\u001b[0m\u001b[0mcol\u001b[0m\u001b[0;34m(\u001b[0m\u001b[0mc\u001b[0m\u001b[0;34m)\u001b[0m\u001b[0;34m)\u001b[0m\u001b[0;34m,\u001b[0m \u001b[0mc\u001b[0m\u001b[0;34m)\u001b[0m\u001b[0;34m)\u001b[0m\u001b[0;34m.\u001b[0m\u001b[0malias\u001b[0m\u001b[0;34m(\u001b[0m\u001b[0mc\u001b[0m\u001b[0;34m)\u001b[0m \u001b[0;32mfor\u001b[0m \u001b[0mc\u001b[0m \u001b[0;32min\u001b[0m \u001b[0mdf_sales_rate\u001b[0m\u001b[0;34m.\u001b[0m\u001b[0mcolumns\u001b[0m\u001b[0;34m]\u001b[0m\u001b[0;34m)\u001b[0m\u001b[0;34m.\u001b[0m\u001b[0mshow\u001b[0m\u001b[0;34m(\u001b[0m\u001b[0;34m)\u001b[0m\u001b[0;34m\u001b[0m\u001b[0;34m\u001b[0m\u001b[0m\n\u001b[0m",
            "\u001b[0;32m<ipython-input-82-af988ea67d55>\u001b[0m in \u001b[0;36m<listcomp>\u001b[0;34m(.0)\u001b[0m\n\u001b[0;32m----> 1\u001b[0;31m \u001b[0mdf_sales_rate\u001b[0m\u001b[0;34m.\u001b[0m\u001b[0mselect\u001b[0m\u001b[0;34m(\u001b[0m\u001b[0;34m[\u001b[0m\u001b[0mF\u001b[0m\u001b[0;34m.\u001b[0m\u001b[0mcount\u001b[0m\u001b[0;34m(\u001b[0m\u001b[0mF\u001b[0m\u001b[0;34m.\u001b[0m\u001b[0mwhen\u001b[0m\u001b[0;34m(\u001b[0m\u001b[0mF\u001b[0m\u001b[0;34m.\u001b[0m\u001b[0misnull\u001b[0m\u001b[0;34m(\u001b[0m\u001b[0mF\u001b[0m\u001b[0;34m.\u001b[0m\u001b[0mcol\u001b[0m\u001b[0;34m(\u001b[0m\u001b[0mc\u001b[0m\u001b[0;34m)\u001b[0m\u001b[0;34m)\u001b[0m\u001b[0;34m,\u001b[0m \u001b[0mc\u001b[0m\u001b[0;34m)\u001b[0m\u001b[0;34m)\u001b[0m\u001b[0;34m.\u001b[0m\u001b[0malias\u001b[0m\u001b[0;34m(\u001b[0m\u001b[0mc\u001b[0m\u001b[0;34m)\u001b[0m \u001b[0;32mfor\u001b[0m \u001b[0mc\u001b[0m \u001b[0;32min\u001b[0m \u001b[0mdf_sales_rate\u001b[0m\u001b[0;34m.\u001b[0m\u001b[0mcolumns\u001b[0m\u001b[0;34m]\u001b[0m\u001b[0;34m)\u001b[0m\u001b[0;34m.\u001b[0m\u001b[0mshow\u001b[0m\u001b[0;34m(\u001b[0m\u001b[0;34m)\u001b[0m\u001b[0;34m\u001b[0m\u001b[0;34m\u001b[0m\u001b[0m\n\u001b[0m",
            "\u001b[0;32m/usr/local/lib/python3.7/dist-packages/pyspark/sql/functions.py\u001b[0m in \u001b[0;36mcol\u001b[0;34m(col)\u001b[0m\n\u001b[1;32m    149\u001b[0m     \u001b[0mColumn\u001b[0m\u001b[0;34m<\u001b[0m\u001b[0;34m'x'\u001b[0m\u001b[0;34m>\u001b[0m\u001b[0;34m\u001b[0m\u001b[0;34m\u001b[0m\u001b[0m\n\u001b[1;32m    150\u001b[0m     \"\"\"\n\u001b[0;32m--> 151\u001b[0;31m     \u001b[0;32mreturn\u001b[0m \u001b[0m_invoke_function\u001b[0m\u001b[0;34m(\u001b[0m\u001b[0;34m\"col\"\u001b[0m\u001b[0;34m,\u001b[0m \u001b[0mcol\u001b[0m\u001b[0;34m)\u001b[0m\u001b[0;34m\u001b[0m\u001b[0;34m\u001b[0m\u001b[0m\n\u001b[0m\u001b[1;32m    152\u001b[0m \u001b[0;34m\u001b[0m\u001b[0m\n\u001b[1;32m    153\u001b[0m \u001b[0;34m\u001b[0m\u001b[0m\n",
            "\u001b[0;32m/usr/local/lib/python3.7/dist-packages/pyspark/sql/functions.py\u001b[0m in \u001b[0;36m_invoke_function\u001b[0;34m(name, *args)\u001b[0m\n\u001b[1;32m     82\u001b[0m     \"\"\"\n\u001b[1;32m     83\u001b[0m     \u001b[0;32massert\u001b[0m \u001b[0mSparkContext\u001b[0m\u001b[0;34m.\u001b[0m\u001b[0m_active_spark_context\u001b[0m \u001b[0;32mis\u001b[0m \u001b[0;32mnot\u001b[0m \u001b[0;32mNone\u001b[0m\u001b[0;34m\u001b[0m\u001b[0;34m\u001b[0m\u001b[0m\n\u001b[0;32m---> 84\u001b[0;31m     \u001b[0mjf\u001b[0m \u001b[0;34m=\u001b[0m \u001b[0m_get_jvm_function\u001b[0m\u001b[0;34m(\u001b[0m\u001b[0mname\u001b[0m\u001b[0;34m,\u001b[0m \u001b[0mSparkContext\u001b[0m\u001b[0;34m.\u001b[0m\u001b[0m_active_spark_context\u001b[0m\u001b[0;34m)\u001b[0m\u001b[0;34m\u001b[0m\u001b[0;34m\u001b[0m\u001b[0m\n\u001b[0m\u001b[1;32m     85\u001b[0m     \u001b[0;32mreturn\u001b[0m \u001b[0mColumn\u001b[0m\u001b[0;34m(\u001b[0m\u001b[0mjf\u001b[0m\u001b[0;34m(\u001b[0m\u001b[0;34m*\u001b[0m\u001b[0margs\u001b[0m\u001b[0;34m)\u001b[0m\u001b[0;34m)\u001b[0m\u001b[0;34m\u001b[0m\u001b[0;34m\u001b[0m\u001b[0m\n\u001b[1;32m     86\u001b[0m \u001b[0;34m\u001b[0m\u001b[0m\n",
            "\u001b[0;32m/usr/local/lib/python3.7/dist-packages/pyspark/sql/functions.py\u001b[0m in \u001b[0;36m_get_jvm_function\u001b[0;34m(name, sc)\u001b[0m\n\u001b[1;32m     73\u001b[0m     \"\"\"\n\u001b[1;32m     74\u001b[0m     \u001b[0;32massert\u001b[0m \u001b[0msc\u001b[0m\u001b[0;34m.\u001b[0m\u001b[0m_jvm\u001b[0m \u001b[0;32mis\u001b[0m \u001b[0;32mnot\u001b[0m \u001b[0;32mNone\u001b[0m\u001b[0;34m\u001b[0m\u001b[0;34m\u001b[0m\u001b[0m\n\u001b[0;32m---> 75\u001b[0;31m     \u001b[0;32mreturn\u001b[0m \u001b[0mgetattr\u001b[0m\u001b[0;34m(\u001b[0m\u001b[0msc\u001b[0m\u001b[0;34m.\u001b[0m\u001b[0m_jvm\u001b[0m\u001b[0;34m.\u001b[0m\u001b[0mfunctions\u001b[0m\u001b[0;34m,\u001b[0m \u001b[0mname\u001b[0m\u001b[0;34m)\u001b[0m\u001b[0;34m\u001b[0m\u001b[0;34m\u001b[0m\u001b[0m\n\u001b[0m\u001b[1;32m     76\u001b[0m \u001b[0;34m\u001b[0m\u001b[0m\n\u001b[1;32m     77\u001b[0m \u001b[0;34m\u001b[0m\u001b[0m\n",
            "\u001b[0;32m/usr/local/lib/python3.7/dist-packages/py4j/java_gateway.py\u001b[0m in \u001b[0;36m__getattr__\u001b[0;34m(self, name)\u001b[0m\n\u001b[1;32m   1710\u001b[0m             \u001b[0mproto\u001b[0m\u001b[0;34m.\u001b[0m\u001b[0mREFLECTION_COMMAND_NAME\u001b[0m \u001b[0;34m+\u001b[0m\u001b[0;34m\u001b[0m\u001b[0;34m\u001b[0m\u001b[0m\n\u001b[1;32m   1711\u001b[0m             \u001b[0mproto\u001b[0m\u001b[0;34m.\u001b[0m\u001b[0mREFL_GET_UNKNOWN_SUB_COMMAND_NAME\u001b[0m \u001b[0;34m+\u001b[0m \u001b[0mname\u001b[0m \u001b[0;34m+\u001b[0m \u001b[0;34m\"\\n\"\u001b[0m \u001b[0;34m+\u001b[0m \u001b[0mself\u001b[0m\u001b[0;34m.\u001b[0m\u001b[0m_id\u001b[0m \u001b[0;34m+\u001b[0m\u001b[0;34m\u001b[0m\u001b[0;34m\u001b[0m\u001b[0m\n\u001b[0;32m-> 1712\u001b[0;31m             \"\\n\" + proto.END_COMMAND_PART)\n\u001b[0m\u001b[1;32m   1713\u001b[0m         \u001b[0;32mif\u001b[0m \u001b[0manswer\u001b[0m \u001b[0;34m==\u001b[0m \u001b[0mproto\u001b[0m\u001b[0;34m.\u001b[0m\u001b[0mSUCCESS_PACKAGE\u001b[0m\u001b[0;34m:\u001b[0m\u001b[0;34m\u001b[0m\u001b[0;34m\u001b[0m\u001b[0m\n\u001b[1;32m   1714\u001b[0m             \u001b[0;32mreturn\u001b[0m \u001b[0mJavaPackage\u001b[0m\u001b[0;34m(\u001b[0m\u001b[0mname\u001b[0m\u001b[0;34m,\u001b[0m \u001b[0mself\u001b[0m\u001b[0;34m.\u001b[0m\u001b[0m_gateway_client\u001b[0m\u001b[0;34m,\u001b[0m \u001b[0mjvm_id\u001b[0m\u001b[0;34m=\u001b[0m\u001b[0mself\u001b[0m\u001b[0;34m.\u001b[0m\u001b[0m_id\u001b[0m\u001b[0;34m)\u001b[0m\u001b[0;34m\u001b[0m\u001b[0;34m\u001b[0m\u001b[0m\n",
            "\u001b[0;32m/usr/local/lib/python3.7/dist-packages/py4j/java_gateway.py\u001b[0m in \u001b[0;36msend_command\u001b[0;34m(self, command, retry, binary)\u001b[0m\n\u001b[1;32m   1034\u001b[0m          \u001b[0;32mif\u001b[0m\u001b[0;31m \u001b[0m\u001b[0;31m`\u001b[0m\u001b[0mbinary\u001b[0m\u001b[0;31m`\u001b[0m \u001b[0;32mis\u001b[0m\u001b[0;31m \u001b[0m\u001b[0;31m`\u001b[0m\u001b[0;32mTrue\u001b[0m\u001b[0;31m`\u001b[0m\u001b[0;34m.\u001b[0m\u001b[0;34m\u001b[0m\u001b[0;34m\u001b[0m\u001b[0m\n\u001b[1;32m   1035\u001b[0m         \"\"\"\n\u001b[0;32m-> 1036\u001b[0;31m         \u001b[0mconnection\u001b[0m \u001b[0;34m=\u001b[0m \u001b[0mself\u001b[0m\u001b[0;34m.\u001b[0m\u001b[0m_get_connection\u001b[0m\u001b[0;34m(\u001b[0m\u001b[0;34m)\u001b[0m\u001b[0;34m\u001b[0m\u001b[0;34m\u001b[0m\u001b[0m\n\u001b[0m\u001b[1;32m   1037\u001b[0m         \u001b[0;32mtry\u001b[0m\u001b[0;34m:\u001b[0m\u001b[0;34m\u001b[0m\u001b[0;34m\u001b[0m\u001b[0m\n\u001b[1;32m   1038\u001b[0m             \u001b[0mresponse\u001b[0m \u001b[0;34m=\u001b[0m \u001b[0mconnection\u001b[0m\u001b[0;34m.\u001b[0m\u001b[0msend_command\u001b[0m\u001b[0;34m(\u001b[0m\u001b[0mcommand\u001b[0m\u001b[0;34m)\u001b[0m\u001b[0;34m\u001b[0m\u001b[0;34m\u001b[0m\u001b[0m\n",
            "\u001b[0;32m/usr/local/lib/python3.7/dist-packages/py4j/clientserver.py\u001b[0m in \u001b[0;36m_get_connection\u001b[0;34m(self)\u001b[0m\n\u001b[1;32m    282\u001b[0m \u001b[0;34m\u001b[0m\u001b[0m\n\u001b[1;32m    283\u001b[0m         \u001b[0;32mif\u001b[0m \u001b[0mconnection\u001b[0m \u001b[0;32mis\u001b[0m \u001b[0;32mNone\u001b[0m \u001b[0;32mor\u001b[0m \u001b[0mconnection\u001b[0m\u001b[0;34m.\u001b[0m\u001b[0msocket\u001b[0m \u001b[0;32mis\u001b[0m \u001b[0;32mNone\u001b[0m\u001b[0;34m:\u001b[0m\u001b[0;34m\u001b[0m\u001b[0;34m\u001b[0m\u001b[0m\n\u001b[0;32m--> 284\u001b[0;31m             \u001b[0mconnection\u001b[0m \u001b[0;34m=\u001b[0m \u001b[0mself\u001b[0m\u001b[0;34m.\u001b[0m\u001b[0m_create_new_connection\u001b[0m\u001b[0;34m(\u001b[0m\u001b[0;34m)\u001b[0m\u001b[0;34m\u001b[0m\u001b[0;34m\u001b[0m\u001b[0m\n\u001b[0m\u001b[1;32m    285\u001b[0m         \u001b[0;32mreturn\u001b[0m \u001b[0mconnection\u001b[0m\u001b[0;34m\u001b[0m\u001b[0;34m\u001b[0m\u001b[0m\n\u001b[1;32m    286\u001b[0m \u001b[0;34m\u001b[0m\u001b[0m\n",
            "\u001b[0;32m/usr/local/lib/python3.7/dist-packages/py4j/clientserver.py\u001b[0m in \u001b[0;36m_create_new_connection\u001b[0;34m(self)\u001b[0m\n\u001b[1;32m    289\u001b[0m             \u001b[0mself\u001b[0m\u001b[0;34m.\u001b[0m\u001b[0mjava_parameters\u001b[0m\u001b[0;34m,\u001b[0m \u001b[0mself\u001b[0m\u001b[0;34m.\u001b[0m\u001b[0mpython_parameters\u001b[0m\u001b[0;34m,\u001b[0m\u001b[0;34m\u001b[0m\u001b[0;34m\u001b[0m\u001b[0m\n\u001b[1;32m    290\u001b[0m             self.gateway_property, self)\n\u001b[0;32m--> 291\u001b[0;31m         \u001b[0mconnection\u001b[0m\u001b[0;34m.\u001b[0m\u001b[0mconnect_to_java_server\u001b[0m\u001b[0;34m(\u001b[0m\u001b[0;34m)\u001b[0m\u001b[0;34m\u001b[0m\u001b[0;34m\u001b[0m\u001b[0m\n\u001b[0m\u001b[1;32m    292\u001b[0m         \u001b[0mself\u001b[0m\u001b[0;34m.\u001b[0m\u001b[0mset_thread_connection\u001b[0m\u001b[0;34m(\u001b[0m\u001b[0mconnection\u001b[0m\u001b[0;34m)\u001b[0m\u001b[0;34m\u001b[0m\u001b[0;34m\u001b[0m\u001b[0m\n\u001b[1;32m    293\u001b[0m         \u001b[0;32mreturn\u001b[0m \u001b[0mconnection\u001b[0m\u001b[0;34m\u001b[0m\u001b[0;34m\u001b[0m\u001b[0m\n",
            "\u001b[0;32m/usr/local/lib/python3.7/dist-packages/py4j/clientserver.py\u001b[0m in \u001b[0;36mconnect_to_java_server\u001b[0;34m(self)\u001b[0m\n\u001b[1;32m    436\u001b[0m                 self.socket = self.ssl_context.wrap_socket(\n\u001b[1;32m    437\u001b[0m                     self.socket, server_hostname=self.java_address)\n\u001b[0;32m--> 438\u001b[0;31m             \u001b[0mself\u001b[0m\u001b[0;34m.\u001b[0m\u001b[0msocket\u001b[0m\u001b[0;34m.\u001b[0m\u001b[0mconnect\u001b[0m\u001b[0;34m(\u001b[0m\u001b[0;34m(\u001b[0m\u001b[0mself\u001b[0m\u001b[0;34m.\u001b[0m\u001b[0mjava_address\u001b[0m\u001b[0;34m,\u001b[0m \u001b[0mself\u001b[0m\u001b[0;34m.\u001b[0m\u001b[0mjava_port\u001b[0m\u001b[0;34m)\u001b[0m\u001b[0;34m)\u001b[0m\u001b[0;34m\u001b[0m\u001b[0;34m\u001b[0m\u001b[0m\n\u001b[0m\u001b[1;32m    439\u001b[0m             \u001b[0mself\u001b[0m\u001b[0;34m.\u001b[0m\u001b[0mstream\u001b[0m \u001b[0;34m=\u001b[0m \u001b[0mself\u001b[0m\u001b[0;34m.\u001b[0m\u001b[0msocket\u001b[0m\u001b[0;34m.\u001b[0m\u001b[0mmakefile\u001b[0m\u001b[0;34m(\u001b[0m\u001b[0;34m\"rb\"\u001b[0m\u001b[0;34m)\u001b[0m\u001b[0;34m\u001b[0m\u001b[0;34m\u001b[0m\u001b[0m\n\u001b[1;32m    440\u001b[0m             \u001b[0mself\u001b[0m\u001b[0;34m.\u001b[0m\u001b[0mis_connected\u001b[0m \u001b[0;34m=\u001b[0m \u001b[0;32mTrue\u001b[0m\u001b[0;34m\u001b[0m\u001b[0;34m\u001b[0m\u001b[0m\n",
            "\u001b[0;31mConnectionRefusedError\u001b[0m: [Errno 111] Connection refused"
          ]
        }
      ]
    },
    {
      "cell_type": "markdown",
      "metadata": {
        "id": "UEPE0K-rhhzy"
      },
      "source": [
        "---\n",
        "> P-085: 顧客データフレーム（df_customer）の全顧客に対し、郵便番号（postal_cd）を用いて経度緯度変換用データフレーム（df_geocode）を紐付け、新たなdf_customer_1を作成せよ。ただし、複数紐づく場合は経度（longitude）、緯度（latitude）それぞれ平均を算出すること。\n"
      ]
    },
    {
      "cell_type": "code",
      "metadata": {
        "trusted": false,
        "id": "P_paWqODhhzy",
        "outputId": "6d78b3b9-9e82-45e9-abe3-6f268e8e4077",
        "colab": {
          "base_uri": "https://localhost:8080/"
        }
      },
      "source": [
        "df_geocode_tmp1 = df_geocode.groupby(\"postal_cd\")\\\n",
        "                            .agg(F.mean(F.col(\"longitude\")).alias(\"mean_longitude\"), \n",
        "                                 F.mean(F.col(\"latitude\")).alias(\"mean_latitude\"))\n",
        "df_customer_1 = df_customer.join(df_geocode_tmp1, \"postal_cd\", \"inner\")\n",
        "df_customer_1.show(10)"
      ],
      "execution_count": 21,
      "outputs": [
        {
          "output_type": "stream",
          "name": "stdout",
          "text": [
            "+---------+--------------+-------------+---------+------+-------------------+---+----------------------------------+--------------------+----------------+------------+--------------+-------------+\n",
            "|postal_cd|   customer_id|customer_name|gender_cd|gender|          birth_day|age|                           address|application_store_cd|application_date|   status_cd|mean_longitude|mean_latitude|\n",
            "+---------+--------------+-------------+---------+------+-------------------+---+----------------------------------+--------------------+----------------+------------+--------------+-------------+\n",
            "| 246-0006|CS040411000041|  永野 メイサ|        1|  女性|1973-03-27 00:00:00| 46|神奈川県横浜市瀬谷区上瀬谷町***...|              S14040|        20150522|1-20081219-4|     139.47385|     35.49305|\n",
            "| 246-0006|CS040611000018|  ほしの 佳乃|        1|  女性|1950-04-16 00:00:00| 68|神奈川県横浜市瀬谷区上瀬谷町***...|              S14040|        20150403|0-00000000-0|     139.47385|     35.49305|\n",
            "| 246-0006|CS028302000032|    永島 達士|        0|  男性|1987-02-27 00:00:00| 32|神奈川県横浜市瀬谷区上瀬谷町***...|              S14028|        20170603|0-00000000-0|     139.47385|     35.49305|\n",
            "| 246-0006|CS028712000003|  内藤 しほり|        1|  女性|1940-11-24 00:00:00| 78|神奈川県横浜市瀬谷区上瀬谷町***...|              S14028|        20150404|0-00000000-0|     139.47385|     35.49305|\n",
            "| 143-0004|CS032311000014|  田辺 小百合|        1|  女性|1981-12-08 00:00:00| 37|      東京都大田区昭和島**********|              S13032|        20151010|B-20100319-6|     139.74687|     35.57153|\n",
            "| 143-0004|CS044212000002|  小沼 菜々美|        1|  女性|1996-06-23 00:00:00| 22|      東京都大田区昭和島**********|              S13044|        20160201|8-20100920-A|     139.74687|     35.57153|\n",
            "| 143-0004|CS001112000023|    戸田 一恵|        1|  女性|2004-01-26 00:00:00| 15|      東京都大田区昭和島**********|              S13001|        20170724|0-00000000-0|     139.74687|     35.57153|\n",
            "| 143-0004|CS001112000019|    門脇 莉沙|        1|  女性|2001-01-31 00:00:00| 18|      東京都大田区昭和島**********|              S13001|        20170207|0-00000000-0|     139.74687|     35.57153|\n",
            "| 212-0053|CS001601000036|    松田 優一|        0|  男性|1952-07-23 00:00:00| 66|  神奈川県川崎市幸区下平間*****...|              S13001|        20161225|1-20091120-1|     139.67952|     35.55029|\n",
            "| 212-0053|CS001512000409|    原口 みあ|        1|  女性|1962-09-04 00:00:00| 56|  神奈川県川崎市幸区下平間*****...|              S13001|        20170526|0-00000000-0|     139.67952|     35.55029|\n",
            "+---------+--------------+-------------+---------+------+-------------------+---+----------------------------------+--------------------+----------------+------------+--------------+-------------+\n",
            "only showing top 10 rows\n",
            "\n"
          ]
        }
      ]
    },
    {
      "cell_type": "markdown",
      "metadata": {
        "id": "dJ8IvUgNhhzz"
      },
      "source": [
        "---\n",
        "> P-086: 前設問で作成した緯度経度つき顧客データフレーム（df_customer_1）に対し、申込み店舗コード（application_store_cd）をキーに店舗データフレーム（df_store）と結合せよ。そして申込み店舗の緯度（latitude）・経度情報（longitude)と顧客の緯度・経度を用いて距離（km）を求め、顧客ID（customer_id）、顧客住所（address）、店舗住所（address）とともに表示せよ。計算式は簡易式で良いものとするが、その他精度の高い方式を利用したライブラリを利用してもかまわない。結果は10件表示すれば良い。"
      ]
    },
    {
      "cell_type": "markdown",
      "metadata": {
        "id": "kFydo3tChhzz"
      },
      "source": [
        "$$\n",
        "緯度（ラジアン）：\\phi \\\\\n",
        "経度（ラジアン）：\\lambda \\\\\n",
        "距離L = 6371 * arccos(sin \\phi_1 * sin \\phi_2\n",
        "+ cos \\phi_1 * cos \\phi_2 * cos(\\lambda_1 − \\lambda_2))\n",
        "$$"
      ]
    },
    {
      "cell_type": "code",
      "metadata": {
        "trusted": false,
        "id": "YOhgdXTphhz0",
        "outputId": "48216082-246d-49d2-e838-3a2ff77896d1",
        "colab": {
          "base_uri": "https://localhost:8080/"
        }
      },
      "source": [
        "import numpy as np\n",
        "\n",
        "@F.udf(DoubleType())\n",
        "def udf_calc_distance(x1, y1, x2, y2):\n",
        "    x1_r = np.radians(x1)\n",
        "    x2_r = np.radians(x2)\n",
        "    y1_r = np.radians(y1)\n",
        "    y2_r = np.radians(y2)\n",
        "    return float(6371 * np.arccos(np.sin(x1_r) * np.sin(x2_r) \n",
        "                            + np.cos(x1_r) * np.cos(x2_r) \n",
        "                            * np.cos(y1_r - y2_r)))\n",
        "\n",
        "df_customer_1 = df_customer_1.withColumnRenamed(\"address\", \"customer_address\")\n",
        "df_store = df_store.withColumnRenamed(\"address\", \"store_address\")\n",
        "\n",
        "df_tmp = df_customer_1.join(df_store, df_customer_1.application_store_cd==df_store.store_cd, \"inner\")\n",
        "df_tmp.withColumn(\"distance\", udf_calc_distance(\"mean_latitude\", \"mean_longitude\", \"latitude\", \"longitude\"))\\\n",
        "      .select([\"customer_id\", \"customer_address\", \"store_address\", \"distance\"])\\\n",
        "      .show(10)"
      ],
      "execution_count": 23,
      "outputs": [
        {
          "output_type": "stream",
          "name": "stdout",
          "text": [
            "+--------------+----------------------------------+--------------------------------------+------------------+\n",
            "|   customer_id|                  customer_address|                         store_address|          distance|\n",
            "+--------------+----------------------------------+--------------------------------------+------------------+\n",
            "|CS040411000041|神奈川県横浜市瀬谷区上瀬谷町***...|神奈川県横浜市緑区長津田みなみ台五丁目| 4.144514368949817|\n",
            "|CS040611000018|神奈川県横浜市瀬谷区上瀬谷町***...|神奈川県横浜市緑区長津田みなみ台五丁目| 4.144514368949817|\n",
            "|CS028302000032|神奈川県横浜市瀬谷区上瀬谷町***...|          神奈川県横浜市瀬谷区二ツ橋町| 3.907402208950033|\n",
            "|CS028712000003|神奈川県横浜市瀬谷区上瀬谷町***...|          神奈川県横浜市瀬谷区二ツ橋町| 3.907402208950033|\n",
            "|CS032311000014|      東京都大田区昭和島**********|              東京都大田区仲六郷三丁目|  4.16276122876881|\n",
            "|CS044212000002|      東京都大田区昭和島**********|              東京都大田区南六郷二丁目|3.6929367899442016|\n",
            "|CS001112000023|      東京都大田区昭和島**********|              東京都大田区仲六郷二丁目| 3.783014514861316|\n",
            "|CS001112000019|      東京都大田区昭和島**********|              東京都大田区仲六郷二丁目| 3.783014514861316|\n",
            "|CS001601000036|  神奈川県川崎市幸区下平間*****...|              東京都大田区仲六郷二丁目| 3.049248064419757|\n",
            "|CS001512000409|  神奈川県川崎市幸区下平間*****...|              東京都大田区仲六郷二丁目| 3.049248064419757|\n",
            "+--------------+----------------------------------+--------------------------------------+------------------+\n",
            "only showing top 10 rows\n",
            "\n"
          ]
        }
      ]
    },
    {
      "cell_type": "markdown",
      "metadata": {
        "id": "-7BBzLWphhz0"
      },
      "source": [
        "---\n",
        "> P-087:  顧客データフレーム（df_customer）では、異なる店舗での申込みなどにより同一顧客が複数登録されている。名前（customer_name）と郵便番号（postal_cd）が同じ顧客は同一顧客とみなし、1顧客1レコードとなるように名寄せした名寄顧客データフレーム（df_customer_u）を作成せよ。ただし、同一顧客に対しては売上金額合計が最も高いものを残すものとし、売上金額合計が同一もしくは売上実績の無い顧客については顧客ID（customer_id）の番号が小さいものを残すこととする。"
      ]
    },
    {
      "cell_type": "code",
      "source": [
        "df_receipt_tmp = df_receipt.groupBy(\"customer_id\").agg(F.sum(\"amount\").alias(\"sum_amount\"))\n",
        "df_customer_u = df_customer.join(df_receipt_tmp, \"customer_id\", \"left\").fillna({\"sum_amount\":0})\n",
        "\n",
        "df_customer_u = df_customer_u.orderBy(\"sum_amount\", ascending = False)\\\n",
        "                             .coalesce(1).dropDuplicates(subset = [\"customer_name\", \"postal_cd\"])\\\n",
        "                             .select([\"customer_name\", \"customer_id\", \"postal_cd\", \"sum_amount\"])\\\n",
        "                             .withColumnRenamed(\"customer_id\", \"integration_id\")\n",
        "\n",
        "print('df_customer_cnt:', df_customer.count(),\n",
        "      'df_customer_u_cnt:', df_customer_u.count(),\n",
        "      'diff:', df_customer.count() - df_customer_u.count())"
      ],
      "metadata": {
        "id": "IPrJ4j8wm02s",
        "outputId": "07e02aa9-1d7f-4c20-f4c2-3fcff37d86c6",
        "colab": {
          "base_uri": "https://localhost:8080/"
        }
      },
      "execution_count": 42,
      "outputs": [
        {
          "output_type": "stream",
          "name": "stdout",
          "text": [
            "df_customer_cnt: 21971 df_customer_u_cnt: 21941 diff: 30\n"
          ]
        }
      ]
    },
    {
      "cell_type": "markdown",
      "metadata": {
        "id": "U4ojNt4shhz1"
      },
      "source": [
        "---\n",
        "> P-088: 前設問で作成したデータを元に、顧客データフレームに統合名寄IDを付与したデータフレーム（df_customer_n）を作成せよ。ただし、統合名寄IDは以下の仕様で付与するものとする。\n",
        ">\n",
        "> - 重複していない顧客：顧客ID（customer_id）を設定\n",
        "> - 重複している顧客：前設問で抽出したレコードの顧客IDを設定"
      ]
    },
    {
      "cell_type": "code",
      "metadata": {
        "trusted": false,
        "id": "G8xkmVEnhhz2",
        "outputId": "d6a8d899-1afd-453d-800d-358a5b3aa9ec",
        "colab": {
          "base_uri": "https://localhost:8080/"
        }
      },
      "source": [
        "df_customer_n = df_customer.join(df_customer_u, [\"customer_name\", \"postal_cd\"], \"inner\")\n",
        "df_customer_n.select(\"customer_id\").distinct().count() - df_customer_n.select(\"integration_id\").distinct().count()"
      ],
      "execution_count": 46,
      "outputs": [
        {
          "output_type": "execute_result",
          "data": {
            "text/plain": [
              "30"
            ]
          },
          "metadata": {},
          "execution_count": 46
        }
      ]
    },
    {
      "cell_type": "markdown",
      "metadata": {
        "id": "ijOu7Ekfhhz3"
      },
      "source": [
        "---\n",
        "> P-閑話: df_customer_1, df_customer_nは使わないので削除する。"
      ]
    },
    {
      "cell_type": "code",
      "metadata": {
        "trusted": false,
        "id": "0rMxTZIGhhz3",
        "outputId": "1164e35e-a30c-40d5-8939-5f3863945b8c",
        "colab": {
          "base_uri": "https://localhost:8080/"
        }
      },
      "source": [
        "import gc\n",
        "del df_customer_1, df_customer_n\n",
        "gc.collect()"
      ],
      "execution_count": 47,
      "outputs": [
        {
          "output_type": "execute_result",
          "data": {
            "text/plain": [
              "409"
            ]
          },
          "metadata": {},
          "execution_count": 47
        }
      ]
    },
    {
      "cell_type": "markdown",
      "metadata": {
        "id": "jGzIjQvfhhz4"
      },
      "source": [
        "---\n",
        "> P-089: 売上実績のある顧客に対し、予測モデル構築のため学習用データとテスト用データに分割したい。それぞれ8:2の割合でランダムにデータを分割せよ。"
      ]
    },
    {
      "cell_type": "code",
      "metadata": {
        "trusted": false,
        "id": "tQfblHJFhhz4",
        "outputId": "d643fa6d-37de-4c9a-d137-b7a58d905431",
        "colab": {
          "base_uri": "https://localhost:8080/"
        }
      },
      "source": [
        "df_receipt_tmp = df_receipt.groupBy(\"customer_id\").agg(F.sum(\"amount\").alias(\"sum_amount\")).filter(F.col(\"sum_amount\") > 0)\n",
        "df_sales = df_receipt_tmp.join(df_customer, \"customer_id\", \"inner\")\n",
        "df_train, df_test = df_sales.randomSplit([8.0, 2.0])\n",
        "\n",
        "print(df_train.count() / df_sales.count())\n",
        "print(df_test.count() / df_sales.count())\n"
      ],
      "execution_count": 48,
      "outputs": [
        {
          "output_type": "stream",
          "name": "stdout",
          "text": [
            "0.7990609198169998\n",
            "0.20093908018300025\n"
          ]
        }
      ]
    },
    {
      "cell_type": "markdown",
      "metadata": {
        "id": "lnuxS-40hhz5"
      },
      "source": [
        "---\n",
        "> P-090: レシート明細データフレーム（df_receipt）は2017年1月1日〜2019年10月31日までのデータを有している。売上金額（amount）を月次で集計し、学習用に12ヶ月、テスト用に6ヶ月のモデル構築用データを3セット作成せよ。"
      ]
    },
    {
      "cell_type": "code",
      "source": [
        "df_receipt_tmp = df_receipt.withColumn(\"sales_ymd\", F.col('sales_ymd').cast(StringType()))\\\n",
        "                           .withColumn(\"sales_ymd\", F.to_date(F.unix_timestamp(F.col(\"sales_ymd\"), \"yyyyMMdd\").cast(\"timestamp\")))\\\n",
        "                           .withColumn(\"sales_ym\", F.date_format(\"sales_ymd\", \"yyyyMM\"))\\\n",
        "                           .groupBy(\"sales_ym\").agg(F.sum(\"amount\").alias(\"sum_amount\"))\\\n",
        "                           .orderBy(\"sales_ym\").coalesce(1)"
      ],
      "metadata": {
        "id": "8e_OVcbqtHA7"
      },
      "execution_count": 62,
      "outputs": []
    },
    {
      "cell_type": "code",
      "source": [
        "w = Window().orderBy(F.col(\"sales_ym\"))\n",
        "df_receipt_tmp = df_receipt_tmp.withColumn(\"row_num\", F.row_number().over(w))\n",
        "point = 1\n",
        "df_train_1 = df_receipt_tmp.filter((F.col(\"row_num\") <= 12*point) & (F.col(\"row_num\") > 12*(point-1)))\n",
        "df_test_1 = df_receipt_tmp.filter((F.col(\"row_num\") > 12*point) & (F.col(\"row_num\") <= 12*point+6))\n",
        "point += 1\n",
        "df_train_2 = df_receipt_tmp.filter((F.col(\"row_num\") <= 12*point) & (F.col(\"row_num\") > 12*(point-1)))\n",
        "df_test_2 = df_receipt_tmp.filter((F.col(\"row_num\") > 12*point) & (F.col(\"row_num\") <= 12*point+6))\n",
        "point += 1\n",
        "df_train_3 = df_receipt_tmp.filter((F.col(\"row_num\") <= 12*point) & (F.col(\"row_num\") > 12*(point-1)))\n",
        "df_test_3 = df_receipt_tmp.filter((F.col(\"row_num\") > 12*point) & (F.col(\"row_num\") <= 12*point+6))"
      ],
      "metadata": {
        "id": "P8goj1iTu9da"
      },
      "execution_count": 74,
      "outputs": []
    },
    {
      "cell_type": "code",
      "source": [
        "df_train_1.show()\n",
        "df_test_1.show()\n",
        "df_train_2.show()\n",
        "df_test_2.show()"
      ],
      "metadata": {
        "id": "3kP3_JP0xArD",
        "outputId": "feced878-af56-4c26-eb01-889609110f94",
        "colab": {
          "base_uri": "https://localhost:8080/"
        }
      },
      "execution_count": 75,
      "outputs": [
        {
          "output_type": "stream",
          "name": "stdout",
          "text": [
            "+--------+----------+-------+\n",
            "|sales_ym|sum_amount|row_num|\n",
            "+--------+----------+-------+\n",
            "|  201701|    902056|      1|\n",
            "|  201702|    764413|      2|\n",
            "|  201703|    962945|      3|\n",
            "|  201704|    847566|      4|\n",
            "|  201705|    884010|      5|\n",
            "|  201706|    894242|      6|\n",
            "|  201707|    959205|      7|\n",
            "|  201708|    954836|      8|\n",
            "|  201709|    902037|      9|\n",
            "|  201710|    905739|     10|\n",
            "|  201711|    932157|     11|\n",
            "|  201712|    939654|     12|\n",
            "+--------+----------+-------+\n",
            "\n",
            "+--------+----------+-------+\n",
            "|sales_ym|sum_amount|row_num|\n",
            "+--------+----------+-------+\n",
            "|  201801|    944509|     13|\n",
            "|  201802|    864128|     14|\n",
            "|  201803|    946588|     15|\n",
            "|  201804|    937099|     16|\n",
            "|  201805|   1004438|     17|\n",
            "|  201806|   1012329|     18|\n",
            "+--------+----------+-------+\n",
            "\n",
            "+--------+----------+-------+\n",
            "|sales_ym|sum_amount|row_num|\n",
            "+--------+----------+-------+\n",
            "|  201801|    944509|     13|\n",
            "|  201802|    864128|     14|\n",
            "|  201803|    946588|     15|\n",
            "|  201804|    937099|     16|\n",
            "|  201805|   1004438|     17|\n",
            "|  201806|   1012329|     18|\n",
            "|  201807|   1058472|     19|\n",
            "|  201808|   1045793|     20|\n",
            "|  201809|    977114|     21|\n",
            "|  201810|   1069939|     22|\n",
            "|  201811|    967479|     23|\n",
            "|  201812|   1016425|     24|\n",
            "+--------+----------+-------+\n",
            "\n",
            "+--------+----------+-------+\n",
            "|sales_ym|sum_amount|row_num|\n",
            "+--------+----------+-------+\n",
            "|  201901|   1064085|     25|\n",
            "|  201902|    959538|     26|\n",
            "|  201903|   1093753|     27|\n",
            "|  201904|   1044210|     28|\n",
            "|  201905|   1111985|     29|\n",
            "|  201906|   1089063|     30|\n",
            "+--------+----------+-------+\n",
            "\n"
          ]
        }
      ]
    },
    {
      "cell_type": "markdown",
      "metadata": {
        "id": "NIl5LRhbhhz6"
      },
      "source": [
        "---\n",
        "> P-091: 顧客データフレーム（df_customer）の各顧客に対し、売上実績のある顧客数と売上実績のない顧客数が1:1となるようにアンダーサンプリングで抽出せよ。"
      ]
    },
    {
      "cell_type": "code",
      "metadata": {
        "trusted": false,
        "id": "Snlnbkm-hhz6",
        "outputId": "336b2742-0907-43dd-b797-061946991b08",
        "colab": {
          "base_uri": "https://localhost:8080/"
        }
      },
      "source": [
        "df_receipt_tmp = df_receipt.groupBy(\"customer_id\").agg(F.sum(\"amount\").alias(\"sum_amount\"))\n",
        "df_tmp = df_customer.join(df_receipt_tmp, \"customer_id\", \"left\")\\\n",
        "                    .withColumn(\"buy_flg\", F.when(F.col(\"sum_amount\").isNull(), 0).otherwise(1))\n",
        "df_tmp.groupBy(\"buy_flg\").count().show()"
      ],
      "execution_count": 77,
      "outputs": [
        {
          "output_type": "stream",
          "name": "stdout",
          "text": [
            "+-------+-----+\n",
            "|buy_flg|count|\n",
            "+-------+-----+\n",
            "|      1| 8306|\n",
            "|      0|13665|\n",
            "+-------+-----+\n",
            "\n"
          ]
        }
      ]
    },
    {
      "cell_type": "code",
      "source": [
        "minor = df_tmp.filter(F.col(\"buy_flg\")==1)\n",
        "major = df_tmp.filter(F.col(\"buy_flg\")==0)\n",
        "ratio = major.count() / minor.count()\n",
        "sampled_major = major.sample(False, 1/ratio)\n",
        "sampling_df = sampled_major.unionAll(minor)\n",
        "sampling_df.groupBy(\"buy_flg\").count().show()"
      ],
      "metadata": {
        "id": "XfoV1OCLzhUo",
        "outputId": "4f7a38fa-83ee-42db-c2dd-fc308b63fb29",
        "colab": {
          "base_uri": "https://localhost:8080/"
        }
      },
      "execution_count": 80,
      "outputs": [
        {
          "output_type": "stream",
          "name": "stdout",
          "text": [
            "+-------+-----+\n",
            "|buy_flg|count|\n",
            "+-------+-----+\n",
            "|      0| 8339|\n",
            "|      1| 8306|\n",
            "+-------+-----+\n",
            "\n"
          ]
        }
      ]
    },
    {
      "cell_type": "markdown",
      "metadata": {
        "id": "LAzWjKmHhhz9"
      },
      "source": [
        "---\n",
        "> P-092: 顧客データフレーム（df_customer）では、性別に関する情報が非正規化の状態で保持されている。これを第三正規化せよ。"
      ]
    },
    {
      "cell_type": "code",
      "metadata": {
        "trusted": false,
        "id": "BUEhEPR8hhz9"
      },
      "source": [
        "df_gender_tmp = df_customer.select([\"gender_cd\", \"gender\"]).drop_duplicates()\n",
        "\n",
        "df_customer_tmp = df_customer.drop(F.col(\"gender\"))"
      ],
      "execution_count": 82,
      "outputs": []
    },
    {
      "cell_type": "code",
      "source": [
        "df_gender_tmp.show(3)"
      ],
      "metadata": {
        "id": "C7u7PXs80uKV",
        "outputId": "153527b1-2cc5-481b-efc8-ea6114a5bb10",
        "colab": {
          "base_uri": "https://localhost:8080/"
        }
      },
      "execution_count": 83,
      "outputs": [
        {
          "output_type": "stream",
          "name": "stdout",
          "text": [
            "+---------+------+\n",
            "|gender_cd|gender|\n",
            "+---------+------+\n",
            "|        9|  不明|\n",
            "|        0|  男性|\n",
            "|        1|  女性|\n",
            "+---------+------+\n",
            "\n"
          ]
        }
      ]
    },
    {
      "cell_type": "code",
      "source": [
        "df_customer_tmp.show(3)"
      ],
      "metadata": {
        "id": "d7OENzNz0x2S",
        "outputId": "310cff2d-cdf3-477b-f4ab-d435feb0f75d",
        "colab": {
          "base_uri": "https://localhost:8080/"
        }
      },
      "execution_count": 84,
      "outputs": [
        {
          "output_type": "stream",
          "name": "stdout",
          "text": [
            "+--------------+-------------+---------+-------------------+---+---------+------------------------------+--------------------+----------------+------------+\n",
            "|   customer_id|customer_name|gender_cd|          birth_day|age|postal_cd|                       address|application_store_cd|application_date|   status_cd|\n",
            "+--------------+-------------+---------+-------------------+---+---------+------------------------------+--------------------+----------------+------------+\n",
            "|CS021313000114|  大野 あや子|        1|1981-04-29 00:00:00| 37| 259-1113|神奈川県伊勢原市粟窪**********|              S14021|        20150905|0-00000000-0|\n",
            "|CS037613000071|    六角 雅彦|        9|1952-04-01 00:00:00| 66| 136-0076|    東京都江東区南砂**********|              S13037|        20150414|0-00000000-0|\n",
            "|CS031415000172|宇多田 貴美子|        1|1976-10-04 00:00:00| 42| 151-0053|  東京都渋谷区代々木**********|              S13031|        20150529|D-20100325-C|\n",
            "+--------------+-------------+---------+-------------------+---+---------+------------------------------+--------------------+----------------+------------+\n",
            "only showing top 3 rows\n",
            "\n"
          ]
        }
      ]
    },
    {
      "cell_type": "markdown",
      "metadata": {
        "id": "u8OEQQikhhz-"
      },
      "source": [
        "---\n",
        "> P-093: 商品データフレーム（df_product）では各カテゴリのコード値だけを保有し、カテゴリ名は保有していない。カテゴリデータフレーム（df_category）と組み合わせて非正規化し、カテゴリ名を保有した新たな商品データフレームを作成せよ。"
      ]
    },
    {
      "cell_type": "code",
      "source": [
        "df_product.columns"
      ],
      "metadata": {
        "id": "Vo5aLGGW1UXf",
        "outputId": "43abf147-3b10-4845-e202-cfad67f52758",
        "colab": {
          "base_uri": "https://localhost:8080/"
        }
      },
      "execution_count": 85,
      "outputs": [
        {
          "output_type": "execute_result",
          "data": {
            "text/plain": [
              "['product_cd',\n",
              " 'category_major_cd',\n",
              " 'category_medium_cd',\n",
              " 'category_small_cd',\n",
              " 'unit_price',\n",
              " 'unit_cost']"
            ]
          },
          "metadata": {},
          "execution_count": 85
        }
      ]
    },
    {
      "cell_type": "code",
      "source": [
        "df_category.columns"
      ],
      "metadata": {
        "id": "Lnbb5Pvj1Y9K",
        "outputId": "cb387bdd-44e7-4012-ac20-6ad32c8d3228",
        "colab": {
          "base_uri": "https://localhost:8080/"
        }
      },
      "execution_count": 86,
      "outputs": [
        {
          "output_type": "execute_result",
          "data": {
            "text/plain": [
              "['category_major_cd',\n",
              " 'category_major_name',\n",
              " 'category_medium_cd',\n",
              " 'category_medium_name',\n",
              " 'category_small_cd',\n",
              " 'category_small_name']"
            ]
          },
          "metadata": {},
          "execution_count": 86
        }
      ]
    },
    {
      "cell_type": "code",
      "metadata": {
        "trusted": false,
        "id": "mbOy7QIQhhz-",
        "outputId": "bac3505e-ddd8-47b5-ee72-9599a7eebc7b",
        "colab": {
          "base_uri": "https://localhost:8080/"
        }
      },
      "source": [
        "df_product_tmp = df_product.join(df_category, [\"category_major_cd\", \"category_medium_cd\", \"category_small_cd\"], \"inner\")\n",
        "df_product_tmp.show()"
      ],
      "execution_count": 114,
      "outputs": [
        {
          "output_type": "stream",
          "name": "stdout",
          "text": [
            "+-----------------+------------------+-----------------+----------+----------+---------+-------------------+--------------------+-------------------+\n",
            "|category_major_cd|category_medium_cd|category_small_cd|product_cd|unit_price|unit_cost|category_major_name|category_medium_name|category_small_name|\n",
            "+-----------------+------------------+-----------------+----------+----------+---------+-------------------+--------------------+-------------------+\n",
            "|                4|               401|            40101|P040101001|       198|      149|               惣菜|              御飯類|             弁当類|\n",
            "|                4|               401|            40101|P040101002|       218|      164|               惣菜|              御飯類|             弁当類|\n",
            "|                4|               401|            40101|P040101003|       230|      173|               惣菜|              御飯類|             弁当類|\n",
            "|                4|               401|            40101|P040101004|       248|      186|               惣菜|              御飯類|             弁当類|\n",
            "|                4|               401|            40101|P040101005|       268|      201|               惣菜|              御飯類|             弁当類|\n",
            "|                4|               401|            40101|P040101006|       298|      224|               惣菜|              御飯類|             弁当類|\n",
            "|                4|               401|            40101|P040101007|       338|      254|               惣菜|              御飯類|             弁当類|\n",
            "|                4|               401|            40101|P040101008|       420|      315|               惣菜|              御飯類|             弁当類|\n",
            "|                4|               401|            40101|P040101009|       498|      374|               惣菜|              御飯類|             弁当類|\n",
            "|                4|               401|            40101|P040101010|       580|      435|               惣菜|              御飯類|             弁当類|\n",
            "|                4|               401|            40102|P040102001|       268|      201|               惣菜|              御飯類|             寿司類|\n",
            "|                4|               401|            40102|P040102002|       268|      201|               惣菜|              御飯類|             寿司類|\n",
            "|                4|               401|            40102|P040102003|       278|      209|               惣菜|              御飯類|             寿司類|\n",
            "|                4|               401|            40102|P040102004|       318|      239|               惣菜|              御飯類|             寿司類|\n",
            "|                4|               401|            40102|P040102005|       318|      239|               惣菜|              御飯類|             寿司類|\n",
            "|                4|               401|            40102|P040102006|       318|      239|               惣菜|              御飯類|             寿司類|\n",
            "|                4|               401|            40102|P040102007|       338|      254|               惣菜|              御飯類|             寿司類|\n",
            "|                4|               401|            40102|P040102008|       358|      269|               惣菜|              御飯類|             寿司類|\n",
            "|                4|               401|            40102|P040102009|       358|      269|               惣菜|              御飯類|             寿司類|\n",
            "|                4|               401|            40102|P040102010|       358|      269|               惣菜|              御飯類|             寿司類|\n",
            "+-----------------+------------------+-----------------+----------+----------+---------+-------------------+--------------------+-------------------+\n",
            "only showing top 20 rows\n",
            "\n"
          ]
        }
      ]
    },
    {
      "cell_type": "markdown",
      "metadata": {
        "id": "WBQfMWaThhz_"
      },
      "source": [
        "---\n",
        "> P-094: 先に作成したカテゴリ名付き商品データを以下の仕様でファイル出力せよ。なお、出力先のパスはdata配下とする。\n",
        ">\n",
        "> - ファイル形式はCSV（カンマ区切り）\n",
        "> - ヘッダ有り\n",
        "> - 文字コードはUTF-8"
      ]
    },
    {
      "cell_type": "code",
      "metadata": {
        "trusted": false,
        "id": "NdSruP0nhhz_"
      },
      "source": [
        "outputpath = 'df_product_tmp_header_true_utf8.csv'\n",
        "pdf = df_product_tmp.toPandas()\n",
        "pdf.to_csv(outputpath, header=True, index=False, encoding=\"utf8\")"
      ],
      "execution_count": 107,
      "outputs": []
    },
    {
      "cell_type": "markdown",
      "metadata": {
        "id": "OwHfilB2hh0B"
      },
      "source": [
        "---\n",
        "> P-095: 先に作成したカテゴリ名付き商品データを以下の仕様でファイル出力せよ。なお、出力先のパスはdata配下とする。\n",
        ">\n",
        "> - ファイル形式はCSV（カンマ区切り）\n",
        "> - ヘッダ有り\n",
        "> - 文字コードはCP932"
      ]
    },
    {
      "cell_type": "code",
      "metadata": {
        "trusted": false,
        "id": "R_A_MhTYhh0C"
      },
      "source": [
        "# 書き込み時のファイル数を1つに再パーティション\n",
        "outputpath = 'df_product_tmp_header_true_cp932.csv'\n",
        "df_product_tmp.coalesce(1).write.format(\"csv\").mode(\"overwrite\").option(\"delimiter\", \",\").option('charset', 'cp932').option(\"header\", \"true\").save(outputpath)"
      ],
      "execution_count": 108,
      "outputs": []
    },
    {
      "cell_type": "markdown",
      "metadata": {
        "id": "ijN5gi_Nhh0C"
      },
      "source": [
        "---\n",
        "> P-096: 先に作成したカテゴリ名付き商品データを以下の仕様でファイル出力せよ。なお、出力先のパスはdata配下とする。\n",
        ">\n",
        "> - ファイル形式はCSV（カンマ区切り）\n",
        "> - ヘッダ無し\n",
        "> - 文字コードはUTF-8"
      ]
    },
    {
      "cell_type": "code",
      "metadata": {
        "trusted": false,
        "id": "HRMFIbjNhh0C"
      },
      "source": [
        "outputpath = 'df_product_tmp_header_false_utf8.csv'\n",
        "df_product_tmp.coalesce(1).write.format(\"csv\").mode(\"overwrite\").option(\"delimiter\", \",\").option('charset', 'utf8').save(outputpath)"
      ],
      "execution_count": 109,
      "outputs": []
    },
    {
      "cell_type": "markdown",
      "metadata": {
        "id": "EGEj2Gfohh0D"
      },
      "source": [
        "---\n",
        "> P-097: 先に作成した以下形式のファイルを読み込み、データフレームを作成せよ。また、先頭10件を表示させ、正しくとりまれていることを確認せよ。\n",
        ">\n",
        "> - ファイル形式はCSV（カンマ区切り）\n",
        "> - ヘッダ有り\n",
        "> - 文字コードはUTF-8"
      ]
    },
    {
      "cell_type": "code",
      "metadata": {
        "trusted": false,
        "id": "elyUH6_2hh0D",
        "outputId": "2cdfdf30-017f-4205-c3d8-f83fdd16528c",
        "colab": {
          "base_uri": "https://localhost:8080/"
        }
      },
      "source": [
        "df_product_tmp_load = spark.read.option(\"delimiter\", \",\").option('charset', 'utf8').option(\"header\", \"true\").csv(\"df_product_tmp_header_true_utf8.csv\")\n",
        "df_product_tmp_load.show(10)"
      ],
      "execution_count": 110,
      "outputs": [
        {
          "output_type": "stream",
          "name": "stdout",
          "text": [
            "+-----------------+------------------+-----------------+----------+----------+---------+-------------------+--------------------+-------------------+\n",
            "|category_major_cd|category_medium_cd|category_small_cd|product_cd|unit_price|unit_cost|category_major_name|category_medium_name|category_small_name|\n",
            "+-----------------+------------------+-----------------+----------+----------+---------+-------------------+--------------------+-------------------+\n",
            "|                4|               401|            40101|P040101001|     198.0|    149.0|               惣菜|              御飯類|             弁当類|\n",
            "|                4|               401|            40101|P040101002|     218.0|    164.0|               惣菜|              御飯類|             弁当類|\n",
            "|                4|               401|            40101|P040101003|     230.0|    173.0|               惣菜|              御飯類|             弁当類|\n",
            "|                4|               401|            40101|P040101004|     248.0|    186.0|               惣菜|              御飯類|             弁当類|\n",
            "|                4|               401|            40101|P040101005|     268.0|    201.0|               惣菜|              御飯類|             弁当類|\n",
            "|                4|               401|            40101|P040101006|     298.0|    224.0|               惣菜|              御飯類|             弁当類|\n",
            "|                4|               401|            40101|P040101007|     338.0|    254.0|               惣菜|              御飯類|             弁当類|\n",
            "|                4|               401|            40101|P040101008|     420.0|    315.0|               惣菜|              御飯類|             弁当類|\n",
            "|                4|               401|            40101|P040101009|     498.0|    374.0|               惣菜|              御飯類|             弁当類|\n",
            "|                4|               401|            40101|P040101010|     580.0|    435.0|               惣菜|              御飯類|             弁当類|\n",
            "+-----------------+------------------+-----------------+----------+----------+---------+-------------------+--------------------+-------------------+\n",
            "only showing top 10 rows\n",
            "\n"
          ]
        }
      ]
    },
    {
      "cell_type": "markdown",
      "metadata": {
        "id": "v51_UZ-Ahh0E"
      },
      "source": [
        "---\n",
        "> P-098: 先に作成した以下形式のファイルを読み込み、データフレームを作成せよ。また、先頭10件を表示させ、正しくとりまれていることを確認せよ。\n",
        ">\n",
        "> - ファイル形式はCSV（カンマ区切り）\n",
        "> - ヘッダ無し\n",
        "> - 文字コードはUTF-8"
      ]
    },
    {
      "cell_type": "code",
      "metadata": {
        "trusted": false,
        "id": "4YBgcGjuhh0E",
        "outputId": "93d63ba3-ce5d-45ba-d08f-42059a1c16ae",
        "colab": {
          "base_uri": "https://localhost:8080/"
        }
      },
      "source": [
        "df_product_tmp_load = spark.read.option(\"delimiter\", \",\").option('charset', 'utf8').csv(\"df_product_tmp_header_false_utf8.csv\")\n",
        "df_product_tmp_load.show(10)"
      ],
      "execution_count": 111,
      "outputs": [
        {
          "output_type": "stream",
          "name": "stdout",
          "text": [
            "+---+---+-----+----------+---+---+----+------+------+\n",
            "|_c0|_c1|  _c2|       _c3|_c4|_c5| _c6|   _c7|   _c8|\n",
            "+---+---+-----+----------+---+---+----+------+------+\n",
            "|  4|401|40101|P040101001|198|149|惣菜|御飯類|弁当類|\n",
            "|  4|401|40101|P040101002|218|164|惣菜|御飯類|弁当類|\n",
            "|  4|401|40101|P040101003|230|173|惣菜|御飯類|弁当類|\n",
            "|  4|401|40101|P040101004|248|186|惣菜|御飯類|弁当類|\n",
            "|  4|401|40101|P040101005|268|201|惣菜|御飯類|弁当類|\n",
            "|  4|401|40101|P040101006|298|224|惣菜|御飯類|弁当類|\n",
            "|  4|401|40101|P040101007|338|254|惣菜|御飯類|弁当類|\n",
            "|  4|401|40101|P040101008|420|315|惣菜|御飯類|弁当類|\n",
            "|  4|401|40101|P040101009|498|374|惣菜|御飯類|弁当類|\n",
            "|  4|401|40101|P040101010|580|435|惣菜|御飯類|弁当類|\n",
            "+---+---+-----+----------+---+---+----+------+------+\n",
            "only showing top 10 rows\n",
            "\n"
          ]
        }
      ]
    },
    {
      "cell_type": "markdown",
      "metadata": {
        "id": "PgrSkEmuhh0F"
      },
      "source": [
        "---\n",
        "> P-099: 先に作成したカテゴリ名付き商品データを以下の仕様でファイル出力せよ。なお、出力先のパスはdata配下とする。\n",
        ">\n",
        "> - ファイル形式はTSV（タブ区切り）\n",
        "> - ヘッダ有り\n",
        "> - 文字コードはUTF-8"
      ]
    },
    {
      "cell_type": "code",
      "metadata": {
        "trusted": false,
        "id": "WrdmX0mihh0F"
      },
      "source": [
        "outputpath = 'df_product_tmp_header_true_utf8.tsv'\n",
        "df_product_tmp.coalesce(1).write.format(\"csv\").mode(\"overwrite\").option(\"delimiter\", \"\\t\").option('charset', 'utf8').option(\"header\", \"true\").save(outputpath)"
      ],
      "execution_count": 118,
      "outputs": []
    },
    {
      "cell_type": "markdown",
      "metadata": {
        "id": "fRhhcyMuhh0G"
      },
      "source": [
        "---\n",
        "> P-100: 先に作成した以下形式のファイルを読み込み、データフレームを作成せよ。また、先頭10件を表示させ、正しくとりまれていることを確認せよ。\n",
        ">\n",
        "> - ファイル形式はTSV（タブ区切り）\n",
        "> - ヘッダ有り\n",
        "> - 文字コードはUTF-8"
      ]
    },
    {
      "cell_type": "code",
      "metadata": {
        "trusted": false,
        "id": "PrE1Dn_7hh0G",
        "outputId": "490fa688-3783-489b-8690-40dfbaaf5e63",
        "colab": {
          "base_uri": "https://localhost:8080/"
        }
      },
      "source": [
        "df_product_tmp_load = spark.read.option(\"delimiter\", \"\\t\").option('charset', 'utf8').option(\"header\", \"true\").csv(\"df_product_tmp_header_true_utf8.tsv\")\n",
        "df_product_tmp_load.show(10)"
      ],
      "execution_count": 119,
      "outputs": [
        {
          "output_type": "stream",
          "name": "stdout",
          "text": [
            "+-----------------+------------------+-----------------+----------+----------+---------+-------------------+--------------------+-------------------+\n",
            "|category_major_cd|category_medium_cd|category_small_cd|product_cd|unit_price|unit_cost|category_major_name|category_medium_name|category_small_name|\n",
            "+-----------------+------------------+-----------------+----------+----------+---------+-------------------+--------------------+-------------------+\n",
            "|                4|               401|            40101|P040101001|       198|      149|               惣菜|              御飯類|             弁当類|\n",
            "|                4|               401|            40101|P040101002|       218|      164|               惣菜|              御飯類|             弁当類|\n",
            "|                4|               401|            40101|P040101003|       230|      173|               惣菜|              御飯類|             弁当類|\n",
            "|                4|               401|            40101|P040101004|       248|      186|               惣菜|              御飯類|             弁当類|\n",
            "|                4|               401|            40101|P040101005|       268|      201|               惣菜|              御飯類|             弁当類|\n",
            "|                4|               401|            40101|P040101006|       298|      224|               惣菜|              御飯類|             弁当類|\n",
            "|                4|               401|            40101|P040101007|       338|      254|               惣菜|              御飯類|             弁当類|\n",
            "|                4|               401|            40101|P040101008|       420|      315|               惣菜|              御飯類|             弁当類|\n",
            "|                4|               401|            40101|P040101009|       498|      374|               惣菜|              御飯類|             弁当類|\n",
            "|                4|               401|            40101|P040101010|       580|      435|               惣菜|              御飯類|             弁当類|\n",
            "+-----------------+------------------+-----------------+----------+----------+---------+-------------------+--------------------+-------------------+\n",
            "only showing top 10 rows\n",
            "\n"
          ]
        }
      ]
    },
    {
      "cell_type": "markdown",
      "metadata": {
        "id": "WGSLC2Szhh0H"
      },
      "source": [
        "# これで１００本終わりです。おつかれさまでした！"
      ]
    }
  ]
}